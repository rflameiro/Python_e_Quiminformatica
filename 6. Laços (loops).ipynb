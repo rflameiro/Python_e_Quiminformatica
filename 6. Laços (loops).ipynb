{
 "cells": [
  {
   "cell_type": "markdown",
   "metadata": {},
   "source": [
    "Laços (loops) são formas de executar automaticamente tarefas repetidas. Em Python, temos dois loops disponíveis: `while` e `for`.\n",
    "\n",
    "`while`: tradução = enquanto. É um loop de extensão indeterminada, pois executa uma ação enquanto uma condição for verdadeira, e só para de executar quando a condição se torna falsa. \n",
    "\n",
    "`for`: tradução = para. É um loop de extensão determinada, pode ser usado, por exemplo, para percorrer os itens de uma lista. Quando a lista termina, o loop também termina.\n",
    "\n",
    "Os loops são declarados com sua palavra-chave, seguida de uma condição (no caso do `while`) ou de código que indique a iteração por algum objeto (no caso do `for`). Em ambos, o código a ser executado repetidamente é indicado com a tabulação, assim como as funções.\n",
    "\n",
    "Vejamos alguns exemplos:"
   ]
  },
  {
   "cell_type": "markdown",
   "metadata": {},
   "source": [
    "## while loops"
   ]
  },
  {
   "cell_type": "code",
   "execution_count": 1,
   "metadata": {},
   "outputs": [
    {
     "name": "stdout",
     "output_type": "stream",
     "text": [
      "5\n",
      "4\n",
      "3\n",
      "2\n",
      "1\n"
     ]
    }
   ],
   "source": [
    "condition = 5  # determinamos uma variável externa ao loop como condição\n",
    "while condition != 0:  # enquanto o valor de condition for diferente de zero, execute a ação a seguir:\n",
    "    print(condition)\n",
    "    condition = condition - 1  # linha importante. Se não diminuirmos o valor de condition, o loop não vai encerrar"
   ]
  },
  {
   "cell_type": "code",
   "execution_count": 2,
   "metadata": {},
   "outputs": [
    {
     "name": "stdout",
     "output_type": "stream",
     "text": [
      "0 1 2 3 4 "
     ]
    }
   ],
   "source": [
    "i = 0\n",
    "while i < 5:  # aqui usamos um comparativo: enquanto i for menor que 5, execute a ação a seguir:\n",
    "    print(i, end=' ')\n",
    "    i += 1  # aumenta o valor de i em 1"
   ]
  },
  {
   "cell_type": "markdown",
   "metadata": {},
   "source": [
    "Alternativamente, podemos usar a palavra-chave `break` para indicar o fim de um loop:"
   ]
  },
  {
   "cell_type": "code",
   "execution_count": 3,
   "metadata": {},
   "outputs": [
    {
     "name": "stdout",
     "output_type": "stream",
     "text": [
      "0\n",
      "1\n",
      "2\n",
      "3\n",
      "4\n"
     ]
    }
   ],
   "source": [
    "a = 0\n",
    "while True:  # essa forma de declarar um while loop é muito utilizada, e só termina com um break ou com um erro\n",
    "    print(a)\n",
    "    a += 1  # aumenta o valor de a em 1\n",
    "    if a > 4:\n",
    "        break  # termine o loop quando a for maior que 4"
   ]
  },
  {
   "cell_type": "markdown",
   "metadata": {},
   "source": [
    "## for loops\n",
    "\n",
    "for loops geralmente são associados a listas e usados com a palavra-chave `in`. Ou seja, executa uma ação para cada item da lista:"
   ]
  },
  {
   "cell_type": "code",
   "execution_count": 4,
   "metadata": {},
   "outputs": [
    {
     "name": "stdout",
     "output_type": "stream",
     "text": [
      "105\n",
      "105\n",
      "105\n",
      "105\n"
     ]
    }
   ],
   "source": [
    "l = [1, 2, 5, 6]\n",
    "for item in l:  # para cada item na lista, execute a ação a seguir:\n",
    "    print(i + 100)"
   ]
  },
  {
   "cell_type": "markdown",
   "metadata": {},
   "source": [
    "Note que o for loop percorrerá toda a lista e encerrará quando chegar ao final. O nome que vem depois de `for` pode ser qualquer coisa. Dê preferência para nomes que façam sentido ou nomes simples, contanto que não entre em conflito com palavras reservadas do Python ou com outras variáveis declaradas."
   ]
  },
  {
   "cell_type": "markdown",
   "metadata": {},
   "source": [
    "### range\n",
    "\n",
    "Uma outra forma de usar for loops é com iteradores. Pense em iteradores como listas que ocupam menos memória, não precisamos entrar em detalhes. Um iterador muito usado é a função `range`:"
   ]
  },
  {
   "cell_type": "code",
   "execution_count": 5,
   "metadata": {},
   "outputs": [
    {
     "name": "stdout",
     "output_type": "stream",
     "text": [
      "<class 'range'>\n"
     ]
    }
   ],
   "source": [
    "print(type(range(5)))"
   ]
  },
  {
   "cell_type": "code",
   "execution_count": 6,
   "metadata": {},
   "outputs": [
    {
     "name": "stdout",
     "output_type": "stream",
     "text": [
      "0\n",
      "1\n",
      "2\n",
      "3\n",
      "4\n"
     ]
    }
   ],
   "source": [
    "for i in range(5):\n",
    "    print(i)"
   ]
  },
  {
   "cell_type": "markdown",
   "metadata": {},
   "source": [
    "Veja que usar um for loop com `range(5)` equivale a fazer o mesmo com uma lista contendo os valores [0, 1, 2, 3, 4]:"
   ]
  },
  {
   "cell_type": "code",
   "execution_count": 7,
   "metadata": {},
   "outputs": [
    {
     "name": "stdout",
     "output_type": "stream",
     "text": [
      "0\n",
      "1\n",
      "2\n",
      "3\n",
      "4\n"
     ]
    }
   ],
   "source": [
    "for i in [0, 1, 2, 3, 4]:\n",
    "    print(i)"
   ]
  },
  {
   "cell_type": "markdown",
   "metadata": {},
   "source": [
    "De fato, podemos até converter um objeto range a uma lista usando a função `list()`"
   ]
  },
  {
   "cell_type": "code",
   "execution_count": 8,
   "metadata": {},
   "outputs": [
    {
     "name": "stdout",
     "output_type": "stream",
     "text": [
      "[0, 1, 2, 3, 4]\n"
     ]
    }
   ],
   "source": [
    "print(list(range(5)))"
   ]
  },
  {
   "cell_type": "markdown",
   "metadata": {},
   "source": [
    "Range é muito útil para loops com intervalos grandes. Imagine que você queira obter a soma de todos os números de 1 a 100. Em vez de declarar um for loop para uma lista contendo todos esses valores, simplesmente declare:"
   ]
  },
  {
   "cell_type": "code",
   "execution_count": 9,
   "metadata": {},
   "outputs": [
    {
     "name": "stdout",
     "output_type": "stream",
     "text": [
      "5050\n"
     ]
    }
   ],
   "source": [
    "total = 0\n",
    "for i in range(1, 101):\n",
    "    total += i\n",
    "\n",
    "print(total)"
   ]
  },
  {
   "cell_type": "markdown",
   "metadata": {},
   "source": [
    "Perceba que o último item não é incluído no range, e que podemos declarar o primeiro e o último valor. Também é possível \"pular\" números, por exemplo, um range contendo os números de 2 a 10, de dois em dois, seria:"
   ]
  },
  {
   "cell_type": "code",
   "execution_count": 10,
   "metadata": {},
   "outputs": [
    {
     "name": "stdout",
     "output_type": "stream",
     "text": [
      "[2, 4, 6, 8, 10]\n"
     ]
    }
   ],
   "source": [
    "print(list(range(2, 11, 2)))  # começa no 2, termina no 11-1 (10) e conta de dois em dois"
   ]
  },
  {
   "cell_type": "markdown",
   "metadata": {},
   "source": [
    "### Compreensões de lista (list comprehensions)\n",
    "\n",
    "Uma forma muito utilizada para gerar listas em Python usando for loops, pode ser entendida como uma forma concisa de usar um for loop e um iterador para criar uma lista. Por exemplo, as duas formas a seguir são equivalentes para criar uma lista contendo o quadrado dos números de 1 a 10:"
   ]
  },
  {
   "cell_type": "code",
   "execution_count": 11,
   "metadata": {},
   "outputs": [
    {
     "name": "stdout",
     "output_type": "stream",
     "text": [
      "[1, 4, 9, 16, 25, 36, 49, 64, 81, 100]\n"
     ]
    }
   ],
   "source": [
    "squares = []\n",
    "for n in range(1,11):\n",
    "    squares.append(n*n)\n",
    "\n",
    "print(squares)"
   ]
  },
  {
   "cell_type": "code",
   "execution_count": 12,
   "metadata": {},
   "outputs": [
    {
     "name": "stdout",
     "output_type": "stream",
     "text": [
      "[1, 4, 9, 16, 25, 36, 49, 64, 81, 100]\n"
     ]
    }
   ],
   "source": [
    "squares = [n*n for n in range(1,11)]\n",
    "print(squares)"
   ]
  },
  {
   "cell_type": "markdown",
   "metadata": {},
   "source": [
    "Compreensões de lista usando condicionais"
   ]
  },
  {
   "cell_type": "code",
   "execution_count": 13,
   "metadata": {},
   "outputs": [],
   "source": [
    "names = [\"Aurélio\", \"Bia\", \"Caio\", \"Diógenes\", \"Erasmo\", \"Fábio\"]"
   ]
  },
  {
   "cell_type": "markdown",
   "metadata": {},
   "source": [
    "Vejamos como criar uma lista contendo os nomes com mais de cinco caracteres:"
   ]
  },
  {
   "cell_type": "code",
   "execution_count": 15,
   "metadata": {},
   "outputs": [
    {
     "name": "stdout",
     "output_type": "stream",
     "text": [
      "['Bia', 'Caio']\n"
     ]
    }
   ],
   "source": [
    "small_names = []\n",
    "for name in names:\n",
    "    if len(name) < 5:\n",
    "        small_names.append(name)\n",
    "        \n",
    "print(small_names)"
   ]
  },
  {
   "cell_type": "markdown",
   "metadata": {},
   "source": [
    "Agora usando list comprehensions:"
   ]
  },
  {
   "cell_type": "code",
   "execution_count": 16,
   "metadata": {},
   "outputs": [
    {
     "name": "stdout",
     "output_type": "stream",
     "text": [
      "['Bia', 'Caio']\n"
     ]
    }
   ],
   "source": [
    "small_names = [name for name in names if len(name) < 5]\n",
    "print(small_names)"
   ]
  },
  {
   "cell_type": "markdown",
   "metadata": {},
   "source": [
    "No começo, o uso de list comprehensions pode ser confuso, então continue usando os for loops até se sentir confortável."
   ]
  }
 ],
 "metadata": {
  "kernelspec": {
   "display_name": "Python 3",
   "language": "python",
   "name": "python3"
  },
  "language_info": {
   "codemirror_mode": {
    "name": "ipython",
    "version": 3
   },
   "file_extension": ".py",
   "mimetype": "text/x-python",
   "name": "python",
   "nbconvert_exporter": "python",
   "pygments_lexer": "ipython3",
   "version": "3.7.7"
  }
 },
 "nbformat": 4,
 "nbformat_minor": 4
}
