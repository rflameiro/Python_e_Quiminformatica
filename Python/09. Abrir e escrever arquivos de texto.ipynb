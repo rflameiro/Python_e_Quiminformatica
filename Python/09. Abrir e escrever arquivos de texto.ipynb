{
 "cells": [
  {
   "cell_type": "markdown",
   "metadata": {},
   "source": [
    "## Trabalhando com arquivos de texto com Python\n",
    "\n",
    "É possível abrir, escrever e reescrever arquivos de texto usando Python. Vejamos algumas formas."
   ]
  },
  {
   "cell_type": "markdown",
   "metadata": {},
   "source": [
    "**Criar arquivos de texto usando a função open()**\n",
    "\n",
    "Para criar um arquivo de texto e escrever texto nele, podemos usar a função `open()`. Existem duas formas de fazer isso: uma delas envolve abrir o arquivo usando `open()`, trabalhar com ele, e, em seguida, fechar o arquivo usando `close()`. Porém, uma forma mais simples é usando a keyword `with`, e essa é a forma que usaremos. Dessa forma, não precisamos nos preocupar em fechar o arquivo (Nota: não fechar o arquivo pode ser problemático).\n",
    "\n",
    "O arquivo de texto no qual o texto será escrito pode ser criado anteriormente, ou ser criado \"na hora\". Se o arquivo já existir, basta passar o valor `'a'` se quiser acrescentar texto a ele (append), ou `'w'` se quiser escrever o texto substituindo o que estiver escrito (write). É sempre recomendável usar o modo append para não perder o que está escrito no arquivo.\n",
    "\n",
    "Se o arquivo de texto não existir, a função `open()` pode ser chamada com o símbolo `'+'` na frente da letra. Assim, o valor `'a+'` tem duas partes: `'a'` significa que o arquivo será aberto no modo append, e o `'+'` significa: se um arquivo com esse nome não existir, crie um arquivo vazio, e abra no modo append.\n",
    "\n",
    "A keyword `\"end\"` indica o que fazer ao terminar de escrever uma linha. Usamos `end='\\n'` para passar para a próxima linha após cada string."
   ]
  },
  {
   "cell_type": "code",
   "execution_count": null,
   "metadata": {},
   "outputs": [],
   "source": [
    "# Esse comando criará o arquivo de texto \"arquivo.txt\" contendo a string \"Isso é uma string\"\n",
    "print(\"Isso é uma string\", file=open(\"arquivo.txt\", 'a+'))"
   ]
  },
  {
   "cell_type": "code",
   "execution_count": 2,
   "metadata": {},
   "outputs": [],
   "source": [
    "# Criando um arquivo de texto com várias linhas\n",
    "with open('linhas.txt', 'a+') as texto:  # criar linhas.txt no modo append. Se o arquivo não existir, criá-lo\n",
    "    for value in range(1, 6):  # loop com range de 1 a 5\n",
    "        # Usei uma f-string para introduzir os números do loop nas strings\n",
    "        s = f\"Linha {value}/5\"\n",
    "        # A keyword \"end\" é pra ele \"dar enter\" após cada frase\n",
    "        print(s, end='\\n', file=texto)"
   ]
  },
  {
   "cell_type": "markdown",
   "metadata": {},
   "source": [
    "O output do código acima será um arquivo chamado `linhas.txt` com o seguinte conteúdo:\n",
    "\n",
    "Linha 1/5 <br> Linha 2/5 <br> Linha 3/5 <br> Linha 4/5 <br> Linha 5/5"
   ]
  },
  {
   "cell_type": "markdown",
   "metadata": {},
   "source": [
    "**Ler arquivos de texto**\n",
    "\n",
    "Para ler um arquivo de texto existente, sem modificá-lo, usamos o modo \"read\" com o argumento `'r'`. Esse modo é usado para trabalhar com arquivos de texto baixados, por exemplo. \n",
    "\n",
    "Usando `readlines()`, podemos ler o arquivo linha a linha, e trabalhar com cada uma individualmente. Por exemplo, podemos verificar se uma palavra está em uma linha:"
   ]
  },
  {
   "cell_type": "code",
   "execution_count": null,
   "metadata": {},
   "outputs": [],
   "source": [
    "with open('words.txt') as file:\n",
    "    i = 0\n",
    "    for line in file.readlines():\n",
    "        if 'banana' in line:\n",
    "            return i\n",
    "        i += 1"
   ]
  },
  {
   "cell_type": "markdown",
   "metadata": {},
   "source": [
    "Vou colocar como exemplo o exercício 9.3 do excelente livro Think Python. O exercício consiste em verificar a presença de \"letras proibidas\" em palavras de um dicionário. Devemos gerar combinações de 5 letras do alfabeto e verificar a presença dessas letras nas palavras. Se uma das letras estiver presente na palavra, removemos a palavra. O objetivo é descobrir quais são as letras que removem mais palavras e as que removem menos."
   ]
  },
  {
   "cell_type": "code",
   "execution_count": 7,
   "metadata": {},
   "outputs": [],
   "source": [
    "def avoids(word, forbidden):\n",
    "    \"\"\"\n",
    "    Essa função verifica se uma ou mais letras estão presentes em uma palavra.\n",
    "    Se alguma letra estiver presente, a função retorna False\n",
    "    \"\"\"\n",
    "    for letter in forbidden:\n",
    "        if letter in word:\n",
    "            # print(f\"Forbidden letter \\\"{letter}\\\" was found\")\n",
    "            return False\n",
    "    return True"
   ]
  },
  {
   "cell_type": "markdown",
   "metadata": {},
   "source": [
    "O Python possui ferramentas para facilitar a geração das combinações de 5 letras (lembrando que não faz sentido repetir as letras, e que a ordem também não faz diferença).\n",
    "\n",
    "Podemos usar os módulos string e itertools:"
   ]
  },
  {
   "cell_type": "code",
   "execution_count": 8,
   "metadata": {},
   "outputs": [
    {
     "name": "stdout",
     "output_type": "stream",
     "text": [
      "Número de combinações de 5 letras: 65780\n"
     ]
    }
   ],
   "source": [
    "# Gerando uma string com todas as letras do alfabeto\n",
    "import string\n",
    "alphabet = string.ascii_lowercase\n",
    "\n",
    "# Testar todas as combinações de 5 letras usando itertools.combinations(alphabet, 5)\n",
    "from itertools import combinations\n",
    "\n",
    "five_letter_combs = combinations(alphabet, 5)\n",
    "print(\"Número de combinações de 5 letras:\", len(list(five_letter_combs)))"
   ]
  },
  {
   "cell_type": "markdown",
   "metadata": {},
   "source": [
    "O script a seguir verificará cada combinação para cada palavra do arquivo de texto (brute force). \n",
    "\n",
    "Com 10 minutos, o programa não terminou de checar todas as combinações (65780 * 113809), por isso interrompi a execução.\n",
    "\n",
    "Esse [link](https://stackoverflow.com/questions/22506193/is-there-a-better-algorithm-for-exercise-9-3-in-think-python-how-to-think-like) apresenta uma forma mais elegante de resolver esse problema."
   ]
  },
  {
   "cell_type": "code",
   "execution_count": null,
   "metadata": {},
   "outputs": [],
   "source": [
    "# A melhor combinação é a que remove o menor número de palavras\n",
    "min_words = 113809  # Número de palavras no arquivo words.txt\n",
    "best_combination = []\n",
    "\n",
    "# A pior combinação é a que remove o maior número de palavras\n",
    "max_words = 0\n",
    "worst_combination = []\n",
    "\n",
    "with open(r'C:\\Users\\Rafael\\PycharmProjects\\teste\\notebooks\\Learn_Python\\words.txt') as fin:\n",
    "    for comb in five_letter_combs:\n",
    "        # comb é uma lista de 5 letras, funciona como argumento para a função avoids()\n",
    "        num = 0\n",
    "        for word in fin.readlines():  # cada palavra está em uma linha\n",
    "            if avoids(word, comb):\n",
    "                num += 1\n",
    "        if num > max_words:\n",
    "            max_words = num\n",
    "            worst_combination = comb\n",
    "        if num < min_words:\n",
    "            min_words = num\n",
    "            best_combination = comb\n",
    "        fin.seek(0)  # linha importante: indicamos que queremos ler o arquivo da linha 0 novamente\n",
    "\n",
    "# Converter as listas de letras a strings\n",
    "best_comb_str = \"\"\n",
    "for letter in best_combination:\n",
    "    best_comb_str += letter\n",
    "\n",
    "worst_comb_str = \"\"\n",
    "for letter in worst_combination:\n",
    "    worst_comb_str += letter\n",
    "\n",
    "print(f\"\"\"\n",
    "A combinação que removeu o menor número de palavras de words.txt é \"{best_comb_str}\".\n",
    "{113809-min_words} palavras foram removidas de um total de 113809.\n",
    "A combinação que removeu o maior número de palavras de words.txt é \"{worst_comb_str}\".\n",
    "{113809-max_words} palavras foram removidas de um total de 113809.\n",
    "\"\"\")"
   ]
  }
 ],
 "metadata": {
  "kernelspec": {
   "display_name": "Python 3",
   "language": "python",
   "name": "python3"
  },
  "language_info": {
   "codemirror_mode": {
    "name": "ipython",
    "version": 3
   },
   "file_extension": ".py",
   "mimetype": "text/x-python",
   "name": "python",
   "nbconvert_exporter": "python",
   "pygments_lexer": "ipython3",
   "version": "3.7.7"
  }
 },
 "nbformat": 4,
 "nbformat_minor": 4
}
