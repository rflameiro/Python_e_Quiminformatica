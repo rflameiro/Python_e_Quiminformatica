{
 "cells": [
  {
   "cell_type": "markdown",
   "metadata": {},
   "source": [
    "## Criando funções\n",
    "\n",
    "Podemos criar funções personalizadas, que podem ou não conter outras funções dentro delas, e podem conter parâmetros obrigatórios, opcionais ou não ter parâmetros. \n",
    "\n",
    "Para criar nossas funções, usamos a keyword `def` seguida do nome da função, de parênteses, que conterão os parâmetros da função, e terminamos a declaração da função com dois pontos. Em seguida, abaixo da declaração da função, usamos a indentação (tecla Tab) para delimitar o código que fará parte da função. Por fim, usamos a keyword `return` para definir qual será o output da função. Se não declararmos o valor de `return`, a função retornará um valor nulo, que em Python se chama `None`.\n",
    "\n",
    "Vamos ver alguns exemplos."
   ]
  },
  {
   "cell_type": "markdown",
   "metadata": {},
   "source": [
    "**1) Função que não requer argumentos**\n",
    "\n",
    "Essa função simplesmente mostra traços na tela. Podemos usá-la para deixar o output de uma célula mais apresentável."
   ]
  },
  {
   "cell_type": "code",
   "execution_count": 1,
   "metadata": {},
   "outputs": [],
   "source": [
    "def line_separation():\n",
    "    # Podemos comentar dentro da função\n",
    "    print(\"------------------------------------------------------------------\")"
   ]
  },
  {
   "cell_type": "markdown",
   "metadata": {},
   "source": [
    "Pronto, essa é uma função válida em Python. Para usá-la, é só chamar quando quiser que apareçam os traços:"
   ]
  },
  {
   "cell_type": "code",
   "execution_count": 2,
   "metadata": {},
   "outputs": [
    {
     "name": "stdout",
     "output_type": "stream",
     "text": [
      "Essa é a primeira linha\n",
      "------------------------------------------------------------------\n",
      "Essa é a segunda linha\n",
      "------------------------------------------------------------------\n",
      "Essa é a terceira linha\n"
     ]
    }
   ],
   "source": [
    "print(\"Essa é a primeira linha\")\n",
    "line_separation()  # chamamos nossa função\n",
    "print(\"Essa é a segunda linha\")\n",
    "line_separation()  # chamamos nossa função novamente\n",
    "print(\"Essa é a terceira linha\")"
   ]
  },
  {
   "cell_type": "markdown",
   "metadata": {},
   "source": [
    "**2) Função com parâmetro obrigatório**\n",
    "\n",
    "Vamos escrever uma função que retorna o quadrado do número que passamos para a função.\n",
    "\n",
    "Chamaremos o parâmetro de `number`, mas pode ser qualquer nome permitido em Python. O ideal é que seja descritivo."
   ]
  },
  {
   "cell_type": "code",
   "execution_count": 3,
   "metadata": {},
   "outputs": [],
   "source": [
    "def square(number):\n",
    "    number_squared = number**2\n",
    "    return number_squared"
   ]
  },
  {
   "cell_type": "markdown",
   "metadata": {},
   "source": [
    "Como nossa função tem um parâmetro obrigatório (`number`), chamar a função sem nenhum argumento fará um erro aparecer."
   ]
  },
  {
   "cell_type": "code",
   "execution_count": 4,
   "metadata": {},
   "outputs": [
    {
     "ename": "TypeError",
     "evalue": "square() missing 1 required positional argument: 'number'",
     "output_type": "error",
     "traceback": [
      "\u001b[1;31m---------------------------------------------------------------------------\u001b[0m",
      "\u001b[1;31mTypeError\u001b[0m                                 Traceback (most recent call last)",
      "\u001b[1;32m<ipython-input-4-67e8141f4182>\u001b[0m in \u001b[0;36m<module>\u001b[1;34m()\u001b[0m\n\u001b[1;32m----> 1\u001b[1;33m \u001b[0msquare\u001b[0m\u001b[1;33m(\u001b[0m\u001b[1;33m)\u001b[0m\u001b[1;33m\u001b[0m\u001b[1;33m\u001b[0m\u001b[0m\n\u001b[0m",
      "\u001b[1;31mTypeError\u001b[0m: square() missing 1 required positional argument: 'number'"
     ]
    }
   ],
   "source": [
    "square()"
   ]
  },
  {
   "cell_type": "markdown",
   "metadata": {},
   "source": [
    "Mas se declararmos que o valor do parâmetro `number`, a função retornará o valor do quadrado desse número. Podemos até mesmo usar essa função para declarar uma variável"
   ]
  },
  {
   "cell_type": "code",
   "execution_count": 5,
   "metadata": {},
   "outputs": [
    {
     "name": "stdout",
     "output_type": "stream",
     "text": [
      "25\n"
     ]
    }
   ],
   "source": [
    "a = 5\n",
    "a_quadrado = square(a)\n",
    "print(a_quadrado)"
   ]
  },
  {
   "cell_type": "markdown",
   "metadata": {},
   "source": [
    "Caso não tenha ficado claro: `number` é um **parâmetro** da função `square`, enquanto o valor 5 (ou, no caso anterior, a variável `a`) é o **argumento** que passamos a essa função. O parâmetro da função é fixo, mas podemos variar o argumento passado a ela."
   ]
  },
  {
   "cell_type": "markdown",
   "metadata": {},
   "source": [
    "**3) Função com parâmetro opcional**\n",
    "\n",
    "Como vimos no caso da função print, os desenvolvedores optaram por definir um argumento padrão (default) para o parâmetro `sep`:\n"
   ]
  },
  {
   "cell_type": "code",
   "execution_count": 6,
   "metadata": {},
   "outputs": [
    {
     "name": "stdout",
     "output_type": "stream",
     "text": [
      "Essa é uma frase\n",
      "Essa***é***uma***frase\n"
     ]
    }
   ],
   "source": [
    "# Sem declarar sep, o default é usar espaço\n",
    "print(\"Essa\", \"é\", \"uma\", \"frase\")\n",
    "\n",
    "# Declarando sep, podemos mudar o símbolo que separa as strings para algo como ***\n",
    "print(\"Essa\", \"é\", \"uma\", \"frase\", sep=\"***\")"
   ]
  },
  {
   "cell_type": "markdown",
   "metadata": {},
   "source": [
    "Veja que as duas funções acima são válidas, nenhuma apresenta um erro. Declarando um valor padrão para o parâmetro `sep`, não é necessário que o usuário declare `sep=\" \"` toda vez que chamar a função. \n",
    "\n",
    "Podemos fazer o mesmo para nossas funções usando o símbolo `=` à frente do nome do parâmetro, seguido do valor que queremos que seja o default. Por exemplo, podemos redefinir a função que calcula o quadrado do número para calcular o quadrado de zero se o usuário não passar nenhum valor:"
   ]
  },
  {
   "cell_type": "code",
   "execution_count": 7,
   "metadata": {},
   "outputs": [],
   "source": [
    "def square(number=0):\n",
    "    number_squared = number**2\n",
    "    return number_squared"
   ]
  },
  {
   "cell_type": "code",
   "execution_count": 8,
   "metadata": {},
   "outputs": [
    {
     "data": {
      "text/plain": [
       "0"
      ]
     },
     "execution_count": 8,
     "metadata": {},
     "output_type": "execute_result"
    }
   ],
   "source": [
    "square()  # dessa vez, não dá erro quando não passamos um parâmetro"
   ]
  },
  {
   "cell_type": "markdown",
   "metadata": {},
   "source": [
    "**4) Funções com vários parâmetros**\n",
    "\n",
    "Podemos declarar funções com quantos parâmetros quisermos, basta declarar todos na definição da função."
   ]
  },
  {
   "cell_type": "code",
   "execution_count": 9,
   "metadata": {},
   "outputs": [],
   "source": [
    "def gerar_email(first_name, last_name, domain):\n",
    "    email = first_name + last_name + \"@\" + domain + \".com\"\n",
    "    return email"
   ]
  },
  {
   "cell_type": "code",
   "execution_count": 10,
   "metadata": {},
   "outputs": [
    {
     "data": {
      "text/plain": [
       "'albertocaeiro@python.com'"
      ]
     },
     "execution_count": 10,
     "metadata": {},
     "output_type": "execute_result"
    }
   ],
   "source": [
    "gerar_email(\"alberto\", \"caeiro\", \"python\")"
   ]
  },
  {
   "cell_type": "markdown",
   "metadata": {},
   "source": [
    "Podemos até misturar parâmetros padrão com os abertos. Porém, precisamos posicionar os parâmetros com valor padrão ao final:"
   ]
  },
  {
   "cell_type": "code",
   "execution_count": 11,
   "metadata": {},
   "outputs": [],
   "source": [
    "def gerar_email(first_name, last_name, domain=\"python\"):\n",
    "    email = first_name + last_name + \"@\" + domain + \".com\"\n",
    "    return email"
   ]
  },
  {
   "cell_type": "code",
   "execution_count": 12,
   "metadata": {},
   "outputs": [
    {
     "name": "stdout",
     "output_type": "stream",
     "text": [
      "bentosantiago@zipmail.com\n",
      "mariacapitolina@python.com\n"
     ]
    }
   ],
   "source": [
    "print(gerar_email(\"bento\", \"santiago\", \"zipmail\"))\n",
    "print(gerar_email(\"maria\", \"capitolina\"))  # não defini o argumento para domain, portanto, o padrão que definimos será usado"
   ]
  },
  {
   "cell_type": "markdown",
   "metadata": {},
   "source": [
    "Muitas vezes, não sabemos de antemão quantos argumentos queremos passar para nossa função. Isso pode ser resolvido usando os símbolos \\* ou \\*\\*. \n",
    "\n",
    "Podemos ver, por exemplo, que a função sum() não funciona se passarmos diversos argumentos (números separados por vírgulas). "
   ]
  },
  {
   "cell_type": "code",
   "execution_count": 13,
   "metadata": {},
   "outputs": [
    {
     "ename": "TypeError",
     "evalue": "sum expected at most 2 arguments, got 3",
     "output_type": "error",
     "traceback": [
      "\u001b[1;31m---------------------------------------------------------------------------\u001b[0m",
      "\u001b[1;31mTypeError\u001b[0m                                 Traceback (most recent call last)",
      "\u001b[1;32m<ipython-input-13-dd9496db4b54>\u001b[0m in \u001b[0;36m<module>\u001b[1;34m()\u001b[0m\n\u001b[1;32m----> 1\u001b[1;33m \u001b[0msum\u001b[0m\u001b[1;33m(\u001b[0m\u001b[1;36m1\u001b[0m\u001b[1;33m,\u001b[0m\u001b[1;36m2\u001b[0m\u001b[1;33m,\u001b[0m\u001b[1;36m3\u001b[0m\u001b[1;33m)\u001b[0m\u001b[1;33m\u001b[0m\u001b[1;33m\u001b[0m\u001b[0m\n\u001b[0m",
      "\u001b[1;31mTypeError\u001b[0m: sum expected at most 2 arguments, got 3"
     ]
    }
   ],
   "source": [
    "sum(1,2,3)"
   ]
  },
  {
   "cell_type": "markdown",
   "metadata": {},
   "source": [
    "Porém, se quisermos definir uma função que funcione dessa forma, podemos fazer o seguinte:"
   ]
  },
  {
   "cell_type": "code",
   "execution_count": 14,
   "metadata": {},
   "outputs": [],
   "source": [
    "def soma_personalizada(*numbers):\n",
    "    # O argumento *numbers nos permite passar diversos valores separados por vírgula\n",
    "    # Para obter a soma, poderíamos usar um loop ou converter os argumentos em uma lista, para podermos usar sum()\n",
    "    # Veja que estamos retornando diretamente, sem declarar uma variável antes. \n",
    "    # Você pode fazer o mesmo nas suas funções, porém, tome cuidado para que suas funções sejam sempre compreensíveis\n",
    "    return sum(numbers)"
   ]
  },
  {
   "cell_type": "code",
   "execution_count": 15,
   "metadata": {},
   "outputs": [
    {
     "name": "stdout",
     "output_type": "stream",
     "text": [
      "3\n",
      "6\n",
      "10\n"
     ]
    }
   ],
   "source": [
    "print(soma_personalizada(1,2))  # com 2 argumentos\n",
    "print(soma_personalizada(1,2,3))  # com 3 argumentos\n",
    "print(soma_personalizada(1,2,3,4))  # com 4 argumentos"
   ]
  },
  {
   "cell_type": "markdown",
   "metadata": {},
   "source": [
    "Essa é uma funcionalidade mais avançada. Esses argumentos recebem o nome (estranho) de \\*args e \\*\\*kwargs, mas o que importa são os asteriscos, o nome na frente pode ser outro, como numbers no caso da nossa função.\n",
    "\n",
    "**\\*args**: qualquer número de argumentos posicionais. Os argumentos são convertidos a uma tupla\n",
    "\n",
    "**\\*\\*kwargs**: qualquer número de argumentos keyword. Os argumentos são convertidos a um dicionário"
   ]
  },
  {
   "cell_type": "markdown",
   "metadata": {},
   "source": [
    "Vamos ver mais aplicações de funções com número livre de argumentos quando virmos os loops"
   ]
  },
  {
   "cell_type": "markdown",
   "metadata": {},
   "source": [
    "`help()` também funciona com funções criadas pelo usuário. Veja o notebook Boas práticas para escrever programas em Python para aprender a escrever uma função de forma que, ao usar a função help(), todas as informações necessárias para compreender o uso daquela função sejam apresentados"
   ]
  },
  {
   "cell_type": "code",
   "execution_count": 16,
   "metadata": {},
   "outputs": [
    {
     "name": "stdout",
     "output_type": "stream",
     "text": [
      "Help on function soma_personalizada in module __main__:\n",
      "\n",
      "soma_personalizada(*numbers)\n",
      "\n"
     ]
    }
   ],
   "source": [
    "help(soma_personalizada)"
   ]
  },
  {
   "cell_type": "code",
   "execution_count": null,
   "metadata": {},
   "outputs": [],
   "source": []
  }
 ],
 "metadata": {
  "kernelspec": {
   "display_name": "Python 3",
   "language": "python",
   "name": "python3"
  },
  "language_info": {
   "codemirror_mode": {
    "name": "ipython",
    "version": 3
   },
   "file_extension": ".py",
   "mimetype": "text/x-python",
   "name": "python",
   "nbconvert_exporter": "python",
   "pygments_lexer": "ipython3",
   "version": "3.7.7"
  }
 },
 "nbformat": 4,
 "nbformat_minor": 4
}
