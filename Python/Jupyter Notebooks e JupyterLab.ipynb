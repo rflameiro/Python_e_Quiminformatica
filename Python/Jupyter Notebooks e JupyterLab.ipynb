{
 "cells": [
  {
   "cell_type": "markdown",
   "metadata": {},
   "source": [
    "## Introdução\n",
    "\n",
    "Você já deve saber que códigos em Python podem ser executados na linha de comando, mas há uma forma mais organizada de executar linhas de código de forma sequencial: os Jupyter Notebooks.\n",
    "\n",
    "É recomendável aprender a usar os Notebooks desde o começo, pois são a forma mais usada para compartilhar código, e para a execução de código do tipo \"pipeline\", ou seja, em que ações são executadas uma após a outra (muito comum em aplicações de aprendizado de máquina)."
   ]
  },
  {
   "cell_type": "markdown",
   "metadata": {},
   "source": [
    "## Instalando o JupyterLab\n",
    "\n",
    "É possível utilizar Jupyter Notebooks sem o JupyterLab, mas recomendo seu uso, por se tratar de uma interface mais moderna, e segundo o [site oficial](https://jupyterlab.readthedocs.io/en/stable/getting_started/overview.html):\n",
    "\n",
    "*\"JupyterLab will eventually replace the classic Jupyter Notebook\"*\n",
    "\n",
    "Ou seja, em breve, o uso de Notebooks será feito somente através da interface JupyterLab\n",
    "\n",
    "Para usar o JupyterLab no seu computador, recomendo instalar o gerenciador de pacotes Anaconda (ou Miniconda) e criar um ambiente dedicado ao uso dos Notebooks (nesse ambiente, devem estar instalados os módulos relevantes). Seria muito trabalhoso descrever todo o processo de [instalação do Anaconda](https://www.youtube.com/watch?v=_eK0z5QbpKA), o que são os [ambientes virtuais](https://www.youtube.com/watch?v=f_Rf2ZnV1Mk) e as vantagens do seu uso, e o que é [pip/conda](https://www.youtube.com/watch?v=wSXQxPCdmrg), mas existem diversos vídeos disponíveis (veja os links).\n",
    "\n",
    "Com seu ambiente de trabalho conda ativo, instale o JupyterLab usando:\n",
    "\n",
    "`conda install -c conda-forge jupyterlab`\n",
    "\n",
    "ou\n",
    "\n",
    "`pip install jupyterlab`\n",
    "\n",
    "e inicie a interface com o comando\n",
    "\n",
    "`jupyter lab`"
   ]
  },
  {
   "cell_type": "markdown",
   "metadata": {},
   "source": [
    "## Introdução ao Jupyter Notebook\n",
    "\n",
    "O objetivo desse Notebook é dar uma breve introdução sobre algumas das funcionalidades do Jupyter Notebook.\n",
    "\n",
    "### Criando um Notebook\n",
    "\n",
    "No JupyterLab, clique no botão com um sinal de + no lado superior esquerdo para criar um Notebook sem nome. Clique com o botão direito sobre o Notebook para editar seu nome - note que a extensão de um arquivo Jupyter Notebook é .ipynb.\n",
    "\n",
    "### Células\n",
    "\n",
    "Se você nunca usou o ambiente do Jupyter Notebook antes, há algumas coisas que você deve estar saber:\n",
    "Notebooks são compostos por **células**. Algumas células (como esta) contêm texto (em inglês, essas células são chamadas de *markdown*), enquanto outras (como a que está abaixo desta) contêm código.\n",
    "\n",
    "Se tiver aberto esse Notebook no seu ambiente JupyterLab, poderá clicar duas vezes nessa célula e editar o texto apresentado aqui. Notará também que palavras em **negrito** são apresentadas entre dois asteriscos, e o *itálico*, com apenas um asterisco de cada lado. Esse tipo de funcionalidade é chamado de *markdown*, e existem diversos comandos disponíveis. Veja, por exemplo, esse [link](http://www.if.ufrgs.br/fis01069/sintaxemarkdown.html)."
   ]
  },
  {
   "cell_type": "markdown",
   "metadata": {},
   "source": [
    "Células podem estar ativas ou inativas. A célula ativa é, por exemplo, a célula na qual você está escrevendo código. Ela aparece com uma barra azul do lado esquerdo (ao menos na versão atual do JupyterLab). Clicando no lado esquerdo de uma célula inativa, fazemos aparecer a barra azul, ou seja, a célula fica ativa. Uma célula ativa pode estar no modo de edição ou não: no modo de edição, o fundo da célula fica branco, ficando cinza quando não está no modo de edição. Você pode entrar no modo de edição pressionando a tecla `Enter`, e sair do modo de edição usando `Esc`."
   ]
  },
  {
   "cell_type": "markdown",
   "metadata": {},
   "source": [
    "### Atalhos\n",
    "\n",
    "Alguns atalhos úteis, que sempre devem ser usados *fora do modo de edição*: saia do modo de edição usando `Esc` - a célula permanecerá ativa.\n",
    "Para adicionar uma célula, você pode pressionar a tecla `A` para inserir uma célula acima da célula ativa, ou `B` para inserir uma célula abaixo. Para apagar uma célula, deixe-a ativa (não no modo de edição) e pressione a tecla `D` duas vezes. Para desfazer a ação anterior, pressione `Z`, e para refazer, `Shift + Z`. Para copiar e colar células, use as teclas `C` e `V`."
   ]
  },
  {
   "cell_type": "markdown",
   "metadata": {},
   "source": [
    "### Mudando tipos de células\n",
    "\n",
    "Células de texto não executam código, e podem ser consideradas como anotações para o seu código. Para transformar uma célula de código em texto, saia do modo de edição usando `Esc` e, com a célula ativa, aperte a tecla `M`. Para transformar uma célula de texto em código, use a tecla `Y`."
   ]
  },
  {
   "cell_type": "markdown",
   "metadata": {},
   "source": [
    "### Executando uma célula\n",
    "\n",
    "Você pode executar cada célula de código usando o atalho `Shift + Enter`.\n",
    "\n",
    "A saída do código executado aparece abaixo da célula, em um fundo branco.\n",
    "\n",
    "Note que, para as células de código, um número aparece do lado esquerdo entre colchetes. Esses números indicam a ordem em que as células de código foram executadas: "
   ]
  },
  {
   "cell_type": "code",
   "execution_count": 1,
   "metadata": {},
   "outputs": [
    {
     "name": "stdout",
     "output_type": "stream",
     "text": [
      "Essa foi a primeira célula de código executada\n",
      "Por isso, o número [1] aparece ali <<\n"
     ]
    }
   ],
   "source": [
    "print(\"Essa foi a primeira célula de código executada\")\n",
    "print(\"Por isso, o número [1] aparece ali <<\")"
   ]
  },
  {
   "cell_type": "markdown",
   "metadata": {},
   "source": [
    "Uma célula de texto executada não apresenta um número, e simplesmente será apresentada da forma como será vista no Notebook (ou seja, palavras escritas entre asteriscos aparecerão em itálico/negrito, etc.)\n",
    "\n",
    "As células não necessariamente precisam ser executadas na ordem em que se encontram no Notebook, porém, isso pode causar problemas. Abaixo, vou acrescentar duas células: na primeira, uma variável é declarada, e na segunda, mostramos o valor da variável usando `print`. Vou executar a célula de baixo primeiro (note o número menor na célula de baixo) e, como a célula anterior não foi executada, a variável não foi declarada, e o código apresenta um erro. \n",
    "\n",
    "Esse tipo de erro pode acontecer quando estiver montando seus Notebooks: você vai declarar uma variável em uma célula no final do Notebook, reescrever seu código utilizando essa variável em uma célula anterior, e quando executar seu Notebook do começo, o erro aparecerá (pois o código tentará usar uma variável ainda não declarada)."
   ]
  },
  {
   "cell_type": "code",
   "execution_count": 3,
   "metadata": {},
   "outputs": [],
   "source": [
    "# Note o valor [3] nessa célula, e [2] na de baixo\n",
    "# Executei a célula de baixo antes de declarar a variável \"a\", por isso o erro\n",
    "a = 5  # Depois de executar essa célula, tente executar novamente a célula abaixo"
   ]
  },
  {
   "cell_type": "code",
   "execution_count": 2,
   "metadata": {},
   "outputs": [
    {
     "ename": "NameError",
     "evalue": "name 'a' is not defined",
     "output_type": "error",
     "traceback": [
      "\u001b[1;31m---------------------------------------------------------------------------\u001b[0m",
      "\u001b[1;31mNameError\u001b[0m                                 Traceback (most recent call last)",
      "\u001b[1;32m<ipython-input-2-91184745b3a9>\u001b[0m in \u001b[0;36m<module>\u001b[1;34m()\u001b[0m\n\u001b[1;32m----> 1\u001b[1;33m \u001b[0mprint\u001b[0m\u001b[1;33m(\u001b[0m\u001b[1;34m\"O valor de a é: \"\u001b[0m\u001b[1;33m,\u001b[0m \u001b[0ma\u001b[0m\u001b[1;33m)\u001b[0m\u001b[1;33m\u001b[0m\u001b[1;33m\u001b[0m\u001b[0m\n\u001b[0m",
      "\u001b[1;31mNameError\u001b[0m: name 'a' is not defined"
     ]
    }
   ],
   "source": [
    "print(\"O valor de a é: \", a)"
   ]
  },
  {
   "cell_type": "markdown",
   "metadata": {},
   "source": [
    "Portanto, de forma geral, **sempre execute as células do Notebook em ordem**, e evite voltar a executar células, principalmente se for acrescentar variáveis que foram geradas depois."
   ]
  },
  {
   "cell_type": "markdown",
   "metadata": {},
   "source": [
    "Um último comentário a respeito dos Jupyter Notebooks é a forma como variáveis são apresentadas se chamadas diretamente.\n",
    "\n",
    "Você deve se lembrar que, no Python, se quisermos mostrar o valor de uma variável, devemos usar a função `print`. No Jupyter, é possível mostrar o valor da variável simplesmente chamando seu nome:"
   ]
  },
  {
   "cell_type": "code",
   "execution_count": 4,
   "metadata": {},
   "outputs": [
    {
     "data": {
      "text/plain": [
       "5"
      ]
     },
     "execution_count": 4,
     "metadata": {},
     "output_type": "execute_result"
    }
   ],
   "source": [
    "a"
   ]
  },
  {
   "cell_type": "markdown",
   "metadata": {},
   "source": [
    "Note que isso seria um erro se estivéssemos usando Python na linha de comando, mas é comum ver esse tipo de uso nos Notebooks."
   ]
  },
  {
   "cell_type": "markdown",
   "metadata": {},
   "source": [
    "## Google Colab\n",
    "\n",
    "O Google Colab é uma ferramenta da Google que permite a execução de código Python. Ele apresenta uma interface muito parecida com o Jupyter Notebook, mas o código roda em um servidor da Google, e não no seu computador.\n",
    "\n",
    "Diferentemente do Google Colab, um Jupyter Notebook roda os comandos no seu computador. Portanto, se tentar fazer algo mais \"pesado\", é possível que o código não finalize em um tempo razoável, ou mesmo que seu computador superaqueça e desligue. Para códigos mais pesados, recomendo usar o Google Colab. Em muitos casos, como o treinamento de redes neurais com grandes quantidades de dados, nem mesmo o Google Colab será suficiente. Para esse tipo de uso mais avançado, é recomendável o uso de serviços pagos, que utilizam servidores na nuvem (*Cloud*) ou a compra de processadores/GPU."
   ]
  },
  {
   "cell_type": "code",
   "execution_count": null,
   "metadata": {},
   "outputs": [],
   "source": []
  }
 ],
 "metadata": {
  "kernelspec": {
   "display_name": "Python 3",
   "language": "python",
   "name": "python3"
  },
  "language_info": {
   "codemirror_mode": {
    "name": "ipython",
    "version": 3
   },
   "file_extension": ".py",
   "mimetype": "text/x-python",
   "name": "python",
   "nbconvert_exporter": "python",
   "pygments_lexer": "ipython3",
   "version": "3.7.7"
  }
 },
 "nbformat": 4,
 "nbformat_minor": 4
}
