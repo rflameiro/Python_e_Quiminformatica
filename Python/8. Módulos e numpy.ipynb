{
 "cells": [
  {
   "cell_type": "markdown",
   "metadata": {},
   "source": [
    "## Módulos\n",
    "\n",
    "Vimos anteriormente como declarar funções no Python. Imagine que você queira reaproveitar uma função escrita no passado em um programa atual. Uma opção seria definir a função novamente. Agora imagine um projeto que envolverá várias etapas; ficaria inviável definir funções para todas as etapas. Felizmente, existe uma forma fácil de reaproveitar funções em Python. Um **módulo** nada mais é que um conjunto de scripts escritos na linguagem Python, que você pode \"chamar\" e utilizar as funções descritas nele.\n",
    "\n",
    "Alguns exemplos de módulos muito utilizados para aplicações científicas em Python são: numpy, scipy, matplotlib, pandas e scikit-learn. Veremos exemplos deles em outros notebooks, mas hoje vamos dar ênfase no módulo Numpy.\n",
    "\n",
    "[Documentação - Módulos](https://docs.python.org/pt-br/3/tutorial/modules.html)"
   ]
  },
  {
   "cell_type": "markdown",
   "metadata": {},
   "source": [
    "### Importando um módulo\n",
    "\n",
    "Existem várias formas de importar funções de um módulo. Como exemplo, imagine um módulo chamado `module` que possui diversas funções, entre elas, a função `function`.\n",
    "\n",
    "- `import module`: com isso, todas as funções serão importadas. Para usar a função `function`, chamamos `module.function()`\n",
    "- `import module as md`: com isso, todas as funções serão importadas, mas o módulo passa ser chamado `md` dentro do seu programa. Essa é uma forma comum de se importar módulos, para poder usar um nome menor para chamar suas funções. Para usar a função `function` nesse caso, chamamos `md.function()`\n",
    "- `from module import function`: com isso, somente a função `function` é importada. Para usá-la, chamamos `function()`. Assim, fica mais fácil chamar a função, mas cuidado para que o nome dessa função não conflite com outras.\n",
    "- `from module import *`: Isso importa todas as funções de um módulo, bastando usar seus nomes para chamá-las. Esse modo de importar funções não é recomendado, mas é possível vê-lo em alguns programas.\n",
    "\n",
    "Cada módulo só é importado uma vez por sessão, portanto, importar o mesmo módulo várias vezes não fará efeito. \n",
    "\n",
    "Quando se escreve um script, é recomendado importar todos os módulos no início. Porém, em um Jupyter Notebook, é possível deixar a importação dos módulos para quando as funções forem utilizadas."
   ]
  },
  {
   "cell_type": "markdown",
   "metadata": {},
   "source": [
    "### Numpy\n",
    "\n",
    "Numpy (Python numérico) é um módulo que possui uma funcionalidade que é a base de outros módulos, como scipy e pandas: o numpy.ndarray, ou array. Um array é como uma lista, mas com mais funcionalidades, e que permite cálculos mais rápidos. Vejamos como importar o numpy e trabalhar com arrays."
   ]
  },
  {
   "cell_type": "code",
   "execution_count": 1,
   "metadata": {},
   "outputs": [],
   "source": [
    "# Importar todo o módulo (forma menos usada, por isso, está incluída somente como comentário)\n",
    "# import numpy\n",
    "\n",
    "# Essa é uma forma muito comum de se importar o numpy, e é a que vamos usar\n",
    "import numpy as np  \n",
    "\n",
    "# Somente como exemplo, veja que podemos importar o numpy com qualquer nome, desde que não entre em conflito com outras funções do Python\n",
    "# O import a seguir seria válido:\n",
    "# import numpy as qualquer_nome_que_quiser"
   ]
  },
  {
   "cell_type": "code",
   "execution_count": 2,
   "metadata": {},
   "outputs": [
    {
     "data": {
      "text/plain": [
       "array([1, 2, 3])"
      ]
     },
     "execution_count": 2,
     "metadata": {},
     "output_type": "execute_result"
    }
   ],
   "source": [
    "x = np.array([1, 2, 3])\n",
    "x"
   ]
  },
  {
   "cell_type": "code",
   "execution_count": 3,
   "metadata": {},
   "outputs": [],
   "source": [
    "# A partir de uma lista guardada em uma variável\n",
    "l = [1, 2, 3]\n",
    "x = np.array(l)"
   ]
  },
  {
   "cell_type": "code",
   "execution_count": 4,
   "metadata": {},
   "outputs": [
    {
     "name": "stdout",
     "output_type": "stream",
     "text": [
      "1\n",
      "3\n"
     ]
    }
   ],
   "source": [
    "# indexação\n",
    "print(x[0])\n",
    "print(x[-1])"
   ]
  },
  {
   "cell_type": "code",
   "execution_count": 5,
   "metadata": {},
   "outputs": [
    {
     "data": {
      "text/plain": [
       "array([0, 1, 2, 3, 4, 5, 6, 7, 8, 9])"
      ]
     },
     "execution_count": 5,
     "metadata": {},
     "output_type": "execute_result"
    }
   ],
   "source": [
    "y = np.arange(10)  # retorna um array começando em 0 e terminando em n-1, assim como a função range que vimos anteriormente\n",
    "y"
   ]
  },
  {
   "cell_type": "code",
   "execution_count": 6,
   "metadata": {},
   "outputs": [
    {
     "data": {
      "text/plain": [
       "array([0.        , 0.33333333, 0.66666667, 1.        ])"
      ]
     },
     "execution_count": 6,
     "metadata": {},
     "output_type": "execute_result"
    }
   ],
   "source": [
    "a = np.linspace(0, 1, 4)  # array com 4 pontos igualmente espaçados entre 0 e 1\n",
    "a"
   ]
  },
  {
   "cell_type": "code",
   "execution_count": 7,
   "metadata": {},
   "outputs": [
    {
     "data": {
      "text/plain": [
       "array([1.        , 2.33333333, 3.66666667, 5.        ])"
      ]
     },
     "execution_count": 7,
     "metadata": {},
     "output_type": "execute_result"
    }
   ],
   "source": [
    "b = np.linspace(1, 5, 4) \n",
    "b"
   ]
  },
  {
   "cell_type": "markdown",
   "metadata": {},
   "source": [
    "Veja que os símbolos + e - funcionam de forma diferente das listas em Python:"
   ]
  },
  {
   "cell_type": "code",
   "execution_count": 8,
   "metadata": {},
   "outputs": [
    {
     "name": "stdout",
     "output_type": "stream",
     "text": [
      "[1.         2.66666667 4.33333333 6.        ]\n",
      "[-1. -2. -3. -4.]\n"
     ]
    }
   ],
   "source": [
    "print(a + b)\n",
    "print(a - b)"
   ]
  },
  {
   "cell_type": "markdown",
   "metadata": {},
   "source": [
    "Também é possível fazer multiplicação e divisão"
   ]
  },
  {
   "cell_type": "code",
   "execution_count": 9,
   "metadata": {},
   "outputs": [
    {
     "name": "stdout",
     "output_type": "stream",
     "text": [
      "[1 4 9]\n",
      "[3 6 9]\n",
      "[0.1 0.2 0.3]\n"
     ]
    }
   ],
   "source": [
    "a = np.array([1, 2, 3])\n",
    "print(a*a)\n",
    "print(a*3)\n",
    "print(a/10)"
   ]
  },
  {
   "cell_type": "markdown",
   "metadata": {},
   "source": [
    "Matrizes"
   ]
  },
  {
   "cell_type": "code",
   "execution_count": 12,
   "metadata": {},
   "outputs": [
    {
     "data": {
      "text/plain": [
       "array([[9, 2, 8],\n",
       "       [4, 7, 2],\n",
       "       [3, 4, 4]])"
      ]
     },
     "execution_count": 12,
     "metadata": {},
     "output_type": "execute_result"
    }
   ],
   "source": [
    "m1 = np.array([[9,2,8],[4,7,2],[3,4,4]])\n",
    "# m1 = [[9,2,8],[4,7,2],[3,4,4]].reshape((3, 3))\n",
    "m1"
   ]
  },
  {
   "cell_type": "code",
   "execution_count": 13,
   "metadata": {},
   "outputs": [
    {
     "data": {
      "text/plain": [
       "(3, 3)"
      ]
     },
     "execution_count": 13,
     "metadata": {},
     "output_type": "execute_result"
    }
   ],
   "source": [
    "m1.shape"
   ]
  },
  {
   "cell_type": "code",
   "execution_count": 17,
   "metadata": {},
   "outputs": [
    {
     "name": "stdout",
     "output_type": "stream",
     "text": [
      "[4 7 2]\n",
      "9\n"
     ]
    }
   ],
   "source": [
    "# Indexação em matrizes: mais de um índice \n",
    "print(m1[1])  # o item 1 é a linha 1\n",
    "print(m1[0][0])  # item 0 da linha 0"
   ]
  },
  {
   "cell_type": "markdown",
   "metadata": {},
   "source": [
    "Funcionalidades matemáticas estão disponíveis"
   ]
  },
  {
   "cell_type": "code",
   "execution_count": 19,
   "metadata": {},
   "outputs": [
    {
     "name": "stdout",
     "output_type": "stream",
     "text": [
      "0.0\n",
      "-0.4480736161291701\n",
      "3.141592653589793\n"
     ]
    }
   ],
   "source": [
    "print(np.sin(0))  # seno\n",
    "print(np.cos(90))  # cosseno - note que o número está em radianos\n",
    "print(np.pi)  # pi"
   ]
  },
  {
   "cell_type": "code",
   "execution_count": null,
   "metadata": {},
   "outputs": [],
   "source": []
  }
 ],
 "metadata": {
  "kernelspec": {
   "display_name": "Python 3",
   "language": "python",
   "name": "python3"
  },
  "language_info": {
   "codemirror_mode": {
    "name": "ipython",
    "version": 3
   },
   "file_extension": ".py",
   "mimetype": "text/x-python",
   "name": "python",
   "nbconvert_exporter": "python",
   "pygments_lexer": "ipython3",
   "version": "3.7.7"
  }
 },
 "nbformat": 4,
 "nbformat_minor": 4
}
