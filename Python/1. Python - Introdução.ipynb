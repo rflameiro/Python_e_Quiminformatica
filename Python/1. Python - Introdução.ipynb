{
 "cells": [
  {
   "cell_type": "markdown",
   "metadata": {},
   "source": [
    "# Python\n",
    "\n",
    "A linguagem Python é uma das mais usadas para aplicações em quiminformática, e diversos pacotes estão disponíveis para essa área. Por exemplo, veja: https://project-awesome.org/hsiaoyi0504/awesome-cheminformatics e https://github.com/lmmentel/awesome-python-chemistry\n",
    "\n",
    "Para um curso introdutório completo em português, recomendo as três playlists no Youtube do [Gustavo Guanabara](https://www.youtube.com/watch?v=S9uPNppGsGo&list=PLHz_AreHm4dlKP6QQCekuIPky1CiwmdI6).\n",
    "\n",
    "Materiais em inglês muito bons também estão disponíveis, como o do [Kaggle](https://www.kaggle.com/learn/python), que inspira essa série de notebooks.\n",
    "\n",
    "A seguir, revisamos algumas funcionalidades básicas do Python. "
   ]
  },
  {
   "cell_type": "markdown",
   "metadata": {},
   "source": [
    "### Jupyter Notebook\n",
    "\n",
    "Este arquivo, que possui a extensão `.ipynb`, é um **Jupyter Notebook**. Nele, podemos escrever texto ou código executável em Python. \n",
    "\n",
    "Aqui, você pode ver mais detalhes sobre como instalar o Jupyter e abrir os notebooks, veja: https://www.letscode.com.br/blog/introducao-ao-jupyter-notebook \n",
    "\n",
    "Note, abaixo, que as linhas de código ficam dentro de retângulos cinzas, chamados de **células**, enquanto o texto fica sobre um fundo branco. Tente clicar duas vezes sobre um texto, e verá que sua forma muda, destacando a célula em que o texto se encontra. Essa forma de escrever texto nas células dos notebooks chama-se **Markdown**. O título dessa seção, por exemplo, é antecedido por três \"#\", que, quando a célula é executada, indicam que o texto na frente deve ser representado em negrito e com fonte maior.\n",
    "\n",
    "Abaixo, é indicado um link para mais informações sobre markdown. Note como o texto é representado em Markdown (entre colchetes e com o link na frente entre parênteses) e como ele é apresentado após a execução da célula (somente o texto como um hyperlink). Para executar uma célula destacada, pressione Shift+Enter.\n",
    "\n",
    "[Para saber mais sobre Markdown](http://www.if.ufrgs.br/fis01069/markdown.html)"
   ]
  },
  {
   "cell_type": "markdown",
   "metadata": {},
   "source": [
    "### Variáveis e objetos\n",
    "\n",
    "Variáveis são formas de armazenar dados na memória. Em Python, são declaradas usando o sinal `=`. Por exemplo, podemos declarar uma variável chamada `a` contendo o valor 1:"
   ]
  },
  {
   "cell_type": "code",
   "execution_count": 1,
   "metadata": {},
   "outputs": [],
   "source": [
    "# Declarando uma variável\n",
    "a = 1  # A variável a recebe o valor 1."
   ]
  },
  {
   "cell_type": "markdown",
   "metadata": {},
   "source": [
    "Cuidado, nem todos os nomes são válidos para variáveis. O Python reserva alguns nomes para uso interno, como: def, True, else, dentre outras. Veja a lista completa [aqui](https://realpython.com/lessons/reserved-keywords/) ou digitando `help(\"keywords\")`.\n",
    "\n",
    "Note que a primeira linha do código acima, assim como a linha na frente do código que declara a variável, começa com o símbolo `#`. Diferente do Markdown, em uma célula de código, esse sinal representa um comentário, ou seja, indica para o Python que o que está na frente pode ser ignorado e não deve ser executado como código. Podemos usar comentários como cabeçalhos das nossas células de código, ou na frente de linhas para explicar o que a linha faz.\n",
    "\n",
    "É possível reatribuir variáveis. Nesse caso, a variável `a` deixará de ter o valor 1 e passará a ter o valor 2. Além disso, vamos criar uma nova variável, `b`:"
   ]
  },
  {
   "cell_type": "code",
   "execution_count": 2,
   "metadata": {},
   "outputs": [],
   "source": [
    "a = 2  # agora, a variável a não tem mais o valor 1, e sim, 2\n",
    "b = \"Uma frase entre aspas\""
   ]
  },
  {
   "cell_type": "markdown",
   "metadata": {},
   "source": [
    "### Tipos\n",
    "\n",
    "No Python, podemos trabalhar com dados de diversos tipos, e cada tipo possui propriedades diferentes. Alguns exemplos de tipos são:\n",
    "\n",
    "- `int`: números inteiros, como as variáveis a e b criadas anteriormente. Ex: `3`\n",
    "- `float`: números reais, ou seja, com casas decimais. Para criar um float, basta usar o ponto para separar os decimais. Ex: `3.5`\n",
    "- `str`: strings correspondem a texto, são representadas entre aspas. Ex: `\"python\"`\n",
    "- `list`: listas podem conter diversos valores, e a ordem dos valores é preservada. Listas são declaradas entre colchetes, e seus valores, separados por vírgulas. Ex: `[1, 2, 3]`\n",
    "- `dict`: dicionários contêm pares de chaves:valores. Originalmente, a ordem não é preservada, porém a partir do Python 3.8, dicionários preservam a ordem dos itens. São declarados entre chaves, as chaves e seus respectivos valores são separados por dois pontos, e os pares são separados por vírgulas. Por exemplo, um dicionário com nomes de pessoas e suas respectivas idades. Note que duas pessoas podem ter a mesma idade, porém, não é possível que uma pessoa tenha mais de uma idade (mais de uma entrada no dicionário). Em outras palavras, as chaves não se repetem em um dicionário: `{\"João\":23, \"Maria\":25, \"Pedro\":25, \"Carla\":31}`\n",
    "- `set`: sets são listas não-ordenadas e sem valores repetidos. São criados a partir de listas.\n",
    "\n",
    "**Importante**: esses nomes também não devem ser usados como nomes de variáveis.\n",
    "\n",
    "Para descobrir o **tipo** de um objeto em Python, usamos `type(objeto)`"
   ]
  },
  {
   "cell_type": "code",
   "execution_count": 3,
   "metadata": {},
   "outputs": [
    {
     "data": {
      "text/plain": [
       "int"
      ]
     },
     "execution_count": 3,
     "metadata": {},
     "output_type": "execute_result"
    }
   ],
   "source": [
    "# Vamos verificar o tipo da variável a declarada anteriormente:\n",
    "type(a)"
   ]
  },
  {
   "cell_type": "code",
   "execution_count": 4,
   "metadata": {},
   "outputs": [
    {
     "data": {
      "text/plain": [
       "float"
      ]
     },
     "execution_count": 4,
     "metadata": {},
     "output_type": "execute_result"
    }
   ],
   "source": [
    "# Um número declarado com um ponto é um float:\n",
    "type(6.2)"
   ]
  },
  {
   "cell_type": "code",
   "execution_count": 5,
   "metadata": {},
   "outputs": [
    {
     "data": {
      "text/plain": [
       "str"
      ]
     },
     "execution_count": 5,
     "metadata": {},
     "output_type": "execute_result"
    }
   ],
   "source": [
    "# A variável b possui texto, ou seja, é uma string:\n",
    "type(b)"
   ]
  },
  {
   "cell_type": "code",
   "execution_count": 6,
   "metadata": {},
   "outputs": [
    {
     "ename": "SyntaxError",
     "evalue": "invalid syntax (<ipython-input-6-2e444ac28871>, line 2)",
     "output_type": "error",
     "traceback": [
      "\u001b[1;36m  File \u001b[1;32m\"<ipython-input-6-2e444ac28871>\"\u001b[1;36m, line \u001b[1;32m2\u001b[0m\n\u001b[1;33m    b = Erro, string sem aspas\u001b[0m\n\u001b[1;37m                       ^\u001b[0m\n\u001b[1;31mSyntaxError\u001b[0m\u001b[1;31m:\u001b[0m invalid syntax\n"
     ]
    }
   ],
   "source": [
    "# Se tentarmos atribuir um texto sem aspas, um erro ocorrerá\n",
    "b = Erro, string sem aspas"
   ]
  },
  {
   "cell_type": "code",
   "execution_count": 7,
   "metadata": {},
   "outputs": [
    {
     "data": {
      "text/plain": [
       "list"
      ]
     },
     "execution_count": 7,
     "metadata": {},
     "output_type": "execute_result"
    }
   ],
   "source": [
    "# Lista\n",
    "l = [1, 2, 3]\n",
    "type(l)"
   ]
  },
  {
   "cell_type": "code",
   "execution_count": 8,
   "metadata": {},
   "outputs": [
    {
     "data": {
      "text/plain": [
       "dict"
      ]
     },
     "execution_count": 8,
     "metadata": {},
     "output_type": "execute_result"
    }
   ],
   "source": [
    "# Dicionário\n",
    "d = {\"João\":23, \"Maria\":25, \"Pedro\":25, \"Carla\":31}\n",
    "type(d)"
   ]
  },
  {
   "cell_type": "code",
   "execution_count": 9,
   "metadata": {},
   "outputs": [
    {
     "data": {
      "text/plain": [
       "set"
      ]
     },
     "execution_count": 9,
     "metadata": {},
     "output_type": "execute_result"
    }
   ],
   "source": [
    "# Set\n",
    "s = set([1, 2, 3])  # Veja que o set é criado a partir de uma lista\n",
    "type(s)"
   ]
  },
  {
   "cell_type": "markdown",
   "metadata": {},
   "source": [
    "Variáveis diferentes responderão a operações de formas diferentes. <br> \n",
    "Veja o que acontece quando aplicamos a operação representada pelo sinal `+` em diferentes tipos:"
   ]
  },
  {
   "cell_type": "code",
   "execution_count": 10,
   "metadata": {},
   "outputs": [
    {
     "name": "stdout",
     "output_type": "stream",
     "text": [
      "a = 2 Tipo:  <class 'int'>\n",
      "b = 3.13 Tipo:  <class 'float'>\n",
      "c = Isso é uma stringIsso também Tipo:  <class 'str'>\n"
     ]
    }
   ],
   "source": [
    "a = 1 + 1  # soma de inteiros\n",
    "b = 1.5 + 1.63  # soma de floats\n",
    "c = \"Isso é uma string\" + \"Isso também\"  # concatenação de strings\n",
    "\n",
    "print('a =', a, 'Tipo: ', type(a))  # no próximo notebook veremos mais sobre a função print()\n",
    "print('b =', b, 'Tipo: ', type(b))\n",
    "print('c =', c, 'Tipo: ', type(c))"
   ]
  },
  {
   "cell_type": "markdown",
   "metadata": {},
   "source": [
    "Se tentarmos aplicar a operação `+` em objetos de tipos diferentes, duas coisas podem acontecer:\n",
    "- Conversão explícita: por exemplo, o Python reconhece que ints e floats são números. Assim, se tentarmos somar um int com um float, o Python converterá o string a float implicitamente (ou seja, não é necessário que você faça isso), e o valor resultante será um float.\n",
    "- Erro: se tentarmos somar uma string com um número, um erro aparecerá na tela. Isso porque o Python não foi programado para realizar a conversão implícita de número para string. Se quisermos concatenar um número com uma string, devemos convertê-lo diretamente."
   ]
  },
  {
   "cell_type": "code",
   "execution_count": 11,
   "metadata": {},
   "outputs": [
    {
     "name": "stdout",
     "output_type": "stream",
     "text": [
      "a = 5.5 Tipo:  <class 'float'>\n"
     ]
    }
   ],
   "source": [
    "# Soma de números\n",
    "a = 2 + 3.5  # int + float\n",
    "print('a =', a, 'Tipo: ', type(a))"
   ]
  },
  {
   "cell_type": "code",
   "execution_count": 12,
   "metadata": {},
   "outputs": [
    {
     "ename": "TypeError",
     "evalue": "unsupported operand type(s) for +: 'int' and 'str'",
     "output_type": "error",
     "traceback": [
      "\u001b[1;31m---------------------------------------------------------------------------\u001b[0m",
      "\u001b[1;31mTypeError\u001b[0m                                 Traceback (most recent call last)",
      "\u001b[1;32m<ipython-input-12-03b755a12a43>\u001b[0m in \u001b[0;36m<module>\u001b[1;34m()\u001b[0m\n\u001b[0;32m      1\u001b[0m \u001b[1;31m# Tentar somar uma string com um número gera um erro\u001b[0m\u001b[1;33m\u001b[0m\u001b[1;33m\u001b[0m\u001b[1;33m\u001b[0m\u001b[0m\n\u001b[1;32m----> 2\u001b[1;33m \u001b[0mb\u001b[0m \u001b[1;33m=\u001b[0m \u001b[1;36m2\u001b[0m \u001b[1;33m+\u001b[0m \u001b[1;34m\"3.5\"\u001b[0m  \u001b[1;31m# int + str\u001b[0m\u001b[1;33m\u001b[0m\u001b[1;33m\u001b[0m\u001b[0m\n\u001b[0m",
      "\u001b[1;31mTypeError\u001b[0m: unsupported operand type(s) for +: 'int' and 'str'"
     ]
    }
   ],
   "source": [
    "# Tentar somar uma string com um número gera um erro\n",
    "b = 2 + \"3.5\"  # int + str"
   ]
  },
  {
   "cell_type": "code",
   "execution_count": 13,
   "metadata": {},
   "outputs": [
    {
     "name": "stdout",
     "output_type": "stream",
     "text": [
      "b = 5.5 Tipo:  <class 'float'>\n",
      "c = 23.5 Tipo:  <class 'str'>\n"
     ]
    }
   ],
   "source": [
    "# Podemos converter a string a número, ou o número a string. Os resultados serão diferentes\n",
    "b = 2 + float(\"3.5\")  # convertemos a string \"3.5\" a float usando a função float()\n",
    "print('b =', b, 'Tipo: ', type(b))\n",
    "\n",
    "c = str(2) + \"3.5\"  # convertemos o número 2 a string usando a função str(), e as strings são concatenadas\n",
    "print('c =', c, 'Tipo: ', type(c))"
   ]
  },
  {
   "cell_type": "markdown",
   "metadata": {},
   "source": [
    "### Aritmética - trabalhando com números\n",
    "\n",
    "[Números](https://docs.python.org/pt-br/3/tutorial/introduction.html#numbers)\n",
    "\n",
    "Aproveitando a discussão do sinal `+`, é importante conhecer as operações disponíveis no Python:\n",
    "\n",
    "| Operação | Exemplo |\n",
    "|---------|---|\n",
    "| Adição | 1 + 1 |\n",
    "| Subtração | 6 - 1 |\n",
    "| Multiplicação | 3 \\* 5 |\n",
    "| Divisão | 6 / 2 |\n",
    "| Divisão exata | 5 // 2 |\n",
    "| Módulo | 5 % 2 |\n",
    "| Exponenciação | 2\\*\\*2 |\n",
    "\n",
    "Vale comentar que a divisão retorna sempre um float, enquanto a divisão exata retorna a parte inteira da divisão. Já a operação módulo retorna a parte restante da divisão. Portanto: 5/2 retorna 2.5; 5//2 retorna 2; 5%2 retorna 1.\n",
    "\n",
    "Outras operações estão disponíveis no módulo `math`, como veremos futuramente."
   ]
  },
  {
   "cell_type": "markdown",
   "metadata": {},
   "source": [
    "### Funções\n",
    "\n",
    "Vimos anteriormente algumas funções sendo utilizadas (print(), float(), str()). Pense em uma função como um conjunto de código que recebe um input, realiza alguma operação, e retorna um output. O Python possui diversas funções embutidas (built-in). Alguns exemplos serão apresentados no próximo notebook, mas a documentação contendo todas elas pode ser acessada no link a seguir:\n",
    "\n",
    "[Documentação: funções embutidas](https://docs.python.org/pt-br/3/library/functions.html)\n"
   ]
  },
  {
   "cell_type": "markdown",
   "metadata": {},
   "source": [
    "### Fechando um Jupyter Notebook\n",
    "\n",
    "Ao abrir um notebook, um **Kernel** é inicializado. De forma simplificada, um pouco de memória será alocada para a execução dos códigos. Ao terminar de usar um notebook, salve o trabalho (se estiver usando o Jupyter Lab, é só clicar no símbolo de salvar na barra superior ou usar o atalho `Ctrl+S`). Em seguida, você pode simplesmente fechar a tab com o notebook clicando no X no lado direito da tab, ou com o atalho `Alt+W`. Porém, isso não encerrará o kernel. Para encerrar o kernel e, assim, liberar memória, use o atalho `Ctrl+Shift+Q` ao fechar o notebook.\n",
    "\n",
    "À esquerda, é possível selecionar a opção 'Running Terminals and Kernels' e visualizar os kernels abertos. Também é possível encerrar os kernels por lá (Shut Down), porém, certifique-se de ter salvo seu trabalho e de que não há código importante rodando naquele kernel."
   ]
  },
  {
   "cell_type": "code",
   "execution_count": null,
   "metadata": {},
   "outputs": [],
   "source": []
  }
 ],
 "metadata": {
  "kernelspec": {
   "display_name": "Python 3",
   "language": "python",
   "name": "python3"
  },
  "language_info": {
   "codemirror_mode": {
    "name": "ipython",
    "version": 3
   },
   "file_extension": ".py",
   "mimetype": "text/x-python",
   "name": "python",
   "nbconvert_exporter": "python",
   "pygments_lexer": "ipython3",
   "version": "3.7.7"
  }
 },
 "nbformat": 4,
 "nbformat_minor": 4
}
