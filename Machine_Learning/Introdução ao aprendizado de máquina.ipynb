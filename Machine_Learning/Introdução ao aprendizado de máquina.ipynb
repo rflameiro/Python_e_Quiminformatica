{
 "cells": [
  {
   "cell_type": "markdown",
   "metadata": {},
   "source": [
    "## Aprendizado de máquina (*Machine Learning*)\n",
    "\n",
    "De forma simples, o aprendizado de máquina consiste em obter **dados** e detectar **padrões** nesses dados\n",
    "\n",
    "Assim, podemos utilizar esses padrões para **agrupar** conjuntos de dados similares ou criar um **modelo** que consiga **prever** um resultado (nosso **objetivo**) com base em novos dados. \n",
    "\n",
    "Vemos que a definição de vários conceitos é necessária. Podemos detalhar melhor cada uma dessas etapas com um exemplo. Como discutimos em outros Notebooks sobre quiminformática (uso de métodos computacionais para resolver problemas em química), podemos usar como exemplo o seguinte problema: \n",
    "\n",
    "**Problema: Desejamos criar um modelo que nos permita prever se um composto químico será solúvel em água.**\n",
    "\n",
    "Esse é um problema relevante para diversas áreas da química. Imagine que um pesquisador esteja buscando desenvolver um fármaco para ser tomado por via oral. Seria excelente se ele pudesse, por exemplo, prever a solubilidade de um composto antes de sintetizá-lo, pois compostos devem apresentar solubilidade em água razoável para serem administrados por via oral.\n",
    "\n",
    "Como poderíamos prosseguir para criar esse modelo?\n",
    "\n",
    "Uma forma de resolver esse problema seria observar a solubilidade de diferentes compostos e tentar desenvolver uma **teoria** geral, baseada nas propriedades fundamentais das substâncias químicas, que descrevesse, através de uma função matemática, o valor da solubilidade da substância. Pode parecer exagerado, mas somos capazes de realizar isso para diversas propriedades, como cálculo de energia de orbitais atômicos e moleculares (ainda que de forma aproximada, e não exata).\n",
    "\n",
    "Todavia, uma teoria geral para a solubilidade de compostos químicos (ainda) está além do nosso alcance, pois existem muitos fatores envolvidos. O que fazer nesse caso? Conforme descrito anteriormente, podemos tentar a abordagem do aprendizado de máquina. Para isso, devemos começar coletando um número grande de dados (em geral, quanto mais, melhor). \n",
    "\n",
    "O que são os dados? Dados consistem em diversos exemplos daquilo que estamos tentando prever. No nosso caso, os dados seriam o valor numérico da solubilidade de compostos químicos, e suas estruturas químicas. \n",
    "\n",
    "Como obter dados? Os dados precisam ser gerados, porém, uma vez gerados, podem ser armazenados em **bancos de dados**. Dessa forma, em vez de medir a solubilidade de diversos compostos químicos, podemos simplesmente acessar um banco de dados contendo essa informação. Um banco de dados pode ser algo tão simples quanto uma tabela contendo, em uma coluna, o nome (ou a estrutura química) de uma substância, e o valor numérico de sua solubilidade em água (por exemplo: 1,2 mg/L) em outra coluna. [Este link](https://www.kaggle.com/c/drug-solubility-challenge/data) contém um exemplo de um banco de dados público com valores de solubilidade de compostos químicos. O banco de dados pode ser baixado, e parte dele é mostrada a seguir:\n"
   ]
  },
  {
   "cell_type": "code",
   "execution_count": 1,
   "metadata": {},
   "outputs": [
    {
     "data": {
      "text/html": [
       "<div>\n",
       "<style scoped>\n",
       "    .dataframe tbody tr th:only-of-type {\n",
       "        vertical-align: middle;\n",
       "    }\n",
       "\n",
       "    .dataframe tbody tr th {\n",
       "        vertical-align: top;\n",
       "    }\n",
       "\n",
       "    .dataframe thead th {\n",
       "        text-align: right;\n",
       "    }\n",
       "</style>\n",
       "<table border=\"1\" class=\"dataframe\">\n",
       "  <thead>\n",
       "    <tr style=\"text-align: right;\">\n",
       "      <th></th>\n",
       "      <th>Compound ID</th>\n",
       "      <th>measured log solubility in mols per litre</th>\n",
       "    </tr>\n",
       "  </thead>\n",
       "  <tbody>\n",
       "    <tr>\n",
       "      <th>0</th>\n",
       "      <td>Amigdalin</td>\n",
       "      <td>-0.77</td>\n",
       "    </tr>\n",
       "    <tr>\n",
       "      <th>1</th>\n",
       "      <td>Fenfuram</td>\n",
       "      <td>-3.30</td>\n",
       "    </tr>\n",
       "    <tr>\n",
       "      <th>2</th>\n",
       "      <td>citral</td>\n",
       "      <td>-2.06</td>\n",
       "    </tr>\n",
       "    <tr>\n",
       "      <th>3</th>\n",
       "      <td>Picene</td>\n",
       "      <td>-7.87</td>\n",
       "    </tr>\n",
       "    <tr>\n",
       "      <th>4</th>\n",
       "      <td>Thiophene</td>\n",
       "      <td>-1.33</td>\n",
       "    </tr>\n",
       "  </tbody>\n",
       "</table>\n",
       "</div>"
      ],
      "text/plain": [
       "  Compound ID  measured log solubility in mols per litre\n",
       "0   Amigdalin                                      -0.77\n",
       "1    Fenfuram                                      -3.30\n",
       "2      citral                                      -2.06\n",
       "3      Picene                                      -7.87\n",
       "4   Thiophene                                      -1.33"
      ]
     },
     "execution_count": 1,
     "metadata": {},
     "output_type": "execute_result"
    }
   ],
   "source": [
    "import pandas as pd\n",
    "\n",
    "df = pd.read_csv(\"../datasets/delaney-processed.csv\")\n",
    "\n",
    "df[['Compound ID', 'measured log solubility in mols per litre']].head()"
   ]
  },
  {
   "cell_type": "markdown",
   "metadata": {},
   "source": [
    "Aqui, duas colunas correspondentes aos cinco primeiros exemplos da tabela são mostradas. Veja que esse banco de dados contém, dentre outras colunas não mostradas, identificadores para as substâncias químicas ('Compound ID') e sua solubilidade em água (em mols por litro).\n",
    "\n",
    "Seria isso suficiente para gerarmos um modelo preditivo? A resposta é \"não\", pois, para prever uma propriedade, é necessário extrair informações de outras propriedades. Por exemplo, é impossível (de forma não-clarividente) prever se um time de futebol vai ganhar ou perder uma partida ou mesmo se vai chover amanhã. Porém, se utilizarmos o histórico das partidas dos dois times, ou medições climáticas (direção do vento, umidade, chegada de uma frente fria), podemos extrair informações e fazer predições com razoável precisão de tais eventos futuros. Da mesma forma, precisamos de propriedades que descrevam nossos dados de forma mais completa possível, e que nos permitam criar um modelo. A essas propriedades damos o nome de **descritores**.\n",
    "\n",
    "Como podemos descrever nossos dados? Precisamos de propriedades que carreguem informação relevante. Por exemplo, para prever se uma pessoa comprará fraldas ao ir ao mercado, um bom descritor seria: *essa pessoa tem filhos recém-nascidos?* e um péssimo descritor seria a cor dos sapatos da pessoa (isso não deve ter qualquer influência na compra de fraldas).\n",
    "\n",
    "Vemos que no banco de dados de solubilidade (agora mostrando todas as colunas), alguns descritores nos são fornecidos:\n"
   ]
  },
  {
   "cell_type": "code",
   "execution_count": 2,
   "metadata": {},
   "outputs": [
    {
     "data": {
      "text/html": [
       "<div>\n",
       "<style scoped>\n",
       "    .dataframe tbody tr th:only-of-type {\n",
       "        vertical-align: middle;\n",
       "    }\n",
       "\n",
       "    .dataframe tbody tr th {\n",
       "        vertical-align: top;\n",
       "    }\n",
       "\n",
       "    .dataframe thead th {\n",
       "        text-align: right;\n",
       "    }\n",
       "</style>\n",
       "<table border=\"1\" class=\"dataframe\">\n",
       "  <thead>\n",
       "    <tr style=\"text-align: right;\">\n",
       "      <th></th>\n",
       "      <th>Compound ID</th>\n",
       "      <th>ESOL predicted log solubility in mols per litre</th>\n",
       "      <th>Minimum Degree</th>\n",
       "      <th>Molecular Weight</th>\n",
       "      <th>Number of H-Bond Donors</th>\n",
       "      <th>Number of Rings</th>\n",
       "      <th>Number of Rotatable Bonds</th>\n",
       "      <th>Polar Surface Area</th>\n",
       "      <th>measured log solubility in mols per litre</th>\n",
       "      <th>smiles</th>\n",
       "    </tr>\n",
       "  </thead>\n",
       "  <tbody>\n",
       "    <tr>\n",
       "      <th>0</th>\n",
       "      <td>Amigdalin</td>\n",
       "      <td>-0.974</td>\n",
       "      <td>1</td>\n",
       "      <td>457.432</td>\n",
       "      <td>7</td>\n",
       "      <td>3</td>\n",
       "      <td>7</td>\n",
       "      <td>202.32</td>\n",
       "      <td>-0.77</td>\n",
       "      <td>OCC3OC(OCC2OC(OC(C#N)c1ccccc1)C(O)C(O)C2O)C(O)...</td>\n",
       "    </tr>\n",
       "    <tr>\n",
       "      <th>1</th>\n",
       "      <td>Fenfuram</td>\n",
       "      <td>-2.885</td>\n",
       "      <td>1</td>\n",
       "      <td>201.225</td>\n",
       "      <td>1</td>\n",
       "      <td>2</td>\n",
       "      <td>2</td>\n",
       "      <td>42.24</td>\n",
       "      <td>-3.30</td>\n",
       "      <td>Cc1occc1C(=O)Nc2ccccc2</td>\n",
       "    </tr>\n",
       "    <tr>\n",
       "      <th>2</th>\n",
       "      <td>citral</td>\n",
       "      <td>-2.579</td>\n",
       "      <td>1</td>\n",
       "      <td>152.237</td>\n",
       "      <td>0</td>\n",
       "      <td>0</td>\n",
       "      <td>4</td>\n",
       "      <td>17.07</td>\n",
       "      <td>-2.06</td>\n",
       "      <td>CC(C)=CCCC(C)=CC(=O)</td>\n",
       "    </tr>\n",
       "    <tr>\n",
       "      <th>3</th>\n",
       "      <td>Picene</td>\n",
       "      <td>-6.618</td>\n",
       "      <td>2</td>\n",
       "      <td>278.354</td>\n",
       "      <td>0</td>\n",
       "      <td>5</td>\n",
       "      <td>0</td>\n",
       "      <td>0.00</td>\n",
       "      <td>-7.87</td>\n",
       "      <td>c1ccc2c(c1)ccc3c2ccc4c5ccccc5ccc43</td>\n",
       "    </tr>\n",
       "    <tr>\n",
       "      <th>4</th>\n",
       "      <td>Thiophene</td>\n",
       "      <td>-2.232</td>\n",
       "      <td>2</td>\n",
       "      <td>84.143</td>\n",
       "      <td>0</td>\n",
       "      <td>1</td>\n",
       "      <td>0</td>\n",
       "      <td>0.00</td>\n",
       "      <td>-1.33</td>\n",
       "      <td>c1ccsc1</td>\n",
       "    </tr>\n",
       "  </tbody>\n",
       "</table>\n",
       "</div>"
      ],
      "text/plain": [
       "  Compound ID  ESOL predicted log solubility in mols per litre  \\\n",
       "0   Amigdalin                                           -0.974   \n",
       "1    Fenfuram                                           -2.885   \n",
       "2      citral                                           -2.579   \n",
       "3      Picene                                           -6.618   \n",
       "4   Thiophene                                           -2.232   \n",
       "\n",
       "   Minimum Degree  Molecular Weight  Number of H-Bond Donors  Number of Rings  \\\n",
       "0               1           457.432                        7                3   \n",
       "1               1           201.225                        1                2   \n",
       "2               1           152.237                        0                0   \n",
       "3               2           278.354                        0                5   \n",
       "4               2            84.143                        0                1   \n",
       "\n",
       "   Number of Rotatable Bonds  Polar Surface Area  \\\n",
       "0                          7              202.32   \n",
       "1                          2               42.24   \n",
       "2                          4               17.07   \n",
       "3                          0                0.00   \n",
       "4                          0                0.00   \n",
       "\n",
       "   measured log solubility in mols per litre  \\\n",
       "0                                      -0.77   \n",
       "1                                      -3.30   \n",
       "2                                      -2.06   \n",
       "3                                      -7.87   \n",
       "4                                      -1.33   \n",
       "\n",
       "                                              smiles  \n",
       "0  OCC3OC(OCC2OC(OC(C#N)c1ccccc1)C(O)C(O)C2O)C(O)...  \n",
       "1                             Cc1occc1C(=O)Nc2ccccc2  \n",
       "2                               CC(C)=CCCC(C)=CC(=O)  \n",
       "3                 c1ccc2c(c1)ccc3c2ccc4c5ccccc5ccc43  \n",
       "4                                            c1ccsc1  "
      ]
     },
     "execution_count": 2,
     "metadata": {},
     "output_type": "execute_result"
    }
   ],
   "source": [
    "df.head()"
   ]
  },
  {
   "cell_type": "code",
   "execution_count": 3,
   "metadata": {},
   "outputs": [
    {
     "data": {
      "text/plain": [
       "Index(['Compound ID', 'ESOL predicted log solubility in mols per litre',\n",
       "       'Minimum Degree', 'Molecular Weight', 'Number of H-Bond Donors',\n",
       "       'Number of Rings', 'Number of Rotatable Bonds', 'Polar Surface Area',\n",
       "       'measured log solubility in mols per litre', 'smiles'],\n",
       "      dtype='object')"
      ]
     },
     "execution_count": 3,
     "metadata": {},
     "output_type": "execute_result"
    }
   ],
   "source": [
    "df.columns"
   ]
  },
  {
   "cell_type": "markdown",
   "metadata": {},
   "source": [
    "Vejamos o significado dessas colunas:\n",
    "- 'Compound ID': identificador da molécula\n",
    "- 'ESOL predicted log solubility in mols per litre': valor de solubilidade predito pelo modelo ESOL\n",
    "- 'Minimum Degree': não conheço esse descritor, mas parece estar relacionado à saturação da molécula\n",
    "- 'Molecular Weight': peso molecular, ou massa molecular relativa. Essa é uma propriedade molecular muito usado em química\n",
    "- 'Number of H-Bond Donors': número de átomos doadores de ligação de hidrogênio (no caso, N e O)\n",
    "- 'Number of Rings': número de anéis (sistemas cíclicos)\n",
    "- 'Number of Rotatable Bonds': número de ligações rotacionáveis (ou seja, ligações simples com livre rotação)\n",
    "- 'Polar Surface Area': área polar superficial\n",
    "- 'measured log solubility in mols per litre': solubilidade medida\n",
    "- 'smiles': SMILES, uma forma de representação molecular muito usada em quiminformática\n"
   ]
  },
  {
   "cell_type": "markdown",
   "metadata": {},
   "source": [
    "Que valores poderíamos utilizar para treinar nosso modelo de aprendizado de máquina?\n",
    "\n",
    "Lembre-se de que para treinar um modelo precisamos ter um alvo bem definido (o que queremos prever) e dados que contêm informação que podem ser utilizadas para prever o alvo (descritores). Para facilitar, podemos chamar a variável alvo de `y` e os descritores como `X`.\n",
    "\n",
    "Com esse conjunto de dados poderíamos, por exemplo, utilizar os valores de peso molecular, número de átomos doadores de ligação de hidrogênio, número de anéis, número de ligações rotacionáveis e área polar superficial para treinar nosso modelo.\n",
    "\n",
    "Não seria possível usar a coluna 'Compound ID', pois um modelo não saberia como extrair informação do nome de um composto.\n",
    "\n",
    "A coluna 'smiles' é mais interessante: ela também contém texto, mas cada SMILES representa a estrutura molecular de um composto químico. A partir dos SMILES, podemos gerar todos os descritores apresentados, e muitos outros. Existem até modelos mais avançados que aceitam SMILES como entrada (a arquitetura do modelo é capaz de extrair a informação estrutural diretamente do texto do SMILES). Mas, para os fins desse Notebook, vamos nos restringir aos descritores apresentados."
   ]
  },
  {
   "cell_type": "markdown",
   "metadata": {},
   "source": [
    "## Como treinar seu modelo?\n",
    "\n",
    "Vamos começar definindo nosso descritores e nosso alvo, selecionando as colunas apropriadas (veja o Notebook sobre o módulo Pandas caso não entenda o código a seguir):"
   ]
  },
  {
   "cell_type": "code",
   "execution_count": 4,
   "metadata": {},
   "outputs": [],
   "source": [
    "import pandas as pd\n",
    "X = df[['Molecular Weight', 'Number of H-Bond Donors',\n",
    "       'Number of Rings', 'Number of Rotatable Bonds', \n",
    "       'Polar Surface Area']]\n",
    "y = df['measured log solubility in mols per litre'].ravel()"
   ]
  },
  {
   "cell_type": "markdown",
   "metadata": {},
   "source": [
    "Agora, treinar um modelo é simples:"
   ]
  },
  {
   "cell_type": "code",
   "execution_count": 5,
   "metadata": {},
   "outputs": [],
   "source": [
    "from sklearn.ensemble import RandomForestRegressor\n",
    "\n",
    "modelo = RandomForestRegressor().fit(X, y)"
   ]
  },
  {
   "cell_type": "markdown",
   "metadata": {},
   "source": [
    "E pronto! A variável `modelo` contém nosso primeiro modelo de aprendizado de máquina.\n",
    "\n",
    "Muitas coisas aconteceram nessas poucas linhas de código:\n",
    "\n",
    "- importamos o algoritmo que treina um modelo do tipo *Random Forest Regressor* (algoritmo = *Random forest*, tipo do problema = regressão) da biblioteca *scikit-learn*\n",
    "- passamos os valores dos descritores (X) e do alvo (y) ao algoritmo\n",
    "- diversos modelos do tipo \"árvores de decisão\" foram treinados em diferentes subconjuntos de X e y (é assim que o *Random Forest* cria o modelo. Não vou entrar em detalhes, mas uma excelente fonte para começar a entender esses modelos são: o canal do YouTube [Statquest](https://www.youtube.com/watch?v=J4Wdy0Wc_xQ) e o livro [An Introduction to Statistical Learning](https://www.statlearning.com/))\n",
    "\n",
    "Podemos usar nosso modelo, contido na variável `modelo`, para prever a solubilidade de qualquer composto (com base nos cinco descritores utilizados). Como exemplo, vamos ver qual valor o modelo prevê para o primeiro composto da tabela:"
   ]
  },
  {
   "cell_type": "code",
   "execution_count": 6,
   "metadata": {},
   "outputs": [
    {
     "name": "stdout",
     "output_type": "stream",
     "text": [
      "Valor predito pelo modelo = [-1.15719]\n",
      "Valor real = -0.77\n"
     ]
    }
   ],
   "source": [
    "y_pred = modelo.predict(pd.DataFrame(X.loc[0]).T)\n",
    "\n",
    "print(\"Valor predito pelo modelo =\", y_pred)\n",
    "print(\"Valor real =\"               , y[0])"
   ]
  },
  {
   "cell_type": "markdown",
   "metadata": {},
   "source": [
    "Essa foi uma predição boa? Como é o desempenho do modelo para outras amostras? Para responder a essas questões, será necessário utilizar conceitos como **métricas de qualidade**. Mas isso é material para outros Notebooks..."
   ]
  },
  {
   "cell_type": "markdown",
   "metadata": {},
   "source": [
    "Conforme for avançando nos estudos, perceberá que cometi diversos erros/imprecisões nesse tutorial. Por exemplo:\n",
    "- não separei um conjunto de treinamento e um de teste\n",
    "- usei poucos descritores\n",
    "- avaliei a resposta do modelo em uma amostra usada para treinar o modelo\n",
    "- não normalizei os dados (será que isso é um erro mesmo?)\n",
    "\n",
    "Tente entender por que (ou em que contextos) esse tipo de escolha pode prejudicar os modelos de aprendizado de máquina."
   ]
  },
  {
   "cell_type": "markdown",
   "metadata": {},
   "source": [
    "Como comentário extra, note que o aprendizado de máquina difere do desenvolvimento de *software* tradicional, pois não escrevemos diretamente as linhas de comando que determinarão a saída do modelo. Por exemplo, se fôssemos usar nosso conhecimento de química para escrever um modelo preditivo de solubilidade, poderíamos pensar em algo assim:\n",
    "\n",
    "```\n",
    "Comece com um valor-base de solubilidade igual a 100 mg por litro.\n",
    "\n",
    "     - Se a massa molecular for menor que 300: aumente o valor de solubilidade em 20 unidades\n",
    "     - Se a massa molecular estiver entre 300 e 500: aumente o valor de solubilidade em 10 unidades\n",
    "     - Se a massa molecular estiver entre 500 e 700: diminua o valor de solubilidade em 10 unidades\n",
    "     - Se a massa molecular for maior que 700: diminua o valor de solubilidade em 20 unidades\n",
    "\n",
    "\n",
    "```\n",
    "\n",
    "E assim por diante, para cada propriedade.\n",
    "\n",
    "Todavia, usando aprendizado de máquina, deixamos que \"os dados falem por si só\", ou seja, o algoritmo tentará várias possibilidades até encontrar a melhor descrição para nosso problema.\n"
   ]
  },
  {
   "cell_type": "markdown",
   "metadata": {},
   "source": [
    "### Conclusão\n",
    "\n",
    "Para fechar, reveja os conceitos apresentados e compare-os com o exemplo mostrado. Tente identificar o que são:\n",
    "- Dados\n",
    "- Descritores\n",
    "- Variável Alvo\n",
    "- Algoritmo\n",
    "- Modelo\n",
    "- Predição\n"
   ]
  },
  {
   "cell_type": "code",
   "execution_count": null,
   "metadata": {},
   "outputs": [],
   "source": []
  }
 ],
 "metadata": {
  "kernelspec": {
   "display_name": "Python 3 (ipykernel)",
   "language": "python",
   "name": "python3"
  },
  "language_info": {
   "codemirror_mode": {
    "name": "ipython",
    "version": 3
   },
   "file_extension": ".py",
   "mimetype": "text/x-python",
   "name": "python",
   "nbconvert_exporter": "python",
   "pygments_lexer": "ipython3",
   "version": "3.10.4"
  }
 },
 "nbformat": 4,
 "nbformat_minor": 4
}
