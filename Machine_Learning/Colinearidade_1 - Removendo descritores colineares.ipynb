{
 "cells": [
  {
   "cell_type": "markdown",
   "metadata": {},
   "source": [
    "# Colinearidade\n",
    "\n",
    "O RDKit nos permite calcular 200 descritores 2D para descrever estruturas químicas. Alguns pacotes permitem o cálculo de ainda mais descritores. Dessa forma, é natural que alguns pares desses descritores sejam colineares. Isso quer dizer que, se fizermos um gráfico com os valores de um descritor no eixo x e de outro no eixo y, obteremos uma reta.\n",
    "\n",
    "Como exemplo, vamos usar o banco de dados de Delaney e verificar a relação entre os descritores `MolWt` e `ExactMolWt` do RDKit, que correspondem à massa molecular relativa e massa molecular relativa exata, respectivamente."
   ]
  },
  {
   "cell_type": "code",
   "execution_count": 1,
   "metadata": {},
   "outputs": [],
   "source": [
    "import pandas as pd\n",
    "import matplotlib.pyplot as plt\n",
    "from sklearn.metrics import r2_score"
   ]
  },
  {
   "cell_type": "code",
   "execution_count": 2,
   "metadata": {},
   "outputs": [
    {
     "data": {
      "text/html": [
       "<div>\n",
       "<style scoped>\n",
       "    .dataframe tbody tr th:only-of-type {\n",
       "        vertical-align: middle;\n",
       "    }\n",
       "\n",
       "    .dataframe tbody tr th {\n",
       "        vertical-align: top;\n",
       "    }\n",
       "\n",
       "    .dataframe thead th {\n",
       "        text-align: right;\n",
       "    }\n",
       "</style>\n",
       "<table border=\"1\" class=\"dataframe\">\n",
       "  <thead>\n",
       "    <tr style=\"text-align: right;\">\n",
       "      <th></th>\n",
       "      <th>MaxEStateIndex</th>\n",
       "      <th>MinEStateIndex</th>\n",
       "      <th>MaxAbsEStateIndex</th>\n",
       "      <th>MinAbsEStateIndex</th>\n",
       "      <th>qed</th>\n",
       "      <th>MolWt</th>\n",
       "      <th>HeavyAtomMolWt</th>\n",
       "      <th>ExactMolWt</th>\n",
       "      <th>NumValenceElectrons</th>\n",
       "      <th>NumRadicalElectrons</th>\n",
       "      <th>...</th>\n",
       "      <th>fr_sulfonamd</th>\n",
       "      <th>fr_sulfone</th>\n",
       "      <th>fr_term_acetylene</th>\n",
       "      <th>fr_tetrazole</th>\n",
       "      <th>fr_thiazole</th>\n",
       "      <th>fr_thiocyan</th>\n",
       "      <th>fr_thiophene</th>\n",
       "      <th>fr_unbrch_alkane</th>\n",
       "      <th>fr_urea</th>\n",
       "      <th>Solubilidade_medida</th>\n",
       "    </tr>\n",
       "  </thead>\n",
       "  <tbody>\n",
       "    <tr>\n",
       "      <th>0</th>\n",
       "      <td>10.253329</td>\n",
       "      <td>-1.701605</td>\n",
       "      <td>10.253329</td>\n",
       "      <td>0.486602</td>\n",
       "      <td>0.217518</td>\n",
       "      <td>457.432</td>\n",
       "      <td>430.216</td>\n",
       "      <td>457.158411</td>\n",
       "      <td>178</td>\n",
       "      <td>0</td>\n",
       "      <td>...</td>\n",
       "      <td>0</td>\n",
       "      <td>0</td>\n",
       "      <td>0</td>\n",
       "      <td>0</td>\n",
       "      <td>0</td>\n",
       "      <td>0</td>\n",
       "      <td>0</td>\n",
       "      <td>0</td>\n",
       "      <td>0</td>\n",
       "      <td>-0.77</td>\n",
       "    </tr>\n",
       "    <tr>\n",
       "      <th>1</th>\n",
       "      <td>11.724911</td>\n",
       "      <td>-0.145880</td>\n",
       "      <td>11.724911</td>\n",
       "      <td>0.145880</td>\n",
       "      <td>0.811283</td>\n",
       "      <td>201.225</td>\n",
       "      <td>190.137</td>\n",
       "      <td>201.078979</td>\n",
       "      <td>76</td>\n",
       "      <td>0</td>\n",
       "      <td>...</td>\n",
       "      <td>0</td>\n",
       "      <td>0</td>\n",
       "      <td>0</td>\n",
       "      <td>0</td>\n",
       "      <td>0</td>\n",
       "      <td>0</td>\n",
       "      <td>0</td>\n",
       "      <td>0</td>\n",
       "      <td>0</td>\n",
       "      <td>-3.30</td>\n",
       "    </tr>\n",
       "    <tr>\n",
       "      <th>2</th>\n",
       "      <td>10.020498</td>\n",
       "      <td>0.845090</td>\n",
       "      <td>10.020498</td>\n",
       "      <td>0.845090</td>\n",
       "      <td>0.343706</td>\n",
       "      <td>152.237</td>\n",
       "      <td>136.109</td>\n",
       "      <td>152.120115</td>\n",
       "      <td>62</td>\n",
       "      <td>0</td>\n",
       "      <td>...</td>\n",
       "      <td>0</td>\n",
       "      <td>0</td>\n",
       "      <td>0</td>\n",
       "      <td>0</td>\n",
       "      <td>0</td>\n",
       "      <td>0</td>\n",
       "      <td>0</td>\n",
       "      <td>0</td>\n",
       "      <td>0</td>\n",
       "      <td>-2.06</td>\n",
       "    </tr>\n",
       "    <tr>\n",
       "      <th>3</th>\n",
       "      <td>2.270278</td>\n",
       "      <td>1.301055</td>\n",
       "      <td>2.270278</td>\n",
       "      <td>1.301055</td>\n",
       "      <td>0.291526</td>\n",
       "      <td>278.354</td>\n",
       "      <td>264.242</td>\n",
       "      <td>278.109550</td>\n",
       "      <td>102</td>\n",
       "      <td>0</td>\n",
       "      <td>...</td>\n",
       "      <td>0</td>\n",
       "      <td>0</td>\n",
       "      <td>0</td>\n",
       "      <td>0</td>\n",
       "      <td>0</td>\n",
       "      <td>0</td>\n",
       "      <td>0</td>\n",
       "      <td>0</td>\n",
       "      <td>0</td>\n",
       "      <td>-7.87</td>\n",
       "    </tr>\n",
       "    <tr>\n",
       "      <th>4</th>\n",
       "      <td>2.041667</td>\n",
       "      <td>1.712963</td>\n",
       "      <td>2.041667</td>\n",
       "      <td>1.712963</td>\n",
       "      <td>0.448927</td>\n",
       "      <td>84.143</td>\n",
       "      <td>80.111</td>\n",
       "      <td>84.003371</td>\n",
       "      <td>26</td>\n",
       "      <td>0</td>\n",
       "      <td>...</td>\n",
       "      <td>0</td>\n",
       "      <td>0</td>\n",
       "      <td>0</td>\n",
       "      <td>0</td>\n",
       "      <td>0</td>\n",
       "      <td>0</td>\n",
       "      <td>1</td>\n",
       "      <td>0</td>\n",
       "      <td>0</td>\n",
       "      <td>-1.33</td>\n",
       "    </tr>\n",
       "  </tbody>\n",
       "</table>\n",
       "<p>5 rows × 201 columns</p>\n",
       "</div>"
      ],
      "text/plain": [
       "   MaxEStateIndex  MinEStateIndex  MaxAbsEStateIndex  MinAbsEStateIndex  \\\n",
       "0       10.253329       -1.701605          10.253329           0.486602   \n",
       "1       11.724911       -0.145880          11.724911           0.145880   \n",
       "2       10.020498        0.845090          10.020498           0.845090   \n",
       "3        2.270278        1.301055           2.270278           1.301055   \n",
       "4        2.041667        1.712963           2.041667           1.712963   \n",
       "\n",
       "        qed    MolWt  HeavyAtomMolWt  ExactMolWt  NumValenceElectrons  \\\n",
       "0  0.217518  457.432         430.216  457.158411                  178   \n",
       "1  0.811283  201.225         190.137  201.078979                   76   \n",
       "2  0.343706  152.237         136.109  152.120115                   62   \n",
       "3  0.291526  278.354         264.242  278.109550                  102   \n",
       "4  0.448927   84.143          80.111   84.003371                   26   \n",
       "\n",
       "   NumRadicalElectrons  ...  fr_sulfonamd  fr_sulfone  fr_term_acetylene  \\\n",
       "0                    0  ...             0           0                  0   \n",
       "1                    0  ...             0           0                  0   \n",
       "2                    0  ...             0           0                  0   \n",
       "3                    0  ...             0           0                  0   \n",
       "4                    0  ...             0           0                  0   \n",
       "\n",
       "   fr_tetrazole  fr_thiazole  fr_thiocyan  fr_thiophene  fr_unbrch_alkane  \\\n",
       "0             0            0            0             0                 0   \n",
       "1             0            0            0             0                 0   \n",
       "2             0            0            0             0                 0   \n",
       "3             0            0            0             0                 0   \n",
       "4             0            0            0             1                 0   \n",
       "\n",
       "   fr_urea  Solubilidade_medida  \n",
       "0        0                -0.77  \n",
       "1        0                -3.30  \n",
       "2        0                -2.06  \n",
       "3        0                -7.87  \n",
       "4        0                -1.33  \n",
       "\n",
       "[5 rows x 201 columns]"
      ]
     },
     "execution_count": 2,
     "metadata": {},
     "output_type": "execute_result"
    }
   ],
   "source": [
    "df = pd.read_csv(\"Delaney_descriptors.csv\", sep=\";\")\n",
    "df.head()"
   ]
  },
  {
   "cell_type": "code",
   "execution_count": 3,
   "metadata": {},
   "outputs": [
    {
     "data": {
      "text/html": [
       "<div>\n",
       "<style scoped>\n",
       "    .dataframe tbody tr th:only-of-type {\n",
       "        vertical-align: middle;\n",
       "    }\n",
       "\n",
       "    .dataframe tbody tr th {\n",
       "        vertical-align: top;\n",
       "    }\n",
       "\n",
       "    .dataframe thead th {\n",
       "        text-align: right;\n",
       "    }\n",
       "</style>\n",
       "<table border=\"1\" class=\"dataframe\">\n",
       "  <thead>\n",
       "    <tr style=\"text-align: right;\">\n",
       "      <th></th>\n",
       "      <th>MolWt</th>\n",
       "      <th>ExactMolWt</th>\n",
       "    </tr>\n",
       "  </thead>\n",
       "  <tbody>\n",
       "    <tr>\n",
       "      <th>0</th>\n",
       "      <td>457.432</td>\n",
       "      <td>457.158411</td>\n",
       "    </tr>\n",
       "    <tr>\n",
       "      <th>1</th>\n",
       "      <td>201.225</td>\n",
       "      <td>201.078979</td>\n",
       "    </tr>\n",
       "    <tr>\n",
       "      <th>2</th>\n",
       "      <td>152.237</td>\n",
       "      <td>152.120115</td>\n",
       "    </tr>\n",
       "    <tr>\n",
       "      <th>3</th>\n",
       "      <td>278.354</td>\n",
       "      <td>278.109550</td>\n",
       "    </tr>\n",
       "    <tr>\n",
       "      <th>4</th>\n",
       "      <td>84.143</td>\n",
       "      <td>84.003371</td>\n",
       "    </tr>\n",
       "    <tr>\n",
       "      <th>...</th>\n",
       "      <td>...</td>\n",
       "      <td>...</td>\n",
       "    </tr>\n",
       "    <tr>\n",
       "      <th>1123</th>\n",
       "      <td>197.381</td>\n",
       "      <td>195.890224</td>\n",
       "    </tr>\n",
       "    <tr>\n",
       "      <th>1124</th>\n",
       "      <td>219.266</td>\n",
       "      <td>219.067762</td>\n",
       "    </tr>\n",
       "    <tr>\n",
       "      <th>1125</th>\n",
       "      <td>246.359</td>\n",
       "      <td>245.997179</td>\n",
       "    </tr>\n",
       "    <tr>\n",
       "      <th>1126</th>\n",
       "      <td>72.151</td>\n",
       "      <td>72.093900</td>\n",
       "    </tr>\n",
       "    <tr>\n",
       "      <th>1127</th>\n",
       "      <td>365.964</td>\n",
       "      <td>363.899256</td>\n",
       "    </tr>\n",
       "  </tbody>\n",
       "</table>\n",
       "<p>1128 rows × 2 columns</p>\n",
       "</div>"
      ],
      "text/plain": [
       "        MolWt  ExactMolWt\n",
       "0     457.432  457.158411\n",
       "1     201.225  201.078979\n",
       "2     152.237  152.120115\n",
       "3     278.354  278.109550\n",
       "4      84.143   84.003371\n",
       "...       ...         ...\n",
       "1123  197.381  195.890224\n",
       "1124  219.266  219.067762\n",
       "1125  246.359  245.997179\n",
       "1126   72.151   72.093900\n",
       "1127  365.964  363.899256\n",
       "\n",
       "[1128 rows x 2 columns]"
      ]
     },
     "execution_count": 3,
     "metadata": {},
     "output_type": "execute_result"
    }
   ],
   "source": [
    "df[[\"MolWt\",\"ExactMolWt\"]]"
   ]
  },
  {
   "cell_type": "code",
   "execution_count": 4,
   "metadata": {},
   "outputs": [
    {
     "data": {
      "image/png": "[encoded data removed]",
      "text/plain": [
       "<Figure size 432x288 with 1 Axes>"
      ]
     },
     "metadata": {
      "needs_background": "light"
     },
     "output_type": "display_data"
    }
   ],
   "source": [
    "## Cálculo do coeficiente de correlação R²\n",
    "r2 = str(r2_score(df[\"MolWt\"], df[\"ExactMolWt\"]).round(5))\n",
    "\n",
    "## Gráfico\n",
    "plt.scatter(df[\"MolWt\"], df[\"ExactMolWt\"])\n",
    "plt.xlabel(\"MolWt\")\n",
    "plt.ylabel(\"ExactMolWt\")\n",
    "plt.title(f\"R-quadrado = {r2}\")\n",
    "plt.show()"
   ]
  },
  {
   "cell_type": "markdown",
   "metadata": {},
   "source": [
    "Vemos que esses dois descritores são praticamente idênticos. Isso é de se esperar, pois os valores diferem apenas nas casas decimais. \n",
    "\n",
    "Imagine agora que fôssemos treinar um modelo preditivo e que esses dois descritores estivessem presentes. Na melhor das hipóteses, nosso modelo usaria apenas um deles, e reconheceria o outro como sendo irrelevante. Porém, nem sempre isso ocorre, e existe a possibilidade de que a presença de variáveis correlacionadas introduza instabilidade aos modelos. \n",
    "\n",
    "Como exemplo, vamos demonstrar o valor dos coeficientes de uma regressão linear contendo os dois descritores, e uma regressão na qual não usamos o descritor ExactMolWt. Para mais detalhes sobre esse tipo de análise, veja o [Notebook sobre Importância de Atributos](https://github.com/rflameiro/Python_e_Quiminformatica/tree/main/Quiminformatica/Importância%20de%20Atributos.ipynb)."
   ]
  },
  {
   "cell_type": "code",
   "execution_count": 5,
   "metadata": {},
   "outputs": [],
   "source": [
    "# Vamos selecionar apenas algumas colunas para possibilitar uma melhor visualização dos coeficientes\n",
    "X = df[[\"MolWt\", \"ExactMolWt\", \"FractionCSP3\", \"MolLogP\", \"NumAromaticRings\", \"NumHAcceptors\", \n",
    "        \"NumHDonors\", \"NumRotatableBonds\", \"TPSA\", \"LabuteASA\"]]\n",
    "y = df.iloc[:, -1]  # resposta"
   ]
  },
  {
   "cell_type": "code",
   "execution_count": 6,
   "metadata": {},
   "outputs": [],
   "source": [
    "from sklearn.preprocessing import StandardScaler\n",
    "from sklearn.linear_model import LinearRegression\n",
    "import matplotlib.pyplot as plt"
   ]
  },
  {
   "cell_type": "code",
   "execution_count": 7,
   "metadata": {},
   "outputs": [],
   "source": [
    "# Padronizando os dados\n",
    "X = pd.DataFrame(StandardScaler().fit_transform(X), columns=X.columns)\n",
    "\n",
    "# Regressão linear com MolWt e ExactMolWt = colinearidade\n",
    "reg1 = LinearRegression()\n",
    "reg1.fit(X, y)\n",
    "ypred1 = reg1.predict(X)\n",
    "imp1 = reg1.coef_\n",
    "\n",
    "# Regressão linear removendo ExactMolWt\n",
    "new_X = X.drop([\"ExactMolWt\"], axis=1)\n",
    "reg2 = LinearRegression()\n",
    "reg2.fit(new_X, y)\n",
    "ypred2 = reg2.predict(new_X)\n",
    "imp2 = reg2.coef_"
   ]
  },
  {
   "cell_type": "code",
   "execution_count": 8,
   "metadata": {},
   "outputs": [
    {
     "data": {
      "image/png": "[encoded data removed]",
      "text/plain": [
       "<Figure size 720x504 with 2 Axes>"
      ]
     },
     "metadata": {
      "needs_background": "light"
     },
     "output_type": "display_data"
    }
   ],
   "source": [
    "# Gráficos com os valores dos coeficientes\n",
    "plt.figure(figsize=(10,7))\n",
    "\n",
    "plt.subplot(2, 1, 1)\n",
    "plt.xlim((-7,7))\n",
    "plt.barh(X.columns, imp1)\n",
    "plt.title(f\"R-quadrado = {str(r2_score(ypred1, y).round(5))}\")\n",
    "\n",
    "plt.subplot(2, 1, 2)\n",
    "plt.xlim((-7,7))\n",
    "plt.barh(new_X.columns, imp2)\n",
    "plt.title(f\"R-quadrado = {str(r2_score(ypred2, y).round(5))}\")\n",
    "\n",
    "plt.show()"
   ]
  },
  {
   "cell_type": "markdown",
   "metadata": {},
   "source": [
    "Veja que os coeficientes de `MolWt` e `ExactMolWt` são muito grandes, praticamente do mesmo tamanho, e de sinais opostos. Ou seja, poderíamos cometer o erro de acreditar que ambos são muito importantes para descrever nossa variável. Porém, quando retiramos um deles, vemos que a importância do outro no modelo é, na verdade, muito menor do que antes, e que os valores elevados dos coeficientes são na verdade um artefato decorrente dos modelos serem correlacionados (os coeficientes poderiam ter qualquer tamanho, contanto que fossem de mesma magnitude e sinais opostos).\n",
    "\n",
    "Dessa forma, concluímos que **é uma boa prática remover variáveis correlacionadas antes de criar modelos de ML**.\n",
    "\n",
    "Uma forma de fazer isso é calculando a correlação entre todos os pares de variáveis (matriz de correlações). Vejamos como fazer isso:"
   ]
  },
  {
   "cell_type": "code",
   "execution_count": 9,
   "metadata": {},
   "outputs": [
    {
     "name": "stdout",
     "output_type": "stream",
     "text": [
      "r2 (módulo) entre as variáveis MolWt e ExactMolWt = 1.000\n",
      "r2 (módulo) entre as variáveis MolWt e LabuteASA = 0.970\n",
      "r2 (módulo) entre as variáveis ExactMolWt e LabuteASA = 0.971\n",
      "r2 (módulo) entre as variáveis NumHAcceptors e TPSA = 0.897\n"
     ]
    }
   ],
   "source": [
    "# Verificando a existência de variáveis altamente correlacionadas\n",
    "from itertools import combinations\n",
    "\n",
    "corr_matrix = X.corr()\n",
    "comb = combinations(corr_matrix.columns, 2)\n",
    "for c1, c2 in comb:\n",
    "    if abs(corr_matrix.loc[c1, c2]) > 0.8:\n",
    "        print(f'r2 (módulo) entre as variáveis {c1} e {c2} = {corr_matrix.loc[c1, c2]:.3f}')"
   ]
  },
  {
   "cell_type": "markdown",
   "metadata": {},
   "source": [
    "Verificamos que existem algumas variáveis altamente correlacionadas. Dessa forma, podemos remover `ExactMolWt` e `LabuteASA`, já que são colineares com `MolWt`, e `TPSA`, que é correlacionada com `NumHAcceptors`."
   ]
  },
  {
   "cell_type": "code",
   "execution_count": 10,
   "metadata": {},
   "outputs": [
    {
     "data": {
      "text/html": [
       "<div>\n",
       "<style scoped>\n",
       "    .dataframe tbody tr th:only-of-type {\n",
       "        vertical-align: middle;\n",
       "    }\n",
       "\n",
       "    .dataframe tbody tr th {\n",
       "        vertical-align: top;\n",
       "    }\n",
       "\n",
       "    .dataframe thead th {\n",
       "        text-align: right;\n",
       "    }\n",
       "</style>\n",
       "<table border=\"1\" class=\"dataframe\">\n",
       "  <thead>\n",
       "    <tr style=\"text-align: right;\">\n",
       "      <th></th>\n",
       "      <th>MolWt</th>\n",
       "      <th>FractionCSP3</th>\n",
       "      <th>MolLogP</th>\n",
       "      <th>NumAromaticRings</th>\n",
       "      <th>NumHAcceptors</th>\n",
       "      <th>NumHDonors</th>\n",
       "      <th>NumRotatableBonds</th>\n",
       "    </tr>\n",
       "  </thead>\n",
       "  <tbody>\n",
       "    <tr>\n",
       "      <th>0</th>\n",
       "      <td>2.468485</td>\n",
       "      <td>0.548553</td>\n",
       "      <td>-2.999665</td>\n",
       "      <td>0.068826</td>\n",
       "      <td>4.594037</td>\n",
       "      <td>5.782689</td>\n",
       "      <td>1.826914</td>\n",
       "    </tr>\n",
       "    <tr>\n",
       "      <th>1</th>\n",
       "      <td>-0.026410</td>\n",
       "      <td>-0.963310</td>\n",
       "      <td>0.212089</td>\n",
       "      <td>1.064158</td>\n",
       "      <td>-0.051896</td>\n",
       "      <td>0.274281</td>\n",
       "      <td>-0.067166</td>\n",
       "    </tr>\n",
       "    <tr>\n",
       "      <th>2</th>\n",
       "      <td>-0.503445</td>\n",
       "      <td>0.148354</td>\n",
       "      <td>0.232434</td>\n",
       "      <td>-0.926505</td>\n",
       "      <td>-0.516489</td>\n",
       "      <td>-0.643787</td>\n",
       "      <td>0.690466</td>\n",
       "    </tr>\n",
       "    <tr>\n",
       "      <th>3</th>\n",
       "      <td>0.724658</td>\n",
       "      <td>-1.185643</td>\n",
       "      <td>2.079789</td>\n",
       "      <td>4.050152</td>\n",
       "      <td>-0.981083</td>\n",
       "      <td>-0.643787</td>\n",
       "      <td>-0.824798</td>\n",
       "    </tr>\n",
       "    <tr>\n",
       "      <th>4</th>\n",
       "      <td>-1.166532</td>\n",
       "      <td>-1.185643</td>\n",
       "      <td>-0.377645</td>\n",
       "      <td>0.068826</td>\n",
       "      <td>-0.516489</td>\n",
       "      <td>-0.643787</td>\n",
       "      <td>-0.824798</td>\n",
       "    </tr>\n",
       "  </tbody>\n",
       "</table>\n",
       "</div>"
      ],
      "text/plain": [
       "      MolWt  FractionCSP3   MolLogP  NumAromaticRings  NumHAcceptors  \\\n",
       "0  2.468485      0.548553 -2.999665          0.068826       4.594037   \n",
       "1 -0.026410     -0.963310  0.212089          1.064158      -0.051896   \n",
       "2 -0.503445      0.148354  0.232434         -0.926505      -0.516489   \n",
       "3  0.724658     -1.185643  2.079789          4.050152      -0.981083   \n",
       "4 -1.166532     -1.185643 -0.377645          0.068826      -0.516489   \n",
       "\n",
       "   NumHDonors  NumRotatableBonds  \n",
       "0    5.782689           1.826914  \n",
       "1    0.274281          -0.067166  \n",
       "2   -0.643787           0.690466  \n",
       "3   -0.643787          -0.824798  \n",
       "4   -0.643787          -0.824798  "
      ]
     },
     "execution_count": 10,
     "metadata": {},
     "output_type": "execute_result"
    }
   ],
   "source": [
    "X_drop = X.drop([\"ExactMolWt\", \"LabuteASA\", \"TPSA\"], axis=1)\n",
    "X_drop.head()"
   ]
  },
  {
   "cell_type": "markdown",
   "metadata": {},
   "source": [
    "Com isso, nosso conjunto de dados está adequado para a criação de um modelo preditivo."
   ]
  },
  {
   "cell_type": "code",
   "execution_count": 11,
   "metadata": {},
   "outputs": [],
   "source": [
    "# Regressão linear sem variáveis colineares (ExactMolWt, LabuteASA e TPSA)\n",
    "reg3 = LinearRegression()\n",
    "reg3.fit(X_drop, y)\n",
    "ypred3 = reg3.predict(X_drop)\n",
    "imp3 = reg3.coef_"
   ]
  },
  {
   "cell_type": "code",
   "execution_count": 12,
   "metadata": {},
   "outputs": [
    {
     "data": {
      "image/png": "[encoded data removed]",
      "text/plain": [
       "<Figure size 720x504 with 1 Axes>"
      ]
     },
     "metadata": {
      "needs_background": "light"
     },
     "output_type": "display_data"
    }
   ],
   "source": [
    "# Gráficos com os valores dos coeficientes\n",
    "plt.figure(figsize=(10,7))\n",
    "\n",
    "plt.subplot(2, 1, 1)\n",
    "plt.xlim((-3,3))\n",
    "plt.barh(X_drop.columns, imp3)\n",
    "plt.title(f\"R-quadrado = {str(r2_score(ypred3, y).round(5))}\")\n",
    "\n",
    "plt.show()"
   ]
  },
  {
   "cell_type": "markdown",
   "metadata": {},
   "source": [
    "O coeficiente de `MolWt` é na verdade o segundo maior do modelo. Note também que a remoção de três variáveis praticamente não alterou o valor de R² e deixou nosso modelo mais simples e mais interpretável."
   ]
  },
  {
   "cell_type": "markdown",
   "metadata": {},
   "source": [
    "## Rô de Spearman\n",
    "\n",
    "Uma outra forma de lidar com variáveis multicolineares é realizando um agrupamento hierárquico das variáveis usando o coeficiente de correlação rô de Spearman, e selecionando apenas uma variável de cada agrupamento para o modelo final.\n",
    "\n",
    "Diferente do coeficiente de correlação linear, o rô de Spearman calcula se duas variáveis são relacionadas por uma função monotônica, ou seja, também identifica correlações não-lineares.\n",
    "\n",
    "Como exemplo, se temos `N` amostras e queremos comparar duas variáveis `a` e `b`, devemos verificar os valores individuais das variáveis nas amostras, ou seja, `a<sub>1</sub> ... a<sub>N</sub>` e `b<sub>1</sub> ... b<sub>N</sub>`. Se, conforme vamos aumentando o valor de `a`, o valor de `b` aumenta ou diminui consistentemente, temos uma variação monotônica e o valor de rô de Spearman será mais próximo de 1. Por outro lado, se aumentando o valor de `a`, o valor de `b` não varia de acordo com nenhuma tendência, o rô de Spearman será próximo de 0.\n",
    "\n",
    "Para uma explicação mais detalhada, veja: [Coeficiente de correlação de postos de Spearman](https://pt.wikipedia.org/wiki/Coeficiente_de_correla%C3%A7%C3%A3o_de_postos_de_Spearman)\n",
    "\n",
    "Vamos aplicar o exemplo disponível no User Guide do [scikit-learn](https://scikit-learn.org/stable/auto_examples/inspection/plot_permutation_importance_multicollinear.html#sphx-glr-auto-examples-inspection-plot-permutation-importance-multicollinear-py), em que um modelo do tipo *Random Forest* é ajustado aos dados."
   ]
  },
  {
   "cell_type": "code",
   "execution_count": 13,
   "metadata": {},
   "outputs": [],
   "source": [
    "from collections import defaultdict\n",
    "\n",
    "import matplotlib.pyplot as plt\n",
    "import numpy as np\n",
    "from scipy.stats import spearmanr\n",
    "from scipy.cluster import hierarchy\n",
    "from scipy.spatial.distance import squareform\n",
    "\n",
    "from sklearn.ensemble import RandomForestRegressor\n",
    "from sklearn.inspection import permutation_importance\n",
    "from sklearn.model_selection import train_test_split"
   ]
  },
  {
   "cell_type": "code",
   "execution_count": 14,
   "metadata": {},
   "outputs": [
    {
     "name": "stdout",
     "output_type": "stream",
     "text": [
      "Exatidão (Accuracy) no conjunto de teste: 0.87\n"
     ]
    }
   ],
   "source": [
    "X_train, X_test, y_train, y_test = train_test_split(X, y, random_state=0)\n",
    "\n",
    "clf = RandomForestRegressor(n_estimators=100, random_state=0)\n",
    "clf.fit(X_train, y_train)\n",
    "print(\"Exatidão (Accuracy) no conjunto de teste: {:.2f}\".format(clf.score(X_test, y_test)))"
   ]
  },
  {
   "cell_type": "markdown",
   "metadata": {},
   "source": [
    "Vamos fazer um gráfico comparando a importância de variáveis obtida diretamente do modelo *Random Forest* (análoga aos coeficientes da regressão linear) e a importância de variáveis utilizando permutação de variáveis no modelo *Random Forest*. Para mais detalhes sobre esse tipo de análise, veja o [Notebook sobre Importância de Atributos](https://github.com/rflameiro/Python_e_Quiminformatica/tree/main/Quiminformatica/Importância%20de%20Atributos.ipynb)."
   ]
  },
  {
   "cell_type": "code",
   "execution_count": 15,
   "metadata": {},
   "outputs": [
    {
     "data": {
      "image/png": "[encoded data removed]",
      "text/plain": [
       "<Figure size 864x576 with 2 Axes>"
      ]
     },
     "metadata": {
      "needs_background": "light"
     },
     "output_type": "display_data"
    }
   ],
   "source": [
    "# Valores de importância por permutação de variáveis\n",
    "result = permutation_importance(clf, X_train, y_train, n_repeats=10, random_state=0)\n",
    "perm_sorted_idx = result.importances_mean.argsort()\n",
    "\n",
    "# Valores de importância de variáveis do modelo de Random Forest\n",
    "tree_importance_sorted_idx = np.argsort(clf.feature_importances_)\n",
    "tree_indices = np.arange(0, len(clf.feature_importances_)) + 0.5\n",
    "\n",
    "# Gráficos de barra usando matplotlib\n",
    "fig, (ax1, ax2) = plt.subplots(1, 2, figsize=(12, 8))\n",
    "ax1.barh(tree_indices, clf.feature_importances_[tree_importance_sorted_idx], height=0.7)\n",
    "ax1.set_yticks(tree_indices)\n",
    "ax1.set_yticklabels(X.columns[tree_importance_sorted_idx])\n",
    "ax1.set_ylim((0, len(clf.feature_importances_)))\n",
    "ax1.set_title('Importância - RF')\n",
    "ax2.boxplot(\n",
    "    result.importances[perm_sorted_idx].T,\n",
    "    vert=False,\n",
    "    labels=X.columns[perm_sorted_idx],\n",
    ")\n",
    "ax2.set_title('Importância - Permutação')\n",
    "fig.tight_layout()\n",
    "plt.show()"
   ]
  },
  {
   "cell_type": "markdown",
   "metadata": {},
   "source": [
    "Primeiramente, notamos que o efeito da presença de variáveis colineares é menos pronunciado no modelo *Random Forest* que no modelo de regressão linear, já que não vemos coeficientes grandes para `MolWt`e `ExactMolWt`. Porém, nem sempre isso ocorre, ainda sendo recomendável remover as variáveis colineares antes de treinar um modelo.\n",
    "Em seguida, vamos agrupar as variáveis colineares usando agrupamento hierárquico baseado no rô de Spearman."
   ]
  },
  {
   "cell_type": "code",
   "execution_count": 16,
   "metadata": {},
   "outputs": [
    {
     "data": {
      "image/png": "[encoded data removed]",
      "text/plain": [
       "<Figure size 864x576 with 2 Axes>"
      ]
     },
     "metadata": {
      "needs_background": "light"
     },
     "output_type": "display_data"
    }
   ],
   "source": [
    "# Cálculo da matriz de correlação\n",
    "corr = spearmanr(X).correlation\n",
    "\n",
    "# A matriz de correlação deve ser simétrica\n",
    "corr = (corr + corr.T) / 2\n",
    "np.fill_diagonal(corr, 1)\n",
    "\n",
    "# Dendrograma e matriz de correlação usando matplotlib\n",
    "fig, (ax1, ax2) = plt.subplots(1, 2, figsize=(12, 8))\n",
    "\n",
    "# Converter a matriz de correlação a uma matriz de distância antes de\n",
    "# realizar agrupamento hierárquico usando o método de Ward\n",
    "distance_matrix = 1 - np.abs(corr)\n",
    "dist_linkage = hierarchy.ward(squareform(distance_matrix))\n",
    "dendro = hierarchy.dendrogram(\n",
    "    dist_linkage, labels=X.columns.tolist(), ax=ax1, leaf_rotation=90\n",
    ")\n",
    "dendro_idx = np.arange(0, len(dendro[\"ivl\"]))\n",
    "\n",
    "# Matriz de correlação\n",
    "ax2.imshow(corr[dendro[\"leaves\"], :][:, dendro[\"leaves\"]])\n",
    "ax2.set_xticks(dendro_idx)\n",
    "ax2.set_yticks(dendro_idx)\n",
    "ax2.set_xticklabels(dendro[\"ivl\"], rotation=\"vertical\")\n",
    "ax2.set_yticklabels(dendro[\"ivl\"])\n",
    "fig.tight_layout()\n",
    "plt.show()"
   ]
  },
  {
   "cell_type": "markdown",
   "metadata": {},
   "source": [
    "O agrupamento hierárquico mostra que os descritores mais próximos são, como esperado, `MolWt` e `ExactMolWt` (note que a linha verde unindo os dois mal aparece, devido à alta correlação).\n",
    "Também podemos notar uma alta similaridade entre `MolWt` e `LabuteASA` ou entre `NumHAcceptors` e `TPSA`, indicando novamente que poderíamos construir nosso modelo eliminando `ExactMolWt`, `LabuteASA` e `TPSA`, sem perder capacidade preditiva. Note que, em ambos os modelos, optei por manter `MolWt` e `NumHAcceptors` por serem descritores com significado claro e fáceis de compreender."
   ]
  },
  {
   "cell_type": "code",
   "execution_count": 18,
   "metadata": {},
   "outputs": [
    {
     "name": "stdout",
     "output_type": "stream",
     "text": [
      "Exatidão (Accuracy) no conjunto de teste após remover variáveis: 0.86\n"
     ]
    }
   ],
   "source": [
    "# Random forest removendo ExactMolWt, LabuteASA e TPSA\n",
    "X_train, X_test, y_train, y_test = train_test_split(X_drop, y, random_state=0)\n",
    "\n",
    "clf = RandomForestRegressor(n_estimators=100, random_state=0)\n",
    "clf.fit(X_train, y_train)\n",
    "print(\"Exatidão (Accuracy) no conjunto de teste após remover variáveis: {:.2f}\".format(clf.score(X_test, y_test)))"
   ]
  },
  {
   "cell_type": "code",
   "execution_count": null,
   "metadata": {},
   "outputs": [],
   "source": []
  }
 ],
 "metadata": {
  "kernelspec": {
   "display_name": "Python 3 (ipykernel)",
   "language": "python",
   "name": "python3"
  },
  "language_info": {
   "codemirror_mode": {
    "name": "ipython",
    "version": 3
   },
   "file_extension": ".py",
   "mimetype": "text/x-python",
   "name": "python",
   "nbconvert_exporter": "python",
   "pygments_lexer": "ipython3",
   "version": "3.10.4"
  }
 },
 "nbformat": 4,
 "nbformat_minor": 4
}
