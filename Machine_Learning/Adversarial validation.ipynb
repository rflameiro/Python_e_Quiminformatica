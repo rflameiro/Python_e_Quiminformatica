{
 "cells": [
  {
   "cell_type": "markdown",
   "id": "5da0b1bf-422a-4d6d-b526-894bc11ea0c5",
   "metadata": {},
   "source": [
    "# *Adversarial validation*\n",
    "\n",
    "Muitas vezes, treinamos um modelo com bom desempenho na predição do conjunto de validação (ou com boas métricas de validação cruzada), mas que não apresenta bons resultados na predição do conjunto de teste ou de dados futuros. Isso pode ocorrer em processos que mudam com o tempo, fazendo com que novos dados sejam muito diferentes dos dados usados para treinar os modelos.\n",
    "\n",
    "Uma forma de verificar se os seus dados de teste são muito diferentes dos dados de treinamento é utilizando o método *Adversarial validation* (não encontrei tradução, algo como validação adversarial). Apesar do nome complicado, o método é simples, e consiste nas seguintes etapas:\n",
    "\n",
    "- Ignore o valor da sua variável **y**, e crie uma nova variável binária: o valor **0** será atribuído ao conjunto de treinamento, e o valor **1**, ao conjunto de teste\n",
    "- Junte os dados de treinamento e teste, e crie um modelo de classificação. Você pode usar validação cruzada para calcular as métricas desse modelo\n",
    "- Avalie as métricas de qualidade, em especial, o valor da área sob a curva ROC\n",
    "\n",
    "Qual é o resultado esperado? Digamos que seus conjuntos de treinamento e teste sejam parecidos (pertencem à mesma população). Nesse caso, o modelo de classificação terá péssimos valores de métricas de qualidade, pois será incapaz de detectar diferenças significativas entre as \"duas classes\". O valor da área sob a curva ROC será próximo a 0.5.\n",
    "\n",
    "Porém, é possível que seu conjunto de teste seja, de fato, muito diferente do conjunto de treinamento. Nesse caso, o modelo binário conseguirá facilmente separar as duas classes, e o valor da área sob a curva ROC será próximo a 1.0.\n",
    "\n",
    "Vejamos como aplicar esse método:"
   ]
  },
  {
   "cell_type": "code",
   "execution_count": 1,
   "id": "228541ca-7f01-4875-bea9-4ab34f74769a",
   "metadata": {},
   "outputs": [],
   "source": [
    "import pandas as pd"
   ]
  },
  {
   "cell_type": "code",
   "execution_count": 2,
   "id": "195549df-d8b8-4064-9f85-58de50d72f3c",
   "metadata": {},
   "outputs": [
    {
     "data": {
      "text/html": [
       "<div>\n",
       "<style scoped>\n",
       "    .dataframe tbody tr th:only-of-type {\n",
       "        vertical-align: middle;\n",
       "    }\n",
       "\n",
       "    .dataframe tbody tr th {\n",
       "        vertical-align: top;\n",
       "    }\n",
       "\n",
       "    .dataframe thead th {\n",
       "        text-align: right;\n",
       "    }\n",
       "</style>\n",
       "<table border=\"1\" class=\"dataframe\">\n",
       "  <thead>\n",
       "    <tr style=\"text-align: right;\">\n",
       "      <th></th>\n",
       "      <th>MaxEStateIndex</th>\n",
       "      <th>MinEStateIndex</th>\n",
       "      <th>MaxAbsEStateIndex</th>\n",
       "      <th>MinAbsEStateIndex</th>\n",
       "      <th>qed</th>\n",
       "      <th>MolWt</th>\n",
       "      <th>HeavyAtomMolWt</th>\n",
       "      <th>ExactMolWt</th>\n",
       "      <th>NumValenceElectrons</th>\n",
       "      <th>NumRadicalElectrons</th>\n",
       "      <th>...</th>\n",
       "      <th>fr_sulfonamd</th>\n",
       "      <th>fr_sulfone</th>\n",
       "      <th>fr_term_acetylene</th>\n",
       "      <th>fr_tetrazole</th>\n",
       "      <th>fr_thiazole</th>\n",
       "      <th>fr_thiocyan</th>\n",
       "      <th>fr_thiophene</th>\n",
       "      <th>fr_unbrch_alkane</th>\n",
       "      <th>fr_urea</th>\n",
       "      <th>Solubilidade_medida</th>\n",
       "    </tr>\n",
       "  </thead>\n",
       "  <tbody>\n",
       "    <tr>\n",
       "      <th>0</th>\n",
       "      <td>10.253329</td>\n",
       "      <td>-1.701605</td>\n",
       "      <td>10.253329</td>\n",
       "      <td>0.486602</td>\n",
       "      <td>0.217518</td>\n",
       "      <td>457.432</td>\n",
       "      <td>430.216</td>\n",
       "      <td>457.158411</td>\n",
       "      <td>178</td>\n",
       "      <td>0</td>\n",
       "      <td>...</td>\n",
       "      <td>0</td>\n",
       "      <td>0</td>\n",
       "      <td>0</td>\n",
       "      <td>0</td>\n",
       "      <td>0</td>\n",
       "      <td>0</td>\n",
       "      <td>0</td>\n",
       "      <td>0</td>\n",
       "      <td>0</td>\n",
       "      <td>-0.77</td>\n",
       "    </tr>\n",
       "    <tr>\n",
       "      <th>1</th>\n",
       "      <td>11.724911</td>\n",
       "      <td>-0.145880</td>\n",
       "      <td>11.724911</td>\n",
       "      <td>0.145880</td>\n",
       "      <td>0.811283</td>\n",
       "      <td>201.225</td>\n",
       "      <td>190.137</td>\n",
       "      <td>201.078979</td>\n",
       "      <td>76</td>\n",
       "      <td>0</td>\n",
       "      <td>...</td>\n",
       "      <td>0</td>\n",
       "      <td>0</td>\n",
       "      <td>0</td>\n",
       "      <td>0</td>\n",
       "      <td>0</td>\n",
       "      <td>0</td>\n",
       "      <td>0</td>\n",
       "      <td>0</td>\n",
       "      <td>0</td>\n",
       "      <td>-3.30</td>\n",
       "    </tr>\n",
       "    <tr>\n",
       "      <th>2</th>\n",
       "      <td>10.020498</td>\n",
       "      <td>0.845090</td>\n",
       "      <td>10.020498</td>\n",
       "      <td>0.845090</td>\n",
       "      <td>0.343706</td>\n",
       "      <td>152.237</td>\n",
       "      <td>136.109</td>\n",
       "      <td>152.120115</td>\n",
       "      <td>62</td>\n",
       "      <td>0</td>\n",
       "      <td>...</td>\n",
       "      <td>0</td>\n",
       "      <td>0</td>\n",
       "      <td>0</td>\n",
       "      <td>0</td>\n",
       "      <td>0</td>\n",
       "      <td>0</td>\n",
       "      <td>0</td>\n",
       "      <td>0</td>\n",
       "      <td>0</td>\n",
       "      <td>-2.06</td>\n",
       "    </tr>\n",
       "    <tr>\n",
       "      <th>3</th>\n",
       "      <td>2.270278</td>\n",
       "      <td>1.301055</td>\n",
       "      <td>2.270278</td>\n",
       "      <td>1.301055</td>\n",
       "      <td>0.291526</td>\n",
       "      <td>278.354</td>\n",
       "      <td>264.242</td>\n",
       "      <td>278.109550</td>\n",
       "      <td>102</td>\n",
       "      <td>0</td>\n",
       "      <td>...</td>\n",
       "      <td>0</td>\n",
       "      <td>0</td>\n",
       "      <td>0</td>\n",
       "      <td>0</td>\n",
       "      <td>0</td>\n",
       "      <td>0</td>\n",
       "      <td>0</td>\n",
       "      <td>0</td>\n",
       "      <td>0</td>\n",
       "      <td>-7.87</td>\n",
       "    </tr>\n",
       "    <tr>\n",
       "      <th>4</th>\n",
       "      <td>2.041667</td>\n",
       "      <td>1.712963</td>\n",
       "      <td>2.041667</td>\n",
       "      <td>1.712963</td>\n",
       "      <td>0.448927</td>\n",
       "      <td>84.143</td>\n",
       "      <td>80.111</td>\n",
       "      <td>84.003371</td>\n",
       "      <td>26</td>\n",
       "      <td>0</td>\n",
       "      <td>...</td>\n",
       "      <td>0</td>\n",
       "      <td>0</td>\n",
       "      <td>0</td>\n",
       "      <td>0</td>\n",
       "      <td>0</td>\n",
       "      <td>0</td>\n",
       "      <td>1</td>\n",
       "      <td>0</td>\n",
       "      <td>0</td>\n",
       "      <td>-1.33</td>\n",
       "    </tr>\n",
       "  </tbody>\n",
       "</table>\n",
       "<p>5 rows × 201 columns</p>\n",
       "</div>"
      ],
      "text/plain": [
       "   MaxEStateIndex  MinEStateIndex  MaxAbsEStateIndex  MinAbsEStateIndex  \\\n",
       "0       10.253329       -1.701605          10.253329           0.486602   \n",
       "1       11.724911       -0.145880          11.724911           0.145880   \n",
       "2       10.020498        0.845090          10.020498           0.845090   \n",
       "3        2.270278        1.301055           2.270278           1.301055   \n",
       "4        2.041667        1.712963           2.041667           1.712963   \n",
       "\n",
       "        qed    MolWt  HeavyAtomMolWt  ExactMolWt  NumValenceElectrons  \\\n",
       "0  0.217518  457.432         430.216  457.158411                  178   \n",
       "1  0.811283  201.225         190.137  201.078979                   76   \n",
       "2  0.343706  152.237         136.109  152.120115                   62   \n",
       "3  0.291526  278.354         264.242  278.109550                  102   \n",
       "4  0.448927   84.143          80.111   84.003371                   26   \n",
       "\n",
       "   NumRadicalElectrons  ...  fr_sulfonamd  fr_sulfone  fr_term_acetylene  \\\n",
       "0                    0  ...             0           0                  0   \n",
       "1                    0  ...             0           0                  0   \n",
       "2                    0  ...             0           0                  0   \n",
       "3                    0  ...             0           0                  0   \n",
       "4                    0  ...             0           0                  0   \n",
       "\n",
       "   fr_tetrazole  fr_thiazole  fr_thiocyan  fr_thiophene  fr_unbrch_alkane  \\\n",
       "0             0            0            0             0                 0   \n",
       "1             0            0            0             0                 0   \n",
       "2             0            0            0             0                 0   \n",
       "3             0            0            0             0                 0   \n",
       "4             0            0            0             1                 0   \n",
       "\n",
       "   fr_urea  Solubilidade_medida  \n",
       "0        0                -0.77  \n",
       "1        0                -3.30  \n",
       "2        0                -2.06  \n",
       "3        0                -7.87  \n",
       "4        0                -1.33  \n",
       "\n",
       "[5 rows x 201 columns]"
      ]
     },
     "execution_count": 2,
     "metadata": {},
     "output_type": "execute_result"
    }
   ],
   "source": [
    "df = pd.read_csv(\"Delaney_descriptors.csv\", sep=\";\")\n",
    "df.head()"
   ]
  },
  {
   "cell_type": "code",
   "execution_count": 3,
   "id": "77ee7b8c-5b5e-4410-a669-bd5cd4a64f27",
   "metadata": {},
   "outputs": [],
   "source": [
    "# Vamos selecionar apenas algumas colunas\n",
    "X = df[[\"MolWt\", \"FractionCSP3\", \"MolLogP\", \"NumAromaticRings\", \"NumHAcceptors\", \n",
    "        \"NumHDonors\", \"NumRotatableBonds\", \"TPSA\"]]\n",
    "y = df.iloc[:, -1]  # resposta"
   ]
  },
  {
   "cell_type": "code",
   "execution_count": 4,
   "id": "c2279f8d-4e46-4551-acad-32e5e31bd73b",
   "metadata": {},
   "outputs": [],
   "source": [
    "# Separando um conjunto de treinamento e um de teste\n",
    "from sklearn.model_selection import train_test_split\n",
    "\n",
    "X_train, X_test, y_train, y_test = train_test_split(X, y, test_size=0.25, random_state=0)"
   ]
  },
  {
   "cell_type": "code",
   "execution_count": 5,
   "id": "91222072-8c4a-4787-992e-5bf0ab17a36e",
   "metadata": {},
   "outputs": [
    {
     "data": {
      "text/plain": [
       "1128"
      ]
     },
     "execution_count": 5,
     "metadata": {},
     "output_type": "execute_result"
    }
   ],
   "source": [
    "# Vamos criar novas classes fictícias para os valores de treinamento e teste\n",
    "# Os valores de y_train recebem a classe 0, e os de y_test, 1\n",
    "y_train_adv = [0]*(len(y_train))\n",
    "y_test_adv = [1]*(len(y_test))\n",
    "y_adv = y_train_adv + y_test_adv\n",
    "len(y_adv)"
   ]
  },
  {
   "cell_type": "code",
   "execution_count": 6,
   "id": "5b6da917-d189-415f-acec-766c367fcc57",
   "metadata": {},
   "outputs": [
    {
     "data": {
      "text/plain": [
       "(1128, 8)"
      ]
     },
     "execution_count": 6,
     "metadata": {},
     "output_type": "execute_result"
    }
   ],
   "source": [
    "# Agrupando os dados novamente\n",
    "X_adv = pd.concat([X_train, X_test])\n",
    "X_adv.shape"
   ]
  },
  {
   "cell_type": "code",
   "execution_count": 10,
   "id": "cb0e9136-f4c9-4f65-8ce4-2fcfecddcb24",
   "metadata": {},
   "outputs": [
    {
     "data": {
      "text/plain": [
       "array([0.41318277, 0.415395  , 0.45785321, 0.48298817, 0.48837701])"
      ]
     },
     "execution_count": 10,
     "metadata": {},
     "output_type": "execute_result"
    }
   ],
   "source": [
    "# Vamos treinar um modelo de classificação e availá-lo usando validação cruzada\n",
    "from sklearn.linear_model import LogisticRegression\n",
    "from sklearn.model_selection import cross_val_score\n",
    "\n",
    "clf = LogisticRegression(class_weight='balanced', max_iter=1000, random_state=0)\n",
    "scores = cross_val_score(clf, X_adv, y_adv, cv=5, scoring='roc_auc')\n",
    "scores"
   ]
  },
  {
   "cell_type": "markdown",
   "id": "b85acac3-0417-4cdd-ac6d-6b0b8b17bb45",
   "metadata": {},
   "source": [
    "Um valor de curva ROC próximo a 1.0 indica um bom classificador, enquanto valores perto de 0.5 indicam classificadores ruins. Vemos nesse caso que a *adversarial validation* indica que nossos dados de teste não são significativamente distintos dos de treinamento."
   ]
  },
  {
   "cell_type": "code",
   "execution_count": null,
   "id": "549663b3-b0dd-4748-9c88-9d024e96913c",
   "metadata": {},
   "outputs": [],
   "source": []
  }
 ],
 "metadata": {
  "kernelspec": {
   "display_name": "Python 3 (ipykernel)",
   "language": "python",
   "name": "python3"
  },
  "language_info": {
   "codemirror_mode": {
    "name": "ipython",
    "version": 3
   },
   "file_extension": ".py",
   "mimetype": "text/x-python",
   "name": "python",
   "nbconvert_exporter": "python",
   "pygments_lexer": "ipython3",
   "version": "3.10.6"
  }
 },
 "nbformat": 4,
 "nbformat_minor": 5
}
