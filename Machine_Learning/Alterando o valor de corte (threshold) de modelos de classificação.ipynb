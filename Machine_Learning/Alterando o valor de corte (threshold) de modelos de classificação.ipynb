{
 "cells": [
  {
   "cell_type": "markdown",
   "id": "05adc8b2-8b51-4ed6-bcc8-9e4f87f178fb",
   "metadata": {},
   "source": [
    "# Introdução\n",
    "\n",
    "Dados desbalanceados são comumente encontrados nas aplicaçõs do aprendizado de máquina. Em problemas de classificação binária, o desbalanceamento se refere a uma predominância de amostras pertencentes a uma das classes. \n",
    "\n",
    "Na quiminformática, a classe majoritária é geralmente 0 (ausência de atividade, toxicidade, etc), em especial, quando os dados são resultantes de ensaios do tipo *high throughtput screening*, em que milhares de compostos são avaliados contra um alvo de interesse, com a expectativa de que uma pequena quantidade apresente alguma atividade. Note que quando usamos dados coletados da literatura, como do ChEMBL, o oposto pode ocorrer, pois os artigos científicos tendem a destacar os compostos ativos contra os alvos de interesse. Neste caso, o uso de *decoys* pode ser uma solução para balancear os dados.\n",
    "\n",
    "Voltando ao exemplo de dados com predominância da classe 0: ao treinar um modelo de aprendizado de máquina, o algoritmo naturalmente terá uma alta tendência a prever a maioria dos compostos futuros como inativos, refletindo a probabilidade aprendida com o conjunto de treinamento. Como consequência, a quantidade de falsos negativos tende a ser alta, prejudicando a identificação de novos compostos ativos.\n",
    "\n",
    "O artigo [GHOST: Adjusting the Decision Threshold to Handle Imbalanced Data in Machine Learning](https://pubs.acs.org/doi/full/10.1021/acs.jcim.1c00160) discute algumas dessas questões, e propõe abordagens para lidar com dados desbalanceados, por exemplo, considerar métricas diferentes da acurácia, como **Kappa de Cohen** e **Matthew's Correlation Coefficient** (MCC).\n",
    "\n",
    "Todavia, a principal sugestão dos autores envolve modificar o valor de corte (*threshold*) dos modelos de classificação. Isso porque a maioria dos modelos de classificação fornece como predicão um valor entre 0 e 1, que é posteriormente convertido a uma das classes. O valor de corte padrão dos modelos é 0.5, ou seja, predições maiores que 0.5 são classificadas como pertencentes à classe 1, e as menores, à classe 0. Em alguns casos, essas predições podem ser interpretadas como probabilidades. Para mais detalhes, veja os Notebooks sobre Calibração de modelos.\n",
    "\n",
    "Vamos mostrar na prática como isso funciona, usando o conjunto de dados CHEMBL1614421:"
   ]
  },
  {
   "cell_type": "code",
   "execution_count": 1,
   "id": "6e65bfaa-33f3-490b-833b-a2d911f7ff4d",
   "metadata": {},
   "outputs": [],
   "source": [
    "import pandas as pd"
   ]
  },
  {
   "cell_type": "code",
   "execution_count": 2,
   "id": "9c905f1b-ece8-40c2-9d9d-49bdaf8f3fe7",
   "metadata": {
    "scrolled": true
   },
   "outputs": [
    {
     "data": {
      "text/html": [
       "<div>\n",
       "<style scoped>\n",
       "    .dataframe tbody tr th:only-of-type {\n",
       "        vertical-align: middle;\n",
       "    }\n",
       "\n",
       "    .dataframe tbody tr th {\n",
       "        vertical-align: top;\n",
       "    }\n",
       "\n",
       "    .dataframe thead th {\n",
       "        text-align: right;\n",
       "    }\n",
       "</style>\n",
       "<table border=\"1\" class=\"dataframe\">\n",
       "  <thead>\n",
       "    <tr style=\"text-align: right;\">\n",
       "      <th></th>\n",
       "      <th>Molecule ChEMBL ID</th>\n",
       "      <th>Molecule Name</th>\n",
       "      <th>Molecule Max Phase</th>\n",
       "      <th>Molecular Weight</th>\n",
       "      <th>#RO5 Violations</th>\n",
       "      <th>AlogP</th>\n",
       "      <th>Compound Key</th>\n",
       "      <th>Smiles</th>\n",
       "      <th>Standard Type</th>\n",
       "      <th>Standard Relation</th>\n",
       "      <th>...</th>\n",
       "      <th>Target Type</th>\n",
       "      <th>Document ChEMBL ID</th>\n",
       "      <th>Source ID</th>\n",
       "      <th>Source Description</th>\n",
       "      <th>Document Journal</th>\n",
       "      <th>Document Year</th>\n",
       "      <th>Cell ChEMBL ID</th>\n",
       "      <th>Properties</th>\n",
       "      <th>Action Type</th>\n",
       "      <th>Standard Text Value</th>\n",
       "    </tr>\n",
       "  </thead>\n",
       "  <tbody>\n",
       "    <tr>\n",
       "      <th>0</th>\n",
       "      <td>CHEMBL1440854</td>\n",
       "      <td>NaN</td>\n",
       "      <td>None</td>\n",
       "      <td>409.49</td>\n",
       "      <td>0</td>\n",
       "      <td>4.25</td>\n",
       "      <td>SID24273973</td>\n",
       "      <td>COc1ccc(NC(=O)C(Cc2c[nH]c3ccccc23)NC(=O)OC(C)(...</td>\n",
       "      <td>Potency</td>\n",
       "      <td>'='</td>\n",
       "      <td>...</td>\n",
       "      <td>SINGLE PROTEIN</td>\n",
       "      <td>CHEMBL1201862</td>\n",
       "      <td>7</td>\n",
       "      <td>PubChem BioAssays</td>\n",
       "      <td>NaN</td>\n",
       "      <td>NaN</td>\n",
       "      <td>None</td>\n",
       "      <td>NaN</td>\n",
       "      <td>NaN</td>\n",
       "      <td>NaN</td>\n",
       "    </tr>\n",
       "    <tr>\n",
       "      <th>1</th>\n",
       "      <td>CHEMBL1558466</td>\n",
       "      <td>NaN</td>\n",
       "      <td>None</td>\n",
       "      <td>305.34</td>\n",
       "      <td>0</td>\n",
       "      <td>2.18</td>\n",
       "      <td>SID859875</td>\n",
       "      <td>Cn1c(=O)c2cn(-c3cccc4ccccc34)cc2n(C)c1=O</td>\n",
       "      <td>Potency</td>\n",
       "      <td>'='</td>\n",
       "      <td>...</td>\n",
       "      <td>SINGLE PROTEIN</td>\n",
       "      <td>CHEMBL1201862</td>\n",
       "      <td>7</td>\n",
       "      <td>PubChem BioAssays</td>\n",
       "      <td>NaN</td>\n",
       "      <td>NaN</td>\n",
       "      <td>None</td>\n",
       "      <td>NaN</td>\n",
       "      <td>NaN</td>\n",
       "      <td>NaN</td>\n",
       "    </tr>\n",
       "    <tr>\n",
       "      <th>2</th>\n",
       "      <td>CHEMBL1501307</td>\n",
       "      <td>NaN</td>\n",
       "      <td>None</td>\n",
       "      <td>368.43</td>\n",
       "      <td>0</td>\n",
       "      <td>1.55</td>\n",
       "      <td>SID24787413</td>\n",
       "      <td>O=C1c2ccccc2C(=O)c2c(NCCCN(CCO)CCO)cccc21</td>\n",
       "      <td>Potency</td>\n",
       "      <td>'='</td>\n",
       "      <td>...</td>\n",
       "      <td>SINGLE PROTEIN</td>\n",
       "      <td>CHEMBL1201862</td>\n",
       "      <td>7</td>\n",
       "      <td>PubChem BioAssays</td>\n",
       "      <td>NaN</td>\n",
       "      <td>NaN</td>\n",
       "      <td>None</td>\n",
       "      <td>NaN</td>\n",
       "      <td>NaN</td>\n",
       "      <td>NaN</td>\n",
       "    </tr>\n",
       "    <tr>\n",
       "      <th>3</th>\n",
       "      <td>CHEMBL1557023</td>\n",
       "      <td>NaN</td>\n",
       "      <td>None</td>\n",
       "      <td>361.38</td>\n",
       "      <td>0</td>\n",
       "      <td>0.44</td>\n",
       "      <td>SID22401770</td>\n",
       "      <td>COc1cc(OC)cc(C(=O)NC(=S)NNC(=O)c2cnccn2)c1</td>\n",
       "      <td>Potency</td>\n",
       "      <td>'='</td>\n",
       "      <td>...</td>\n",
       "      <td>SINGLE PROTEIN</td>\n",
       "      <td>CHEMBL1201862</td>\n",
       "      <td>7</td>\n",
       "      <td>PubChem BioAssays</td>\n",
       "      <td>NaN</td>\n",
       "      <td>NaN</td>\n",
       "      <td>None</td>\n",
       "      <td>NaN</td>\n",
       "      <td>NaN</td>\n",
       "      <td>NaN</td>\n",
       "    </tr>\n",
       "    <tr>\n",
       "      <th>4</th>\n",
       "      <td>CHEMBL1721937</td>\n",
       "      <td>NaN</td>\n",
       "      <td>None</td>\n",
       "      <td>420.90</td>\n",
       "      <td>1</td>\n",
       "      <td>6.05</td>\n",
       "      <td>SID17507706</td>\n",
       "      <td>Oc1ccc(N=Nc2cccc(Cl)c2)cc1/C=N/c1ccc(N2CCOCC2)cc1</td>\n",
       "      <td>Potency</td>\n",
       "      <td>'='</td>\n",
       "      <td>...</td>\n",
       "      <td>SINGLE PROTEIN</td>\n",
       "      <td>CHEMBL1201862</td>\n",
       "      <td>7</td>\n",
       "      <td>PubChem BioAssays</td>\n",
       "      <td>NaN</td>\n",
       "      <td>NaN</td>\n",
       "      <td>None</td>\n",
       "      <td>NaN</td>\n",
       "      <td>NaN</td>\n",
       "      <td>NaN</td>\n",
       "    </tr>\n",
       "  </tbody>\n",
       "</table>\n",
       "<p>5 rows × 47 columns</p>\n",
       "</div>"
      ],
      "text/plain": [
       "  Molecule ChEMBL ID Molecule Name Molecule Max Phase Molecular Weight  \\\n",
       "0      CHEMBL1440854           NaN               None           409.49   \n",
       "1      CHEMBL1558466           NaN               None           305.34   \n",
       "2      CHEMBL1501307           NaN               None           368.43   \n",
       "3      CHEMBL1557023           NaN               None           361.38   \n",
       "4      CHEMBL1721937           NaN               None           420.90   \n",
       "\n",
       "  #RO5 Violations AlogP Compound Key  \\\n",
       "0               0  4.25  SID24273973   \n",
       "1               0  2.18    SID859875   \n",
       "2               0  1.55  SID24787413   \n",
       "3               0  0.44  SID22401770   \n",
       "4               1  6.05  SID17507706   \n",
       "\n",
       "                                              Smiles Standard Type  \\\n",
       "0  COc1ccc(NC(=O)C(Cc2c[nH]c3ccccc23)NC(=O)OC(C)(...       Potency   \n",
       "1           Cn1c(=O)c2cn(-c3cccc4ccccc34)cc2n(C)c1=O       Potency   \n",
       "2          O=C1c2ccccc2C(=O)c2c(NCCCN(CCO)CCO)cccc21       Potency   \n",
       "3         COc1cc(OC)cc(C(=O)NC(=S)NNC(=O)c2cnccn2)c1       Potency   \n",
       "4  Oc1ccc(N=Nc2cccc(Cl)c2)cc1/C=N/c1ccc(N2CCOCC2)cc1       Potency   \n",
       "\n",
       "  Standard Relation  ...     Target Type Document ChEMBL ID  Source ID  \\\n",
       "0               '='  ...  SINGLE PROTEIN      CHEMBL1201862          7   \n",
       "1               '='  ...  SINGLE PROTEIN      CHEMBL1201862          7   \n",
       "2               '='  ...  SINGLE PROTEIN      CHEMBL1201862          7   \n",
       "3               '='  ...  SINGLE PROTEIN      CHEMBL1201862          7   \n",
       "4               '='  ...  SINGLE PROTEIN      CHEMBL1201862          7   \n",
       "\n",
       "   Source Description Document Journal Document Year  Cell ChEMBL ID  \\\n",
       "0   PubChem BioAssays              NaN           NaN            None   \n",
       "1   PubChem BioAssays              NaN           NaN            None   \n",
       "2   PubChem BioAssays              NaN           NaN            None   \n",
       "3   PubChem BioAssays              NaN           NaN            None   \n",
       "4   PubChem BioAssays              NaN           NaN            None   \n",
       "\n",
       "  Properties Action Type Standard Text Value  \n",
       "0        NaN         NaN                 NaN  \n",
       "1        NaN         NaN                 NaN  \n",
       "2        NaN         NaN                 NaN  \n",
       "3        NaN         NaN                 NaN  \n",
       "4        NaN         NaN                 NaN  \n",
       "\n",
       "[5 rows x 47 columns]"
      ]
     },
     "execution_count": 2,
     "metadata": {},
     "output_type": "execute_result"
    }
   ],
   "source": [
    "df = pd.read_csv(\"../datasets/CHEMBL1614421.csv\", dtype={3: 'str'}, sep=\";\")\n",
    "df.head()"
   ]
  },
  {
   "cell_type": "code",
   "execution_count": 3,
   "id": "faa195f3-0f21-4be0-b066-0af5141873da",
   "metadata": {},
   "outputs": [
    {
     "data": {
      "text/plain": [
       "(49752, 47)"
      ]
     },
     "execution_count": 3,
     "metadata": {},
     "output_type": "execute_result"
    }
   ],
   "source": [
    "df = df[df[\"Smiles\"].notna()].copy()\n",
    "df.shape"
   ]
  },
  {
   "cell_type": "code",
   "execution_count": 4,
   "id": "3b14927e-1240-48c9-8c9a-9a6907bedaa9",
   "metadata": {},
   "outputs": [
    {
     "data": {
      "image/png": "[encoded data removed]",
      "text/plain": [
       "<Figure size 432x288 with 1 Axes>"
      ]
     },
     "metadata": {
      "needs_background": "light"
     },
     "output_type": "display_data"
    }
   ],
   "source": [
    "df['pChEMBL Value'].hist();"
   ]
  },
  {
   "cell_type": "code",
   "execution_count": 5,
   "id": "de187f11-10aa-44d3-b488-3f17997a5780",
   "metadata": {},
   "outputs": [
    {
     "data": {
      "text/plain": [
       "0.0    34067\n",
       "1.0     1945\n",
       "Name: Active, dtype: int64"
      ]
     },
     "execution_count": 5,
     "metadata": {},
     "output_type": "execute_result"
    }
   ],
   "source": [
    "# Criamos uma coluna com valores binários com base no pChEMBL value\n",
    "# Maior que 6.0 = ativo, menor que 5.0 = inativo\n",
    "df['Active'] = df['pChEMBL Value'].apply(lambda x: 1 if x > 6.0 else (0 if x < 5.0 else None))\n",
    "df = df.dropna(subset=['Active'])\n",
    "df[\"Active\"].value_counts()"
   ]
  },
  {
   "cell_type": "markdown",
   "id": "8a735f2c-699b-4ee3-90bc-c59828e854d3",
   "metadata": {},
   "source": [
    "Vamos determinar o desbalanceamento do conjunto de dados calculando a *imbalance ratio (IR)*: a razão entre a quantidade de amostras na classe majoritária dividida pela quantidade de amostras na classe minoritária"
   ]
  },
  {
   "cell_type": "code",
   "execution_count": 6,
   "id": "90d1e1fb-0b4a-41bc-93ad-bb5e34917aef",
   "metadata": {},
   "outputs": [],
   "source": [
    "import pandas as pd\n",
    "\n",
    "def imbalance_ratio(binary_col):\n",
    "    \"\"\"\n",
    "    Calcula a razão do número de amostras na classe majoritária\n",
    "    para o número de amostras na classe minoritária para uma coluna com 0s e 1s.\n",
    "\n",
    "    Parâmetros:\n",
    "        binary_col (pd.Series): Uma série Pandas contendo 0s e 1s.\n",
    "    \"\"\"\n",
    "    if not set(binary_col).issubset({0, 1}):\n",
    "        raise ValueError(\"A coluna deve conter apenas 0s e 1s.\")\n",
    "\n",
    "    class_counts = binary_col.value_counts()\n",
    "    majority_class = class_counts.idxmax()\n",
    "    majority_count = class_counts.max()\n",
    "    minority_count = class_counts.min()\n",
    "\n",
    "    imbalance_ratio = majority_count / minority_count\n",
    "    \n",
    "    print(f\"Classe majoritária: {majority_class}\")\n",
    "    print(f\"Imbalance ratio: {imbalance_ratio:.2f}\")"
   ]
  },
  {
   "cell_type": "code",
   "execution_count": 7,
   "id": "f06bffef-c7e1-4acd-a384-943567badc7d",
   "metadata": {},
   "outputs": [
    {
     "name": "stdout",
     "output_type": "stream",
     "text": [
      "Classe majoritária: 0.0\n",
      "Imbalance ratio: 17.52\n"
     ]
    }
   ],
   "source": [
    "imbalance_ratio(df[\"Active\"])"
   ]
  },
  {
   "cell_type": "markdown",
   "id": "d58d7f98-4ab9-40e1-a595-fe248fcfea09",
   "metadata": {},
   "source": [
    "Há 17 vezes mais inativos do que ativos neste conjunto de dados.\n",
    "\n",
    "Podemos agora treinar um modelo de classificação *Random Forest* baseado em *fingerprints Morgan*:"
   ]
  },
  {
   "cell_type": "code",
   "execution_count": 8,
   "id": "e8e287d2-4097-4776-996f-b5c23a6bf95a",
   "metadata": {},
   "outputs": [
    {
     "name": "stderr",
     "output_type": "stream",
     "text": [
      "[16:44:21] WARNING: not removing hydrogen atom without neighbors\n"
     ]
    }
   ],
   "source": [
    "from rdkit import Chem\n",
    "from rdkit.Chem import PandasTools\n",
    "from rdkit.Chem import rdFingerprintGenerator\n",
    "\n",
    "# Cálculo dos Morgan fingerprints\n",
    "\n",
    "# Gerador de fingerprints\n",
    "mfpgen = rdFingerprintGenerator.GetMorganGenerator(fpSize=512)\n",
    "\n",
    "# Adicionar coluna RDKit Mol ao DataFrame\n",
    "PandasTools.AddMoleculeColumnToFrame(df, smilesCol='Smiles', molCol='Mol')\n",
    "\n",
    "# Gerar fingerprints no formato numpy array\n",
    "fps = [mfpgen.GetFingerprintAsNumPy(mol) for mol in df['Mol']]\n",
    "\n",
    "# Converter a um pandas DataFrame\n",
    "fps = pd.DataFrame(fps, columns=[str(i) for i in range(len(fps[0]))])"
   ]
  },
  {
   "cell_type": "code",
   "execution_count": 9,
   "id": "0002990b-3cbd-434d-b840-3ae3b79dcc9b",
   "metadata": {},
   "outputs": [],
   "source": [
    "import numpy as np\n",
    "from sklearn.model_selection import train_test_split\n",
    "\n",
    "# Separar conjuntos de treinamento e teste\n",
    "X_train, X_test, y_train, y_test = train_test_split(fps, df['Active'], stratify=df['Active'], random_state=0)\n",
    "\n",
    "# Isso evita um erro ao chamar a função confusion_matrix()\n",
    "y_train = np.array(y_train)\n",
    "y_test = np.array(y_test)"
   ]
  },
  {
   "cell_type": "code",
   "execution_count": 10,
   "id": "0ee308d0-c410-4af8-9955-64ee5f58d363",
   "metadata": {},
   "outputs": [],
   "source": [
    "# Função para cálculo de métricas dos modelos\n",
    "from sklearn.metrics import accuracy_score, confusion_matrix, cohen_kappa_score, matthews_corrcoef, roc_auc_score\n",
    "\n",
    "def evaluate_classification_model(model, X_train, X_test, y_train, y_test):\n",
    "    model.fit(X_train, y_train)\n",
    "    y_pred = model.predict(X_test)\n",
    "    y_pred_proba = model.predict_proba(X_test)[:, 1]\n",
    "    \n",
    "    # Métricas\n",
    "    metrics = {\n",
    "        'accuracy': accuracy_score(y_test, y_pred),\n",
    "        'cohen_kappa': cohen_kappa_score(y_test, y_pred),\n",
    "        'mcc': matthews_corrcoef(y_test, y_pred),\n",
    "        'roc_auc': roc_auc_score(y_test, y_pred_proba),\n",
    "        'confusion_matrix': confusion_matrix(y_test, y_pred, labels=[0, 1])\n",
    "    }\n",
    "\n",
    "    return metrics\n"
   ]
  },
  {
   "cell_type": "markdown",
   "id": "b1a19dd3-4d2b-4bd7-8f28-52eed02e638d",
   "metadata": {},
   "source": [
    "## Modelo de classificação com valor de corte padrão = 0.5"
   ]
  },
  {
   "cell_type": "code",
   "execution_count": 11,
   "id": "641127fa-10ff-4eb5-b809-9d574f58dd53",
   "metadata": {},
   "outputs": [],
   "source": [
    "from sklearn.ensemble import RandomForestClassifier\n",
    "\n",
    "rf = RandomForestClassifier()"
   ]
  },
  {
   "cell_type": "code",
   "execution_count": 12,
   "id": "99c034b2-6aea-4e9e-8967-76b2ad497409",
   "metadata": {},
   "outputs": [],
   "source": [
    "metrics_threshold_05 = evaluate_classification_model(rf, X_train, X_test, y_train, y_test)"
   ]
  },
  {
   "cell_type": "code",
   "execution_count": 13,
   "id": "85ef9012-997b-4130-bb02-e2421f20e341",
   "metadata": {},
   "outputs": [
    {
     "name": "stdout",
     "output_type": "stream",
     "text": [
      "Acurácia: 0.9520159946684439\n",
      "Kappa de Cohen: 0.22739451728247917\n",
      "MCC: 0.328918310334238\n",
      "ROC/AUC: 0.7776229192546883\n"
     ]
    }
   ],
   "source": [
    "print(\"Acurácia:\", metrics_threshold_05['accuracy'])\n",
    "print(\"Kappa de Cohen:\", metrics_threshold_05['cohen_kappa'])\n",
    "print(\"MCC:\", metrics_threshold_05['mcc'])\n",
    "print(\"ROC/AUC:\", metrics_threshold_05['roc_auc'])"
   ]
  },
  {
   "cell_type": "markdown",
   "id": "13a0794f-ded0-4407-82a9-9e3537856e61",
   "metadata": {},
   "source": [
    "Conforme esperado, o modelo apresenta acurácia muito alta, mas isso não reflete um modelo com alta capacidade preditiva. Vejamos a matriz de confusão, que classifica as predições feitas pelo modelo como verdadeiros positivos, falsos positivos, falsos negativos e verdadeiros negativos:"
   ]
  },
  {
   "cell_type": "code",
   "execution_count": 14,
   "id": "1ec22cfc-5f3d-4b22-b8f6-445955fb22d8",
   "metadata": {},
   "outputs": [
    {
     "data": {
      "text/plain": [
       "array([[8503,   14],\n",
       "       [ 418,   68]], dtype=int64)"
      ]
     },
     "execution_count": 14,
     "metadata": {},
     "output_type": "execute_result"
    }
   ],
   "source": [
    "cm = metrics_threshold_05['confusion_matrix']\n",
    "cm"
   ]
  },
  {
   "cell_type": "markdown",
   "id": "1b2a20a2-c147-424d-942e-f8f45955d25d",
   "metadata": {},
   "source": [
    "Note que a maioria dos compostos do conjunto de teste são preditos como pertencentes à classe 0. Portanto, a métrica acurácia não é confiável nesse caso. Isso pode ser confirmado pelas outras métricas calculadas, que variam de -1 a 1 no caso do Kappa de Cohen, e de 0 a 1 no caso do MCC (quanto mais próximo de 1, melhor é o modelo).\n",
    "\n",
    "Note, porém, que a métrica ROC/AUC tem um valor razoável, indicando que o modelo tem uma razoável capacidade de distinguir ativos de inativos. Vamos ver o que acontece ao modificarmos o *threshold* de classificação para um valor menor. Uma forma de fazer isso é criando uma nova classe do Python a partir da função `RandomForestClassifier`."
   ]
  },
  {
   "cell_type": "markdown",
   "id": "1cdeee72-55da-4d78-8616-c72cf0bac1a9",
   "metadata": {},
   "source": [
    "## Modelo com valor de corte (*threshold*) ajustável"
   ]
  },
  {
   "cell_type": "code",
   "execution_count": 15,
   "id": "13a51cda-0f6c-4e1f-aca7-793d6e1eeb22",
   "metadata": {},
   "outputs": [],
   "source": [
    "from sklearn.ensemble import RandomForestClassifier\n",
    "import numpy as np\n",
    "\n",
    "class CustomThresholdRandomForest(RandomForestClassifier):\n",
    "    def __init__(self, threshold, **kwargs):\n",
    "        super().__init__(**kwargs)\n",
    "        self.threshold = threshold\n",
    "\n",
    "    # Definimos uma nova função predict()\n",
    "    def predict(self, X):\n",
    "        # Probabilidades\n",
    "        y_prob = self.predict_proba(X)\n",
    "\n",
    "        # Aplicamos o threshold desejado\n",
    "        predictions = (y_prob[:, 1] >= self.threshold).astype(int)\n",
    "\n",
    "        return np.array(predictions)\n"
   ]
  },
  {
   "cell_type": "markdown",
   "id": "fc68cf18-56ff-4894-8f37-92e05f6e8486",
   "metadata": {},
   "source": [
    "Vamos explorar alguns valores de corte. Repetimos o valor 0.5 para comparação."
   ]
  },
  {
   "cell_type": "code",
   "execution_count": 16,
   "id": "18a0e067-ff7d-4c6f-9774-2cc5ae9f0c90",
   "metadata": {},
   "outputs": [
    {
     "name": "stdout",
     "output_type": "stream",
     "text": [
      "Modelo com valor de corte igual a 0.5\n",
      "Acurácia: 0.951682772409197\n",
      "Kappa de Cohen: 0.22078608125119759\n",
      "MCC: 0.32079413823261116\n",
      "ROC/AUC: 0.7750960195319841\n",
      "Matriz de confusão\n",
      "[[8502   15]\n",
      " [ 420   66]]\n",
      "\n",
      "Modelo com valor de corte igual a 0.2\n",
      "Acurácia: 0.9505720315450406\n",
      "Kappa de Cohen: 0.41709918626226683\n",
      "MCC: 0.42850948047600057\n",
      "ROC/AUC: 0.7775544287846481\n",
      "Matriz de confusão\n",
      "[[8382  135]\n",
      " [ 310  176]]\n",
      "\n",
      "Modelo com valor de corte igual a 0.1\n",
      "Acurácia: 0.8860379873375541\n",
      "Kappa de Cohen: 0.270571763618919\n",
      "MCC: 0.2935937494206196\n",
      "ROC/AUC: 0.7815405258232022\n",
      "Matriz de confusão\n",
      "[[7731  786]\n",
      " [ 240  246]]\n",
      "\n"
     ]
    }
   ],
   "source": [
    "for thr in [0.5, 0.2, 0.1]:\n",
    "    print(f\"Modelo com valor de corte igual a {thr}\")\n",
    "    threshold_model = CustomThresholdRandomForest(threshold=thr)\n",
    "    metrics_threshold = evaluate_classification_model(threshold_model, X_train, X_test, y_train, y_test)\n",
    "    print(\"Acurácia:\", metrics_threshold['accuracy'])\n",
    "    print(\"Kappa de Cohen:\", metrics_threshold['cohen_kappa'])\n",
    "    print(\"MCC:\", metrics_threshold['mcc'])\n",
    "    print(\"ROC/AUC:\", metrics_threshold['roc_auc'])\n",
    "    print(\"Matriz de confusão\")\n",
    "    print(metrics_threshold['confusion_matrix'])\n",
    "    print()"
   ]
  },
  {
   "cell_type": "markdown",
   "id": "73cc5a75-7307-4905-a57d-a3bd2b44b705",
   "metadata": {},
   "source": [
    "Com a mudança do valor de corte de 0.5 para 0.2, mais amostras são classificadas como positivas, o que aumenta tanto o número de verdadeiros positivos quanto o de falsos positivos. Neste caso, isso melhorou os valores das métricas Kappa de Cohen e MCC, e a acurácia não diminuiu significativamente. Note que o valor de ROC/AUC se mantém aproximadamente constante, pois o modelo que treinamos é essencialmente o mesmo; apenas modificamos o valor de corte da classificação. Neste caso, podemos dizer que a mudança de *threshold* para 0.2 gerou um modelo de classificação melhor que o padrão."
   ]
  },
  {
   "cell_type": "markdown",
   "id": "a588bd2d-2933-4e81-b8b7-9f8f31ea9777",
   "metadata": {},
   "source": [
    "## Considerações finais\n",
    "\n",
    "Neste *Notebook* apresentamos de forma simplificada o conceito de mudança do valor de corte de um modelo de classificação. Ressaltamos que o código não está otimizado para encontrar o melhor valor de corte. A validade dessa estratégia também depende do quanto seu modelo é capaz de discriminar entre as classes: modelos com valores baixos de ROC/AUC não apresentarão melhor desempenho mudando o *threshold* de classificação. Para uma abordagem que otimiza o *threshold* de acordo com o melhor valor de Kappa de Cohen, veja repositório do método [GHOST](https://github.com/rinikerlab/GHOST/)."
   ]
  },
  {
   "cell_type": "code",
   "execution_count": null,
   "id": "f97cd49c-43a1-4ae8-bb71-4a8e260c27b8",
   "metadata": {},
   "outputs": [],
   "source": []
  }
 ],
 "metadata": {
  "kernelspec": {
   "display_name": "Python 3 (ipykernel)",
   "language": "python",
   "name": "python3"
  },
  "language_info": {
   "codemirror_mode": {
    "name": "ipython",
    "version": 3
   },
   "file_extension": ".py",
   "mimetype": "text/x-python",
   "name": "python",
   "nbconvert_exporter": "python",
   "pygments_lexer": "ipython3",
   "version": "3.10.4"
  }
 },
 "nbformat": 4,
 "nbformat_minor": 5
}
