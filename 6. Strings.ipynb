{
 "cells": [
  {
   "cell_type": "markdown",
   "metadata": {},
   "source": [
    "## Strings\n",
    "\n",
    "Agora que sabemos o que são métodos e vimos indexação/slicing, vamos revisitar as strings, a forma como o Python armazena texto."
   ]
  },
  {
   "cell_type": "markdown",
   "metadata": {},
   "source": [
    "### Strings - trabalhando com texto\n",
    "\n",
    "[Documentação](https://docs.python.org/pt-br/3/tutorial/introduction.html#strings)\n",
    "\n",
    "Podemos declarar strings usando diversos tipos de aspas:"
   ]
  },
  {
   "cell_type": "code",
   "execution_count": 1,
   "metadata": {},
   "outputs": [
    {
     "name": "stdout",
     "output_type": "stream",
     "text": [
      "aspas simples aspas duplas aspas duplas triplas\n"
     ]
    }
   ],
   "source": [
    "a = 'aspas simples'\n",
    "b = \"aspas duplas\"\n",
    "c = \"\"\"aspas duplas triplas\"\"\"\n",
    "print(a, b, c)"
   ]
  },
  {
   "cell_type": "markdown",
   "metadata": {},
   "source": [
    "Aqui, vale comentar a função especial da barra invertida: **\\\\**\n",
    "\n",
    "Esse caractere nos permite utilizar funções especiais dentro das strings, ou utilizar aspas dentro da string.\n",
    "\n",
    "Por exemplo, o código a seguir não funciona, pois a string é interrompida no momento errado:"
   ]
  },
  {
   "cell_type": "code",
   "execution_count": 2,
   "metadata": {},
   "outputs": [
    {
     "ename": "SyntaxError",
     "evalue": "invalid syntax (<ipython-input-2-011249cf3c0c>, line 1)",
     "output_type": "error",
     "traceback": [
      "\u001b[1;36m  File \u001b[1;32m\"<ipython-input-2-011249cf3c0c>\"\u001b[1;36m, line \u001b[1;32m1\u001b[0m\n\u001b[1;33m    print(\"Python é \"relativamente\" fácil\")\u001b[0m\n\u001b[1;37m                                 ^\u001b[0m\n\u001b[1;31mSyntaxError\u001b[0m\u001b[1;31m:\u001b[0m invalid syntax\n"
     ]
    }
   ],
   "source": [
    "print(\"Python é \"relativamente\" fácil\")"
   ]
  },
  {
   "cell_type": "markdown",
   "metadata": {},
   "source": [
    "Podemos usar o sinal **\\\\** antes das aspas para \"escapar\", ou seja, indicamos para o Python que as aspas do meio não devem ser interpretadas como final de string, mas como texto:"
   ]
  },
  {
   "cell_type": "code",
   "execution_count": 3,
   "metadata": {},
   "outputs": [
    {
     "name": "stdout",
     "output_type": "stream",
     "text": [
      "Python é \"relativamente\" fácil\n"
     ]
    }
   ],
   "source": [
    "print(\"Python é \\\"relativamente\\\" fácil\")"
   ]
  },
  {
   "cell_type": "markdown",
   "metadata": {},
   "source": [
    "Também podemos usar os símbolos especiais \\\\t e \\\\n, que funcionam, respectivamente, como as teclas Tab e Enter."
   ]
  },
  {
   "cell_type": "code",
   "execution_count": 4,
   "metadata": {},
   "outputs": [
    {
     "name": "stdout",
     "output_type": "stream",
     "text": [
      "\tUsando um Tab\n",
      "\t\tUsando dois Tabs\n",
      "\t\t\tUsando três Tabs\n"
     ]
    }
   ],
   "source": [
    "print(\"\\tUsando um Tab\")\n",
    "print(\"\\t\\tUsando dois Tabs\")\n",
    "print(\"\\t\\t\\tUsando três Tabs\")"
   ]
  },
  {
   "cell_type": "code",
   "execution_count": 5,
   "metadata": {},
   "outputs": [
    {
     "name": "stdout",
     "output_type": "stream",
     "text": [
      "Primeira linha \n",
      " Segunda linha\n"
     ]
    }
   ],
   "source": [
    "print(\"Primeira linha \\n Segunda linha\")"
   ]
  },
  {
   "cell_type": "markdown",
   "metadata": {},
   "source": [
    "### Indexação e Slicing\n",
    "\n",
    "Strings, sendo sequências de caracteres, podem ser indexadas como listas:"
   ]
  },
  {
   "cell_type": "code",
   "execution_count": 6,
   "metadata": {},
   "outputs": [
    {
     "name": "stdout",
     "output_type": "stream",
     "text": [
      "P\n",
      "thon\n",
      "Pyt\n"
     ]
    }
   ],
   "source": [
    "a = \"Python\"\n",
    "print(a[0])\n",
    "print(a[2:])\n",
    "print(a[:-3])"
   ]
  },
  {
   "cell_type": "markdown",
   "metadata": {},
   "source": [
    "Note que, diferente de listas, strings são imutáveis, ou seja, não podemos mudar o valor de uma string usando indexação"
   ]
  },
  {
   "cell_type": "code",
   "execution_count": 7,
   "metadata": {},
   "outputs": [
    {
     "ename": "TypeError",
     "evalue": "'str' object does not support item assignment",
     "output_type": "error",
     "traceback": [
      "\u001b[1;31m---------------------------------------------------------------------------\u001b[0m",
      "\u001b[1;31mTypeError\u001b[0m                                 Traceback (most recent call last)",
      "\u001b[1;32m<ipython-input-7-0cd17df3e468>\u001b[0m in \u001b[0;36m<module>\u001b[1;34m()\u001b[0m\n\u001b[1;32m----> 1\u001b[1;33m \u001b[0ma\u001b[0m\u001b[1;33m[\u001b[0m\u001b[1;36m4\u001b[0m\u001b[1;33m]\u001b[0m \u001b[1;33m=\u001b[0m \u001b[1;34m\"x\"\u001b[0m\u001b[1;33m\u001b[0m\u001b[1;33m\u001b[0m\u001b[0m\n\u001b[0m",
      "\u001b[1;31mTypeError\u001b[0m: 'str' object does not support item assignment"
     ]
    }
   ],
   "source": [
    "a[4] = \"x\""
   ]
  },
  {
   "cell_type": "markdown",
   "metadata": {},
   "source": [
    "### Convertendo strings a listas e vice-versa\n",
    "\n",
    "De fato, essa similaridade entre strings e listas nos permite converter um formato a outro\n",
    "\n",
    "`split()`: \"Quebra\" uma string (por exemplo, nos espaços), criando uma lista em que cada item é um \"pedaço\" da string original\n",
    "\n",
    "`join()`: Esse método nos permite juntar os itens de uma lista a uma string, usando o separador que desejamos.\n",
    "\n",
    "Exemplos:"
   ]
  },
  {
   "cell_type": "code",
   "execution_count": null,
   "metadata": {},
   "outputs": [],
   "source": [
    "s = \"um dois três quatro\"\n",
    "l = s.split()\n",
    "print(l)"
   ]
  },
  {
   "cell_type": "code",
   "execution_count": null,
   "metadata": {},
   "outputs": [],
   "source": [
    "s = \"palavras_separadas_por_underline\"\n",
    "l = s.split(\"_\")\n",
    "print(l)"
   ]
  },
  {
   "cell_type": "code",
   "execution_count": 8,
   "metadata": {},
   "outputs": [
    {
     "name": "stdout",
     "output_type": "stream",
     "text": [
      "25/12/1990\n"
     ]
    }
   ],
   "source": [
    "l = ['25', '12', '1990']  # é importante que todos os itens da lista sejam strings\n",
    "s = \"/\".join(l)  # usamos o método join em uma string que contém o separador desejado para os itens da lista\n",
    "print(s)"
   ]
  },
  {
   "cell_type": "markdown",
   "metadata": {},
   "source": [
    "### Formatando strings\n",
    "\n",
    "Imagine que queremos representar o valor de uma ou mais variáveis dentro de uma string. Existem diversas maneiras de realizar essa operação em Python. Por exemplo, para criar a frase \"Maria tem 18 anos e sua altura é igual a 1.66\":"
   ]
  },
  {
   "cell_type": "markdown",
   "metadata": {},
   "source": [
    "#### 1. Contatenando strings"
   ]
  },
  {
   "cell_type": "code",
   "execution_count": 9,
   "metadata": {},
   "outputs": [
    {
     "ename": "TypeError",
     "evalue": "can only concatenate str (not \"int\") to str",
     "output_type": "error",
     "traceback": [
      "\u001b[1;31m---------------------------------------------------------------------------\u001b[0m",
      "\u001b[1;31mTypeError\u001b[0m                                 Traceback (most recent call last)",
      "\u001b[1;32m<ipython-input-9-5ff73e988363>\u001b[0m in \u001b[0;36m<module>\u001b[1;34m()\u001b[0m\n\u001b[0;32m      2\u001b[0m \u001b[0maltura\u001b[0m \u001b[1;33m=\u001b[0m \u001b[1;36m1.66\u001b[0m\u001b[1;33m\u001b[0m\u001b[1;33m\u001b[0m\u001b[0m\n\u001b[0;32m      3\u001b[0m \u001b[0mnome\u001b[0m \u001b[1;33m=\u001b[0m \u001b[1;34m\"Maria\"\u001b[0m\u001b[1;33m\u001b[0m\u001b[1;33m\u001b[0m\u001b[0m\n\u001b[1;32m----> 4\u001b[1;33m \u001b[0mfrase\u001b[0m \u001b[1;33m=\u001b[0m \u001b[0mnome\u001b[0m \u001b[1;33m+\u001b[0m \u001b[1;34m\"tem\"\u001b[0m \u001b[1;33m+\u001b[0m \u001b[0midade\u001b[0m \u001b[1;33m+\u001b[0m \u001b[1;34m\"anos e sua altura é igual a\"\u001b[0m \u001b[1;33m+\u001b[0m \u001b[0maltura\u001b[0m\u001b[1;33m\u001b[0m\u001b[1;33m\u001b[0m\u001b[0m\n\u001b[0m\u001b[0;32m      5\u001b[0m \u001b[0mprint\u001b[0m\u001b[1;33m(\u001b[0m\u001b[0mfrase\u001b[0m\u001b[1;33m)\u001b[0m\u001b[1;33m\u001b[0m\u001b[1;33m\u001b[0m\u001b[0m\n",
      "\u001b[1;31mTypeError\u001b[0m: can only concatenate str (not \"int\") to str"
     ]
    }
   ],
   "source": [
    "idade = 18\n",
    "altura = 1.66\n",
    "nome = \"Maria\"\n",
    "frase = nome + \"tem\" + idade + \"anos e sua altura é igual a\" + altura\n",
    "print(frase)"
   ]
  },
  {
   "cell_type": "markdown",
   "metadata": {},
   "source": [
    "O código falha, pois o Python não converte implicitamente os números a strings. Devemos fazer isso explicitamente:"
   ]
  },
  {
   "cell_type": "code",
   "execution_count": null,
   "metadata": {},
   "outputs": [],
   "source": [
    "idade = 18\n",
    "altura = 1.66\n",
    "nome = \"Maria\"\n",
    "frase = nome + \"tem\" + str(idade) + \"anos e sua altura é igual a\" + str(altura)\n",
    "print(frase)"
   ]
  },
  {
   "cell_type": "markdown",
   "metadata": {},
   "source": [
    "#### 2. Usando vírgulas na função `print`"
   ]
  },
  {
   "cell_type": "code",
   "execution_count": null,
   "metadata": {},
   "outputs": [],
   "source": [
    "idade = 18\n",
    "altura = 1.66\n",
    "nome = \"Maria\"\n",
    "print(nome, \"tem\", idade, \"anos e sua altura é igual a\", altura)"
   ]
  },
  {
   "cell_type": "markdown",
   "metadata": {},
   "source": [
    "Essa forma é confusa, pois precisamos cortar a frase em diversos pontos para encaixar os valores das variáveis. Note que a função print converteu implicitamente os números a strings e realizou sua concatenação."
   ]
  },
  {
   "cell_type": "markdown",
   "metadata": {},
   "source": [
    "#### 3. Usando `%`\n",
    "\n",
    "Também podemos usar o sinal especial `%`. Não vou entrar em detalhes pois praticamente não uso essa função, mas é possível encontrá-la em códigos mais antigos. \n",
    "\n",
    "Para usá-la, marcamos com `%` o lugar da string em que queremos inserir o valor de uma variável, seguido do tipo da variável: s para string, i para inteiro, f para float. Na frente da string, colocamos `%()` com os valores das variáveis dentro dos parênteses."
   ]
  },
  {
   "cell_type": "code",
   "execution_count": 10,
   "metadata": {},
   "outputs": [
    {
     "name": "stdout",
     "output_type": "stream",
     "text": [
      "Maria tem 18 anos e sua altura é igual a 1.660000\n"
     ]
    }
   ],
   "source": [
    "idade = 18\n",
    "altura = 1.66\n",
    "nome = \"Maria\"\n",
    "print(\"%s tem %i anos e sua altura é igual a %f\" %(nome, idade, altura))"
   ]
  },
  {
   "cell_type": "markdown",
   "metadata": {},
   "source": [
    "Veja que o float ficou com muitas casas. Podemos consertar isso colocando antes do `f` um `.` seguido de quantas casas queremos depois do ponto."
   ]
  },
  {
   "cell_type": "code",
   "execution_count": 11,
   "metadata": {},
   "outputs": [
    {
     "name": "stdout",
     "output_type": "stream",
     "text": [
      "Maria tem 18 anos e sua altura é igual a 1.66\n"
     ]
    }
   ],
   "source": [
    "idade = 18\n",
    "altura = 1.66\n",
    "nome = \"Maria\"\n",
    "print(\"%s tem %i anos e sua altura é igual a %.2f\" %(nome, idade, altura))"
   ]
  },
  {
   "cell_type": "markdown",
   "metadata": {},
   "source": [
    "#### 4. Usando o método `.format()`\n",
    "\n",
    "Essa forma é mais usada, bastando declarar chaves nas posições da string que queremos modificar com valores de variáveis.\n",
    "\n",
    "Note que, para floats, também podemos definir o número de casas que queremos depois do ponto, mas nesse caso, devemos usar dois pontos antes de .2f"
   ]
  },
  {
   "cell_type": "code",
   "execution_count": 12,
   "metadata": {},
   "outputs": [
    {
     "name": "stdout",
     "output_type": "stream",
     "text": [
      "Maria tem 18 anos e sua altura é igual a 1.66\n"
     ]
    }
   ],
   "source": [
    "idade = 18\n",
    "altura = 1.66\n",
    "nome = \"Maria\"\n",
    "print(\"{} tem {} anos e sua altura é igual a {:.2f}\".format(nome, idade, altura))"
   ]
  },
  {
   "cell_type": "markdown",
   "metadata": {},
   "source": [
    "Se quiser usar o sinal das chaves dentro da string, basta declarar a chave duas vezes"
   ]
  },
  {
   "cell_type": "code",
   "execution_count": 13,
   "metadata": {},
   "outputs": [
    {
     "name": "stdout",
     "output_type": "stream",
     "text": [
      "Maria tem 18 anos e sua altura é igual a 1.66. Abre: {  Fecha: }\n"
     ]
    }
   ],
   "source": [
    "print(\"{} tem {} anos e sua altura é igual a {:.2f}. Abre: {{  Fecha: }}\".format(nome, idade, altura))"
   ]
  },
  {
   "cell_type": "markdown",
   "metadata": {},
   "source": [
    "#### 5. Usando f-strings\n",
    "\n",
    "Essa forma de inserir variáveis em strings funciona a partir do Python 3.6 (se estiver usando uma versão mais antiga, considere atualizá-la). Assim como no método anterior, usamos chaves nas posições da string que queremos modificar com valores de variáveis, porém, com a diferença de que colocamos os nomes das variáveis dentro das chaves. Além disso, colocamos a letra `f` antes das aspas, por isso o nome **f-string**.\n",
    "\n",
    "Para floats, também podemos definir o número de casas que queremos depois do ponto."
   ]
  },
  {
   "cell_type": "code",
   "execution_count": 14,
   "metadata": {},
   "outputs": [
    {
     "name": "stdout",
     "output_type": "stream",
     "text": [
      "Maria tem 18 anos e sua altura é igual a 1.66\n"
     ]
    }
   ],
   "source": [
    "idade = 18\n",
    "altura = 1.66\n",
    "nome = \"Maria\"\n",
    "print(f\"{nome} tem {idade} anos e sua altura é igual a {altura:.2f}\")"
   ]
  },
  {
   "cell_type": "markdown",
   "metadata": {},
   "source": [
    "### Métodos de strings\n",
    "\n",
    "Mais alguns métodos que podem ser úteis ao lidar com strings."
   ]
  },
  {
   "cell_type": "code",
   "execution_count": 15,
   "metadata": {},
   "outputs": [],
   "source": [
    "a = \"Hello World\""
   ]
  },
  {
   "cell_type": "code",
   "execution_count": 16,
   "metadata": {},
   "outputs": [
    {
     "data": {
      "text/plain": [
       "'HELLO WORLD'"
      ]
     },
     "execution_count": 16,
     "metadata": {},
     "output_type": "execute_result"
    }
   ],
   "source": [
    "# Maiúsculas\n",
    "a.upper()"
   ]
  },
  {
   "cell_type": "code",
   "execution_count": 17,
   "metadata": {},
   "outputs": [
    {
     "data": {
      "text/plain": [
       "'hello world'"
      ]
     },
     "execution_count": 17,
     "metadata": {},
     "output_type": "execute_result"
    }
   ],
   "source": [
    "# Minúsculas\n",
    "a.lower()"
   ]
  },
  {
   "cell_type": "code",
   "execution_count": 18,
   "metadata": {},
   "outputs": [
    {
     "data": {
      "text/plain": [
       "7"
      ]
     },
     "execution_count": 18,
     "metadata": {},
     "output_type": "execute_result"
    }
   ],
   "source": [
    "# Encontrando o índice de uma substring\n",
    "a.index('orld')"
   ]
  },
  {
   "cell_type": "code",
   "execution_count": 19,
   "metadata": {},
   "outputs": [
    {
     "data": {
      "text/plain": [
       "False"
      ]
     },
     "execution_count": 19,
     "metadata": {},
     "output_type": "execute_result"
    }
   ],
   "source": [
    "# A string começa com os seguintes caracteres? Retorna um boolean\n",
    "a.startswith(\"Pyt\")"
   ]
  },
  {
   "cell_type": "code",
   "execution_count": 20,
   "metadata": {},
   "outputs": [
    {
     "data": {
      "text/plain": [
       "True"
      ]
     },
     "execution_count": 20,
     "metadata": {},
     "output_type": "execute_result"
    }
   ],
   "source": [
    "a.startswith(\"Hel\")"
   ]
  },
  {
   "cell_type": "code",
   "execution_count": 21,
   "metadata": {},
   "outputs": [
    {
     "data": {
      "text/plain": [
       "False"
      ]
     },
     "execution_count": 21,
     "metadata": {},
     "output_type": "execute_result"
    }
   ],
   "source": [
    "# Note que o uso de maiúsculas e minúsculas é importante\n",
    "a.startswith(\"hello\")"
   ]
  }
 ],
 "metadata": {
  "kernelspec": {
   "display_name": "Python 3",
   "language": "python",
   "name": "python3"
  },
  "language_info": {
   "codemirror_mode": {
    "name": "ipython",
    "version": 3
   },
   "file_extension": ".py",
   "mimetype": "text/x-python",
   "name": "python",
   "nbconvert_exporter": "python",
   "pygments_lexer": "ipython3",
   "version": "3.7.7"
  }
 },
 "nbformat": 4,
 "nbformat_minor": 4
}
