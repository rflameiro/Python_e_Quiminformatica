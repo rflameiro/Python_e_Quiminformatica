{
 "cells": [
  {
   "cell_type": "markdown",
   "metadata": {},
   "source": [
    "Coleções são conjuntos de dados. Como visto anteriormente, algumas das coleções mais importantes em Python são: listas, dicionários, tuplas e sets. Vamos ver mais detalhes sobre cada uma."
   ]
  },
  {
   "cell_type": "markdown",
   "metadata": {},
   "source": [
    "## Listas\n",
    "\n",
    "Listas são declaradas usando colchetes"
   ]
  },
  {
   "cell_type": "code",
   "execution_count": 1,
   "metadata": {},
   "outputs": [],
   "source": [
    "l1 = [4, 3, 5, 9]"
   ]
  },
  {
   "cell_type": "markdown",
   "metadata": {},
   "source": [
    "### Funções\n",
    "\n",
    "Já vimos algumas funções disponíveis para listas:"
   ]
  },
  {
   "cell_type": "code",
   "execution_count": 2,
   "metadata": {},
   "outputs": [
    {
     "name": "stdout",
     "output_type": "stream",
     "text": [
      "4\n",
      "21\n"
     ]
    }
   ],
   "source": [
    "print(len(l1))  # tamanho, número de itens\n",
    "print(sum(l1))  # soma dos valores"
   ]
  },
  {
   "cell_type": "code",
   "execution_count": 3,
   "metadata": {},
   "outputs": [
    {
     "name": "stdout",
     "output_type": "stream",
     "text": [
      "[3, 4, 5, 9]\n",
      "3\n",
      "9\n"
     ]
    }
   ],
   "source": [
    "print(sorted(l1))  # retorna os valores da lista ordenados\n",
    "print(min(l1))  # retorna o valor mínimo da lista\n",
    "print(max(l1))  # retorna o valor máximo da lista"
   ]
  },
  {
   "cell_type": "markdown",
   "metadata": {},
   "source": [
    "Vamos ver o que acontece quando tentamos somar duas listas"
   ]
  },
  {
   "cell_type": "code",
   "execution_count": 4,
   "metadata": {},
   "outputs": [
    {
     "name": "stdout",
     "output_type": "stream",
     "text": [
      "[4, 3, 5, 9, 6, 6, 6, 6]\n"
     ]
    }
   ],
   "source": [
    "l2 = [6, 6, 6, 6]\n",
    "print(l1 + l2)"
   ]
  },
  {
   "cell_type": "markdown",
   "metadata": {},
   "source": [
    "Vemos que as listas são concatenadas, assim como strings.\n",
    "\n",
    "Mais para frente, veremos sobre o módulo numpy que permite a soma entre valores de listas diferentes."
   ]
  },
  {
   "cell_type": "markdown",
   "metadata": {},
   "source": [
    "Existe uma forma simples de criar listas com valores repetidos"
   ]
  },
  {
   "cell_type": "code",
   "execution_count": 5,
   "metadata": {},
   "outputs": [
    {
     "name": "stdout",
     "output_type": "stream",
     "text": [
      "[0, 0, 0, 0, 0, 0, 0, 0, 0, 0]\n"
     ]
    }
   ],
   "source": [
    "# Criando uma lista com 10 zeros\n",
    "l_zeros = [0]*10  # Usamos o sinal de multiplicação\n",
    "print(l_zeros)"
   ]
  },
  {
   "cell_type": "markdown",
   "metadata": {},
   "source": [
    "A \"multiplicação\" também funciona com listas com mais de um valor"
   ]
  },
  {
   "cell_type": "code",
   "execution_count": 6,
   "metadata": {},
   "outputs": [
    {
     "name": "stdout",
     "output_type": "stream",
     "text": [
      "[5, 6, 5, 6, 5, 6]\n"
     ]
    }
   ],
   "source": [
    "print([5,6]*3)"
   ]
  },
  {
   "cell_type": "markdown",
   "metadata": {},
   "source": [
    "### Métodos\n",
    "\n",
    "Um método é uma função que “pertence” a uma instância de uma classe (objeto).\n",
    "\n",
    "Diferentes objetos podem apresentar métodos diferentes, ou mesmo possuirem o mesmo método.\n",
    "\n",
    "Diferentemente das funções \"gerais\", que são chamadas através de seu nome, seguido de parênteses e o objeto (ex: `len(l1)`), métodos são chamados usando o nome do objeto seguido de `.method_name()`\n",
    "\n",
    "[Documentação: Classes](https://docs.python.org/pt-br/3/tutorial/classes.html)\n",
    "\n",
    "Por exemplo, o método `.sort()` pode ser usado para ordenar os valores de uma lista. Note as diferenças com relação à função `sorted()`"
   ]
  },
  {
   "cell_type": "code",
   "execution_count": 7,
   "metadata": {},
   "outputs": [
    {
     "name": "stdout",
     "output_type": "stream",
     "text": [
      "[5, 1, 6, 9]\n",
      "[5, 1, 6, 9]\n"
     ]
    }
   ],
   "source": [
    "l1 = [5, 1, 6, 9]\n",
    "print(l1)\n",
    "sorted(l1)\n",
    "print(l1)  # l1 não foi alterada"
   ]
  },
  {
   "cell_type": "markdown",
   "metadata": {},
   "source": [
    "A forma correta de usar a função `sorted()` é atribuindo seu output a outra variável:"
   ]
  },
  {
   "cell_type": "code",
   "execution_count": 8,
   "metadata": {},
   "outputs": [
    {
     "name": "stdout",
     "output_type": "stream",
     "text": [
      "[1, 5, 6, 9]\n"
     ]
    }
   ],
   "source": [
    "l2 = sorted(l1)\n",
    "print(l2)"
   ]
  },
  {
   "cell_type": "markdown",
   "metadata": {},
   "source": [
    "Veja que usando o método `.sort()`, o resultado é diferente"
   ]
  },
  {
   "cell_type": "code",
   "execution_count": 9,
   "metadata": {},
   "outputs": [
    {
     "name": "stdout",
     "output_type": "stream",
     "text": [
      "[5, 1, 6, 9]\n",
      "[1, 5, 6, 9]\n"
     ]
    }
   ],
   "source": [
    "l1 = [5, 1, 6, 9]\n",
    "print(l1)\n",
    "l1.sort()\n",
    "print(l1)  # l1 foi alterada!"
   ]
  },
  {
   "cell_type": "markdown",
   "metadata": {},
   "source": [
    "Veja a diferença entre o output depois do uso da função e do método:"
   ]
  },
  {
   "cell_type": "code",
   "execution_count": 10,
   "metadata": {},
   "outputs": [
    {
     "name": "stdout",
     "output_type": "stream",
     "text": [
      "[1, 5, 6, 9]\n",
      "None\n"
     ]
    }
   ],
   "source": [
    "l1 = [5, 1, 6, 9]\n",
    "print(sorted(l1))\n",
    "print(l1.sort())"
   ]
  },
  {
   "cell_type": "markdown",
   "metadata": {},
   "source": [
    "Ou seja: a **função** `sorted()` retorna um objeto e **não modifica** o objeto original. O **método** `.sort()` não retorna um objeto (retorna None) e **modifica** diretamente o objeto original.\n",
    "\n",
    "Outros métodos de listas:"
   ]
  },
  {
   "cell_type": "code",
   "execution_count": 11,
   "metadata": {},
   "outputs": [
    {
     "name": "stdout",
     "output_type": "stream",
     "text": [
      "[5, 1, 6, 9, 88]\n"
     ]
    }
   ],
   "source": [
    "l1 = [5, 1, 6, 9]\n",
    "l1.append(88)  # adiciona um valor ao final da lista\n",
    "print(l1)"
   ]
  },
  {
   "cell_type": "code",
   "execution_count": 12,
   "metadata": {},
   "outputs": [
    {
     "name": "stdout",
     "output_type": "stream",
     "text": [
      "[5, 1, 6]\n"
     ]
    }
   ],
   "source": [
    "l1 = [5, 1, 6, 9]\n",
    "l1.pop()  # remove o último valor da lista e retorna esse valor\n",
    "print(l1)"
   ]
  },
  {
   "cell_type": "code",
   "execution_count": 13,
   "metadata": {},
   "outputs": [
    {
     "name": "stdout",
     "output_type": "stream",
     "text": [
      "0\n"
     ]
    }
   ],
   "source": [
    "l1 = [\"a\", \"b\", \"c\"]\n",
    "print(l1.index(\"a\"))  # retorna o índice da primeira ocorrência do valor passado"
   ]
  },
  {
   "cell_type": "code",
   "execution_count": 14,
   "metadata": {},
   "outputs": [
    {
     "name": "stdout",
     "output_type": "stream",
     "text": [
      "True\n",
      "False\n"
     ]
    }
   ],
   "source": [
    "# in verifica se um valor se encontra na lista e retorna um boolean (próximo notebook)\n",
    "l1 = [\"a\", \"b\", \"c\"]\n",
    "print(\"b\" in l1)\n",
    "print(\"d\" in l1)"
   ]
  },
  {
   "cell_type": "markdown",
   "metadata": {},
   "source": [
    "### Indexação\n",
    "\n",
    "É uma forma de localizar itens em uma lista. Cada item em uma lista tem uma posição, mas o Python tem uma peculiaridade: os índices começam em 0, e não em 1. Portanto, o primeiro item da lista é o item 0, o segundo é o item 1, etc.\n",
    "\n",
    "Para indexar um valor em uma lista usamos o número do índice entre colchetes. Cuidado! Em Python, o mesmo símbolo pode ter significados diferentes em contextos diferentes. Lembre-se que os colchetes podem ser usados para declarar listas, mas nesse caso, não representam listas, e sim índices de uma lista. Um outro exemplo é o símbolo `*`, lembre-se que ele pode representar: multiplicação de números, criação de listas com valores repetidos, e, no caso de declaração de uma função, representa argumentos com número indeterminado.\n",
    "\n",
    "Vejamos como indexar itens em uma lista:"
   ]
  },
  {
   "cell_type": "code",
   "execution_count": 15,
   "metadata": {},
   "outputs": [
    {
     "name": "stdout",
     "output_type": "stream",
     "text": [
      "Alberto\n"
     ]
    }
   ],
   "source": [
    "l1 = [\"Alberto\", \"Carla\", \"Pedro\", \"Maria\", \"Mariana\"]\n",
    "print(l1[0])  # O primeiro item da lista l1"
   ]
  },
  {
   "cell_type": "code",
   "execution_count": 16,
   "metadata": {},
   "outputs": [
    {
     "name": "stdout",
     "output_type": "stream",
     "text": [
      "Alberto Pedro\n"
     ]
    }
   ],
   "source": [
    "print(l1[0], l1[2])  # O primeiro e o terceiro item da lista l1"
   ]
  },
  {
   "cell_type": "markdown",
   "metadata": {},
   "source": [
    "Usando índices negativos, podemos indexar começando do final da lista. O último valor de uma lista está no índice -1, o penúltimo -2, e assim por diante"
   ]
  },
  {
   "cell_type": "code",
   "execution_count": 17,
   "metadata": {},
   "outputs": [
    {
     "name": "stdout",
     "output_type": "stream",
     "text": [
      "Mariana\n"
     ]
    }
   ],
   "source": [
    "print(l1[-1])"
   ]
  },
  {
   "cell_type": "markdown",
   "metadata": {},
   "source": [
    "Listas são mutáveis, o que significa que valores de uma lista podem ser alterados usando declarações:"
   ]
  },
  {
   "cell_type": "code",
   "execution_count": 18,
   "metadata": {},
   "outputs": [
    {
     "name": "stdout",
     "output_type": "stream",
     "text": [
      "['Alberto', 'Carla', 'Pedro', 'Maria', 'Mariana']\n",
      "['Novo nome', 'Carla', 'Pedro', 'Maria', 'Mariana']\n"
     ]
    }
   ],
   "source": [
    "print(l1)\n",
    "l1[0] = \"Novo nome\"  # declaramos que o valor no índice 0 da lista l1 passa a ser \"Novo nome\"\n",
    "print(l1)  # a lista é modificada"
   ]
  },
  {
   "cell_type": "markdown",
   "metadata": {},
   "source": [
    "### Slicing\n",
    "\n",
    "É uma outra forma de indexar, mas em vez de selecionarmos índices individuais, selecionamos intervalos de índices. Para isso, usamos dois pontos.\n",
    "\n",
    "Por exemplo, para selecionarmos do primeiro ao segundo item da lista l1, fazemos:"
   ]
  },
  {
   "cell_type": "code",
   "execution_count": 19,
   "metadata": {},
   "outputs": [
    {
     "name": "stdout",
     "output_type": "stream",
     "text": [
      "['Novo nome', 'Carla']\n"
     ]
    }
   ],
   "source": [
    "print(l1[0:2])"
   ]
  },
  {
   "cell_type": "markdown",
   "metadata": {},
   "source": [
    "Observe que, apesar de termos colocado o índice 2, o valor de índice 2 não foi incluído no slicing. Dizemos que o slicing é não-inclusivo, ou seja, os itens retornados vão até o último índice anterior ao que foi declarado. Se quiséssemos retornar do primeiro ao terceiro item, teríamos que usar:"
   ]
  },
  {
   "cell_type": "code",
   "execution_count": 20,
   "metadata": {},
   "outputs": [
    {
     "name": "stdout",
     "output_type": "stream",
     "text": [
      "['Novo nome', 'Carla', 'Pedro']\n"
     ]
    }
   ],
   "source": [
    "print(l1[0:3])"
   ]
  },
  {
   "cell_type": "markdown",
   "metadata": {},
   "source": [
    "Do segundo ao quarto:"
   ]
  },
  {
   "cell_type": "code",
   "execution_count": 21,
   "metadata": {},
   "outputs": [
    {
     "name": "stdout",
     "output_type": "stream",
     "text": [
      "['Pedro', 'Maria', 'Mariana']\n"
     ]
    }
   ],
   "source": [
    "print(l1[2:5])"
   ]
  },
  {
   "cell_type": "markdown",
   "metadata": {},
   "source": [
    "Também podemos usar intervalos abertos para selecionar do primeiro até o índice desejado, ou de um índice desejado até o último.\n",
    "\n",
    "Por exemplo, do segundo até o último item da lista:"
   ]
  },
  {
   "cell_type": "code",
   "execution_count": 22,
   "metadata": {},
   "outputs": [
    {
     "name": "stdout",
     "output_type": "stream",
     "text": [
      "['Pedro', 'Maria', 'Mariana']\n"
     ]
    }
   ],
   "source": [
    "print(l1[2:])"
   ]
  },
  {
   "cell_type": "markdown",
   "metadata": {},
   "source": [
    "Do primeiro até o quarto:"
   ]
  },
  {
   "cell_type": "code",
   "execution_count": 23,
   "metadata": {},
   "outputs": [
    {
     "name": "stdout",
     "output_type": "stream",
     "text": [
      "['Novo nome', 'Carla', 'Pedro', 'Maria', 'Mariana']\n"
     ]
    }
   ],
   "source": [
    "print(l1[:5])"
   ]
  },
  {
   "cell_type": "markdown",
   "metadata": {},
   "source": [
    "Usando índices negativos"
   ]
  },
  {
   "cell_type": "code",
   "execution_count": 24,
   "metadata": {},
   "outputs": [
    {
     "name": "stdout",
     "output_type": "stream",
     "text": [
      "['Pedro', 'Maria']\n"
     ]
    }
   ],
   "source": [
    "print(l1[2:-1])"
   ]
  },
  {
   "cell_type": "markdown",
   "metadata": {},
   "source": [
    "### Listas de listas\n",
    "\n",
    "É possível criar listas dentro de listas, por exemplo, podemos criar uma matriz 3x3:"
   ]
  },
  {
   "cell_type": "code",
   "execution_count": 25,
   "metadata": {},
   "outputs": [],
   "source": [
    "m = [[0, 1, 2], [3, 4, 5], [6, 7, 8]]"
   ]
  },
  {
   "cell_type": "markdown",
   "metadata": {},
   "source": [
    "A declaração abaixo é igual à anterior, mas é mais fácil visualizar as linhas e colunas:"
   ]
  },
  {
   "cell_type": "code",
   "execution_count": 26,
   "metadata": {},
   "outputs": [],
   "source": [
    "m = [\n",
    "    [0, 1, 2], \n",
    "    [3, 4, 5],\n",
    "    [6, 7, 8]\n",
    "]"
   ]
  },
  {
   "cell_type": "markdown",
   "metadata": {},
   "source": [
    "Para acessar o item 5, que é o terceiro item da segunda linha, usamos indexação dupla, lembrando que, em Python, os índices começam em zero:"
   ]
  },
  {
   "cell_type": "code",
   "execution_count": 27,
   "metadata": {},
   "outputs": [
    {
     "name": "stdout",
     "output_type": "stream",
     "text": [
      "5\n"
     ]
    }
   ],
   "source": [
    "print(m[1][2])  #  índice da linha 1, item de índice 2"
   ]
  },
  {
   "cell_type": "markdown",
   "metadata": {},
   "source": [
    "Podemos também usar slicing para selecionar os itens 6 a 8, lembrando que slicing é não-inclusivo:"
   ]
  },
  {
   "cell_type": "code",
   "execution_count": 28,
   "metadata": {},
   "outputs": [
    {
     "name": "stdout",
     "output_type": "stream",
     "text": [
      "[6, 7, 8]\n"
     ]
    }
   ],
   "source": [
    "print(m[2][0:3])"
   ]
  },
  {
   "cell_type": "markdown",
   "metadata": {},
   "source": [
    "## Tuplas\n",
    "\n",
    "São similares às listas, mas declaradas com parênteses. Importante: operações em Python também podem estar entre parênteses. O Python é capaz de diferenciar as duas aplicações. Exemplo:"
   ]
  },
  {
   "cell_type": "code",
   "execution_count": 29,
   "metadata": {},
   "outputs": [],
   "source": [
    "a = (2*5)**(100/50)  # O código dentro dos parênteses é executado primeiro. Não são tuplas"
   ]
  },
  {
   "cell_type": "code",
   "execution_count": 30,
   "metadata": {},
   "outputs": [],
   "source": [
    "tup = (5, 6, 9, 10, 6, 74)  # Isso é uma tupla, similar a uma lista, mas declarada com parênteses"
   ]
  },
  {
   "cell_type": "code",
   "execution_count": 31,
   "metadata": {},
   "outputs": [
    {
     "data": {
      "text/plain": [
       "tuple"
      ]
     },
     "execution_count": 31,
     "metadata": {},
     "output_type": "execute_result"
    }
   ],
   "source": [
    "type(tup)"
   ]
  },
  {
   "cell_type": "markdown",
   "metadata": {},
   "source": [
    "Tuplas aceitam indexação e slicing, como as listas"
   ]
  },
  {
   "cell_type": "code",
   "execution_count": 32,
   "metadata": {},
   "outputs": [
    {
     "name": "stdout",
     "output_type": "stream",
     "text": [
      "5\n",
      "(9, 10, 6, 74)\n"
     ]
    }
   ],
   "source": [
    "print(tup[0])\n",
    "print(tup[2:])"
   ]
  },
  {
   "cell_type": "markdown",
   "metadata": {},
   "source": [
    "Qual a diferença das tuplas para as listas?\n",
    "\n",
    "Tuplas são **imutáveis**. Uma vez declarada, uma tupla permanecerá como é, a menos que você declare a variável novamente. Vamos tentar alterar uma tupla usando indexação, como foi feito com as listas."
   ]
  },
  {
   "cell_type": "code",
   "execution_count": 33,
   "metadata": {},
   "outputs": [
    {
     "ename": "TypeError",
     "evalue": "'tuple' object does not support item assignment",
     "output_type": "error",
     "traceback": [
      "\u001b[1;31m---------------------------------------------------------------------------\u001b[0m",
      "\u001b[1;31mTypeError\u001b[0m                                 Traceback (most recent call last)",
      "\u001b[1;32m<ipython-input-33-660798cddcd4>\u001b[0m in \u001b[0;36m<module>\u001b[1;34m()\u001b[0m\n\u001b[1;32m----> 1\u001b[1;33m \u001b[0mtup\u001b[0m\u001b[1;33m[\u001b[0m\u001b[1;36m0\u001b[0m\u001b[1;33m]\u001b[0m \u001b[1;33m=\u001b[0m \u001b[1;34m\"novo valor\"\u001b[0m\u001b[1;33m\u001b[0m\u001b[1;33m\u001b[0m\u001b[0m\n\u001b[0m",
      "\u001b[1;31mTypeError\u001b[0m: 'tuple' object does not support item assignment"
     ]
    }
   ],
   "source": [
    "tup[0] = \"novo valor\""
   ]
  },
  {
   "cell_type": "markdown",
   "metadata": {},
   "source": [
    "## Dicionários\n",
    "\n",
    "[Documentação](https://docs.python.org/pt-br/3/tutorial/datastructures.html#dictionaries)\n",
    "\n",
    "Dicionários nos permitem guardar pares de chaves:valores. As chaves devem ser imutáveis, como strings, inteiros e tuplas. O valor do dicionário está em podemos resgatar um valor utilizando a chave, em vez de utilizando um índice, como no caso das listas. Por exemplo, faz mais sentido guardar um dicionário do que uma lista com as capitais dos países, pois com o dicionário, podemos resgatar a capital chamando pelo nome do país:"
   ]
  },
  {
   "cell_type": "code",
   "execution_count": 34,
   "metadata": {},
   "outputs": [],
   "source": [
    "paises_capitais = {\"Alemanha\":\"Berlim\", \"Brasil\":\"Brasília\", \"Canadá\":\"Ottawa\"}"
   ]
  },
  {
   "cell_type": "code",
   "execution_count": 35,
   "metadata": {},
   "outputs": [
    {
     "ename": "KeyError",
     "evalue": "0",
     "output_type": "error",
     "traceback": [
      "\u001b[1;31m---------------------------------------------------------------------------\u001b[0m",
      "\u001b[1;31mKeyError\u001b[0m                                  Traceback (most recent call last)",
      "\u001b[1;32m<ipython-input-35-409716fdc4ec>\u001b[0m in \u001b[0;36m<module>\u001b[1;34m()\u001b[0m\n\u001b[1;32m----> 1\u001b[1;33m \u001b[0mpaises_capitais\u001b[0m\u001b[1;33m[\u001b[0m\u001b[1;36m0\u001b[0m\u001b[1;33m]\u001b[0m  \u001b[1;31m# Não faz sentido, dicionários não possuem índice numérico\u001b[0m\u001b[1;33m\u001b[0m\u001b[1;33m\u001b[0m\u001b[0m\n\u001b[0m",
      "\u001b[1;31mKeyError\u001b[0m: 0"
     ]
    }
   ],
   "source": [
    "paises_capitais[0]  # Não faz sentido, dicionários não possuem índice numérico"
   ]
  },
  {
   "cell_type": "code",
   "execution_count": 36,
   "metadata": {},
   "outputs": [
    {
     "data": {
      "text/plain": [
       "'Brasília'"
      ]
     },
     "execution_count": 36,
     "metadata": {},
     "output_type": "execute_result"
    }
   ],
   "source": [
    "paises_capitais[\"Brasil\"]  # assim acessamos o valor correspondente à chave Brasil"
   ]
  },
  {
   "cell_type": "markdown",
   "metadata": {},
   "source": [
    "Em breve, veremos aplicações das coleções para uso iterativo, com os loops"
   ]
  }
 ],
 "metadata": {
  "kernelspec": {
   "display_name": "Python 3",
   "language": "python",
   "name": "python3"
  },
  "language_info": {
   "codemirror_mode": {
    "name": "ipython",
    "version": 3
   },
   "file_extension": ".py",
   "mimetype": "text/x-python",
   "name": "python",
   "nbconvert_exporter": "python",
   "pygments_lexer": "ipython3",
   "version": "3.7.7"
  }
 },
 "nbformat": 4,
 "nbformat_minor": 4
}
