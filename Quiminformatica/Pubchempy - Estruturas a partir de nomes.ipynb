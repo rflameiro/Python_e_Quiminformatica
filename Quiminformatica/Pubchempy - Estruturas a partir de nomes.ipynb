{
 "cells": [
  {
   "cell_type": "markdown",
   "id": "b7d6ca62-d140-4398-818e-bcbcdd52f5d4",
   "metadata": {},
   "source": [
    "# Extraindo estruturas do PubChem usando pubchempy\n",
    "\n",
    "Neste notebook, vamos explorar o módulo `pubchempy`, que possibilita o acesso ao banco de dados PubChem usando código Python, o que nos permite converter nomes de compostos químicos (ou outros identificadores) em suas respectivas estruturas.\n",
    "\n",
    "Para usar o `pubchempy`, é necessário instalar o módulo usando `pip`. Você pode fazer isso diretamente no seu computador digitando `pip install pubchempy` na linha de código ou, se estiver usando esse Notebook, pode rodar a célula abaixo:"
   ]
  },
  {
   "cell_type": "code",
   "execution_count": null,
   "id": "f670d733-00d9-4f8d-afe7-eaa24706aa6b",
   "metadata": {},
   "outputs": [],
   "source": [
    "!pip install pubchempy"
   ]
  },
  {
   "cell_type": "code",
   "execution_count": 2,
   "id": "3b6f4987-d1bd-4e14-a1cd-76eaa35cf496",
   "metadata": {},
   "outputs": [],
   "source": [
    "import pubchempy\n",
    "from pubchempy import Compound, get_compounds\n",
    "\n",
    "# Vamos importar outros módulos úteis\n",
    "from rdkit import Chem\n",
    "import pandas as pd"
   ]
  },
  {
   "cell_type": "markdown",
   "id": "69615f32-64c5-4d1f-ac5f-6a4171d794fa",
   "metadata": {},
   "source": [
    "Vamos ver alguns exemplos de como extrair estruturas do PubChem:"
   ]
  },
  {
   "cell_type": "code",
   "execution_count": 3,
   "id": "3c6d2e0e-282d-45bd-b504-4f13129278eb",
   "metadata": {},
   "outputs": [
    {
     "name": "stdout",
     "output_type": "stream",
     "text": [
      "[Compound(5793)]\n"
     ]
    }
   ],
   "source": [
    "# A partir do nome em inglês (glucose)\n",
    "compound = get_compounds('glucose', 'name')\n",
    "print(compound)"
   ]
  },
  {
   "cell_type": "code",
   "execution_count": 4,
   "id": "fba9444a-d809-4f9c-8a31-ce9a91651555",
   "metadata": {},
   "outputs": [
    {
     "name": "stdout",
     "output_type": "stream",
     "text": [
      "C([C@@H]1[C@H]([C@@H]([C@H](C(O1)O)O)O)O)O\n"
     ]
    }
   ],
   "source": [
    "# O valor retornado foi uma lista. Para acessar os SMILES:\n",
    "print(compound[0].isomeric_smiles)"
   ]
  },
  {
   "cell_type": "code",
   "execution_count": 5,
   "id": "557c82b3-83ec-4f64-b2b4-c84c7ce32891",
   "metadata": {},
   "outputs": [
    {
     "name": "stdout",
     "output_type": "stream",
     "text": [
      "C(C1C(C(C(C(O1)O)O)O)O)O\n"
     ]
    }
   ],
   "source": [
    "# Também é possível acessar SMILES canônicos\n",
    "print(compound[0].canonical_smiles)"
   ]
  },
  {
   "cell_type": "code",
   "execution_count": 6,
   "id": "3c63810d-4aa6-4337-ac85-747e67c8f5d2",
   "metadata": {},
   "outputs": [
    {
     "name": "stdout",
     "output_type": "stream",
     "text": [
      "Compound(5090)\n"
     ]
    }
   ],
   "source": [
    "# A partir do identificador CID\n",
    "compound = pubchempy.Compound.from_cid(5090)\n",
    "print(compound)"
   ]
  },
  {
   "cell_type": "markdown",
   "id": "359f3ca6-2a01-4fad-a8e0-3a5227c47d53",
   "metadata": {},
   "source": [
    "Note que nesse caso, apenas o Compound foi retornado, e não uma lista. Para obter o SMILES:"
   ]
  },
  {
   "cell_type": "code",
   "execution_count": 7,
   "id": "4b9273fc-efba-4317-bf7b-aeed72c2cde7",
   "metadata": {},
   "outputs": [
    {
     "name": "stdout",
     "output_type": "stream",
     "text": [
      "CS(=O)(=O)C1=CC=C(C=C1)C2=C(C(=O)OC2)C3=CC=CC=C3\n"
     ]
    }
   ],
   "source": [
    "print(compound.isomeric_smiles)"
   ]
  },
  {
   "cell_type": "markdown",
   "id": "8d18f1d5-b0dc-41b0-a293-79592c432d7d",
   "metadata": {},
   "source": [
    "## Exemplo - dataset de antibióticos\n",
    "\n",
    "Finalmente, vou apresentar um exemplo prático. Extraí alguns nomes de antibióticos e suas classes a partir da página da Wikipedia [List of antibiotics]( https://en.wikipedia.org/wiki/List_of_antibiotics) e usando o ChatGPT.\n",
    "\n",
    "Converti os dados a um arquivo csv com os nomes dos antibióticos e suas classes:"
   ]
  },
  {
   "cell_type": "code",
   "execution_count": 8,
   "id": "186c28bd-be39-40ea-8711-0ee5cac2f021",
   "metadata": {},
   "outputs": [
    {
     "data": {
      "text/html": [
       "<div>\n",
       "<style scoped>\n",
       "    .dataframe tbody tr th:only-of-type {\n",
       "        vertical-align: middle;\n",
       "    }\n",
       "\n",
       "    .dataframe tbody tr th {\n",
       "        vertical-align: top;\n",
       "    }\n",
       "\n",
       "    .dataframe thead th {\n",
       "        text-align: right;\n",
       "    }\n",
       "</style>\n",
       "<table border=\"1\" class=\"dataframe\">\n",
       "  <thead>\n",
       "    <tr style=\"text-align: right;\">\n",
       "      <th></th>\n",
       "      <th>name</th>\n",
       "      <th>class</th>\n",
       "      <th>SMILES</th>\n",
       "    </tr>\n",
       "  </thead>\n",
       "  <tbody>\n",
       "    <tr>\n",
       "      <th>0</th>\n",
       "      <td>Amikacin</td>\n",
       "      <td>aminoglycosides</td>\n",
       "      <td>NaN</td>\n",
       "    </tr>\n",
       "    <tr>\n",
       "      <th>1</th>\n",
       "      <td>Gentamicin</td>\n",
       "      <td>aminoglycosides</td>\n",
       "      <td>NaN</td>\n",
       "    </tr>\n",
       "    <tr>\n",
       "      <th>2</th>\n",
       "      <td>Kanamycin</td>\n",
       "      <td>aminoglycosides</td>\n",
       "      <td>NaN</td>\n",
       "    </tr>\n",
       "    <tr>\n",
       "      <th>3</th>\n",
       "      <td>Neomycin</td>\n",
       "      <td>aminoglycosides</td>\n",
       "      <td>NaN</td>\n",
       "    </tr>\n",
       "    <tr>\n",
       "      <th>4</th>\n",
       "      <td>Netilmicin</td>\n",
       "      <td>aminoglycosides</td>\n",
       "      <td>NaN</td>\n",
       "    </tr>\n",
       "  </tbody>\n",
       "</table>\n",
       "</div>"
      ],
      "text/plain": [
       "         name            class  SMILES\n",
       "0    Amikacin  aminoglycosides     NaN\n",
       "1  Gentamicin  aminoglycosides     NaN\n",
       "2   Kanamycin  aminoglycosides     NaN\n",
       "3    Neomycin  aminoglycosides     NaN\n",
       "4  Netilmicin  aminoglycosides     NaN"
      ]
     },
     "execution_count": 8,
     "metadata": {},
     "output_type": "execute_result"
    }
   ],
   "source": [
    "df_antibiotics = pd.read_csv('../datasets/antibiotics.csv', sep=',')\n",
    "df_antibiotics.head()"
   ]
  },
  {
   "cell_type": "markdown",
   "id": "6d31b116-f90b-4df1-b052-229d6f9c654d",
   "metadata": {},
   "source": [
    "Agora, vou usar o `pubchempy` para obter as estruturas no formato SMILES a partir dos nomes dos antibióticos.\n",
    "\n",
    "Vou começar escrevendo uma função que retorna os SMILES (padronizados pelo RDKit) a partir do nome e usar o método `apply` do `pandas` para inserir os valores na coluna SMILES."
   ]
  },
  {
   "cell_type": "code",
   "execution_count": 9,
   "id": "dc24d205-4c86-4d17-b118-8397e171ef0f",
   "metadata": {},
   "outputs": [],
   "source": [
    "def smiles_from_name(name):\n",
    "    compound = get_compounds(name, 'name')\n",
    "    if compound == []:\n",
    "        return None\n",
    "    if type(compound) == list:\n",
    "        isomeric_smiles = compound[0].isomeric_smiles\n",
    "    else:\n",
    "        isomeric_smiles = compound.isomeric_smiles\n",
    "    # Padronizar SMILES com o RDKit\n",
    "    try:\n",
    "        rdkit_smiles = Chem.MolToSmiles(Chem.MolFromSmiles(isomeric_smiles))\n",
    "    except TypeError:\n",
    "        return None\n",
    "    return rdkit_smiles"
   ]
  },
  {
   "cell_type": "code",
   "execution_count": 10,
   "id": "8fa65e89-813b-4458-9b46-0604490f53da",
   "metadata": {},
   "outputs": [],
   "source": [
    "df_antibiotics['SMILES'] = df_antibiotics['name'].apply(smiles_from_name)"
   ]
  },
  {
   "cell_type": "code",
   "execution_count": 11,
   "id": "d3c1d6e9-9daf-42ab-9789-63ce46c416c8",
   "metadata": {},
   "outputs": [
    {
     "data": {
      "text/html": [
       "<div>\n",
       "<style scoped>\n",
       "    .dataframe tbody tr th:only-of-type {\n",
       "        vertical-align: middle;\n",
       "    }\n",
       "\n",
       "    .dataframe tbody tr th {\n",
       "        vertical-align: top;\n",
       "    }\n",
       "\n",
       "    .dataframe thead th {\n",
       "        text-align: right;\n",
       "    }\n",
       "</style>\n",
       "<table border=\"1\" class=\"dataframe\">\n",
       "  <thead>\n",
       "    <tr style=\"text-align: right;\">\n",
       "      <th></th>\n",
       "      <th>name</th>\n",
       "      <th>class</th>\n",
       "      <th>SMILES</th>\n",
       "    </tr>\n",
       "  </thead>\n",
       "  <tbody>\n",
       "    <tr>\n",
       "      <th>0</th>\n",
       "      <td>Amikacin</td>\n",
       "      <td>aminoglycosides</td>\n",
       "      <td>NCC[C@H](O)C(=O)N[C@@H]1C[C@H](N)[C@@H](O[C@H]...</td>\n",
       "    </tr>\n",
       "    <tr>\n",
       "      <th>1</th>\n",
       "      <td>Gentamicin</td>\n",
       "      <td>aminoglycosides</td>\n",
       "      <td>CNC(C)C1CCC(N)C(OC2C(N)CC(N)C(OC3OCC(C)(O)C(NC...</td>\n",
       "    </tr>\n",
       "    <tr>\n",
       "      <th>2</th>\n",
       "      <td>Kanamycin</td>\n",
       "      <td>aminoglycosides</td>\n",
       "      <td>NC[C@H]1O[C@H](O[C@@H]2[C@@H](N)C[C@@H](N)[C@H...</td>\n",
       "    </tr>\n",
       "    <tr>\n",
       "      <th>3</th>\n",
       "      <td>Neomycin</td>\n",
       "      <td>aminoglycosides</td>\n",
       "      <td>NC[C@@H]1O[C@H](O[C@@H]2[C@@H](CO)O[C@@H](O[C@...</td>\n",
       "    </tr>\n",
       "    <tr>\n",
       "      <th>4</th>\n",
       "      <td>Netilmicin</td>\n",
       "      <td>aminoglycosides</td>\n",
       "      <td>CCN[C@@H]1C[C@H](N)[C@@H](O[C@H]2OC(CN)=CC[C@H...</td>\n",
       "    </tr>\n",
       "    <tr>\n",
       "      <th>5</th>\n",
       "      <td>Paromomycin</td>\n",
       "      <td>aminoglycosides</td>\n",
       "      <td>NC[C@@H]1O[C@H](O[C@@H]2[C@@H](CO)O[C@@H](O[C@...</td>\n",
       "    </tr>\n",
       "    <tr>\n",
       "      <th>6</th>\n",
       "      <td>Spectinomycin</td>\n",
       "      <td>aminoglycosides</td>\n",
       "      <td>CN[C@H]1[C@@H](O)[C@@H](NC)[C@H](O)[C@H]2O[C@@...</td>\n",
       "    </tr>\n",
       "    <tr>\n",
       "      <th>7</th>\n",
       "      <td>Streptomycin</td>\n",
       "      <td>aminoglycosides</td>\n",
       "      <td>CN[C@@H]1[C@H](O[C@H]2[C@H](O[C@@H]3[C@@H](N=C...</td>\n",
       "    </tr>\n",
       "    <tr>\n",
       "      <th>8</th>\n",
       "      <td>Tobramycin</td>\n",
       "      <td>aminoglycosides</td>\n",
       "      <td>NC[C@H]1O[C@H](O[C@@H]2[C@@H](N)C[C@@H](N)[C@H...</td>\n",
       "    </tr>\n",
       "    <tr>\n",
       "      <th>9</th>\n",
       "      <td>Geldanamycin</td>\n",
       "      <td>ansamycins</td>\n",
       "      <td>COC1=C2C[C@@H](C)C[C@H](OC)[C@H](O)[C@@H](C)/C...</td>\n",
       "    </tr>\n",
       "  </tbody>\n",
       "</table>\n",
       "</div>"
      ],
      "text/plain": [
       "            name            class  \\\n",
       "0       Amikacin  aminoglycosides   \n",
       "1     Gentamicin  aminoglycosides   \n",
       "2      Kanamycin  aminoglycosides   \n",
       "3       Neomycin  aminoglycosides   \n",
       "4     Netilmicin  aminoglycosides   \n",
       "5    Paromomycin  aminoglycosides   \n",
       "6  Spectinomycin  aminoglycosides   \n",
       "7   Streptomycin  aminoglycosides   \n",
       "8     Tobramycin  aminoglycosides   \n",
       "9   Geldanamycin       ansamycins   \n",
       "\n",
       "                                              SMILES  \n",
       "0  NCC[C@H](O)C(=O)N[C@@H]1C[C@H](N)[C@@H](O[C@H]...  \n",
       "1  CNC(C)C1CCC(N)C(OC2C(N)CC(N)C(OC3OCC(C)(O)C(NC...  \n",
       "2  NC[C@H]1O[C@H](O[C@@H]2[C@@H](N)C[C@@H](N)[C@H...  \n",
       "3  NC[C@@H]1O[C@H](O[C@@H]2[C@@H](CO)O[C@@H](O[C@...  \n",
       "4  CCN[C@@H]1C[C@H](N)[C@@H](O[C@H]2OC(CN)=CC[C@H...  \n",
       "5  NC[C@@H]1O[C@H](O[C@@H]2[C@@H](CO)O[C@@H](O[C@...  \n",
       "6  CN[C@H]1[C@@H](O)[C@@H](NC)[C@H](O)[C@H]2O[C@@...  \n",
       "7  CN[C@@H]1[C@H](O[C@H]2[C@H](O[C@@H]3[C@@H](N=C...  \n",
       "8  NC[C@H]1O[C@H](O[C@@H]2[C@@H](N)C[C@@H](N)[C@H...  \n",
       "9  COC1=C2C[C@@H](C)C[C@H](OC)[C@H](O)[C@@H](C)/C...  "
      ]
     },
     "execution_count": 11,
     "metadata": {},
     "output_type": "execute_result"
    }
   ],
   "source": [
    "df_antibiotics.head(10)"
   ]
  },
  {
   "cell_type": "markdown",
   "id": "86a3c0ef-75bd-4bbe-9ccd-220374559eff",
   "metadata": {},
   "source": [
    "Verificando se algum composto ficou sem SMILES:"
   ]
  },
  {
   "cell_type": "code",
   "execution_count": 12,
   "id": "448463f6-8db7-405b-ac92-178b31a9ed16",
   "metadata": {},
   "outputs": [
    {
     "data": {
      "text/html": [
       "<div>\n",
       "<style scoped>\n",
       "    .dataframe tbody tr th:only-of-type {\n",
       "        vertical-align: middle;\n",
       "    }\n",
       "\n",
       "    .dataframe tbody tr th {\n",
       "        vertical-align: top;\n",
       "    }\n",
       "\n",
       "    .dataframe thead th {\n",
       "        text-align: right;\n",
       "    }\n",
       "</style>\n",
       "<table border=\"1\" class=\"dataframe\">\n",
       "  <thead>\n",
       "    <tr style=\"text-align: right;\">\n",
       "      <th></th>\n",
       "      <th>name</th>\n",
       "      <th>class</th>\n",
       "      <th>SMILES</th>\n",
       "    </tr>\n",
       "  </thead>\n",
       "  <tbody>\n",
       "    <tr>\n",
       "      <th>102</th>\n",
       "      <td>Bacitracin</td>\n",
       "      <td>polypeptides</td>\n",
       "      <td>None</td>\n",
       "    </tr>\n",
       "    <tr>\n",
       "      <th>104</th>\n",
       "      <td>Polymixin B</td>\n",
       "      <td>polypeptides</td>\n",
       "      <td>None</td>\n",
       "    </tr>\n",
       "    <tr>\n",
       "      <th>129</th>\n",
       "      <td>Sulfanilimide</td>\n",
       "      <td>sulfonamides</td>\n",
       "      <td>None</td>\n",
       "    </tr>\n",
       "    <tr>\n",
       "      <th>132</th>\n",
       "      <td>Sulfonamidochrysoidine</td>\n",
       "      <td>sulfonamides</td>\n",
       "      <td>None</td>\n",
       "    </tr>\n",
       "  </tbody>\n",
       "</table>\n",
       "</div>"
      ],
      "text/plain": [
       "                       name         class SMILES\n",
       "102              Bacitracin  polypeptides   None\n",
       "104             Polymixin B  polypeptides   None\n",
       "129           Sulfanilimide  sulfonamides   None\n",
       "132  Sulfonamidochrysoidine  sulfonamides   None"
      ]
     },
     "execution_count": 12,
     "metadata": {},
     "output_type": "execute_result"
    }
   ],
   "source": [
    "df_antibiotics[df_antibiotics['SMILES'].isna()]"
   ]
  },
  {
   "cell_type": "markdown",
   "id": "dac36dee-f6c6-434c-b5c5-934eaa99e6f1",
   "metadata": {},
   "source": [
    "Após investigar por que esses quatro compostos não foram encontrados no Pubchem, descobri o seguinte:\n",
    "\n",
    "- Bacitracin: está identificado no Pubchem como Bacitracin A\n",
    "- Polymixin B: é uma mistura, e não uma substância pura\n",
    "- Sulfanilimide: erro de digitação, o correto é Sulfanilamide\n",
    "- Sulfonamidochrysoidine: está identificada no Pubchem como Prontosil\n",
    "\n",
    "Esses são alguns exemplos de erros comuns do que pode acontecer ao converter nomes a estruturas químicas.\n",
    "\n",
    "Optei por remover o Polymixin B do dataset e ajustar os nomes dos outros manualmente, obtendo em seguida seus SMILES usando o `pubchempy`."
   ]
  },
  {
   "cell_type": "code",
   "execution_count": 13,
   "id": "404953d5-a969-4d5d-86b5-433a7711a5e9",
   "metadata": {},
   "outputs": [],
   "source": [
    "# Bacitracin\n",
    "df_antibiotics.at[102,'name'] = 'Bacitracin A'\n",
    "df_antibiotics.at[102,'SMILES'] = smiles_from_name('Bacitracin A')"
   ]
  },
  {
   "cell_type": "code",
   "execution_count": 14,
   "id": "a348cb1c-0b42-477a-8512-d62223b566a0",
   "metadata": {},
   "outputs": [],
   "source": [
    "# Sulfanilimide\n",
    "df_antibiotics.at[129,'name'] = 'Sulfanilamide'\n",
    "df_antibiotics.at[129,'SMILES'] = smiles_from_name('Sulfanilamide')"
   ]
  },
  {
   "cell_type": "code",
   "execution_count": 15,
   "id": "90cae8df-fb72-432d-896a-69837756f010",
   "metadata": {},
   "outputs": [],
   "source": [
    "# Sulfonamidochrysoidine\n",
    "df_antibiotics.at[132,'name'] = 'Prontosil'\n",
    "df_antibiotics.at[132,'SMILES'] = smiles_from_name('Prontosil')"
   ]
  },
  {
   "cell_type": "code",
   "execution_count": 16,
   "id": "e0afeda9-baf5-4755-b33a-0ab24862d2d5",
   "metadata": {},
   "outputs": [],
   "source": [
    "# Remover Polymixin B\n",
    "df_antibiotics = df_antibiotics.drop(104)"
   ]
  },
  {
   "cell_type": "code",
   "execution_count": 17,
   "id": "384e9f7f-6a8a-4d73-a4cb-498a45d5ba3f",
   "metadata": {},
   "outputs": [
    {
     "data": {
      "text/html": [
       "<div>\n",
       "<style scoped>\n",
       "    .dataframe tbody tr th:only-of-type {\n",
       "        vertical-align: middle;\n",
       "    }\n",
       "\n",
       "    .dataframe tbody tr th {\n",
       "        vertical-align: top;\n",
       "    }\n",
       "\n",
       "    .dataframe thead th {\n",
       "        text-align: right;\n",
       "    }\n",
       "</style>\n",
       "<table border=\"1\" class=\"dataframe\">\n",
       "  <thead>\n",
       "    <tr style=\"text-align: right;\">\n",
       "      <th></th>\n",
       "      <th>name</th>\n",
       "      <th>class</th>\n",
       "      <th>SMILES</th>\n",
       "    </tr>\n",
       "  </thead>\n",
       "  <tbody>\n",
       "  </tbody>\n",
       "</table>\n",
       "</div>"
      ],
      "text/plain": [
       "Empty DataFrame\n",
       "Columns: [name, class, SMILES]\n",
       "Index: []"
      ]
     },
     "execution_count": 17,
     "metadata": {},
     "output_type": "execute_result"
    }
   ],
   "source": [
    "# Confirmar que todas as linhas têm SMILES\n",
    "df_antibiotics[df_antibiotics['SMILES'].isna()]"
   ]
  },
  {
   "cell_type": "markdown",
   "id": "aae79dbe-6470-46d8-9e8c-a52c6d7fc85e",
   "metadata": {},
   "source": [
    "Finalmente, vou exportar o *dataset* no formato csv. Você pode encontrá-lo na pasta `datasets` no GitHub."
   ]
  },
  {
   "cell_type": "code",
   "execution_count": 18,
   "id": "80c21b94-2a98-4569-bc4b-17d475529f72",
   "metadata": {},
   "outputs": [],
   "source": [
    "# Exportar dataset com os SMILES\n",
    "df_antibiotics.to_csv('../datasets/antibiotics_SMILES.csv', sep=',', index=False, index_label=False)"
   ]
  }
 ],
 "metadata": {
  "kernelspec": {
   "display_name": "Python 3 (ipykernel)",
   "language": "python",
   "name": "python3"
  },
  "language_info": {
   "codemirror_mode": {
    "name": "ipython",
    "version": 3
   },
   "file_extension": ".py",
   "mimetype": "text/x-python",
   "name": "python",
   "nbconvert_exporter": "python",
   "pygments_lexer": "ipython3",
   "version": "3.10.4"
  }
 },
 "nbformat": 4,
 "nbformat_minor": 5
}
