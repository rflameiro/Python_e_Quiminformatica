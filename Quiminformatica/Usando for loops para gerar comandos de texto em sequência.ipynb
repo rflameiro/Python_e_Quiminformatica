{
 "cells": [
  {
   "cell_type": "markdown",
   "id": "8314d20e-b954-4b75-a89d-5debe50c7f4e",
   "metadata": {},
   "source": [
    "O Python pode nos ajudar a gerar comandos em texto sequenciais de forma automatizada.\n",
    "\n",
    "No exemplo a seguir, precisei gerar a linha de código mostrada abaixo para realizar uma busca por compostos similares a 11 scaffolds diferentes no programa [FTrees](https://www.biosolveit.de/wp-content/uploads/2023/03/FTrees-UserGuide.pdf) da BioSolveIT. Além dos scaffolds diferentes, também usei três espaços químicos diferentes, totalizando 11 * 3 = 33 comandos de texto.\n",
    "\n",
    "Exemplo de linha:\n",
    "\n",
    "`ftrees.exe -i scaffold1.sdf -o scaffold1_08-09\\output_scaffold1_eXplore_7tr_2022-12.csv -s C:\\Users\\rafae\\AppData\\Local\\Programs\\BioSolveIT\\infiniSee-5.0.0\\spaces\\eXplore_7tr_2022-12.space –-max-nof-results 100000 –-min-similarity-threshold 0.6 –-target-similarity 0.9`\n",
    "\n",
    "Combinando *for loops* e *f-strings* (*strings* do Python que podem incluir variáveis, contanto que as variáveis também sejam *strings*), é possível gerar todos os comandos facilmente. Note também o uso da letra `r` antes do *string*: isso permite o uso de caracteres especiais, como a barra invertida (\\\\)."
   ]
  },
  {
   "cell_type": "code",
   "execution_count": 1,
   "id": "5816c051-9cdd-4b07-b6e6-f08e30a7c32d",
   "metadata": {},
   "outputs": [
    {
     "name": "stdout",
     "output_type": "stream",
     "text": [
      "ftrees.exe -i scaffold1.sdf -o scaffold1_08-09\\output_scaffold1_eXplore_7tr_2022-12.csv -s C:\\Users\\rafae\\AppData\\Local\\Programs\\BioSolveIT\\infiniSee-5.0.0\\spaces\\eXplore_7tr_2022-12.space –-max-nof-results 100000 –-min-similarity-threshold 0.6 –-target-similarity 0.9\n",
      "\n",
      "ftrees.exe -i scaffold1.sdf -o scaffold1_08-09\\output_scaffold1_GalaXi_12bn_2023-03.csv -s C:\\Users\\rafae\\AppData\\Local\\Programs\\BioSolveIT\\infiniSee-5.0.0\\spaces\\GalaXi_12bn_2023-03.space –-max-nof-results 100000 –-min-similarity-threshold 0.6 –-target-similarity 0.9\n",
      "\n",
      "ftrees.exe -i scaffold1.sdf -o scaffold1_08-09\\output_scaffold1_REALSpace_36bn_2023-03.csv -s C:\\Users\\rafae\\AppData\\Local\\Programs\\BioSolveIT\\infiniSee-5.0.0\\spaces\\REALSpace_36bn_2023-03.space –-max-nof-results 100000 –-min-similarity-threshold 0.6 –-target-similarity 0.9\n",
      "\n",
      "ftrees.exe -i scaffold2.sdf -o scaffold2_08-09\\output_scaffold2_eXplore_7tr_2022-12.csv -s C:\\Users\\rafae\\AppData\\Local\\Programs\\BioSolveIT\\infiniSee-5.0.0\\spaces\\eXplore_7tr_2022-12.space –-max-nof-results 100000 –-min-similarity-threshold 0.6 –-target-similarity 0.9\n",
      "\n",
      "ftrees.exe -i scaffold2.sdf -o scaffold2_08-09\\output_scaffold2_GalaXi_12bn_2023-03.csv -s C:\\Users\\rafae\\AppData\\Local\\Programs\\BioSolveIT\\infiniSee-5.0.0\\spaces\\GalaXi_12bn_2023-03.space –-max-nof-results 100000 –-min-similarity-threshold 0.6 –-target-similarity 0.9\n",
      "\n",
      "ftrees.exe -i scaffold2.sdf -o scaffold2_08-09\\output_scaffold2_REALSpace_36bn_2023-03.csv -s C:\\Users\\rafae\\AppData\\Local\\Programs\\BioSolveIT\\infiniSee-5.0.0\\spaces\\REALSpace_36bn_2023-03.space –-max-nof-results 100000 –-min-similarity-threshold 0.6 –-target-similarity 0.9\n",
      "\n",
      "ftrees.exe -i scaffold3.sdf -o scaffold3_08-09\\output_scaffold3_eXplore_7tr_2022-12.csv -s C:\\Users\\rafae\\AppData\\Local\\Programs\\BioSolveIT\\infiniSee-5.0.0\\spaces\\eXplore_7tr_2022-12.space –-max-nof-results 100000 –-min-similarity-threshold 0.6 –-target-similarity 0.9\n",
      "\n",
      "ftrees.exe -i scaffold3.sdf -o scaffold3_08-09\\output_scaffold3_GalaXi_12bn_2023-03.csv -s C:\\Users\\rafae\\AppData\\Local\\Programs\\BioSolveIT\\infiniSee-5.0.0\\spaces\\GalaXi_12bn_2023-03.space –-max-nof-results 100000 –-min-similarity-threshold 0.6 –-target-similarity 0.9\n",
      "\n",
      "ftrees.exe -i scaffold3.sdf -o scaffold3_08-09\\output_scaffold3_REALSpace_36bn_2023-03.csv -s C:\\Users\\rafae\\AppData\\Local\\Programs\\BioSolveIT\\infiniSee-5.0.0\\spaces\\REALSpace_36bn_2023-03.space –-max-nof-results 100000 –-min-similarity-threshold 0.6 –-target-similarity 0.9\n",
      "\n",
      "ftrees.exe -i scaffold4.sdf -o scaffold4_08-09\\output_scaffold4_eXplore_7tr_2022-12.csv -s C:\\Users\\rafae\\AppData\\Local\\Programs\\BioSolveIT\\infiniSee-5.0.0\\spaces\\eXplore_7tr_2022-12.space –-max-nof-results 100000 –-min-similarity-threshold 0.6 –-target-similarity 0.9\n",
      "\n",
      "ftrees.exe -i scaffold4.sdf -o scaffold4_08-09\\output_scaffold4_GalaXi_12bn_2023-03.csv -s C:\\Users\\rafae\\AppData\\Local\\Programs\\BioSolveIT\\infiniSee-5.0.0\\spaces\\GalaXi_12bn_2023-03.space –-max-nof-results 100000 –-min-similarity-threshold 0.6 –-target-similarity 0.9\n",
      "\n",
      "ftrees.exe -i scaffold4.sdf -o scaffold4_08-09\\output_scaffold4_REALSpace_36bn_2023-03.csv -s C:\\Users\\rafae\\AppData\\Local\\Programs\\BioSolveIT\\infiniSee-5.0.0\\spaces\\REALSpace_36bn_2023-03.space –-max-nof-results 100000 –-min-similarity-threshold 0.6 –-target-similarity 0.9\n",
      "\n",
      "ftrees.exe -i scaffold5.sdf -o scaffold5_08-09\\output_scaffold5_eXplore_7tr_2022-12.csv -s C:\\Users\\rafae\\AppData\\Local\\Programs\\BioSolveIT\\infiniSee-5.0.0\\spaces\\eXplore_7tr_2022-12.space –-max-nof-results 100000 –-min-similarity-threshold 0.6 –-target-similarity 0.9\n",
      "\n",
      "ftrees.exe -i scaffold5.sdf -o scaffold5_08-09\\output_scaffold5_GalaXi_12bn_2023-03.csv -s C:\\Users\\rafae\\AppData\\Local\\Programs\\BioSolveIT\\infiniSee-5.0.0\\spaces\\GalaXi_12bn_2023-03.space –-max-nof-results 100000 –-min-similarity-threshold 0.6 –-target-similarity 0.9\n",
      "\n",
      "ftrees.exe -i scaffold5.sdf -o scaffold5_08-09\\output_scaffold5_REALSpace_36bn_2023-03.csv -s C:\\Users\\rafae\\AppData\\Local\\Programs\\BioSolveIT\\infiniSee-5.0.0\\spaces\\REALSpace_36bn_2023-03.space –-max-nof-results 100000 –-min-similarity-threshold 0.6 –-target-similarity 0.9\n",
      "\n",
      "ftrees.exe -i scaffold6.sdf -o scaffold6_08-09\\output_scaffold6_eXplore_7tr_2022-12.csv -s C:\\Users\\rafae\\AppData\\Local\\Programs\\BioSolveIT\\infiniSee-5.0.0\\spaces\\eXplore_7tr_2022-12.space –-max-nof-results 100000 –-min-similarity-threshold 0.6 –-target-similarity 0.9\n",
      "\n",
      "ftrees.exe -i scaffold6.sdf -o scaffold6_08-09\\output_scaffold6_GalaXi_12bn_2023-03.csv -s C:\\Users\\rafae\\AppData\\Local\\Programs\\BioSolveIT\\infiniSee-5.0.0\\spaces\\GalaXi_12bn_2023-03.space –-max-nof-results 100000 –-min-similarity-threshold 0.6 –-target-similarity 0.9\n",
      "\n",
      "ftrees.exe -i scaffold6.sdf -o scaffold6_08-09\\output_scaffold6_REALSpace_36bn_2023-03.csv -s C:\\Users\\rafae\\AppData\\Local\\Programs\\BioSolveIT\\infiniSee-5.0.0\\spaces\\REALSpace_36bn_2023-03.space –-max-nof-results 100000 –-min-similarity-threshold 0.6 –-target-similarity 0.9\n",
      "\n",
      "ftrees.exe -i scaffold7.sdf -o scaffold7_08-09\\output_scaffold7_eXplore_7tr_2022-12.csv -s C:\\Users\\rafae\\AppData\\Local\\Programs\\BioSolveIT\\infiniSee-5.0.0\\spaces\\eXplore_7tr_2022-12.space –-max-nof-results 100000 –-min-similarity-threshold 0.6 –-target-similarity 0.9\n",
      "\n",
      "ftrees.exe -i scaffold7.sdf -o scaffold7_08-09\\output_scaffold7_GalaXi_12bn_2023-03.csv -s C:\\Users\\rafae\\AppData\\Local\\Programs\\BioSolveIT\\infiniSee-5.0.0\\spaces\\GalaXi_12bn_2023-03.space –-max-nof-results 100000 –-min-similarity-threshold 0.6 –-target-similarity 0.9\n",
      "\n",
      "ftrees.exe -i scaffold7.sdf -o scaffold7_08-09\\output_scaffold7_REALSpace_36bn_2023-03.csv -s C:\\Users\\rafae\\AppData\\Local\\Programs\\BioSolveIT\\infiniSee-5.0.0\\spaces\\REALSpace_36bn_2023-03.space –-max-nof-results 100000 –-min-similarity-threshold 0.6 –-target-similarity 0.9\n",
      "\n",
      "ftrees.exe -i scaffold8.sdf -o scaffold8_08-09\\output_scaffold8_eXplore_7tr_2022-12.csv -s C:\\Users\\rafae\\AppData\\Local\\Programs\\BioSolveIT\\infiniSee-5.0.0\\spaces\\eXplore_7tr_2022-12.space –-max-nof-results 100000 –-min-similarity-threshold 0.6 –-target-similarity 0.9\n",
      "\n",
      "ftrees.exe -i scaffold8.sdf -o scaffold8_08-09\\output_scaffold8_GalaXi_12bn_2023-03.csv -s C:\\Users\\rafae\\AppData\\Local\\Programs\\BioSolveIT\\infiniSee-5.0.0\\spaces\\GalaXi_12bn_2023-03.space –-max-nof-results 100000 –-min-similarity-threshold 0.6 –-target-similarity 0.9\n",
      "\n",
      "ftrees.exe -i scaffold8.sdf -o scaffold8_08-09\\output_scaffold8_REALSpace_36bn_2023-03.csv -s C:\\Users\\rafae\\AppData\\Local\\Programs\\BioSolveIT\\infiniSee-5.0.0\\spaces\\REALSpace_36bn_2023-03.space –-max-nof-results 100000 –-min-similarity-threshold 0.6 –-target-similarity 0.9\n",
      "\n",
      "ftrees.exe -i scaffold9.sdf -o scaffold9_08-09\\output_scaffold9_eXplore_7tr_2022-12.csv -s C:\\Users\\rafae\\AppData\\Local\\Programs\\BioSolveIT\\infiniSee-5.0.0\\spaces\\eXplore_7tr_2022-12.space –-max-nof-results 100000 –-min-similarity-threshold 0.6 –-target-similarity 0.9\n",
      "\n",
      "ftrees.exe -i scaffold9.sdf -o scaffold9_08-09\\output_scaffold9_GalaXi_12bn_2023-03.csv -s C:\\Users\\rafae\\AppData\\Local\\Programs\\BioSolveIT\\infiniSee-5.0.0\\spaces\\GalaXi_12bn_2023-03.space –-max-nof-results 100000 –-min-similarity-threshold 0.6 –-target-similarity 0.9\n",
      "\n",
      "ftrees.exe -i scaffold9.sdf -o scaffold9_08-09\\output_scaffold9_REALSpace_36bn_2023-03.csv -s C:\\Users\\rafae\\AppData\\Local\\Programs\\BioSolveIT\\infiniSee-5.0.0\\spaces\\REALSpace_36bn_2023-03.space –-max-nof-results 100000 –-min-similarity-threshold 0.6 –-target-similarity 0.9\n",
      "\n",
      "ftrees.exe -i scaffold10.sdf -o scaffold10_08-09\\output_scaffold10_eXplore_7tr_2022-12.csv -s C:\\Users\\rafae\\AppData\\Local\\Programs\\BioSolveIT\\infiniSee-5.0.0\\spaces\\eXplore_7tr_2022-12.space –-max-nof-results 100000 –-min-similarity-threshold 0.6 –-target-similarity 0.9\n",
      "\n",
      "ftrees.exe -i scaffold10.sdf -o scaffold10_08-09\\output_scaffold10_GalaXi_12bn_2023-03.csv -s C:\\Users\\rafae\\AppData\\Local\\Programs\\BioSolveIT\\infiniSee-5.0.0\\spaces\\GalaXi_12bn_2023-03.space –-max-nof-results 100000 –-min-similarity-threshold 0.6 –-target-similarity 0.9\n",
      "\n",
      "ftrees.exe -i scaffold10.sdf -o scaffold10_08-09\\output_scaffold10_REALSpace_36bn_2023-03.csv -s C:\\Users\\rafae\\AppData\\Local\\Programs\\BioSolveIT\\infiniSee-5.0.0\\spaces\\REALSpace_36bn_2023-03.space –-max-nof-results 100000 –-min-similarity-threshold 0.6 –-target-similarity 0.9\n",
      "\n",
      "ftrees.exe -i scaffold11.sdf -o scaffold11_08-09\\output_scaffold11_eXplore_7tr_2022-12.csv -s C:\\Users\\rafae\\AppData\\Local\\Programs\\BioSolveIT\\infiniSee-5.0.0\\spaces\\eXplore_7tr_2022-12.space –-max-nof-results 100000 –-min-similarity-threshold 0.6 –-target-similarity 0.9\n",
      "\n",
      "ftrees.exe -i scaffold11.sdf -o scaffold11_08-09\\output_scaffold11_GalaXi_12bn_2023-03.csv -s C:\\Users\\rafae\\AppData\\Local\\Programs\\BioSolveIT\\infiniSee-5.0.0\\spaces\\GalaXi_12bn_2023-03.space –-max-nof-results 100000 –-min-similarity-threshold 0.6 –-target-similarity 0.9\n",
      "\n",
      "ftrees.exe -i scaffold11.sdf -o scaffold11_08-09\\output_scaffold11_REALSpace_36bn_2023-03.csv -s C:\\Users\\rafae\\AppData\\Local\\Programs\\BioSolveIT\\infiniSee-5.0.0\\spaces\\REALSpace_36bn_2023-03.space –-max-nof-results 100000 –-min-similarity-threshold 0.6 –-target-similarity 0.9\n",
      "\n"
     ]
    }
   ],
   "source": [
    "spaces = [\"eXplore_7tr_2022-12\", \"GalaXi_12bn_2023-03\", \"REALSpace_36bn_2023-03\"]\n",
    "scaffold_numbers = [str(i) for i in range(1,12)]\n",
    "\n",
    "for num in scaffold_numbers:\n",
    "    for space in spaces:\n",
    "        print(fr\"ftrees.exe -i scaffold{num}.sdf -o scaffold{num}_08-09\\output_scaffold{num}_{space}.csv -s C:\\Users\\rafae\\AppData\\Local\\Programs\\BioSolveIT\\infiniSee-5.0.0\\spaces\\{space}.space –-max-nof-results 100000 –-min-similarity-threshold 0.6 –-target-similarity 0.9\")\n",
    "        print()"
   ]
  },
  {
   "cell_type": "code",
   "execution_count": null,
   "id": "e76f6ace-521f-4f96-89fe-6b588c4e39a2",
   "metadata": {},
   "outputs": [],
   "source": []
  }
 ],
 "metadata": {
  "kernelspec": {
   "display_name": "Python 3 (ipykernel)",
   "language": "python",
   "name": "python3"
  },
  "language_info": {
   "codemirror_mode": {
    "name": "ipython",
    "version": 3
   },
   "file_extension": ".py",
   "mimetype": "text/x-python",
   "name": "python",
   "nbconvert_exporter": "python",
   "pygments_lexer": "ipython3",
   "version": "3.10.4"
  }
 },
 "nbformat": 4,
 "nbformat_minor": 5
}
