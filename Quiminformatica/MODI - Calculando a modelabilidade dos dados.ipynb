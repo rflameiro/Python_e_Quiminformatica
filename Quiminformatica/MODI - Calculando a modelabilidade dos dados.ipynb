{
 "cells": [
  {
   "cell_type": "markdown",
   "id": "c1510e9f-bcd4-4844-b267-3e72a30e0e79",
   "metadata": {},
   "source": [
    "# Modelabilidade dos dados\n",
    "\n",
    "Modelos de QSAR trabalham com o princípio da similaridade: compostos similares devem apresentar propriedades similares. Dessa forma, considere um conjunto de dados contendo estruturas químicas e uma propriedade a ser modelada (por exemplo, toxicidade, potência, etc). Calcular a **modelabilidade** desses dados significa identificar se, em geral, compostos parecidos possuem propriedades similares. \n",
    "\n",
    "Idealmente, casos em que compostos similares apresentam propriedades distintas são raros, e recebem o nome de *activity cliffs* (veja o Notebook [Encontrando activity cliffs usando fingerprints](https://github.com/rflameiro/Python_e_Quiminformatica/blob/main/Quiminformatica/Encontrando%20activity%20cliffs%20usando%20fingerprints.ipynb)). Apesar de fornecerem informações importantes a respeito da propriedade em questão, os *activity cliffs* prejudicam muito a preditividade de modelos de aprendizado de máquina, e não é possível esperar bons modelos preditivos de conjuntos de dados ricos em *cliffs*.\n",
    "\n",
    "## Índice de modelabilidade (MODI)\n",
    "\n",
    "No artigo [Data Set Modelability by QSAR](https://pubs.acs.org/doi/10.1021/ci400572x) foi proposta uma medida da modelabilidade de um conjunto de dados para QSAR: um valor denominado de índice de modelabilidade (*MODelability Index* = **MODI**).\n",
    "\n",
    "O valor de MODI é calculado para um conjunto de dados contendo $N$ classes usando uma razão ponderada por classe do número de pares de compostos vizinhos mais próximos com a mesma classe de atividade versus o número total de pares:\n",
    "\n",
    "$$ MODI = {1 \\over N} * {\\sum_{i=1}^{K} {N_i^{same} \\over N_i^{total}}} $$\n",
    "\n",
    "Vamos separar o método em etapas para deixar mais claro:\n",
    "\n",
    "- Para cada classe $i$:\n",
    "\t- Inicie uma variável $N_i^{same}$ com o valor 0\n",
    "\t- Denominamos como $N_i^{total}$ o número de compostos pertencentes à classe $i$. Por exemplo, em um dataset binário com 100 compostos na classe 0 e 200 compostos na classe 1, $N_0^{total}$ = 100 e $N_1^{total}$ = 200\n",
    "\t- Para cada composto da classe, identifique o vizinho mais próximo (no *dataset* completo). Os autores demonstraram que tanto descritores físico-químicos como *fingerprints* podem ser usados para identificar os vizinhos.\n",
    "\t- Se os valores forem diferentes, temos um *activity cliff*\n",
    "\t- Se os valores forem iguais, adicione 1 ao valor de $N_i^{same}$\n",
    "- O valor final de $N_i^{same}/N_i^{total}$ é o **MODI para a classe i**\n",
    "- Some os valores de $N_i^{same}/N_i^{total}$ de todas as classes e divida pelo número de classes - esse é o **MODI do conjunto de dados completo**, mostrado na equação acima. \n",
    "\n",
    "Portanto, um conjunto de dados binário terá três valores de MODI: um para cada classe (0 e 1) e mais um para o conjunto completo (este será a média dos dois valores das classes). Da mesma forma, um conjunto de dados multiclasse terá um valor de MODI para cada classe, mais um total.\n",
    "\n",
    "Um ponto importante a ser considerado é que o vizinho mais próximo de um composto não necessariamente representará uma estrutura análoga. Isso é ainda mais relevante quando tentamos modelar uma coleção de compostos que foi montada pensando em uma vasta exploração do espaço químico, e que por isso apresentará compostos com pouca similaridade entre si. O que os autores observaram é que, como regra geral, conjuntos de dados não modeláveis (com valores MODI relativamente baixos) também apresentam valores médios de índice de Tanimoto (Tc) relativamente baixos para todos os pares de vizinhos mais próximos e, vice-versa, conjuntos de dados modeláveis apresentam valores médios de Tc relativamente altos. Isso é explicado da seguinte forma: conjuntos de dados mais diversos apresentam vizinhos mais dissimilares, e isso faz com que a probabilidade de que as moléculas pertençam à mesma classe seja menor do que se os vizinhos fossem mais parecidos. Dessa forma, a dissimilaridade entre as moléculas, um fator que também prejudica a modelabilidade dos dados, acaba sendo considerada no cálculo do valor de MODI.\n",
    "\n",
    "## MODI - um módulo em Python para cálculo do índice de modelabilidade\n",
    "\n",
    "Os autores do artigo disponibilizaram na sua página do GitHub um módulo para cálculo do valor de MODI. O programa também se chama [MODI](https://github.com/molecularmodelinglab/MODI).\n",
    "\n",
    "No momento, o valor de MODI pode ser calculado apenas para problemas de classificação (binários ou multiclasse). Há também uma função para cálculo de *fingerprints* e identificação dos vizinhos pela distância Euclidiana (usando o método [KDTree](https://docs.scipy.org/doc/scipy/reference/generated/scipy.spatial.KDTree.html)). Como já discuti em [outro Notebook](https://github.com/rflameiro/Python_e_Quiminformatica/blob/main/Quiminformatica/Clustering%20(Agrupamento).ipynb), a distância Euclidiana não é a escolha mais rigorosa para *fingerprints*. De qualquer forma, os resultados do artigo mostraram-se robustos usando essa combinação, e vamos utilizá-la na demonstração abaixo, na qual exploraremos a modelabilidade do *dataset* BBBP do [MoleculeNet](https://moleculenet.org/datasets-1) que contém valores binários referentes à penetração na barreira hematoencefálica (permeabilidade)."
   ]
  },
  {
   "cell_type": "markdown",
   "id": "6a486647-1892-42fa-afad-25a0042f1a36",
   "metadata": {
    "tags": []
   },
   "source": [
    "## Importar módulos e preprocessar o conjunto de dados\n",
    "\n"
   ]
  },
  {
   "cell_type": "code",
   "execution_count": 1,
   "id": "a99acb21-2966-4ac4-9b5a-195abcc2954f",
   "metadata": {},
   "outputs": [
    {
     "data": {
      "text/html": [
       "<div>\n",
       "<style scoped>\n",
       "    .dataframe tbody tr th:only-of-type {\n",
       "        vertical-align: middle;\n",
       "    }\n",
       "\n",
       "    .dataframe tbody tr th {\n",
       "        vertical-align: top;\n",
       "    }\n",
       "\n",
       "    .dataframe thead th {\n",
       "        text-align: right;\n",
       "    }\n",
       "</style>\n",
       "<table border=\"1\" class=\"dataframe\">\n",
       "  <thead>\n",
       "    <tr style=\"text-align: right;\">\n",
       "      <th></th>\n",
       "      <th>num</th>\n",
       "      <th>name</th>\n",
       "      <th>p_np</th>\n",
       "      <th>smiles</th>\n",
       "    </tr>\n",
       "  </thead>\n",
       "  <tbody>\n",
       "    <tr>\n",
       "      <th>0</th>\n",
       "      <td>1</td>\n",
       "      <td>Propanolol</td>\n",
       "      <td>1</td>\n",
       "      <td>[Cl].CC(C)NCC(O)COc1cccc2ccccc12</td>\n",
       "    </tr>\n",
       "    <tr>\n",
       "      <th>1</th>\n",
       "      <td>2</td>\n",
       "      <td>Terbutylchlorambucil</td>\n",
       "      <td>1</td>\n",
       "      <td>C(=O)(OC(C)(C)C)CCCc1ccc(cc1)N(CCCl)CCCl</td>\n",
       "    </tr>\n",
       "    <tr>\n",
       "      <th>2</th>\n",
       "      <td>3</td>\n",
       "      <td>40730</td>\n",
       "      <td>1</td>\n",
       "      <td>c12c3c(N4CCN(C)CC4)c(F)cc1c(c(C(O)=O)cn2C(C)CO...</td>\n",
       "    </tr>\n",
       "    <tr>\n",
       "      <th>3</th>\n",
       "      <td>4</td>\n",
       "      <td>24</td>\n",
       "      <td>1</td>\n",
       "      <td>C1CCN(CC1)Cc1cccc(c1)OCCCNC(=O)C</td>\n",
       "    </tr>\n",
       "    <tr>\n",
       "      <th>4</th>\n",
       "      <td>5</td>\n",
       "      <td>cloxacillin</td>\n",
       "      <td>1</td>\n",
       "      <td>Cc1onc(c2ccccc2Cl)c1C(=O)N[C@H]3[C@H]4SC(C)(C)...</td>\n",
       "    </tr>\n",
       "  </tbody>\n",
       "</table>\n",
       "</div>"
      ],
      "text/plain": [
       "   num                  name  p_np  \\\n",
       "0    1            Propanolol     1   \n",
       "1    2  Terbutylchlorambucil     1   \n",
       "2    3                 40730     1   \n",
       "3    4                    24     1   \n",
       "4    5           cloxacillin     1   \n",
       "\n",
       "                                              smiles  \n",
       "0                   [Cl].CC(C)NCC(O)COc1cccc2ccccc12  \n",
       "1           C(=O)(OC(C)(C)C)CCCc1ccc(cc1)N(CCCl)CCCl  \n",
       "2  c12c3c(N4CCN(C)CC4)c(F)cc1c(c(C(O)=O)cn2C(C)CO...  \n",
       "3                   C1CCN(CC1)Cc1cccc(c1)OCCCNC(=O)C  \n",
       "4  Cc1onc(c2ccccc2Cl)c1C(=O)N[C@H]3[C@H]4SC(C)(C)...  "
      ]
     },
     "execution_count": 1,
     "metadata": {},
     "output_type": "execute_result"
    }
   ],
   "source": [
    "# Importar o dataset BBBP\n",
    "import numpy as np\n",
    "import pandas as pd\n",
    "from rdkit import Chem\n",
    "from rdkit.Chem import AllChem\n",
    "from rdkit.DataStructs import ConvertToNumpyArray\n",
    "\n",
    "df = pd.read_csv('../datasets/BBBP.csv')\n",
    "df.head()"
   ]
  },
  {
   "cell_type": "markdown",
   "id": "f027cae7-0f17-4c7f-917f-322a1ad7a0b4",
   "metadata": {},
   "source": [
    "Vamos padronizar as estruturas usando a função apresentada no Notebook [Padronizando estruturas químicas](https://github.com/rflameiro/Python_e_Quiminformatica/blob/main/Quiminformatica/Padronizando%20estruturas%20qu%C3%ADmicas.ipynb):"
   ]
  },
  {
   "cell_type": "code",
   "execution_count": 2,
   "id": "4966b6a8-2f48-4742-a7bb-6126af81f5ec",
   "metadata": {
    "tags": []
   },
   "outputs": [
    {
     "name": "stderr",
     "output_type": "stream",
     "text": [
      "[23:41:18] Initializing Normalizer\n"
     ]
    }
   ],
   "source": [
    "from rdkit import Chem\n",
    "from rdkit.Chem.MolStandardize import rdMolStandardize\n",
    "from chembl_structure_pipeline import standardizer\n",
    "\n",
    "def new_standardize_mol(molecule, return_mol=True):\n",
    "    \"\"\"\n",
    "    Input = Objeto RDKitMol\n",
    "    return_mol: indica se a função vai retornar RDKit Mol (True) ou SMILES (False)\n",
    "    \"\"\"\n",
    "    try:\n",
    "        # aplicar standardize_mol\n",
    "        std1_mol = standardizer.standardize_mol(molecule)\n",
    "        # selecionar o maior fragmento\n",
    "        desalter = rdMolStandardize.LargestFragmentChooser()\n",
    "        desalt_mol = desalter.choose(std1_mol)\n",
    "        # aplicar standardize_mol ao maior fragmento\n",
    "        std2_mol = standardizer.standardize_mol(desalt_mol)\n",
    "        # selecionar tautômero com maior score\n",
    "        te = rdMolStandardize.TautomerEnumerator()\n",
    "        curated_mol = te.Canonicalize(std2_mol) \n",
    "        assert curated_mol != None\n",
    "        \n",
    "        if return_mol:\n",
    "            return curated_mol\n",
    "        else:\n",
    "            return Chem.MolToSmiles(curated_mol)\n",
    "    \n",
    "    except Exception as e: \n",
    "        print(e)\n",
    "        print(\"Erro, falha na padronização\")\n",
    "        return\n"
   ]
  },
  {
   "cell_type": "code",
   "execution_count": 3,
   "id": "c352c4dc-8913-4be8-b0b0-0245ff1b4fb5",
   "metadata": {},
   "outputs": [
    {
     "data": {
      "text/plain": [
       "2050"
      ]
     },
     "execution_count": 3,
     "metadata": {},
     "output_type": "execute_result"
    }
   ],
   "source": [
    "len(df)"
   ]
  },
  {
   "cell_type": "code",
   "execution_count": 4,
   "id": "0de09a26-33e7-41c3-9039-a8ba4cbe7276",
   "metadata": {},
   "outputs": [],
   "source": [
    "%%capture\n",
    "df[\"rdkit_mol\"] = df[\"smiles\"].apply(Chem.MolFromSmiles)"
   ]
  },
  {
   "cell_type": "code",
   "execution_count": 5,
   "id": "b4fdb39c-0bf7-48a4-891a-b79e80d99e1f",
   "metadata": {},
   "outputs": [
    {
     "data": {
      "text/plain": [
       "11"
      ]
     },
     "execution_count": 5,
     "metadata": {},
     "output_type": "execute_result"
    }
   ],
   "source": [
    "df[\"rdkit_mol\"].isna().sum()"
   ]
  },
  {
   "cell_type": "markdown",
   "id": "b69a8f5d-e82c-427b-a1a8-ee080fe83e52",
   "metadata": {},
   "source": [
    "Os 11 compostos abaixo não puderam ser convertidos a RDKit Mol e serão descartados"
   ]
  },
  {
   "cell_type": "code",
   "execution_count": 6,
   "id": "8d504a3f-8899-4c2e-80fc-0421f6d3bc75",
   "metadata": {},
   "outputs": [
    {
     "data": {
      "text/html": [
       "<div>\n",
       "<style scoped>\n",
       "    .dataframe tbody tr th:only-of-type {\n",
       "        vertical-align: middle;\n",
       "    }\n",
       "\n",
       "    .dataframe tbody tr th {\n",
       "        vertical-align: top;\n",
       "    }\n",
       "\n",
       "    .dataframe thead th {\n",
       "        text-align: right;\n",
       "    }\n",
       "</style>\n",
       "<table border=\"1\" class=\"dataframe\">\n",
       "  <thead>\n",
       "    <tr style=\"text-align: right;\">\n",
       "      <th></th>\n",
       "      <th>num</th>\n",
       "      <th>name</th>\n",
       "      <th>p_np</th>\n",
       "      <th>smiles</th>\n",
       "      <th>rdkit_mol</th>\n",
       "    </tr>\n",
       "  </thead>\n",
       "  <tbody>\n",
       "    <tr>\n",
       "      <th>59</th>\n",
       "      <td>60</td>\n",
       "      <td>15</td>\n",
       "      <td>1</td>\n",
       "      <td>O=N([O-])C1=C(CN=C1NCCSCc2ncccc2)Cc3ccccc3</td>\n",
       "      <td>None</td>\n",
       "    </tr>\n",
       "    <tr>\n",
       "      <th>61</th>\n",
       "      <td>62</td>\n",
       "      <td>22767</td>\n",
       "      <td>1</td>\n",
       "      <td>c1(nc(NC(N)=[NH2])sc1)CSCCNC(=[NH]C#N)NC</td>\n",
       "      <td>None</td>\n",
       "    </tr>\n",
       "    <tr>\n",
       "      <th>391</th>\n",
       "      <td>393</td>\n",
       "      <td>ICI17148</td>\n",
       "      <td>1</td>\n",
       "      <td>Cc1nc(sc1)\\[NH]=C(\\N)N</td>\n",
       "      <td>None</td>\n",
       "    </tr>\n",
       "    <tr>\n",
       "      <th>614</th>\n",
       "      <td>616</td>\n",
       "      <td>5-6</td>\n",
       "      <td>1</td>\n",
       "      <td>s1cc(CSCCN\\C(NC)=[NH]\\C#N)nc1\\[NH]=C(\\N)N</td>\n",
       "      <td>None</td>\n",
       "    </tr>\n",
       "    <tr>\n",
       "      <th>642</th>\n",
       "      <td>644</td>\n",
       "      <td>12</td>\n",
       "      <td>0</td>\n",
       "      <td>c1c(c(ncc1)CSCCN\\C(=[NH]\\C#N)NCC)Br</td>\n",
       "      <td>None</td>\n",
       "    </tr>\n",
       "    <tr>\n",
       "      <th>645</th>\n",
       "      <td>647</td>\n",
       "      <td>16</td>\n",
       "      <td>1</td>\n",
       "      <td>n1c(csc1\\[NH]=C(\\N)N)c1ccccc1</td>\n",
       "      <td>None</td>\n",
       "    </tr>\n",
       "    <tr>\n",
       "      <th>646</th>\n",
       "      <td>648</td>\n",
       "      <td>17</td>\n",
       "      <td>0</td>\n",
       "      <td>n1c(csc1\\[NH]=C(\\N)N)c1cccc(c1)N</td>\n",
       "      <td>None</td>\n",
       "    </tr>\n",
       "    <tr>\n",
       "      <th>647</th>\n",
       "      <td>649</td>\n",
       "      <td>18</td>\n",
       "      <td>0</td>\n",
       "      <td>n1c(csc1\\[NH]=C(\\N)N)c1cccc(c1)NC(C)=O</td>\n",
       "      <td>None</td>\n",
       "    </tr>\n",
       "    <tr>\n",
       "      <th>648</th>\n",
       "      <td>650</td>\n",
       "      <td>19</td>\n",
       "      <td>0</td>\n",
       "      <td>n1c(csc1\\[NH]=C(\\N)N)c1cccc(c1)N\\C(NC)=[NH]\\C#N</td>\n",
       "      <td>None</td>\n",
       "    </tr>\n",
       "    <tr>\n",
       "      <th>649</th>\n",
       "      <td>651</td>\n",
       "      <td>2</td>\n",
       "      <td>1</td>\n",
       "      <td>s1cc(nc1\\[NH]=C(\\N)N)C</td>\n",
       "      <td>None</td>\n",
       "    </tr>\n",
       "    <tr>\n",
       "      <th>685</th>\n",
       "      <td>687</td>\n",
       "      <td>9-C17</td>\n",
       "      <td>1</td>\n",
       "      <td>c1(cc(N\\C(=[NH]\\c2cccc(c2)CC)C)ccc1)CC</td>\n",
       "      <td>None</td>\n",
       "    </tr>\n",
       "  </tbody>\n",
       "</table>\n",
       "</div>"
      ],
      "text/plain": [
       "     num      name  p_np                                           smiles  \\\n",
       "59    60        15     1       O=N([O-])C1=C(CN=C1NCCSCc2ncccc2)Cc3ccccc3   \n",
       "61    62     22767     1         c1(nc(NC(N)=[NH2])sc1)CSCCNC(=[NH]C#N)NC   \n",
       "391  393  ICI17148     1                           Cc1nc(sc1)\\[NH]=C(\\N)N   \n",
       "614  616       5-6     1        s1cc(CSCCN\\C(NC)=[NH]\\C#N)nc1\\[NH]=C(\\N)N   \n",
       "642  644        12     0              c1c(c(ncc1)CSCCN\\C(=[NH]\\C#N)NCC)Br   \n",
       "645  647        16     1                    n1c(csc1\\[NH]=C(\\N)N)c1ccccc1   \n",
       "646  648        17     0                 n1c(csc1\\[NH]=C(\\N)N)c1cccc(c1)N   \n",
       "647  649        18     0           n1c(csc1\\[NH]=C(\\N)N)c1cccc(c1)NC(C)=O   \n",
       "648  650        19     0  n1c(csc1\\[NH]=C(\\N)N)c1cccc(c1)N\\C(NC)=[NH]\\C#N   \n",
       "649  651         2     1                           s1cc(nc1\\[NH]=C(\\N)N)C   \n",
       "685  687     9-C17     1           c1(cc(N\\C(=[NH]\\c2cccc(c2)CC)C)ccc1)CC   \n",
       "\n",
       "    rdkit_mol  \n",
       "59       None  \n",
       "61       None  \n",
       "391      None  \n",
       "614      None  \n",
       "642      None  \n",
       "645      None  \n",
       "646      None  \n",
       "647      None  \n",
       "648      None  \n",
       "649      None  \n",
       "685      None  "
      ]
     },
     "execution_count": 6,
     "metadata": {},
     "output_type": "execute_result"
    }
   ],
   "source": [
    "df[df[\"rdkit_mol\"].isna()]"
   ]
  },
  {
   "cell_type": "code",
   "execution_count": 7,
   "id": "b63ba1a4-a808-4450-a17e-36fe737eaebd",
   "metadata": {},
   "outputs": [],
   "source": [
    "# Selecionando compostos que completaram a conversão a RDKit Mol\n",
    "df = df[~df[\"rdkit_mol\"].isna()]"
   ]
  },
  {
   "cell_type": "code",
   "execution_count": 8,
   "id": "0a5edeff-e316-4996-85e6-6d883054b951",
   "metadata": {
    "tags": []
   },
   "outputs": [],
   "source": [
    "%%capture\n",
    "# Calculando os SMILES padronizados\n",
    "df[\"std_smiles\"] = df[\"rdkit_mol\"].apply(lambda mol: new_standardize_mol(mol, return_mol=False))"
   ]
  },
  {
   "cell_type": "code",
   "execution_count": 9,
   "id": "3ea5d897-5f83-40de-b2d9-ac10c0107d8f",
   "metadata": {},
   "outputs": [
    {
     "data": {
      "text/plain": [
       "0"
      ]
     },
     "execution_count": 9,
     "metadata": {},
     "output_type": "execute_result"
    }
   ],
   "source": [
    "# Antes da padronização\n",
    "df[\"smiles\"].duplicated(keep=False).sum()"
   ]
  },
  {
   "cell_type": "code",
   "execution_count": 10,
   "id": "6aebe2b5-ced1-4cb3-b1ea-c06b24bd7fcc",
   "metadata": {},
   "outputs": [
    {
     "data": {
      "text/plain": [
       "105"
      ]
     },
     "execution_count": 10,
     "metadata": {},
     "output_type": "execute_result"
    }
   ],
   "source": [
    "# Depois da padronização\n",
    "df[\"std_smiles\"].duplicated(keep=False).sum()"
   ]
  },
  {
   "cell_type": "markdown",
   "id": "38a3ce62-38f9-4c5a-93db-ea65881502ca",
   "metadata": {},
   "source": [
    "Com a padronização, 105 entradas passam a ser duplicatas. Essas entradas podem corresponder a sais com contraíons diferentes. Como isso pode influenciar o valor de BBBP, vamos remover todas as entradas duplicadas."
   ]
  },
  {
   "cell_type": "code",
   "execution_count": 11,
   "id": "46592a1c-656e-41d0-be3b-e0f78c1ad047",
   "metadata": {},
   "outputs": [
    {
     "data": {
      "text/plain": [
       "(1934, 6)"
      ]
     },
     "execution_count": 11,
     "metadata": {},
     "output_type": "execute_result"
    }
   ],
   "source": [
    "df = df[~df[\"std_smiles\"].duplicated(keep=False)]\n",
    "df.shape"
   ]
  },
  {
   "cell_type": "code",
   "execution_count": 12,
   "id": "261325ea-ed6a-4295-9a6c-712cda1b9663",
   "metadata": {},
   "outputs": [],
   "source": [
    "# Salvar o dataset para uso futuro\n",
    "df.to_csv('../datasets/BBBP_curated.csv')"
   ]
  },
  {
   "cell_type": "markdown",
   "id": "4bf2d8a1-dd3a-469a-a76c-50bf838164bf",
   "metadata": {},
   "source": [
    "Finalmente, convertemos os SMILES padronizados a RDKit Mol para cálculo dos *fingerprints*:"
   ]
  },
  {
   "cell_type": "code",
   "execution_count": 13,
   "id": "e812d36a-a8a0-4df8-8472-6f41d2282c95",
   "metadata": {},
   "outputs": [],
   "source": [
    "df[\"rdkit_mol\"] = df[\"std_smiles\"].apply(Chem.MolFromSmiles)"
   ]
  },
  {
   "cell_type": "markdown",
   "id": "90ba0d1b-a2aa-48d7-9155-85e13099021b",
   "metadata": {},
   "source": [
    "## Usando o módulo MODI\n",
    "\n",
    "Para usar o MODI é preciso ter o RDKit instalado. Em seguida, baixe o arquivo `modi.py` e salve-o, preferencialmente, na mesma pasta em que o seu Notebook se encontra. Link para baixar: https://github.com/molecularmodelinglab/MODI/blob/main/modi.py\n",
    "\n",
    "Em seguida, usamos o comando a seguir para indicar ao Python que ele pode importar módulos da pasta local:"
   ]
  },
  {
   "cell_type": "code",
   "execution_count": 14,
   "id": "a47c0d09-73ca-4187-bc42-345206f03114",
   "metadata": {},
   "outputs": [],
   "source": [
    "import sys \n",
    "\n",
    "sys.path.append(\".\")  # adiciona a pasta local (.) ao path do Python\n",
    "\n",
    "# Também é possível adicionar uma pasta usando seu path absoluto:\n",
    "# import os\n",
    "# sys.path.append(os.path.abspath(\"/Users/username/Folder1/Folder2\"))"
   ]
  },
  {
   "cell_type": "markdown",
   "id": "bdf43398-ac03-4818-be43-b80a3f835c06",
   "metadata": {},
   "source": [
    "Agora é só importar:"
   ]
  },
  {
   "cell_type": "code",
   "execution_count": 15,
   "id": "98f2a57f-1a4f-42f0-9162-f2074ee54443",
   "metadata": {},
   "outputs": [],
   "source": [
    "import modi\n",
    "from modi import get_morgan_finger"
   ]
  },
  {
   "cell_type": "markdown",
   "id": "073a6436-6038-47ca-9368-2e2dd33f7c3e",
   "metadata": {},
   "source": [
    "O módulo `modi` possui apenas três funções para cálculo do valor de MODI. As três calculam o mesmo valor, e variam apenas no formato do *input*:\n",
    "- modi()\n",
    "- modi_from_sdf()\n",
    "- modi_from_csv()\n",
    "\n",
    "Como os nomes indicam, as duas últimas funções permitem passar os arquivos no formato .sdf ou .csv em vez de um *dataset* pré-carregado. Elas podem ser úteis quando se usa o `modi.py` a partir da linha de comando. Caso opte por usá-lo dessa forma mais avançada, você pode chamar `modi.py -h` para ver a lista de parâmetros e opções.\n",
    "\n",
    "Vamos mostrar a utilização da primeira função:"
   ]
  },
  {
   "cell_type": "markdown",
   "id": "c92f026b-ba1b-4c06-a4e1-5e1c4898cb8e",
   "metadata": {},
   "source": [
    "## modi()\n",
    "\n",
    "Use essa função quando estiver trabalhando com seu conjunto de dados no Jupyter Notebook. É necessário criar dois *numpy arrays*: \n",
    "- um *array* no qual as linhas correspondem a compostos químicos, e as colunas, aos descritores (no caso, vamos usar *Morgan fingerprints*, já que o próprio MODI disponibiliza a função `get_morgan_finger`) \n",
    "- um *array* contendo os valores das propriedades"
   ]
  },
  {
   "cell_type": "code",
   "execution_count": 16,
   "id": "c3054f5c-364d-4be1-8853-3878fe88561e",
   "metadata": {},
   "outputs": [],
   "source": [
    "# Gerar fingerprints usando a função fornecida no modi.py\n",
    "fp_array = np.vstack(df[\"rdkit_mol\"].apply(get_morgan_finger).to_numpy())"
   ]
  },
  {
   "cell_type": "code",
   "execution_count": 17,
   "id": "0f51e347-d510-45be-b64d-be37a0a62b0e",
   "metadata": {},
   "outputs": [],
   "source": [
    "# Gerar array com os valores das propriedades\n",
    "prop_array = np.array(df[\"p_np\"])"
   ]
  },
  {
   "cell_type": "code",
   "execution_count": 18,
   "id": "12071729-077d-4839-9506-8253dac9e5bf",
   "metadata": {},
   "outputs": [],
   "source": [
    "# Calculando o valor de MODI\n",
    "modi_value = modi.modi(fp_array, prop_array)"
   ]
  },
  {
   "cell_type": "code",
   "execution_count": 19,
   "id": "e21ced45-5de0-4a0f-bcf8-a001468f1af0",
   "metadata": {},
   "outputs": [
    {
     "data": {
      "text/plain": [
       "0.7853531319155986"
      ]
     },
     "execution_count": 19,
     "metadata": {},
     "output_type": "execute_result"
    }
   ],
   "source": [
    "modi_value"
   ]
  },
  {
   "cell_type": "markdown",
   "id": "4894a4bc-d757-48fe-9259-57c7725eb3c7",
   "metadata": {},
   "source": [
    "Como interpretar esse valor? Os autores calcularam os índices de modelabilidade para mais de 100 conjuntos de dados, e o valor de **0,65** foi identificado como um valor de corte razoável para separar os conjuntos de dados não modeláveis dos modeláveis. \n",
    "\n",
    "Não leve isso ao pé da letra, mas tenha em mente que se o MODI do seu conjunto de dados for menor que 0,65, há uma boa chance de que seu conjunto de dados será mais difícil de modelar devido à presença de muitos *activity cliffs*."
   ]
  },
  {
   "cell_type": "markdown",
   "id": "a4d09b61-493b-44e7-af18-ded3f12812d9",
   "metadata": {},
   "source": [
    "A função `modi()` também possui o parâmetro opcional `return_class_contribution`, que os autores sugerem alterar para \"True\" no caso de *datasets* desbalanceados. Vejamos se é o caso:"
   ]
  },
  {
   "cell_type": "code",
   "execution_count": 20,
   "id": "7fe055ef-f4f8-4a15-a5f4-9105096a8355",
   "metadata": {},
   "outputs": [
    {
     "name": "stdout",
     "output_type": "stream",
     "text": [
      "Classe 0: 458\n",
      "Classe 1: 1476\n"
     ]
    }
   ],
   "source": [
    "print(f\"Classe 0: {len(prop_array) - prop_array.sum()}\")\n",
    "print(f\"Classe 1: {prop_array.sum()}\")"
   ]
  },
  {
   "cell_type": "markdown",
   "id": "d824766e-4368-4703-98c7-390b08b20763",
   "metadata": {},
   "source": [
    "Nosso *dataset* apresenta um desbalanceamento de aproximadamente 1:3. Vamos ver como o valor de MODI se altera ao usarmos `return_class_contribution=True`. Note que a função agora retorna uma tupla, e podemos guardar os resultados em duas variáveis."
   ]
  },
  {
   "cell_type": "code",
   "execution_count": 21,
   "id": "3a6dc570-588f-4074-ba0b-0c9951131d1a",
   "metadata": {},
   "outputs": [],
   "source": [
    "modi_value, class_contrib = modi.modi(fp_array, prop_array, return_class_contribution=True)"
   ]
  },
  {
   "cell_type": "code",
   "execution_count": 22,
   "id": "ddd58bb2-ccb8-4c2e-8460-27e8768afd2a",
   "metadata": {},
   "outputs": [
    {
     "data": {
      "text/plain": [
       "0.7853531319155986"
      ]
     },
     "execution_count": 22,
     "metadata": {},
     "output_type": "execute_result"
    }
   ],
   "source": [
    "modi_value"
   ]
  },
  {
   "cell_type": "code",
   "execution_count": 23,
   "id": "d56a0f4e-2a06-41aa-a632-70b5c2ac7c5f",
   "metadata": {},
   "outputs": [
    {
     "data": {
      "text/plain": [
       "[(0, 0.631004366812227), (1, 0.9397018970189702)]"
      ]
     },
     "execution_count": 23,
     "metadata": {},
     "output_type": "execute_result"
    }
   ],
   "source": [
    "class_contrib"
   ]
  },
  {
   "cell_type": "markdown",
   "id": "417c8aab-65f2-4cce-9d7d-fda95c4b852e",
   "metadata": {},
   "source": [
    "Veja que o MODI da classe 0 é menor que da classe 1. Isso significa que cerca de 37% (100% - 63%) dos vizinhos mais próximos dos compostos da classe 0 pertencem à classe 1, mas apenas 6% dos compostos da classe 1 apresentam vizinhos da classe 0. Isso nos sugere que o modelo terá mais dificuldade em modelar a classe 0, ou seja, podemos esperar um número maior de falsos negativos do que de falsos positivos. Vejamos se isso de fato ocorre: "
   ]
  },
  {
   "cell_type": "code",
   "execution_count": 24,
   "id": "62b5bcd8-c62f-46bb-8f6b-bdc657048026",
   "metadata": {},
   "outputs": [
    {
     "name": "stdout",
     "output_type": "stream",
     "text": [
      "Confusion Matrix:\n",
      "True Positives: 279\n",
      "False Positives: 32\n",
      "True Negatives: 60\n",
      "False Negatives: 16\n"
     ]
    }
   ],
   "source": [
    "from sklearn.model_selection import StratifiedShuffleSplit\n",
    "from sklearn.linear_model import LogisticRegression\n",
    "from sklearn.metrics import confusion_matrix\n",
    "\n",
    "X, y = fp_array, prop_array\n",
    "\n",
    "# Vamos dividir os dados em conjuntos de treinamento e teste mantendo as classes equilibradas\n",
    "sss = StratifiedShuffleSplit(n_splits=1, test_size=0.2, random_state=0)\n",
    "train_index, test_index = next(sss.split(X, y))\n",
    "\n",
    "X_train, X_test = X[train_index], X[test_index]\n",
    "y_train, y_test = y[train_index], y[test_index]\n",
    "\n",
    "# Ajustando um modelo de regressão logística\n",
    "model = LogisticRegression()\n",
    "model.fit(X_train, y_train)\n",
    "\n",
    "# Calculando as predições para o conjunto de teste\n",
    "y_pred = model.predict(X_test)\n",
    "\n",
    "# Step 6: Generate a confusion matrix and label the matrix\n",
    "tn, fp, fn, tp = confusion_matrix(y_test, y_pred).ravel()\n",
    "\n",
    "print(\"Confusion Matrix:\")\n",
    "print(\"True Positives:\", tp)\n",
    "print(\"False Positives:\", fp)\n",
    "print(\"True Negatives:\", tn)\n",
    "print(\"False Negatives:\", fn)"
   ]
  },
  {
   "cell_type": "code",
   "execution_count": 25,
   "id": "b573f40e-878b-4866-978a-bf9f2a5c8577",
   "metadata": {},
   "outputs": [
    {
     "name": "stdout",
     "output_type": "stream",
     "text": [
      "Porcentagem de falsos negativos sobre os preditos negativos (classe 0): 21.05\n",
      "Porcentagem de falsos positivos sobre os preditos positivos (classe 1): 10.29\n"
     ]
    }
   ],
   "source": [
    "print(f\"Porcentagem de falsos negativos sobre os preditos negativos (classe 0): {fn*100/(fn+tn):.2f}\")\n",
    "print(f\"Porcentagem de falsos positivos sobre os preditos positivos (classe 1): {fp*100/(fp+tp):.2f}\")"
   ]
  },
  {
   "cell_type": "markdown",
   "id": "11d89bf0-9476-4040-87f6-ee44ebedff65",
   "metadata": {},
   "source": [
    "Confirmamos que há mais falsos negativos do que falsos positivos, em proporção aos valores preditos. Note que o resultado também reflete o desbalanceamento dos dados. Dessa forma, concluímos que pode ser interessante aumentar o número de compostos da classe 0 para obtermos um conjunto mais modelável e modelos mais preditivos."
   ]
  },
  {
   "cell_type": "code",
   "execution_count": null,
   "id": "7b63ba8b-c480-4199-8d75-7f78aef6b6f2",
   "metadata": {},
   "outputs": [],
   "source": []
  }
 ],
 "metadata": {
  "kernelspec": {
   "display_name": "Python 3 (ipykernel)",
   "language": "python",
   "name": "python3"
  },
  "language_info": {
   "codemirror_mode": {
    "name": "ipython",
    "version": 3
   },
   "file_extension": ".py",
   "mimetype": "text/x-python",
   "name": "python",
   "nbconvert_exporter": "python",
   "pygments_lexer": "ipython3",
   "version": "3.10.4"
  }
 },
 "nbformat": 4,
 "nbformat_minor": 5
}
