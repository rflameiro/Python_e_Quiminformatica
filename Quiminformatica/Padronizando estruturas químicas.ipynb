{
 "cells": [
  {
   "cell_type": "markdown",
   "id": "a5f612ea-2c67-4272-9aea-cd9db4004fdc",
   "metadata": {},
   "source": [
    "# Padronização de estruturas químicas\n",
    "\n",
    "**Direto ao ponto**: Se só estiver procurando uma função para usar na padronização de SMILES, veja o item [Exemplo de função completa para padronização com o ChEMBL_Structure_Pipeline](#Exemplo-de-função-completa-para-padronização-com-o-ChEMBL_Structure_Pipeline), que usa o módulo ChEMBL_Structure_Pipeline (é a função que prefiro usar), ou o item [Exemplo de função completa para padronização: Oxford Protein Informatics Group](#Exemplo-de-função-completa-para-padronização:-Oxford-Protein-Informatics-Group), que usa apenas o RDKit.\n",
    "\n",
    "## Normalização (*Normalization*)\n",
    "\n",
    "Com SMILES podemos representar compostos aromáticos de maneiras distintas. Veja os dois SMILES a seguir, que correspondem ao benzeno:\n",
    "- C1=CC=CC=C1\n",
    "- c1ccccc1\n",
    "\n",
    "Suponha que seu conjunto de dados tenha duas entradas distintas para o benzeno (ou outro composto aromático), cada uma usando uma representação. Como identificar essa duplicata? Uma saída é a **normalização** das estruturas químicas.\n",
    "\n",
    "É fácil fazer a normalização usando o RDKit. Basta converter os SMILES ao objeto RDKit Mol usando a função `Chem.MolFromSmiles()` e em seguida usar a função `Chem.MolToSmiles()`, já que essa função garante a conversão de objetos RDKit Mol que correspondem ao mesmo grafo molecular à mesma *string* SMILES (representação canônica do RDKit)."
   ]
  },
  {
   "cell_type": "code",
   "execution_count": 1,
   "id": "d13bffd1-2d71-4a84-8fef-4f5a7b47f3ad",
   "metadata": {},
   "outputs": [],
   "source": [
    "from rdkit import Chem"
   ]
  },
  {
   "cell_type": "code",
   "execution_count": 2,
   "id": "24f268ee-43dd-4a82-9b32-543918e105d6",
   "metadata": {},
   "outputs": [
    {
     "data": {
      "text/plain": [
       "False"
      ]
     },
     "execution_count": 2,
     "metadata": {},
     "output_type": "execute_result"
    }
   ],
   "source": [
    "smi1 = 'C1=CC=CC=C1'\n",
    "smi2 = 'c1ccccc1'\n",
    "\n",
    "# Os SMILES são diferentes\n",
    "smi1 == smi2"
   ]
  },
  {
   "cell_type": "code",
   "execution_count": 3,
   "id": "615aaeee-58ed-404a-a86d-6b5c372465ff",
   "metadata": {},
   "outputs": [
    {
     "data": {
      "text/plain": [
       "True"
      ]
     },
     "execution_count": 3,
     "metadata": {},
     "output_type": "execute_result"
    }
   ],
   "source": [
    "mol1 = Chem.MolFromSmiles(smi1)\n",
    "mol2 = Chem.MolFromSmiles(smi2)\n",
    "\n",
    "new_smi1 = Chem.MolToSmiles(mol1)\n",
    "new_smi2 = Chem.MolToSmiles(mol2)\n",
    "\n",
    "# Os SMILES normalizados são iguais\n",
    "new_smi1 == new_smi2"
   ]
  },
  {
   "cell_type": "markdown",
   "id": "22cd0915-8958-4f12-b962-d9da47eaadff",
   "metadata": {},
   "source": [
    "A normalização também pode envolver a definição de representações únicas para grupos funcionais quando mais de uma estrutura de Lewis é possível. Por exemplo, o grupo [sulfóxido](https://en.wikipedia.org/wiki/Sulfoxide) pode ser representado como um átomo de enxofre positivo ligado por ligação simples a um oxigênio com carga negativa, ou contendo uma ligação dupla S=O. Qualquer uma das representações pode ser usada, mas é importante que todos os sulfóxidos do seu conjunto de dados apresentem a mesma representação ao final do processo. \n",
    "\n",
    "Porém, veja abaixo que quando usamos o \"método das duas conversões\" do RDKit, as representações não se tornam iguais, ou seja, o RDKit normaliza a representação de aromáticos, mas não realiza automaticamente a conversão de grupos funcionais. É necessário usar um método mais rigoroso: a padronização."
   ]
  },
  {
   "cell_type": "code",
   "execution_count": 4,
   "id": "32f4b6f0-182f-43f9-9663-cec46c330b57",
   "metadata": {},
   "outputs": [
    {
     "data": {
      "text/plain": [
       "False"
      ]
     },
     "execution_count": 4,
     "metadata": {},
     "output_type": "execute_result"
    }
   ],
   "source": [
    "smi1 = '[O-][S+](C)C'\n",
    "smi2 = 'CS(=O)C'\n",
    "\n",
    "mol1 = Chem.MolFromSmiles(smi1)\n",
    "mol2 = Chem.MolFromSmiles(smi2)\n",
    "\n",
    "new_smi1 = Chem.MolToSmiles(mol1)\n",
    "new_smi2 = Chem.MolToSmiles(mol2)\n",
    "\n",
    "# Os SMILES continuam diferentes\n",
    "new_smi1 == new_smi2"
   ]
  },
  {
   "cell_type": "markdown",
   "id": "6557a828-8e99-4de4-97d3-636bf92288a8",
   "metadata": {},
   "source": [
    "## Padronização (*Standardization*)\n",
    "\n",
    "A **padronização** é o processo de filtrar e/ou transformar grafos moleculares de acordo com um conjunto de regras bem definidas e autoconsistentes. Pode envolver uma sequência de transformações e testes, sendo alguns exemplos:\n",
    "\n",
    "- Verificar a presença de átomos/ligações/isótopos inválidos\n",
    "- Remover/adicionar hidrogênios\n",
    "- Mudar ligação ondulada (*wavy*) para simples\n",
    "- Mudar ligação dupla simples para ligação dupla cruzada\n",
    "- Redefinir algumas ligações covalentes como iônicas\n",
    "- Definir estrutura de Lewis padrão para grupos funcionais (por exemplo: nitro, sulfóxido)\n",
    "- Protonar/desprotonar átomo carregado\n",
    "- Deslocamento de 1,3-hidrogênio\n",
    "- Enumeração e seleção de formas tautoméricas\n",
    "\n",
    "Diversas etapas são possíveis, e tarefas importantes para um conjunto de dados podem não ser tão relevantes para outros. \n",
    "\n",
    "[Esta publicação](https://depth-first.com/articles/2020/07/27/a-guide-to-molecular-standardization/) lista alguns fatores que devem ser levados em conta quando tratamos datasets de compostos químicos, uma vez que podem interferir na produção de previsões confiáveis:\n",
    "\n",
    "1. Validade. A forma de representação molecular quebra uma ou mais regras sintáticas? Por exemplo, um *molfile* pode usar uma ligação química inválida. Da mesma forma, em um SMILES pode haver um elemento metálico que não está entre colchetes.\n",
    "2. Fidelidade. Quão consistente é o grafo molecular com outras informações fornecidas no conjunto de dados? Por exemplo, os campos de dados podem incluir um nome sistemático, InChI, número CAS ou ID interno. Com que fidelidade o gráfico molecular reflete as características conhecidas definidas por esses identificadores?\n",
    "3. Uniformidade. O grafo molecular quebra alguma regra de forma de representação, estilo ou semântica? Como um exemplo simples, considere um *molfile* que não codifica átomos ou ligações. Embora possa não violar regras de sintaxe ou criar conflitos com identificadores externos, pode não ser apropriado para inclusão em determinados conjuntos de dados.\n",
    "\n",
    "Adiciono aqui, também, a questão dos SMILES que contêm mais de uma estrutura química. Esse tipo de representação, usada para sais, hidratos e solvatos, pode trazer problemas para o cálculo de descritores moleculares. Assim sendo, é comum realizar etapas como remoção de contraíons seguida de neutralização e remoção de água ou outros solventes. Tenha em mente que essa escolha deve ser feita com cautela, pois pode trazer outros problemas. Por exemplo, suponha que o composto orgânico $X$ seja positivamente carregado, e que tanto o cloreto ($XCl$) quando o brometo ($XBr$) sejam entradas em seu banco de dados. Ao remover os contraíons e neutralizar a estrutura, você terá dois valores distintos para a mesma estrutura, que podem apresentar propriedades significativamente diferentes (apenas para citar alguns exemplos: ponto de fusão e solubilidade).\n",
    "\n",
    "Note que a normalização e a padronização são particularmente importantes quando usamos um conjunto de dados público ou organizado a partir de diversas fontes distintas, pois podem existir entradas inseridas incorretamente, repetidas, ou contendo mais de uma estrutura. \n",
    "\n",
    "Vamos ver algumas das opções disponíveis para padronização de estruturas químicas, para você acrescentar ao início do seu *pipeline* de criação de modelos preditivos."
   ]
  },
  {
   "cell_type": "markdown",
   "id": "b122bb1b-a05f-4685-8fef-f3bc21e3f207",
   "metadata": {},
   "source": [
    "# RDKit MolStandardize\n",
    "\n",
    "Aqui, apresento as funções disponíveis no RDKit para padronizção, conforme descrito neste [Notebook no GitHub do RDKit](https://github.com/rdkit/rdkit/blob/master/Docs/Notebooks/MolStandardize.ipynb)\n"
   ]
  },
  {
   "cell_type": "code",
   "execution_count": 5,
   "id": "ae48adae-9875-450b-978f-d6e28a3a1d5e",
   "metadata": {},
   "outputs": [],
   "source": [
    "import rdkit\n",
    "from rdkit import Chem\n",
    "from rdkit.Chem.Draw import IPythonConsole\n",
    "from rdkit.Chem.MolStandardize import rdMolStandardize"
   ]
  },
  {
   "cell_type": "markdown",
   "id": "779d0e1c-2d05-4b67-a773-12d3b6bd4f09",
   "metadata": {},
   "source": [
    "## Demonstrando funções\n",
    "\n",
    "O módulo rdMolStandardize contém as seguintes funções de conveniência para executar rapidamente a tarefa de padronização:\n",
    "\n",
    "- rdMolStandardize.ValidateSmiles()\n",
    "- rdMolStandardize.StandardizeSmiles()\n",
    "\n",
    "A função `ValidateSmiles()`, como o nome indica, valida um SMILES. Nesse exemplo, ele vai acusar a presença de um fragmento."
   ]
  },
  {
   "cell_type": "code",
   "execution_count": 6,
   "id": "f7e544b8-9b5f-4042-a304-56132ee8a910",
   "metadata": {},
   "outputs": [
    {
     "name": "stderr",
     "output_type": "stream",
     "text": [
      "[00:56:42] INFO: [FragmentValidation] 1,2-dichloroethane is present\n"
     ]
    },
    {
     "data": {
      "text/plain": [
       "['INFO: [FragmentValidation] 1,2-dichloroethane is present']"
      ]
     },
     "execution_count": 6,
     "metadata": {},
     "output_type": "execute_result"
    }
   ],
   "source": [
    "rdMolStandardize.ValidateSmiles(\"ClCCCl.c1ccccc1O\")"
   ]
  },
  {
   "cell_type": "markdown",
   "id": "cd742bb0-6f74-42bf-bf2b-6cb2c8ba492d",
   "metadata": {},
   "source": [
    "A função `StandardizeSmiles()` é mais completa e realiza várias etapas de padronização:"
   ]
  },
  {
   "cell_type": "code",
   "execution_count": 7,
   "id": "00c29a6d-25d7-4ae0-a123-4e52cde0f63b",
   "metadata": {},
   "outputs": [
    {
     "name": "stderr",
     "output_type": "stream",
     "text": [
      "[00:56:42] Initializing MetalDisconnector\n",
      "[00:56:42] Running MetalDisconnector\n",
      "[00:56:42] Removed covalent bond between Na and O\n",
      "[00:56:42] Initializing Normalizer\n",
      "[00:56:42] Running Normalizer\n",
      "[00:56:42] Rule applied: Sulfone to S(=O)(=O)\n"
     ]
    },
    {
     "data": {
      "text/plain": [
       "'O=C([O-])c1ccc(C[S](=O)=O)cc1.[Na+]'"
      ]
     },
     "execution_count": 7,
     "metadata": {},
     "output_type": "execute_result"
    }
   ],
   "source": [
    "sm = \"[Na]OC(=O)c1ccc(C[S+2]([O-])([O-]))cc1\"\n",
    "rdMolStandardize.StandardizeSmiles(sm)"
   ]
  },
  {
   "cell_type": "code",
   "execution_count": 8,
   "id": "35237e4f-b960-47a2-8fbb-503364c946f4",
   "metadata": {},
   "outputs": [
    {
     "name": "stderr",
     "output_type": "stream",
     "text": [
      "[00:56:42] Initializing MetalDisconnector\n",
      "[00:56:42] Running MetalDisconnector\n",
      "[00:56:42] Removed covalent bond between Na and O\n",
      "[00:56:42] Initializing Normalizer\n",
      "[00:56:42] Running Normalizer\n",
      "[00:56:42] Rule applied: Sulfone to S(=O)(=O)\n"
     ]
    },
    {
     "data": {
      "text/plain": [
       "'O=C([O-])c1ccc(C[S](=O)=O)cc1.[Na+]'"
      ]
     },
     "execution_count": 8,
     "metadata": {},
     "output_type": "execute_result"
    }
   ],
   "source": [
    "# A linha acima é equivalente a:\n",
    "mol = Chem.MolFromSmiles(sm)\n",
    "Chem.SanitizeMol(mol)\n",
    "mol = Chem.RemoveHs(mol)\n",
    "mol = rdMolStandardize.MetalDisconnector().Disconnect(mol)\n",
    "mol = rdMolStandardize.Normalize(mol)\n",
    "mol = rdMolStandardize.Reionize(mol)\n",
    "Chem.AssignStereochemistry(mol, force=True, cleanIt=True)\n",
    "Chem.MolToSmiles(mol)"
   ]
  },
  {
   "cell_type": "markdown",
   "id": "f1f390f6-b6de-4224-bfb2-0711c8cc5ddd",
   "metadata": {},
   "source": [
    "Vamos ver com mais detalhes cada uma dessas etapas:"
   ]
  },
  {
   "cell_type": "markdown",
   "id": "c86de88d-3969-4284-8c66-47bfb72fcc63",
   "metadata": {},
   "source": [
    "`Chem.SanitizeMol(mol)` verifica valências, aromaticidade, conjugação"
   ]
  },
  {
   "cell_type": "markdown",
   "id": "5f72d74b-3e71-4e5f-bcd6-8587f5fb6191",
   "metadata": {},
   "source": [
    "`Chem.RemoveHs(mol)` remove átomos de hidrogênio, exceto os que estão envolvidos em centros estereogênicos. É possível definir opções para essa função usando [RemoveHsParameters](https://www.rdkit.org/docs/source/rdkit.Chem.rdmolops.html#rdkit.Chem.rdmolops.RemoveHsParameters), como: remover os hidrogênios marcados como isótopos (na definição padrão da função, esses hidrogênios não são removidos)"
   ]
  },
  {
   "cell_type": "code",
   "execution_count": 9,
   "id": "f78ab71e-5c8c-417f-b28c-855280ee4517",
   "metadata": {},
   "outputs": [],
   "source": [
    "rhps = Chem.RemoveHsParameters()\n",
    "rhps.removeIsotopes = True"
   ]
  },
  {
   "cell_type": "markdown",
   "id": "34f254c5-ab85-4a14-81ac-1e0636d3b831",
   "metadata": {},
   "source": [
    "`Cleanup()` é recomendado para *datasets* com várias moléculas. Realiza diversas etapas de padronização (veja abaixo)"
   ]
  },
  {
   "cell_type": "code",
   "execution_count": 10,
   "id": "629cda58-0974-49f9-a5cf-2688bf79e30e",
   "metadata": {},
   "outputs": [],
   "source": [
    "smi1 = '[O-][S+](C)C'\n",
    "smi2 = 'CS(=O)C'\n",
    "\n",
    "mol1 = Chem.MolFromSmiles(smi1)\n",
    "mol2 = Chem.MolFromSmiles(smi2)"
   ]
  },
  {
   "cell_type": "code",
   "execution_count": 11,
   "id": "7717ffca-daf6-4a2f-b2b2-d3b45db835f1",
   "metadata": {},
   "outputs": [
    {
     "name": "stderr",
     "output_type": "stream",
     "text": [
      "[00:56:42] Initializing MetalDisconnector\n",
      "[00:56:42] Running MetalDisconnector\n",
      "[00:56:42] Initializing Normalizer\n",
      "[00:56:42] Running Normalizer\n"
     ]
    },
    {
     "data": {
      "image/png": "[encoded data removed]",
      "text/plain": [
       "<rdkit.Chem.rdchem.Mol at 0x20b9d8282e0>"
      ]
     },
     "execution_count": 11,
     "metadata": {},
     "output_type": "execute_result"
    }
   ],
   "source": [
    "rdMolStandardize.Cleanup(mol1)"
   ]
  },
  {
   "cell_type": "code",
   "execution_count": 12,
   "id": "dc867084-de31-4d2c-8887-eae1ae9d590c",
   "metadata": {},
   "outputs": [
    {
     "name": "stderr",
     "output_type": "stream",
     "text": [
      "[00:56:42] Initializing MetalDisconnector\n",
      "[00:56:42] Running MetalDisconnector\n",
      "[00:56:42] Initializing Normalizer\n",
      "[00:56:42] Running Normalizer\n",
      "[00:56:42] Rule applied: Sulfoxide to -S+(O-)-\n"
     ]
    },
    {
     "data": {
      "image/png": "[encoded data removed]",
      "text/plain": [
       "<rdkit.Chem.rdchem.Mol at 0x20b9d828fa0>"
      ]
     },
     "execution_count": 12,
     "metadata": {},
     "output_type": "execute_result"
    }
   ],
   "source": [
    "rdMolStandardize.Cleanup(mol2)"
   ]
  },
  {
   "cell_type": "markdown",
   "id": "f6454136-00d3-4ad4-bcca-a7fea6e8d87e",
   "metadata": {},
   "source": [
    "Note que o RDKit Mol original não é modificado:"
   ]
  },
  {
   "cell_type": "code",
   "execution_count": 13,
   "id": "d0639ce6-f321-4caf-9ad1-a0f7cee3f5fc",
   "metadata": {},
   "outputs": [
    {
     "data": {
      "image/png": "[encoded data removed]",
      "text/plain": [
       "<rdkit.Chem.rdchem.Mol at 0x20b9d6c8a60>"
      ]
     },
     "execution_count": 13,
     "metadata": {},
     "output_type": "execute_result"
    }
   ],
   "source": [
    "mol2"
   ]
  },
  {
   "cell_type": "markdown",
   "id": "77e0182e-968b-4569-aaac-316b7a29de8b",
   "metadata": {},
   "source": [
    "Portanto, é necessário atribuir o *output* a uma nova variável se quiser continuar trabalhando com o RDKit Mol padronizado:"
   ]
  },
  {
   "cell_type": "code",
   "execution_count": 14,
   "id": "31a585a9-0c62-496a-a8be-98696016f1b7",
   "metadata": {},
   "outputs": [
    {
     "name": "stderr",
     "output_type": "stream",
     "text": [
      "[00:56:42] Initializing MetalDisconnector\n",
      "[00:56:42] Running MetalDisconnector\n",
      "[00:56:42] Initializing Normalizer\n",
      "[00:56:42] Running Normalizer\n",
      "[00:56:42] Rule applied: Sulfoxide to -S+(O-)-\n"
     ]
    }
   ],
   "source": [
    "new_mol2 = rdMolStandardize.Cleanup(mol2)"
   ]
  },
  {
   "cell_type": "markdown",
   "id": "fb0e5c74-bde0-49d3-a1a4-a70b21cf27b4",
   "metadata": {},
   "source": [
    "`Normalize()` corrige grupos funcionais e normaliza cargas. Neste exemplo, o nitrobenzeno, no qual o grupo nitro foi desenhado com cinco ligações, é corrigido:"
   ]
  },
  {
   "cell_type": "code",
   "execution_count": 15,
   "id": "77f2342f-4564-4671-ae52-a5f3288c0bc6",
   "metadata": {},
   "outputs": [
    {
     "name": "stderr",
     "output_type": "stream",
     "text": [
      "[00:56:43] Initializing Normalizer\n",
      "[00:56:43] Running Normalizer\n"
     ]
    },
    {
     "data": {
      "image/png": "[encoded data removed]",
      "text/plain": [
       "<rdkit.Chem.rdchem.Mol at 0x20b9d829180>"
      ]
     },
     "execution_count": 15,
     "metadata": {},
     "output_type": "execute_result"
    }
   ],
   "source": [
    "rdMolStandardize.Normalize(Chem.MolFromSmiles('O=N(C1=CC=CC=C1)=O'))"
   ]
  },
  {
   "cell_type": "markdown",
   "id": "bf9b79cc-db83-4917-a042-026683f947a8",
   "metadata": {},
   "source": [
    "`MetalDisconnector()` remove ligações covalentes envolvendo metais:"
   ]
  },
  {
   "cell_type": "code",
   "execution_count": 16,
   "id": "a4aaab8a-1056-43df-aceb-74325e111708",
   "metadata": {},
   "outputs": [
    {
     "name": "stderr",
     "output_type": "stream",
     "text": [
      "[00:56:43] Initializing MetalDisconnector\n",
      "[00:56:43] Running MetalDisconnector\n",
      "[00:56:43] Removed covalent bond between Na and O\n"
     ]
    },
    {
     "data": {
      "image/png": "[encoded data removed]",
      "text/plain": [
       "<rdkit.Chem.rdchem.Mol at 0x20b9d8298a0>"
      ]
     },
     "execution_count": 16,
     "metadata": {},
     "output_type": "execute_result"
    }
   ],
   "source": [
    "md = rdMolStandardize.MetalDisconnector()\n",
    "md.Disconnect(Chem.MolFromSmiles(\"CCC(=O)O[Na]\"))"
   ]
  },
  {
   "cell_type": "markdown",
   "id": "11f6fe5d-621a-4c35-998f-644142bca0ce",
   "metadata": {},
   "source": [
    "`rdMolStandardize.LargestFragmentChooser()` seleciona o maior fragmento em um SMILES contendo diversos compostos:"
   ]
  },
  {
   "cell_type": "code",
   "execution_count": 17,
   "id": "15f17edc-a669-433d-9879-19076c903eb5",
   "metadata": {},
   "outputs": [
    {
     "name": "stderr",
     "output_type": "stream",
     "text": [
      "[00:56:43] Running MetalDisconnector\n",
      "[00:56:43] Removed covalent bond between Na and O\n",
      "[00:56:43] Running LargestFragmentChooser\n",
      "[00:56:43] Fragment: CCC(=O)[O-]\n",
      "[00:56:43] New largest fragment: CCC(=O)[O-] (10)\n",
      "[00:56:43] Fragment: [Na+]\n"
     ]
    },
    {
     "data": {
      "image/png": "[encoded data removed]",
      "text/plain": [
       "<rdkit.Chem.rdchem.Mol at 0x20b9d8293c0>"
      ]
     },
     "execution_count": 17,
     "metadata": {},
     "output_type": "execute_result"
    }
   ],
   "source": [
    "mol = md.Disconnect(Chem.MolFromSmiles(\"CCC(=O)O[Na]\"))\n",
    "\n",
    "lfc = rdMolStandardize.LargestFragmentChooser()\n",
    "lfc.choose(mol)"
   ]
  },
  {
   "cell_type": "markdown",
   "id": "d05545ef-a413-4b3a-919d-29d6ade3a61b",
   "metadata": {},
   "source": [
    "`rdMolStandardize.FragmentParent()` é similar, mas usa automaticamente o método `rdMolStandardize.Cleanup()`"
   ]
  },
  {
   "cell_type": "code",
   "execution_count": 18,
   "id": "fc8269cb-7234-4f6a-84c0-f20978bdd4b7",
   "metadata": {},
   "outputs": [
    {
     "name": "stderr",
     "output_type": "stream",
     "text": [
      "[00:56:43] Running MetalDisconnector\n",
      "[00:56:43] Removed covalent bond between Na and O\n",
      "[00:56:43] Running FragmentRemover\n",
      "[00:56:43] Removed fragment: sodium\n"
     ]
    },
    {
     "data": {
      "image/png": "[encoded data removed]",
      "text/plain": [
       "<rdkit.Chem.rdchem.Mol at 0x20b9d82a020>"
      ]
     },
     "execution_count": 18,
     "metadata": {},
     "output_type": "execute_result"
    }
   ],
   "source": [
    "mol = md.Disconnect(Chem.MolFromSmiles(\"CCC(=O)O[Na]\"))\n",
    "\n",
    "fr = rdMolStandardize.FragmentRemover()\n",
    "fr.remove(mol)"
   ]
  },
  {
   "cell_type": "markdown",
   "id": "96880b9c-c689-40e1-8e01-8785de87d5bb",
   "metadata": {},
   "source": [
    "O método `rdMolStandardize.ChargeParent()` é a versão \"sem cargas\" da `FragmentParent()`. Envolve selecionar o fragmento principal e aplicar `Neutralize()` e `Reionize()`."
   ]
  },
  {
   "cell_type": "code",
   "execution_count": 19,
   "id": "321012c9-2761-48a8-8074-61a25fe03975",
   "metadata": {},
   "outputs": [
    {
     "name": "stderr",
     "output_type": "stream",
     "text": [
      "[00:56:43] Initializing MetalDisconnector\n",
      "[00:56:43] Running MetalDisconnector\n",
      "[00:56:43] Initializing Normalizer\n",
      "[00:56:43] Running Normalizer\n",
      "[00:56:43] Running LargestFragmentChooser\n",
      "[00:56:43] Fragment: Cl\n",
      "[00:56:43] New largest fragment: Cl (2)\n",
      "[00:56:43] Fragment: [Na+]\n",
      "[00:56:43] Fragment: O=C([O-])c1ccccc1\n",
      "[00:56:43] New largest fragment: O=C([O-])c1ccccc1 (14)\n",
      "[00:56:43] Fragment: O\n",
      "[00:56:43] Running Uncharger\n",
      "[00:56:43] Removed negative charge.\n",
      "[00:56:43] Initializing MetalDisconnector\n",
      "[00:56:43] Running MetalDisconnector\n",
      "[00:56:43] Initializing Normalizer\n",
      "[00:56:43] Running Normalizer\n"
     ]
    },
    {
     "data": {
      "image/png": "[encoded data removed]",
      "text/plain": [
       "<rdkit.Chem.rdchem.Mol at 0x20b9d82a500>"
      ]
     },
     "execution_count": 19,
     "metadata": {},
     "output_type": "execute_result"
    }
   ],
   "source": [
    "mol = Chem.MolFromSmiles(\"[Na+].O=C([O-])c1ccccc1.O.Cl\")\n",
    "rdMolStandardize.ChargeParent(mol)"
   ]
  },
  {
   "cell_type": "markdown",
   "id": "0df9306c-8b97-4740-90ec-7c76f02fae01",
   "metadata": {},
   "source": [
    "O Notebook do RDKit ainda está incompleto e não discute como tratar tautômeros, mas em um [post no blog do RDKit](http://rdkit.blogspot.com/2020/01/trying-out-new-tautomer.html) é descrito o funcionamento das funções para tratar tautômeros. As etapas são as seguintes:\n",
    "\n",
    "1. Enumere todos os tautômeros possíveis usando regras de transformação.\n",
    "2. Use o sistema de *scoring* (pontuação) para determinar o tautômero canônico.\n",
    "3. O tautômero canônico deve ser “razoável” do ponto de vista químico, mas não é garantido que seja o mais energeticamente favorável."
   ]
  },
  {
   "cell_type": "markdown",
   "id": "1f20172e-2927-4613-acd1-e65e6e25f988",
   "metadata": {},
   "source": [
    "## Exemplo de função completa para padronização: Oxford Protein Informatics Group\n",
    "\n",
    "A função abaixo foi descrita no [post no blog do Oxford Protein Informatics Group](https://www.blopig.com/blog/2022/05/molecular-standardization/), tendo sido baseada em um [Notebook](https://github.com/greglandrum/RSC_OpenScience_Standardization_202104/blob/main/MolStandardize%20pieces.ipynb) do criador do RDKit. Ela implementa todas as etapas de padronização disponíveis no RDKit. \n",
    "\n",
    "A função parece grande porque disponibiliza a opção de escrever as etapas completadas usando o parâmetro `verbose`, mas realiza essas cinco etapas:\n",
    "1. `Cleanup()`\n",
    "2. `FragmentParent()`\n",
    "3. `Uncharger()`\n",
    "4. `TautomerEnumerator()` e `Canonicalize()`\n",
    "5. `Chem.MolToSmiles()`\n",
    "\n",
    "Alguns comentários:\n",
    "\n",
    "Acredito que seria possível unir as etapas 2 e 3 usando `rdMolStandardize.ChargeParent()`, mas optei por deixar como descrita originalmente.\n",
    "\n",
    "A etapa 4 garante que apenas um tautômero será selecionado e que sempre o mesmo tautômero será selecionado. Note, porém, que não há garantia de que o tautômero selecionado será o mais adequado para seu modelo. Por exemplo, pode ser que seu composto apresente tautomeria ceto-enólica, e que a forma enol seja a bioativa, mas que o *pipeline* selecione a forma ceto. Caso seu conjunto de dados apresente essas questões, é recomendável visualizar as moléculas após a padronização para garantir sua correta descrição.\n",
    "\n",
    "A etapa 5 garante que a representão final será a canônica do RDKit.\n",
    "\n",
    "A função descrita neste [post do blog Bitsilla](https://bitsilla.com/blog/2021/06/standardizing-a-molecule-using-rdkit/) é similar a essa, por isso não vou mostrá-la aqui."
   ]
  },
  {
   "cell_type": "code",
   "execution_count": 20,
   "id": "aeffb5b9-3f08-4f8d-a3ac-32bcfffa1af3",
   "metadata": {},
   "outputs": [],
   "source": [
    "from rdkit.Chem.MolStandardize import rdMolStandardize\n",
    "\n",
    "\n",
    "def standardize_mol(mol, verbose=False):\n",
    "    \"\"\"\n",
    "    Padroniza o RDKit Mol, seleciona o fragmento principal, remove a carga,\n",
    "    então enumera todos os tautômeros.\n",
    "    Se \"verbose=True\", uma explicação das etapas e das estruturas da molécula\n",
    "    conforme é padronizada será produzida.\n",
    "    \"\"\"\n",
    "    \n",
    "    # remove Hs, desconecta metais, normaliza e reioniza a estrutura\n",
    "    clean_mol = rdMolStandardize.Cleanup(mol) \n",
    "    if verbose:\n",
    "        print('Etapa: Removendo Hs, desconectando metais, normalizando e reionizando a estrutura')\n",
    "        draw_mol_with_SVG(clean_mol)\n",
    "\n",
    "    # Caso o SMILES possua mais de uma estrutura, seleciona o fragmento principal\n",
    "    parent_clean_mol = rdMolStandardize.FragmentParent(clean_mol)\n",
    "    if verbose:\n",
    "        print('Etapa: Selecionando o fragmento principal')\n",
    "        draw_mol_with_SVG(parent_clean_mol)\n",
    "\n",
    "    # Tenta neutralizar a estrutura\n",
    "    uncharger = rdMolStandardize.Uncharger()\n",
    "    uncharged_parent_clean_mol = uncharger.uncharge(parent_clean_mol)\n",
    "    if verbose:\n",
    "        print('Etapa: Neutralizando a estrutura')\n",
    "        draw_mol_with_SVG(uncharged_parent_clean_mol)\n",
    "\n",
    "    # Seleciona tautômero com maior score, segundo o RDKit\n",
    "    te = rdMolStandardize.TautomerEnumerator() # idem\n",
    "    taut_uncharged_parent_clean_mol = te.Canonicalize(uncharged_parent_clean_mol)\n",
    "    if verbose:\n",
    "        print('Etapa: Selecionando tautômero de maior score')\n",
    "        draw_mol_with_SVG(taut_uncharged_parent_clean_mol)\n",
    "    assert taut_uncharged_parent_clean_mol != None\n",
    "    \n",
    "    if verbose: \n",
    "        print(Chem.MolToSmiles(taut_uncharged_parent_clean_mol))\n",
    "    return taut_uncharged_parent_clean_mol\n",
    "\n",
    "\n",
    "def standardize_smiles(smiles, verbose=False):\n",
    "    \"\"\"\n",
    "    Padroniza a string SMILES usando standardize_mol()\n",
    "    Retorna: SMILES\n",
    "    \"\"\"\n",
    "    if verbose: print(smiles)\n",
    "    std_mol = standardize_mol(Chem.MolFromSmiles(smiles), verbose=verbose)\n",
    "    return Chem.MolToSmiles(std_mol)\n",
    "\n",
    "# Para usar o argumento verbose=True, os seguintes imports são \n",
    "# necessários para que a função draw_mol_with_SVG funcione:\n",
    "\n",
    "# import rdkit\n",
    "# from rdkit.Chem import AllChem\n",
    "# from rdkit.Chem import Draw # to draw molecules\n",
    "# from rdkit.Chem.Draw import IPythonConsole # to draw inline in iPython\n",
    "# from rdkit.Chem import rdDepictor  # to generate 2D depictions of molecules\n",
    "# from rdkit.Chem.Draw import rdMolDraw2D # to draw 2D molecules using vectors\n",
    "\n",
    "# Essa função desenha a estrutura\n",
    "def draw_mol_with_SVG(mol, molSize=(450,150)):\n",
    "    \"\"\"Use SVG para desenhar um RDKit Mol.\"\"\"\n",
    "    mc = Chem.Mol(mol.ToBinary())\n",
    "    if not mc.GetNumConformers():        \n",
    "        rdDepictor.Compute2DCoords(mc) # Compute 2D coordinates\n",
    "    # Initialize the drawer with the size\n",
    "    drawer = rdMolDraw2D.MolDraw2DSVG(molSize[0],molSize[1])\n",
    "    drawer.DrawMolecule(mc) # Draw the molcule\n",
    "    drawer.FinishDrawing()\n",
    "    svg = drawer.GetDrawingText() # Get the SVG string\n",
    "    display(SVG(svg.replace('svg:',''))) # Fix the SVG string and display"
   ]
  },
  {
   "cell_type": "markdown",
   "id": "cf70db16-9f4a-4149-a794-38cb2b6ed560",
   "metadata": {},
   "source": [
    "# O módulo ChEMBL_Structure_Pipeline\n",
    "\n",
    "Os responsáveis pelo banco de dados de estruturas químicas ChEMBL disponibilizaram o código usado por eles para padronizar as estruturas químicas antes de adicioná-las ao website. O pacote, chamado `chembl_structure_pipeline` pode ser baixado usando `pip` ou `conda` e usa funcionalidades do RDKit.\n",
    "\n",
    "Os autores destacam três etapas para a padronização dos SMILES:\n",
    "\n",
    "1. **Check**: Identifica e valida estruturas problemáticas antes de serem adicionadas ao banco de dados\n",
    "\n",
    "2. **Standardize**: Padroniza estruturas químicas de acordo com um conjunto de regras predefinidas do ChEMBL \n",
    "\n",
    "3. **GetParent**: Gera estruturas principais de compostos multicomponentes com base em um conjunto de regras e em uma lista predefinida de sais e solventes\n",
    "\n",
    "**Importante:** Esse é um código usado principalmente para estruturas orgânicas, e pode não ser sempre a melhor escolha para todos os usos. Além disso, tautômeros não são considerados.\n",
    "\n",
    "Artigo descrevendo o pacote: [An open source chemical structure curation pipeline using RDKit](https://doi.org/10.1186/s13321-020-00456-1)\n",
    "\n",
    "Página do GitHub do projeto: https://github.com/chembl/ChEMBL_Structure_Pipeline"
   ]
  },
  {
   "cell_type": "markdown",
   "id": "a4a62547-ef77-4b96-b29d-366fd102c544",
   "metadata": {},
   "source": [
    "## Checker\n",
    "\n",
    "Identifica problemas e valida estruturas. Requer um arquivo no formato **molblock** como *input* e retorna um valor de *penalty score* que vai de 1 a 7, com o 7 representando um estrutura inválida, e 5 ou 6 representando compostos que devem ser verificados manualmente."
   ]
  },
  {
   "cell_type": "code",
   "execution_count": 21,
   "id": "93f5ac92-0e1f-4f3c-9157-ca4c827d9c38",
   "metadata": {},
   "outputs": [
    {
     "name": "stderr",
     "output_type": "stream",
     "text": [
      "[00:56:43] Initializing Normalizer\n"
     ]
    }
   ],
   "source": [
    "from chembl_structure_pipeline import checker"
   ]
  },
  {
   "cell_type": "code",
   "execution_count": 22,
   "id": "e1b4497f-4fc6-42b1-aca0-55009d03d0ad",
   "metadata": {
    "tags": []
   },
   "outputs": [],
   "source": [
    "# Para ver todas as opções:\n",
    "# help(checker)"
   ]
  },
  {
   "cell_type": "code",
   "execution_count": 23,
   "id": "e286e198-9a13-4184-87be-5a5b47088f72",
   "metadata": {},
   "outputs": [
    {
     "data": {
      "text/plain": [
       "((5, 'InChi_RDKit/Mol stereo mismatch'),)"
      ]
     },
     "execution_count": 23,
     "metadata": {},
     "output_type": "execute_result"
    }
   ],
   "source": [
    "o_molblock = \"\"\" \n",
    "  Mrv1810 02151908462D           \n",
    " \n",
    "  4  3  0  0  0  0            999 V2000 \n",
    "    2.2321    4.4196    0.0000 C   0  0  0  0  0  0  0  0  0  0  0  0 \n",
    "    3.0023    4.7153    0.0000 C   0  0  0  0  0  0  0  0  0  0  0  0 \n",
    "    1.4117    4.5059    0.0000 O   0  0  0  0  0  0  0  0  0  0  0  0 \n",
    "    1.9568    3.6420    0.0000 C   0  0  0  0  0  0  0  0  0  0  0  0 \n",
    "  1  2  1  1  0  0  0 \n",
    "  1  3  1  0  0  0  0 \n",
    "  1  4  1  0  0  0  0 \n",
    "M  END \n",
    "\"\"\"\n",
    "\n",
    "issues = checker.check_molblock(o_molblock)\n",
    "issues"
   ]
  },
  {
   "cell_type": "code",
   "execution_count": 24,
   "id": "2c2930a8-fae8-45cf-b86d-bc8810b76a22",
   "metadata": {},
   "outputs": [
    {
     "data": {
      "text/plain": [
       "((2, 'InChI: Charges were rearranged'),)"
      ]
     },
     "execution_count": 24,
     "metadata": {},
     "output_type": "execute_result"
    }
   ],
   "source": [
    "# Usando o Checker com SMILES\n",
    "smi = \"O=N(C1=CC=CC=C1)=O\"\n",
    "mol = Chem.MolFromSmiles(smi)\n",
    "mb = Chem.MolToMolBlock(mol)\n",
    "\n",
    "issues = checker.check_molblock(mb)\n",
    "issues"
   ]
  },
  {
   "cell_type": "markdown",
   "id": "0e7c9925-40b0-4aa4-8a2b-5408b2e425c0",
   "metadata": {},
   "source": [
    "## Standardizer\n",
    "\n",
    "Padroniza estruturas químicas de acordo com um extenso conjunto de regras, definido no artigo citado acima. É possível usar os formatos RDKit Mol e molblock como *input*."
   ]
  },
  {
   "cell_type": "code",
   "execution_count": 25,
   "id": "72201b03-3578-4c47-9fe0-61f5de3495fc",
   "metadata": {},
   "outputs": [],
   "source": [
    "from chembl_structure_pipeline import standardizer"
   ]
  },
  {
   "cell_type": "code",
   "execution_count": 26,
   "id": "89255d1d-5298-460b-879d-e251cf39dc80",
   "metadata": {},
   "outputs": [],
   "source": [
    "# Para ver todas as opções:\n",
    "# help(standardizer)"
   ]
  },
  {
   "cell_type": "code",
   "execution_count": 27,
   "id": "9f564e6d-ce73-456b-b1ae-443f228e28dc",
   "metadata": {},
   "outputs": [
    {
     "name": "stderr",
     "output_type": "stream",
     "text": [
      "[00:56:43] Running Normalizer\n",
      "[00:56:43] Running Uncharger\n"
     ]
    },
    {
     "data": {
      "text/plain": [
       "'CCC(=O)[O-].O.[Na+]'"
      ]
     },
     "execution_count": 27,
     "metadata": {},
     "output_type": "execute_result"
    }
   ],
   "source": [
    "# Gerando SMILES padronizado a partir de SMILES\n",
    "smi = \"CCC(=O)O[Na].[OH2]\"\n",
    "mol = Chem.MolFromSmiles(smi)\n",
    "\n",
    "std_mol = standardizer.standardize_mol(mol)\n",
    "std_smi = Chem.MolToSmiles(std_mol)\n",
    "\n",
    "std_smi"
   ]
  },
  {
   "cell_type": "markdown",
   "id": "80970354-43ae-4505-8e0c-443277832f6e",
   "metadata": {},
   "source": [
    "Veja que o contraíon e o solvente não foram removidos"
   ]
  },
  {
   "cell_type": "code",
   "execution_count": 28,
   "id": "214f8118-12f4-47e5-93a2-bf7a71fd1ded",
   "metadata": {},
   "outputs": [
    {
     "name": "stderr",
     "output_type": "stream",
     "text": [
      "[00:56:43] Running Normalizer\n",
      "[00:56:43] Running Uncharger\n"
     ]
    },
    {
     "data": {
      "text/plain": [
       "'O=[N+]([O-])c1ccccc1'"
      ]
     },
     "execution_count": 28,
     "metadata": {},
     "output_type": "execute_result"
    }
   ],
   "source": [
    "smi = \"O=N(C1=CC=CC=C1)=O\"\n",
    "mol = Chem.MolFromSmiles(smi)\n",
    "\n",
    "std_mol = standardizer.standardize_mol(mol)\n",
    "std_smi = Chem.MolToSmiles(std_mol)\n",
    "\n",
    "std_smi"
   ]
  },
  {
   "cell_type": "code",
   "execution_count": 29,
   "id": "1c6bc563-d902-4519-8c3a-9d1cb9fa901c",
   "metadata": {},
   "outputs": [
    {
     "name": "stdout",
     "output_type": "stream",
     "text": [
      "\n",
      "     RDKit          2D\n",
      "\n",
      "  4  3  0  0  0  0  0  0  0  0999 V2000\n",
      "   -2.5038    0.4060    0.0000 C   0  0  0  0  0  0  0  0  0  0  0  0\n",
      "   -2.5038    1.2310    0.0000 O   0  0  0  0  0  0  0  0  0  0  0  0\n",
      "   -3.2182   -0.0065    0.0000 N   0  0  0  0  0  0  0  0  0  0  0  0\n",
      "   -1.7893   -0.0065    0.0000 C   0  0  0  0  0  0  0  0  0  0  0  0\n",
      "  1  2  1  0\n",
      "  1  3  1  0\n",
      "  1  4  1  0\n",
      "M  END\n",
      "\n"
     ]
    },
    {
     "name": "stderr",
     "output_type": "stream",
     "text": [
      "[00:56:43] Running Normalizer\n",
      "[00:56:43] Running Uncharger\n",
      "[00:56:43] Removed negative charge.\n",
      "[00:56:43] Removed positive charge.\n"
     ]
    }
   ],
   "source": [
    "# Também funciona com molblock\n",
    "\n",
    "o_molblock = \"\"\"\n",
    "  Mrv1810 07121910172D          \n",
    "\n",
    "  4  3  0  0  0  0            999 V2000\n",
    "   -2.5038    0.4060    0.0000 C   0  0  3  0  0  0  0  0  0  0  0  0\n",
    "   -2.5038    1.2310    0.0000 O   0  5  0  0  0  0  0  0  0  0  0  0\n",
    "   -3.2182   -0.0065    0.0000 N   0  3  0  0  0  0  0  0  0  0  0  0\n",
    "   -1.7893   -0.0065    0.0000 C   0  0  0  0  0  0  0  0  0  0  0  0\n",
    "  1  2  1  0  0  0  0\n",
    "  1  3  1  0  0  0  0\n",
    "  1  4  1  4  0  0  0\n",
    "M  CHG  2   2  -1   3   1\n",
    "M  END\n",
    "\"\"\"\n",
    "\n",
    "std_molblock = standardizer.standardize_molblock(o_molblock)\n",
    "print(std_molblock)"
   ]
  },
  {
   "cell_type": "markdown",
   "id": "57b31a10-0404-42b5-9957-cb4faf01325b",
   "metadata": {},
   "source": [
    "## GetParent\n",
    "\n",
    "Remove [contraíons](https://github.com/chembl/ChEMBL_Structure_Pipeline/blob/master/chembl_structure_pipeline/data/salts.smi), [solventes](https://github.com/chembl/ChEMBL_Structure_Pipeline/blob/master/chembl_structure_pipeline/data/solvents.smi) e isótopos. Neutraliza a molécula resultante quando possível (uma exceção são os compostos com nitrogênio quaternário).\n",
    "\n",
    "A função retorna uma tupla com dois valores: o primeiro é a molécula principal, e o segundo, tudo o que foi removido."
   ]
  },
  {
   "cell_type": "code",
   "execution_count": 30,
   "id": "18b63713-5e66-4d65-9b35-3f33958f5015",
   "metadata": {},
   "outputs": [
    {
     "name": "stderr",
     "output_type": "stream",
     "text": [
      "[00:56:43] Running Uncharger\n",
      "[00:56:43] Removed positive charge.\n",
      "[00:56:43] Running Uncharger\n",
      "[00:56:43] Removed positive charge.\n"
     ]
    }
   ],
   "source": [
    "mol = Chem.MolFromSmiles(\"C1(C2C[NH2+]CC2)=CC=CC=C1.[Cl-]\")\n",
    "\n",
    "parent_mol, removed_species = standardizer.get_parent_mol(mol)"
   ]
  },
  {
   "cell_type": "code",
   "execution_count": 31,
   "id": "33ce8ce7-32fe-4076-81f1-26051021ac9c",
   "metadata": {},
   "outputs": [
    {
     "data": {
      "image/png": "[encoded data removed]",
      "text/plain": [
       "<rdkit.Chem.rdchem.Mol at 0x20b9da6d480>"
      ]
     },
     "execution_count": 31,
     "metadata": {},
     "output_type": "execute_result"
    }
   ],
   "source": [
    "parent_mol"
   ]
  },
  {
   "cell_type": "code",
   "execution_count": 32,
   "id": "465271fe-ac8a-4662-ab83-0cdc9de0d91f",
   "metadata": {},
   "outputs": [
    {
     "data": {
      "text/plain": [
       "False"
      ]
     },
     "execution_count": 32,
     "metadata": {},
     "output_type": "execute_result"
    }
   ],
   "source": [
    "removed_species"
   ]
  },
  {
   "cell_type": "markdown",
   "id": "b792b451-d2d6-418c-bc11-e0a8cd822040",
   "metadata": {},
   "source": [
    "**Importante**: Veja o exemplo a seguir, que não funciona da forma que poderíamos esperar a princípio (remoção do sódio e neutralização do benzoato a ácido benzoico):"
   ]
  },
  {
   "cell_type": "code",
   "execution_count": 33,
   "id": "beec95a5-f4ac-4579-8a39-74bdeb5deea3",
   "metadata": {},
   "outputs": [
    {
     "name": "stderr",
     "output_type": "stream",
     "text": [
      "[00:56:43] Running Uncharger\n",
      "[00:56:43] Removed negative charge.\n",
      "[00:56:43] Running Uncharger\n",
      "[00:56:43] Running Uncharger\n"
     ]
    }
   ],
   "source": [
    "mol = Chem.MolFromSmiles(\"O=C([O-])c1ccccc1.[Na+]\")\n",
    "\n",
    "parent_mol, removed_species = standardizer.get_parent_mol(mol)"
   ]
  },
  {
   "cell_type": "code",
   "execution_count": 34,
   "id": "44e07b24-29a2-4790-87c3-80932be33995",
   "metadata": {},
   "outputs": [
    {
     "data": {
      "image/png": "[encoded data removed]",
      "text/plain": [
       "<rdkit.Chem.rdchem.Mol at 0x20b9da6da80>"
      ]
     },
     "execution_count": 34,
     "metadata": {},
     "output_type": "execute_result"
    }
   ],
   "source": [
    "parent_mol"
   ]
  },
  {
   "cell_type": "code",
   "execution_count": 35,
   "id": "bf7c0298-58c0-4200-a3e0-8aaefd491939",
   "metadata": {},
   "outputs": [
    {
     "data": {
      "text/plain": [
       "False"
      ]
     },
     "execution_count": 35,
     "metadata": {},
     "output_type": "execute_result"
    }
   ],
   "source": [
    "removed_species"
   ]
  },
  {
   "cell_type": "markdown",
   "id": "9ba42136-50dc-44f6-b6e4-366922322ff6",
   "metadata": {},
   "source": [
    "Isso ocorre porque tanto o benzoato quanto o sódio são incluídos na [lista de sais/contraíons](https://github.com/chembl/ChEMBL_Structure_Pipeline/blob/master/chembl_structure_pipeline/data/salts.smi) do ChEMBL. Dessa forma, como as duas espécies são removidas pelo *pipeline*, os autores optaram por retornar o composto da forma que foi apresentado. Na função sugerida no próximo item, mostro como resolver essa questão."
   ]
  },
  {
   "cell_type": "code",
   "execution_count": 36,
   "id": "9619e330-8495-4aa9-82b1-f80acffa704c",
   "metadata": {},
   "outputs": [
    {
     "name": "stdout",
     "output_type": "stream",
     "text": [
      "\n",
      "     RDKit          2D\n",
      "\n",
      "  2  1  0  0  0  0  0  0  0  0999 V2000\n",
      "   -5.2331    1.1053    0.0000 C   0  0  0  0  0  0  0  0  0  0  0  0\n",
      "   -4.5186    1.5178    0.0000 N   0  0  0  0  0  0  0  0  0  0  0  0\n",
      "  1  2  1  0\n",
      "M  END\n",
      "\n"
     ]
    },
    {
     "name": "stderr",
     "output_type": "stream",
     "text": [
      "[00:56:43] Running Uncharger\n",
      "[00:56:43] Removed positive charge.\n",
      "[00:56:43] Running Uncharger\n",
      "[00:56:43] Removed positive charge.\n"
     ]
    }
   ],
   "source": [
    "# Também funciona com molblock\n",
    "\n",
    "o_molblock = \"\"\"\n",
    "  Mrv1810 07121910262D          \n",
    "\n",
    "  3  1  0  0  0  0            999 V2000\n",
    "   -5.2331    1.1053    0.0000 C   0  0  0  0  0  0  0  0  0  0  0  0\n",
    "   -4.5186    1.5178    0.0000 N   0  3  0  0  0  0  0  0  0  0  0  0\n",
    "   -2.8647    1.5789    0.0000 Cl  0  5  0  0  0  0  0  0  0  0  0  0\n",
    "  1  2  1  0  0  0  0\n",
    "M  CHG  2   2   1   3  -1\n",
    "M  END\n",
    "\"\"\"\n",
    "\n",
    "parent_molblock, _ = standardizer.get_parent_molblock(o_molblock)\n",
    "\n",
    "print(parent_molblock)"
   ]
  },
  {
   "cell_type": "markdown",
   "id": "75592507-84da-4e29-88de-7b7c01c97f7a",
   "metadata": {},
   "source": [
    "# Exemplo de função completa para padronização com o ChEMBL_Structure_Pipeline\n",
    "\n",
    "Este [artigo](https://www.insilico.jp/blog/2021/11/16/chembl-structure-pipeline/) usa uma abordagem que, segundo os autores, funcionou melhor que o *pipeline* do ChEMBL, e pode ser aplicada diretamente a objetos RDKit Mol. Ela também resolve a questão de compostos como o benzoato de sódio apresentado anteriormente, mas não padroniza tautômeros. \n",
    "\n",
    "Dessa forma, adaptei a parte do código que interessa, adicionando:\n",
    "- a opção de retornar objeto RDKit Mol ou SMILES\n",
    "- a opção de ignorar centros estereoquímicos\n",
    "- a padronização de formas tautoméricas usando o RDKit\n",
    "\n",
    "Assim, nos beneficiamos das regras usadas no *pipeline* de curagem do ChEMBL e obtemos uma representação canônica para tautômeros."
   ]
  },
  {
   "cell_type": "code",
   "execution_count": 37,
   "id": "2029f47e-b5b2-4c1b-ab38-a5f5f56ce785",
   "metadata": {},
   "outputs": [],
   "source": [
    "from rdkit import Chem\n",
    "from rdkit.Chem.MolStandardize import rdMolStandardize\n",
    "from chembl_structure_pipeline import standardizer\n",
    "\n",
    "def new_standardize_mol(smiles, return_mol=True):\n",
    "    \"\"\"\n",
    "    Input = SMILES\n",
    "    return_mol: indica se a função vai retornar RDKit Mol (True) ou SMILES (False)\n",
    "    \"\"\"\n",
    "    try:\n",
    "        molecule = Chem.MolFromSmiles(smiles)\n",
    "    except:\n",
    "        return\n",
    "    \n",
    "    try:\n",
    "        # Aplicar standardize_mol\n",
    "        std1_mol = standardizer.standardize_mol(molecule)\n",
    "        # Selecionar o maior fragmento\n",
    "        desalter = rdMolStandardize.LargestFragmentChooser()\n",
    "        desalt_mol = desalter.choose(std1_mol)\n",
    "        # Aplicar standardize_mol ao maior fragmento\n",
    "        std2_mol = standardizer.standardize_mol(desalt_mol)  \n",
    "        # Selecionar tautômero com maior score\n",
    "        te = rdMolStandardize.TautomerEnumerator()\n",
    "        taut_uncharged_parent_clean_mol = te.Canonicalize(std2_mol)\n",
    "        # Opcional: remover informação sobre estereoquímica\n",
    "        taut_smi = Chem.MolToSmiles(taut_uncharged_parent_clean_mol, isomericSmiles=False)  \n",
    "        # Pelo que observei, essa SMILES string ainda pode falhar a conversão a RDKit Mol,\n",
    "        # por isso, o código abaixo é necessário:\n",
    "        final_smi = Chem.MolToSmiles(Chem.MolFromSmiles(taut_smi))\n",
    "        \n",
    "        if not final_smi:\n",
    "            return\n",
    "        \n",
    "        if return_mol:\n",
    "            return Chem.MolFromSmiles(final_smi)\n",
    "        else:\n",
    "            return final_smi\n",
    "    \n",
    "    except Exception as e: \n",
    "        print(e)\n",
    "        print(\"Erro, falha na padronização\")\n",
    "        return\n"
   ]
  },
  {
   "cell_type": "code",
   "execution_count": 38,
   "id": "d8a21417-2f56-4220-a0ca-f8a3bbd628c0",
   "metadata": {},
   "outputs": [
    {
     "name": "stderr",
     "output_type": "stream",
     "text": [
      "[00:56:43] Running Normalizer\n",
      "[00:56:43] Running Uncharger\n",
      "[00:56:43] Running LargestFragmentChooser\n",
      "[00:56:43] Fragment: O\n",
      "[00:56:43] New largest fragment: O (3)\n",
      "[00:56:43] Fragment: CCC(=O)[O-]\n",
      "[00:56:43] New largest fragment: CCC(=O)[O-] (10)\n",
      "[00:56:43] Fragment: [Na+]\n",
      "[00:56:43] Running Normalizer\n",
      "[00:56:43] Running Uncharger\n",
      "[00:56:43] Removed negative charge.\n"
     ]
    },
    {
     "data": {
      "image/png": "[encoded data removed]",
      "text/plain": [
       "<rdkit.Chem.rdchem.Mol at 0x20b9d84ec80>"
      ]
     },
     "execution_count": 38,
     "metadata": {},
     "output_type": "execute_result"
    }
   ],
   "source": [
    "# Exemplo de uso: propionato de sódio com água\n",
    "smi = \"CCC(=O)O[Na].[OH2]\"\n",
    "\n",
    "new_standardize_mol(Chem.MolFromSmiles(smi))"
   ]
  },
  {
   "cell_type": "markdown",
   "id": "0ffffdd0-567d-4ad6-9d12-c645a399ad5c",
   "metadata": {},
   "source": [
    "Se quiser suprimir esses avisos em vermelho do RDKit, pode usar:"
   ]
  },
  {
   "cell_type": "code",
   "execution_count": 39,
   "id": "99597909-5f9d-452b-89b7-d361f15798d3",
   "metadata": {},
   "outputs": [],
   "source": [
    "from rdkit import RDLogger\n",
    "\n",
    "lg = RDLogger.logger()\n",
    "lg.setLevel(RDLogger.ERROR)\n",
    "\n",
    "# Os cinco níveis de \"avisos\" do RDKit:\n",
    "# DEBUG, INFO, WARNING, ERROR, CRITICAL\n",
    "# Com o código acima, somente ERROR ou CRITICAL serão mostrados"
   ]
  },
  {
   "cell_type": "code",
   "execution_count": 40,
   "id": "09248530-f28e-4dd0-958a-b80d96e729e4",
   "metadata": {},
   "outputs": [
    {
     "data": {
      "image/png": "[encoded data removed]",
      "text/plain": [
       "<rdkit.Chem.rdchem.Mol at 0x20b9d84ef80>"
      ]
     },
     "execution_count": 40,
     "metadata": {},
     "output_type": "execute_result"
    }
   ],
   "source": [
    "# Exemplo de uso: benzoato de sódio\n",
    "smi = \"O=C([O-])c1ccccc1.[Na+]\"\n",
    "\n",
    "new_standardize_mol(Chem.MolFromSmiles(smi))"
   ]
  },
  {
   "cell_type": "code",
   "execution_count": 41,
   "id": "f3c6b2c3-3a3f-4c3a-920b-ea813c7b0a63",
   "metadata": {},
   "outputs": [
    {
     "data": {
      "text/plain": [
       "True"
      ]
     },
     "execution_count": 41,
     "metadata": {},
     "output_type": "execute_result"
    }
   ],
   "source": [
    "# Exemplo de uso: tautômeros - 2-pyridone e 2-hydroxypyridine\n",
    "smi1 = \"C1=CC=CNC(=O)1\"\n",
    "smi2 = \"Oc1ccccn1\"\n",
    "\n",
    "# Usando a opção de converter as estruturas a SMILES\n",
    "new_smi1 = new_standardize_mol(Chem.MolFromSmiles(smi1), return_mol=False)\n",
    "new_smi2 = new_standardize_mol(Chem.MolFromSmiles(smi2), return_mol=False)\n",
    "\n",
    "new_smi1 == new_smi2"
   ]
  },
  {
   "cell_type": "markdown",
   "id": "acee0d8c-2660-44d3-a62d-e15a0be59078",
   "metadata": {},
   "source": [
    "Nota: Também é possível usar `%%capture` na primeira linha da célula para suprimir todos os *outputs*. Isso também vai suprimir os erros e exceções, mas você pode verificar cada um individualmente depois. Exemplo:"
   ]
  },
  {
   "cell_type": "markdown",
   "id": "89816a5f-597a-4999-a065-c3502fb4eda9",
   "metadata": {},
   "source": [
    "%%capture\n",
    "for smi in smi_list:\n",
    "    new_smiles = new_standardize_mol(Chem.MolFromSmiles(smi))\n",
    "    ..."
   ]
  },
  {
   "cell_type": "markdown",
   "id": "8ead860a-81df-4852-a4ef-a63889de82f2",
   "metadata": {},
   "source": [
    "# PubChem\n",
    "\n",
    "O PubChem também disponibiliza seu *pipeline* de padronização, porém, não há um módulo em Python disponível, sendo necessário submeter os compostos a um *webservice*. Se tiver interesse, esse é o link para mais informações, em inglês: https://pubchem.ncbi.nlm.nih.gov/docs/standardization-service"
   ]
  },
  {
   "cell_type": "markdown",
   "id": "9149d21c-04b2-4133-9d5e-19d895e4a472",
   "metadata": {},
   "source": [
    "# Knime\n",
    "\n",
    "Finalmente, deixo aqui também a referência para um *pipeline* de padronização no Knime, um programa muito usado por químicos com menos familiaridade com linguagens de programação: https://hub.knime.com/knime/spaces/Workflow%20Snippets/latest/Standardizing%20Molecular%20Structures~ZfDa-vucSUTJGo2C"
   ]
  }
 ],
 "metadata": {
  "kernelspec": {
   "display_name": "Python 3 (ipykernel)",
   "language": "python",
   "name": "python3"
  },
  "language_info": {
   "codemirror_mode": {
    "name": "ipython",
    "version": 3
   },
   "file_extension": ".py",
   "mimetype": "text/x-python",
   "name": "python",
   "nbconvert_exporter": "python",
   "pygments_lexer": "ipython3",
   "version": "3.10.4"
  }
 },
 "nbformat": 4,
 "nbformat_minor": 5
}
