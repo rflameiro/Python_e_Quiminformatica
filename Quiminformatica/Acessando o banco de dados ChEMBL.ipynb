{
 "cells": [
  {
   "cell_type": "markdown",
   "metadata": {},
   "source": [
    "# Acessando o banco de dados ChEMBL pelo *ChEMBL webresource client*\n",
    "\n",
    "Para usar esse módulo, é necessário instalar o cliente utilizando:\n",
    "\n",
    "`pip install chembl_webresource_client`\n",
    "\n",
    "Tendo instalado o cliente, é necessário importá-lo, usando:"
   ]
  },
  {
   "cell_type": "code",
   "execution_count": 1,
   "metadata": {},
   "outputs": [],
   "source": [
    "from chembl_webresource_client.new_client import new_client"
   ]
  },
  {
   "cell_type": "code",
   "execution_count": 2,
   "metadata": {},
   "outputs": [
    {
     "data": {
      "text/plain": [
       "'0.10.8'"
      ]
     },
     "execution_count": 2,
     "metadata": {},
     "output_type": "execute_result"
    }
   ],
   "source": [
    "import chembl_webresource_client\n",
    "chembl_webresource_client.__version__"
   ]
  },
  {
   "cell_type": "markdown",
   "metadata": {},
   "source": [
    "O [repositório no GitHub](https://github.com/chembl/chembl_webresource_client) e o [Notebook oficial](https://mybinder.org/v2/gh/chembl/chembl_webresource_client/master?filepath=demo_wrc.ipynb), sugerem algumas formas de uso, como:\n",
    "\n",
    "## Procurar uma estrutura (molecule) pelo nome"
   ]
  },
  {
   "cell_type": "code",
   "execution_count": 3,
   "metadata": {},
   "outputs": [],
   "source": [
    "molecule = new_client.molecule\n",
    "res = molecule.filter(molecule_synonyms__molecule_synonym__iexact='viagra')"
   ]
  },
  {
   "cell_type": "code",
   "execution_count": 4,
   "metadata": {},
   "outputs": [
    {
     "data": {
      "text/plain": [
       "chembl_webresource_client.query_set.QuerySet"
      ]
     },
     "execution_count": 4,
     "metadata": {},
     "output_type": "execute_result"
    }
   ],
   "source": [
    "type(res)"
   ]
  },
  {
   "cell_type": "markdown",
   "metadata": {},
   "source": [
    "Veja que o resultado é um objeto do tipo QuerySet, contendo um extenso dicionário:"
   ]
  },
  {
   "cell_type": "code",
   "execution_count": 5,
   "metadata": {},
   "outputs": [
    {
     "data": {
      "text/plain": [
       "[{'atc_classifications': ['G04BE03'], 'availability_type': 1, 'biotherapeutic': None, 'black_box_warning': 0, 'chebi_par_id': 9139, 'chemical_probe': 0, 'chirality': 2, 'cross_references': [{'xref_id': '26748898', 'xref_name': 'SID: 26748898', 'xref_src': 'PubChem'}, {'xref_id': '50085897', 'xref_name': 'SID: 50085897', 'xref_src': 'PubChem'}], 'dosed_ingredient': True, 'first_approval': 1998, 'first_in_class': 0, 'helm_notation': None, 'indication_class': 'Impotence Therapy', 'inorganic_flag': 0, 'max_phase': '4.0', 'molecule_chembl_id': 'CHEMBL192', 'molecule_hierarchy': {'active_chembl_id': 'CHEMBL192', 'molecule_chembl_id': 'CHEMBL192', 'parent_chembl_id': 'CHEMBL192'}, 'molecule_properties': {'alogp': '1.61', 'aromatic_rings': 3, 'cx_logd': '1.16', 'cx_logp': '1.23', 'cx_most_apka': '7.63', 'cx_most_bpka': '5.98', 'full_molformula': 'C22H30N6O4S', 'full_mwt': '474.59', 'hba': 8, 'hba_lipinski': 10, 'hbd': 1, 'hbd_lipinski': 1, 'heavy_atoms': 33, 'molecular_species': 'NEUTRAL', 'mw_freebase': '474.59', 'mw_monoisotopic': '474.2049', 'np_likeness_score': '-1.51', 'num_lipinski_ro5_violations': 0, 'num_ro5_violations': 0, 'psa': '113.42', 'qed_weighted': '0.55', 'ro3_pass': 'N', 'rtb': 7}, 'molecule_structures': {'canonical_smiles': 'CCCc1nn(C)c2c(=O)[nH]c(-c3cc(S(=O)(=O)N4CCN(C)CC4)ccc3OCC)nc12', 'molfile': '\\n     RDKit          2D\\n\\n 33 36  0  0  0  0  0  0  0  0999 V2000\\n    2.1000   -0.0042    0.0000 C   0  0  0  0  0  0  0  0  0  0  0  0\\n    2.1000    0.7000    0.0000 C   0  0  0  0  0  0  0  0  0  0  0  0\\n   -1.5375   -0.0042    0.0000 S   0  0  0  0  0  0  0  0  0  0  0  0\\n    1.4917   -0.3667    0.0000 N   0  0  0  0  0  0  0  0  0  0  0  0\\n    0.8792   -0.0042    0.0000 C   0  0  0  0  0  0  0  0  0  0  0  0\\n    2.8042    0.9083    0.0000 N   0  0  0  0  0  0  0  0  0  0  0  0\\n    1.4917    1.0625    0.0000 C   0  0  0  0  0  0  0  0  0  0  0  0\\n    0.8792    0.6833    0.0000 N   0  0  0  0  0  0  0  0  0  0  0  0\\n    3.2042    0.3458    0.0000 N   0  0  0  0  0  0  0  0  0  0  0  0\\n    2.8042   -0.2417    0.0000 C   0  0  0  0  0  0  0  0  0  0  0  0\\n    0.2875   -0.3750    0.0000 C   0  0  0  0  0  0  0  0  0  0  0  0\\n   -2.1583   -0.3750    0.0000 N   0  0  0  0  0  0  0  0  0  0  0  0\\n   -0.9333   -0.3750    0.0000 C   0  0  0  0  0  0  0  0  0  0  0  0\\n   -0.3208   -0.0333    0.0000 C   0  0  0  0  0  0  0  0  0  0  0  0\\n   -1.1875    0.6083    0.0000 O   0  0  0  0  0  0  0  0  0  0  0  0\\n   -1.8958    0.6083    0.0000 O   0  0  0  0  0  0  0  0  0  0  0  0\\n   -3.3958   -1.0917    0.0000 N   0  0  0  0  0  0  0  0  0  0  0  0\\n   -2.7833   -0.0042    0.0000 C   0  0  0  0  0  0  0  0  0  0  0  0\\n   -2.1583   -1.0917    0.0000 C   0  0  0  0  0  0  0  0  0  0  0  0\\n    0.2875   -1.1125    0.0000 C   0  0  0  0  0  0  0  0  0  0  0  0\\n    1.4917    1.7708    0.0000 O   0  0  0  0  0  0  0  0  0  0  0  0\\n   -0.9333   -1.1125    0.0000 C   0  0  0  0  0  0  0  0  0  0  0  0\\n   -0.3208   -1.4542    0.0000 C   0  0  0  0  0  0  0  0  0  0  0  0\\n   -3.3958   -0.3750    0.0000 C   0  0  0  0  0  0  0  0  0  0  0  0\\n   -2.7833   -1.4417    0.0000 C   0  0  0  0  0  0  0  0  0  0  0  0\\n    3.0750    1.5750    0.0000 C   0  0  0  0  0  0  0  0  0  0  0  0\\n    2.8042   -0.9500    0.0000 C   0  0  0  0  0  0  0  0  0  0  0  0\\n    0.8792   -1.4542    0.0000 O   0  0  0  0  0  0  0  0  0  0  0  0\\n   -3.9958   -1.4292    0.0000 C   0  0  0  0  0  0  0  0  0  0  0  0\\n    1.4958   -1.1000    0.0000 C   0  0  0  0  0  0  0  0  0  0  0  0\\n    3.4167   -1.3125    0.0000 C   0  0  0  0  0  0  0  0  0  0  0  0\\n    2.1125   -1.4500    0.0000 C   0  0  0  0  0  0  0  0  0  0  0  0\\n    4.0375   -0.9542    0.0000 C   0  0  0  0  0  0  0  0  0  0  0  0\\n  2  1  2  0\\n  3 13  1  0\\n  4  1  1  0\\n  5  4  2  0\\n  6  2  1  0\\n  7  2  1  0\\n  8  5  1  0\\n  9 10  2  0\\n 10  1  1  0\\n 11  5  1  0\\n 12  3  1  0\\n 13 14  2  0\\n 14 11  1  0\\n 15  3  2  0\\n 16  3  2  0\\n 17 25  1  0\\n 18 12  1  0\\n 19 12  1  0\\n 20 11  2  0\\n 21  7  2  0\\n 22 23  2  0\\n 23 20  1  0\\n 24 18  1  0\\n 25 19  1  0\\n 26  6  1  0\\n 27 10  1  0\\n 28 20  1  0\\n 29 17  1  0\\n 30 28  1  0\\n 31 27  1  0\\n 32 30  1  0\\n 33 31  1  0\\n  9  6  1  0\\n  8  7  1  0\\n 22 13  1  0\\n 17 24  1  0\\nM  END\\n> <chembl_id>\\nCHEMBL192\\n\\n> <chembl_pref_name>\\nSILDENAFIL', 'standard_inchi': 'InChI=1S/C22H30N6O4S/c1-5-7-17-19-20(27(4)25-17)22(29)24-21(23-19)16-14-15(8-9-18(16)32-6-2)33(30,31)28-12-10-26(3)11-13-28/h8-9,14H,5-7,10-13H2,1-4H3,(H,23,24,29)', 'standard_inchi_key': 'BNRNXUUZRGQAQC-UHFFFAOYSA-N'}, 'molecule_synonyms': [{'molecule_synonym': 'Aphrodil', 'syn_type': 'OTHER', 'synonyms': 'APHRODIL'}, {'molecule_synonym': 'HIP0908', 'syn_type': 'RESEARCH_CODE', 'synonyms': 'HIP0908'}, {'molecule_synonym': 'HIP-0908', 'syn_type': 'RESEARCH_CODE', 'synonyms': 'HIP-0908'}, {'molecule_synonym': 'Nipatra', 'syn_type': 'TRADE_NAME', 'synonyms': 'NIPATRA'}, {'molecule_synonym': 'Patrex', 'syn_type': 'OTHER', 'synonyms': 'PATREX'}, {'molecule_synonym': 'Revatio', 'syn_type': 'TRADE_NAME', 'synonyms': 'REVATIO'}, {'molecule_synonym': 'Sildenafil', 'syn_type': 'FDA', 'synonyms': 'Sildenafil'}, {'molecule_synonym': 'Sildenafil', 'syn_type': 'ATC', 'synonyms': 'SILDENAFIL'}, {'molecule_synonym': 'Sildenafil', 'syn_type': 'BAN', 'synonyms': 'SILDENAFIL'}, {'molecule_synonym': 'Sildenafil', 'syn_type': 'BNF', 'synonyms': 'SILDENAFIL'}, {'molecule_synonym': 'Sildenafil', 'syn_type': 'INN', 'synonyms': 'SILDENAFIL'}, {'molecule_synonym': 'Sildenafil', 'syn_type': 'MERCK_INDEX', 'synonyms': 'SILDENAFIL'}, {'molecule_synonym': 'Sildenafil', 'syn_type': 'OTHER', 'synonyms': 'SILDENAFIL'}, {'molecule_synonym': 'Sildenafil actavis', 'syn_type': 'OTHER', 'synonyms': 'SILDENAFIL ACTAVIS'}, {'molecule_synonym': 'Sildenafil ratiopharm', 'syn_type': 'OTHER', 'synonyms': 'SILDENAFIL RATIOPHARM'}, {'molecule_synonym': 'Sildenafil teva', 'syn_type': 'OTHER', 'synonyms': 'SILDENAFIL TEVA'}, {'molecule_synonym': 'UK-92480', 'syn_type': 'RESEARCH_CODE', 'synonyms': 'UK-92480'}, {'molecule_synonym': 'Viagra', 'syn_type': 'TRADE_NAME', 'synonyms': 'VIAGRA'}, {'molecule_synonym': 'Vizarsin', 'syn_type': 'TRADE_NAME', 'synonyms': 'VIZARSIN'}], 'molecule_type': 'Small molecule', 'natural_product': 1, 'oral': True, 'orphan': 0, 'parenteral': True, 'polymer_flag': 0, 'pref_name': 'SILDENAFIL', 'prodrug': 0, 'structure_type': 'MOL', 'therapeutic_flag': True, 'topical': False, 'usan_stem': '-afil', 'usan_stem_definition': 'phosphodiesterase type 5 inhibitors (PDE5) inhibitors: (PDE5) inhibitors containing a sulfonamide moiety', 'usan_substem': '-afil (denafil)', 'usan_year': 1997, 'withdrawn_flag': False}, {'atc_classifications': [], 'availability_type': 1, 'biotherapeutic': None, 'black_box_warning': 0, 'chebi_par_id': 58987, 'chemical_probe': 0, 'chirality': 2, 'cross_references': [{'xref_id': 'sildenafil%20citrate', 'xref_name': 'sildenafil citrate', 'xref_src': 'DailyMed'}, {'xref_id': 'https://www.ema.europa.eu/en/medicines/human/EPAR/mysildecard', 'xref_name': 'https://www.ema.europa.eu/en/medicines/human/EPAR/mysildecard', 'xref_src': 'EMA'}, {'xref_id': '144205270', 'xref_name': 'SID: 144205270', 'xref_src': 'PubChem'}, {'xref_id': '170465285', 'xref_name': 'SID: 170465285', 'xref_src': 'PubChem'}, {'xref_id': 'Sildenafil', 'xref_name': None, 'xref_src': 'Wikipedia'}], 'dosed_ingredient': True, 'first_approval': 1998, 'first_in_class': 0, 'helm_notation': None, 'indication_class': 'Impotence Therapy', 'inorganic_flag': 0, 'max_phase': '4.0', 'molecule_chembl_id': 'CHEMBL1737', 'molecule_hierarchy': {'active_chembl_id': 'CHEMBL192', 'molecule_chembl_id': 'CHEMBL1737', 'parent_chembl_id': 'CHEMBL192'}, 'molecule_properties': {'alogp': '1.61', 'aromatic_rings': 3, 'cx_logd': '1.16', 'cx_logp': '1.23', 'cx_most_apka': '7.63', 'cx_most_bpka': '5.98', 'full_molformula': 'C28H38N6O11S', 'full_mwt': '666.71', 'hba': 8, 'hba_lipinski': 10, 'hbd': 1, 'hbd_lipinski': 1, 'heavy_atoms': 33, 'molecular_species': 'NEUTRAL', 'mw_freebase': '474.59', 'mw_monoisotopic': '474.2049', 'np_likeness_score': '-1.51', 'num_lipinski_ro5_violations': 0, 'num_ro5_violations': 0, 'psa': '113.42', 'qed_weighted': '0.55', 'ro3_pass': 'N', 'rtb': 7}, 'molecule_structures': {'canonical_smiles': 'CCCc1nn(C)c2c(=O)[nH]c(-c3cc(S(=O)(=O)N4CCN(C)CC4)ccc3OCC)nc12.O=C(O)CC(O)(CC(=O)O)C(=O)O', 'molfile': '\\n     RDKit          2D\\n\\n 46 48  0  0  0  0  0  0  0  0999 V2000\\n    6.2667   -0.4375    0.0000 C   0  0  0  0  0  0  0  0  0  0  0  0\\n    6.8792   -0.7917    0.0000 C   0  0  0  0  0  0  0  0  0  0  0  0\\n    5.6542   -0.7917    0.0000 C   0  0  0  0  0  0  0  0  0  0  0  0\\n    5.9042    0.1750    0.0000 C   0  0  0  0  0  0  0  0  0  0  0  0\\n    7.4917   -0.4375    0.0000 C   0  0  0  0  0  0  0  0  0  0  0  0\\n    5.6542   -1.5000    0.0000 C   0  0  0  0  0  0  0  0  0  0  0  0\\n    5.2000    0.1708    0.0000 O   0  0  0  0  0  0  0  0  0  0  0  0\\n    7.4917    0.2708    0.0000 O   0  0  0  0  0  0  0  0  0  0  0  0\\n    6.2667   -1.8542    0.0000 O   0  0  0  0  0  0  0  0  0  0  0  0\\n    6.6125    0.1750    0.0000 O   0  0  0  0  0  0  0  0  0  0  0  0\\n    6.2542    0.7958    0.0000 O   0  0  0  0  0  0  0  0  0  0  0  0\\n    5.0417   -1.8542    0.0000 O   0  0  0  0  0  0  0  0  0  0  0  0\\n    8.1042   -0.7917    0.0000 O   0  0  0  0  0  0  0  0  0  0  0  0\\n    2.1000   -0.0042    0.0000 C   0  0  0  0  0  0  0  0  0  0  0  0\\n    2.1000    0.7000    0.0000 C   0  0  0  0  0  0  0  0  0  0  0  0\\n   -1.5375   -0.0042    0.0000 S   0  0  0  0  0  0  0  0  0  0  0  0\\n    1.4917   -0.3667    0.0000 N   0  0  0  0  0  0  0  0  0  0  0  0\\n    0.8792   -0.0042    0.0000 C   0  0  0  0  0  0  0  0  0  0  0  0\\n    2.8042    0.9083    0.0000 N   0  0  0  0  0  0  0  0  0  0  0  0\\n    1.4917    1.0625    0.0000 C   0  0  0  0  0  0  0  0  0  0  0  0\\n    0.8792    0.6833    0.0000 N   0  0  0  0  0  0  0  0  0  0  0  0\\n    3.2042    0.3458    0.0000 N   0  0  0  0  0  0  0  0  0  0  0  0\\n    2.8042   -0.2417    0.0000 C   0  0  0  0  0  0  0  0  0  0  0  0\\n    0.2875   -0.3750    0.0000 C   0  0  0  0  0  0  0  0  0  0  0  0\\n   -2.1583   -0.3750    0.0000 N   0  0  0  0  0  0  0  0  0  0  0  0\\n   -0.9333   -0.3750    0.0000 C   0  0  0  0  0  0  0  0  0  0  0  0\\n   -0.3208   -0.0333    0.0000 C   0  0  0  0  0  0  0  0  0  0  0  0\\n   -1.1875    0.6083    0.0000 O   0  0  0  0  0  0  0  0  0  0  0  0\\n   -1.8958    0.6083    0.0000 O   0  0  0  0  0  0  0  0  0  0  0  0\\n   -3.3958   -1.0917    0.0000 N   0  0  0  0  0  0  0  0  0  0  0  0\\n   -2.7833   -0.0042    0.0000 C   0  0  0  0  0  0  0  0  0  0  0  0\\n   -2.1583   -1.0917    0.0000 C   0  0  0  0  0  0  0  0  0  0  0  0\\n    0.2875   -1.1125    0.0000 C   0  0  0  0  0  0  0  0  0  0  0  0\\n    1.4917    1.7708    0.0000 O   0  0  0  0  0  0  0  0  0  0  0  0\\n   -0.9333   -1.1125    0.0000 C   0  0  0  0  0  0  0  0  0  0  0  0\\n   -0.3208   -1.4542    0.0000 C   0  0  0  0  0  0  0  0  0  0  0  0\\n   -3.3958   -0.3750    0.0000 C   0  0  0  0  0  0  0  0  0  0  0  0\\n   -2.7833   -1.4417    0.0000 C   0  0  0  0  0  0  0  0  0  0  0  0\\n    3.0750    1.5750    0.0000 C   0  0  0  0  0  0  0  0  0  0  0  0\\n    2.8042   -0.9500    0.0000 C   0  0  0  0  0  0  0  0  0  0  0  0\\n    0.8792   -1.4542    0.0000 O   0  0  0  0  0  0  0  0  0  0  0  0\\n   -3.9958   -1.4292    0.0000 C   0  0  0  0  0  0  0  0  0  0  0  0\\n    1.4958   -1.1000    0.0000 C   0  0  0  0  0  0  0  0  0  0  0  0\\n    3.4167   -1.3125    0.0000 C   0  0  0  0  0  0  0  0  0  0  0  0\\n    2.1125   -1.4500    0.0000 C   0  0  0  0  0  0  0  0  0  0  0  0\\n    4.0375   -0.9542    0.0000 C   0  0  0  0  0  0  0  0  0  0  0  0\\n  2  1  1  0\\n  3  1  1  0\\n  4  1  1  0\\n  5  2  1  0\\n  6  3  1  0\\n  7  4  2  0\\n  8  5  2  0\\n  9  6  2  0\\n 10  1  1  0\\n 11  4  1  0\\n 12  6  1  0\\n 13  5  1  0\\n 15 14  2  0\\n 16 26  1  0\\n 17 14  1  0\\n 18 17  2  0\\n 19 15  1  0\\n 20 15  1  0\\n 21 18  1  0\\n 22 23  2  0\\n 23 14  1  0\\n 24 18  1  0\\n 25 16  1  0\\n 26 27  2  0\\n 27 24  1  0\\n 28 16  2  0\\n 29 16  2  0\\n 30 38  1  0\\n 31 25  1  0\\n 32 25  1  0\\n 33 24  2  0\\n 34 20  2  0\\n 35 36  2  0\\n 36 33  1  0\\n 37 31  1  0\\n 38 32  1  0\\n 39 19  1  0\\n 40 23  1  0\\n 41 33  1  0\\n 42 30  1  0\\n 43 41  1  0\\n 44 40  1  0\\n 45 43  1  0\\n 46 44  1  0\\n 22 19  1  0\\n 21 20  1  0\\n 35 26  1  0\\n 30 37  1  0\\nM  END\\n> <chembl_id>\\nCHEMBL1737\\n\\n> <chembl_pref_name>\\nSILDENAFIL CITRATE', 'standard_inchi': 'InChI=1S/C22H30N6O4S.C6H8O7/c1-5-7-17-19-20(27(4)25-17)22(29)24-21(23-19)16-14-15(8-9-18(16)32-6-2)33(30,31)28-12-10-26(3)11-13-28;7-3(8)1-6(13,5(11)12)2-4(9)10/h8-9,14H,5-7,10-13H2,1-4H3,(H,23,24,29);13H,1-2H2,(H,7,8)(H,9,10)(H,11,12)', 'standard_inchi_key': 'DEIYFTQMQPDXOT-UHFFFAOYSA-N'}, 'molecule_synonyms': [{'molecule_synonym': 'Liqrev', 'syn_type': 'OTHER', 'synonyms': 'LIQREV'}, {'molecule_synonym': 'Mysildecard', 'syn_type': 'TRADE_NAME', 'synonyms': 'Mysildecard'}, {'molecule_synonym': 'NSC-744009', 'syn_type': 'RESEARCH_CODE', 'synonyms': 'NSC-744009'}, {'molecule_synonym': 'NSC-758669', 'syn_type': 'RESEARCH_CODE', 'synonyms': 'NSC-758669'}, {'molecule_synonym': 'Revatio', 'syn_type': 'TRADE_NAME', 'synonyms': 'REVATIO'}, {'molecule_synonym': 'Sildenafil (as citrate)', 'syn_type': 'OTHER', 'synonyms': 'SILDENAFIL (AS CITRATE)'}, {'molecule_synonym': 'Sildenafil citrate', 'syn_type': 'JAN', 'synonyms': 'SILDENAFIL CITRATE'}, {'molecule_synonym': 'Sildenafil citrate', 'syn_type': 'MERCK_INDEX', 'synonyms': 'SILDENAFIL CITRATE'}, {'molecule_synonym': 'Sildenafil citrate', 'syn_type': 'OTHER', 'synonyms': 'SILDENAFIL CITRATE'}, {'molecule_synonym': 'Sildenafil citrate', 'syn_type': 'TRADE_NAME', 'synonyms': 'SILDENAFIL CITRATE'}, {'molecule_synonym': 'Sildenafil citrate', 'syn_type': 'USAN', 'synonyms': 'SILDENAFIL CITRATE'}, {'molecule_synonym': 'Sildenafil citrate', 'syn_type': 'USP', 'synonyms': 'SILDENAFIL CITRATE'}, {'molecule_synonym': 'UK-92,480-10', 'syn_type': 'RESEARCH_CODE', 'synonyms': 'UK-92,480-10'}, {'molecule_synonym': 'UK-92480-10', 'syn_type': 'RESEARCH_CODE', 'synonyms': 'UK-92480-10'}, {'molecule_synonym': 'Viagra', 'syn_type': 'TRADE_NAME', 'synonyms': 'VIAGRA'}], 'molecule_type': 'Small molecule', 'natural_product': 0, 'oral': True, 'orphan': 0, 'parenteral': True, 'polymer_flag': 0, 'pref_name': 'SILDENAFIL CITRATE', 'prodrug': 0, 'structure_type': 'MOL', 'therapeutic_flag': True, 'topical': False, 'usan_stem': '-afil', 'usan_stem_definition': 'phosphodiesterase type 5 inhibitors (PDE5) inhibitors: (PDE5) inhibitors containing a sulfonamide moiety', 'usan_substem': '-afil (denafil)', 'usan_year': 1997, 'withdrawn_flag': False}]"
      ]
     },
     "execution_count": 5,
     "metadata": {},
     "output_type": "execute_result"
    }
   ],
   "source": [
    "res"
   ]
  },
  {
   "cell_type": "code",
   "execution_count": 6,
   "metadata": {},
   "outputs": [
    {
     "data": {
      "text/plain": [
       "dict_keys(['atc_classifications', 'availability_type', 'biotherapeutic', 'black_box_warning', 'chebi_par_id', 'chemical_probe', 'chirality', 'cross_references', 'dosed_ingredient', 'first_approval', 'first_in_class', 'helm_notation', 'indication_class', 'inorganic_flag', 'max_phase', 'molecule_chembl_id', 'molecule_hierarchy', 'molecule_properties', 'molecule_structures', 'molecule_synonyms', 'molecule_type', 'natural_product', 'oral', 'orphan', 'parenteral', 'polymer_flag', 'pref_name', 'prodrug', 'structure_type', 'therapeutic_flag', 'topical', 'usan_stem', 'usan_stem_definition', 'usan_substem', 'usan_year', 'withdrawn_flag'])"
      ]
     },
     "execution_count": 6,
     "metadata": {},
     "output_type": "execute_result"
    }
   ],
   "source": [
    "# Chaves do dicionário\n",
    "res[0].keys()"
   ]
  },
  {
   "cell_type": "code",
   "execution_count": 7,
   "metadata": {},
   "outputs": [
    {
     "name": "stdout",
     "output_type": "stream",
     "text": [
      "Tipo de molécula: Small molecule\n",
      "Número identificador no ChEMBL: CHEMBL192\n",
      "É um medicamento tomado por via oral? True\n",
      "SMILES: CCCc1nn(C)c2c(=O)[nH]c(-c3cc(S(=O)(=O)N4CCN(C)CC4)ccc3OCC)nc12\n"
     ]
    }
   ],
   "source": [
    "print(\"Tipo de molécula:\", res[0]['molecule_type'])\n",
    "print(\"Número identificador no ChEMBL:\", res[0]['molecule_chembl_id'])\n",
    "print(\"É um medicamento tomado por via oral?\", res[0]['oral'])\n",
    "print(\"SMILES:\", res[0]['molecule_structures']['canonical_smiles'])  # molecule_structures é um dict dentro de um dict"
   ]
  },
  {
   "cell_type": "markdown",
   "metadata": {},
   "source": [
    "Nota: a versão anterior deste Notebook usava o código a seguir para criar o objeto `res`. Porém, verifiquei que ele não funciona como esperado, pois a molécula encontrada é um derivado do Viagra, com uma entrada ChEMBL diferente. Não sei dizer por que os resultados são discrepantes, mas me parece que o uso do método `search()` não é mais recomendado (não é usado no Notebook oficial)."
   ]
  },
  {
   "cell_type": "code",
   "execution_count": 8,
   "metadata": {},
   "outputs": [
    {
     "name": "stdout",
     "output_type": "stream",
     "text": [
      "Tipo de molécula: Unknown\n",
      "Número identificador no ChEMBL: CHEMBL4792718\n",
      "É um medicamento tomado por via oral? False\n",
      "SMILES: CC(=O)CC(O)(CC(C)=O)C(C)=O.CCCc1nn(C)c2c(=O)nc(-c3cc(S(=O)(=O)N4CCN(C)CC4)ccc3OCC)[nH]c12\n"
     ]
    }
   ],
   "source": [
    "molecule = new_client.molecule\n",
    "res = molecule.search('viagra')\n",
    "# Veja como os resultados são diferentes\n",
    "print(\"Tipo de molécula:\", res[0]['molecule_type'])\n",
    "print(\"Número identificador no ChEMBL:\", res[0]['molecule_chembl_id'])\n",
    "print(\"É um medicamento tomado por via oral?\", res[0]['oral'])\n",
    "print(\"SMILES:\", res[0]['molecule_structures']['canonical_smiles'])"
   ]
  },
  {
   "cell_type": "markdown",
   "metadata": {},
   "source": [
    "## Procurar um alvo (*target*) pelo nome do gene"
   ]
  },
  {
   "cell_type": "code",
   "execution_count": 9,
   "metadata": {},
   "outputs": [
    {
     "data": {
      "text/plain": [
       "dict_keys(['cross_references', 'organism', 'pref_name', 'species_group_flag', 'target_chembl_id', 'target_components', 'target_type', 'tax_id'])"
      ]
     },
     "execution_count": 9,
     "metadata": {},
     "output_type": "execute_result"
    }
   ],
   "source": [
    "target = new_client.target\n",
    "gene_name = 'BRD4'\n",
    "res = target.filter(target_synonym__icontains=gene_name)\n",
    "res[0].keys()"
   ]
  },
  {
   "cell_type": "code",
   "execution_count": 10,
   "metadata": {},
   "outputs": [
    {
     "data": {
      "text/plain": [
       "dict_keys(['cross_references', 'organism', 'pref_name', 'score', 'species_group_flag', 'target_chembl_id', 'target_components', 'target_type', 'tax_id'])"
      ]
     },
     "execution_count": 10,
     "metadata": {},
     "output_type": "execute_result"
    }
   ],
   "source": [
    "# Versão antiga, usando search. Não parece ser recomendada\n",
    "target = new_client.target\n",
    "gene_name = 'BRD4'\n",
    "res = target.search(gene_name)\n",
    "res[0].keys()"
   ]
  },
  {
   "cell_type": "markdown",
   "metadata": {
    "tags": []
   },
   "source": [
    "## Compostos similares à aspirina (similaridade > 70%)"
   ]
  },
  {
   "cell_type": "code",
   "execution_count": 11,
   "metadata": {},
   "outputs": [
    {
     "name": "stdout",
     "output_type": "stream",
     "text": [
      "{'molecule_chembl_id': 'CHEMBL2296002', 'similarity': '100'}\n",
      "{'molecule_chembl_id': 'CHEMBL1697753', 'similarity': '100'}\n",
      "{'molecule_chembl_id': 'CHEMBL25', 'similarity': '100'}\n",
      "{'molecule_chembl_id': 'CHEMBL3833404', 'similarity': '88.8888895511627197265625'}\n",
      "{'molecule_chembl_id': 'CHEMBL3833325', 'similarity': '88.8888895511627197265625'}\n",
      "{'molecule_chembl_id': 'CHEMBL350343', 'similarity': '85.7142865657806396484375'}\n",
      "{'molecule_chembl_id': 'CHEMBL5282669', 'similarity': '74.0740716457366943359375'}\n",
      "{'molecule_chembl_id': 'CHEMBL4515737', 'similarity': '70.3703701496124267578125'}\n",
      "{'molecule_chembl_id': 'CHEMBL1451173', 'similarity': '69.9999988079071044921875'}\n"
     ]
    }
   ],
   "source": [
    "# Usando SMILES\n",
    "similarity = new_client.similarity\n",
    "res = similarity.filter(smiles=\"O=C(C)Oc1ccccc1C(=O)O\", similarity=70).only(['molecule_chembl_id', 'similarity'])\n",
    "for i in res:\n",
    "    print(i)"
   ]
  },
  {
   "cell_type": "code",
   "execution_count": 12,
   "metadata": {},
   "outputs": [
    {
     "name": "stdout",
     "output_type": "stream",
     "text": [
      "{'molecule_chembl_id': 'CHEMBL2296002', 'similarity': '100'}\n",
      "{'molecule_chembl_id': 'CHEMBL1697753', 'similarity': '100'}\n",
      "{'molecule_chembl_id': 'CHEMBL3833404', 'similarity': '88.8888895511627197265625'}\n",
      "{'molecule_chembl_id': 'CHEMBL3833325', 'similarity': '88.8888895511627197265625'}\n",
      "{'molecule_chembl_id': 'CHEMBL350343', 'similarity': '85.7142865657806396484375'}\n",
      "{'molecule_chembl_id': 'CHEMBL5282669', 'similarity': '74.0740716457366943359375'}\n",
      "{'molecule_chembl_id': 'CHEMBL4515737', 'similarity': '70.3703701496124267578125'}\n",
      "{'molecule_chembl_id': 'CHEMBL1451173', 'similarity': '69.9999988079071044921875'}\n"
     ]
    }
   ],
   "source": [
    "# Usando o código ChEMBL\n",
    "similarity = new_client.similarity\n",
    "res = similarity.filter(chembl_id='CHEMBL25', similarity=70).only(['molecule_chembl_id', 'similarity'])\n",
    "for i in res:\n",
    "    print(i)"
   ]
  },
  {
   "cell_type": "markdown",
   "metadata": {
    "tags": []
   },
   "source": [
    "## Compostos com IC50 medido contra o alvo hERG"
   ]
  },
  {
   "cell_type": "code",
   "execution_count": 13,
   "metadata": {},
   "outputs": [
    {
     "data": {
      "text/plain": [
       "15530"
      ]
     },
     "execution_count": 13,
     "metadata": {},
     "output_type": "execute_result"
    }
   ],
   "source": [
    "target = new_client.target\n",
    "activity = new_client.activity\n",
    "herg = target.filter(pref_name__iexact='hERG').only('target_chembl_id')[0]\n",
    "herg_activities = activity.filter(target_chembl_id=herg['target_chembl_id']).filter(standard_type=\"IC50\")\n",
    "\n",
    "len(herg_activities)"
   ]
  },
  {
   "cell_type": "code",
   "execution_count": 14,
   "metadata": {},
   "outputs": [
    {
     "data": {
      "text/plain": [
       "{'action_type': None,\n",
       " 'activity_comment': None,\n",
       " 'activity_id': 305156,\n",
       " 'activity_properties': [],\n",
       " 'assay_chembl_id': 'CHEMBL841079',\n",
       " 'assay_description': 'Inhibition of hERG currents Kv11.1',\n",
       " 'assay_type': 'T',\n",
       " 'assay_variant_accession': None,\n",
       " 'assay_variant_mutation': None,\n",
       " 'bao_endpoint': 'BAO_0000190',\n",
       " 'bao_format': 'BAO_0000019',\n",
       " 'bao_label': 'assay format',\n",
       " 'canonical_smiles': 'O=C1NCCN1CCN1CCC(c2cn(-c3ccc(F)cc3)c3ccc(Cl)cc23)CC1',\n",
       " 'data_validity_comment': None,\n",
       " 'data_validity_description': None,\n",
       " 'document_chembl_id': 'CHEMBL1134478',\n",
       " 'document_journal': 'J Med Chem',\n",
       " 'document_year': 2001,\n",
       " 'ligand_efficiency': None,\n",
       " 'molecule_chembl_id': 'CHEMBL12713',\n",
       " 'molecule_pref_name': 'SERTINDOLE',\n",
       " 'parent_molecule_chembl_id': 'CHEMBL12713',\n",
       " 'pchembl_value': '7.85',\n",
       " 'potential_duplicate': 0,\n",
       " 'qudt_units': 'http://www.openphacts.org/units/Nanomolar',\n",
       " 'record_id': 71623,\n",
       " 'relation': '=',\n",
       " 'src_id': 1,\n",
       " 'standard_flag': 1,\n",
       " 'standard_relation': '=',\n",
       " 'standard_text_value': None,\n",
       " 'standard_type': 'IC50',\n",
       " 'standard_units': 'nM',\n",
       " 'standard_upper_value': None,\n",
       " 'standard_value': '14.0',\n",
       " 'target_chembl_id': 'CHEMBL240',\n",
       " 'target_organism': 'Homo sapiens',\n",
       " 'target_pref_name': 'HERG',\n",
       " 'target_tax_id': '9606',\n",
       " 'text_value': None,\n",
       " 'toid': None,\n",
       " 'type': 'IC50',\n",
       " 'units': 'nM',\n",
       " 'uo_units': 'UO_0000065',\n",
       " 'upper_value': None,\n",
       " 'value': '14.0'}"
      ]
     },
     "execution_count": 14,
     "metadata": {},
     "output_type": "execute_result"
    }
   ],
   "source": [
    "herg_activities[0]"
   ]
  },
  {
   "cell_type": "markdown",
   "metadata": {
    "tags": []
   },
   "source": [
    "## Gerar um *DataFrame* com todos os compostos com pChEMBL Value contra um alvo\n",
    "\n",
    "Escrevi uma função que recebe como entrada o código ChEMBL do alvo desejado. Para descobrir o código de um alvo, acesse o [site do ChEMBL](https://www.ebi.ac.uk/chembl/) e procure pelo alvo na barra *Search in ChEMBL*. A função retorna um DataFrame contendo as estruturas (SMILES) e atividades (pChEMBL) dos compostos"
   ]
  },
  {
   "cell_type": "code",
   "execution_count": 15,
   "metadata": {},
   "outputs": [],
   "source": [
    "import pandas as pd"
   ]
  },
  {
   "cell_type": "code",
   "execution_count": 16,
   "metadata": {},
   "outputs": [
    {
     "data": {
      "text/plain": [
       "1450"
      ]
     },
     "execution_count": 16,
     "metadata": {},
     "output_type": "execute_result"
    }
   ],
   "source": [
    "target = new_client.target\n",
    "activity = new_client.activity\n",
    "\n",
    "# Obtemos o ChEMBL ID do alvo com nome Cathepsin B\n",
    "catb = target.filter(pref_name__iexact='Cathepsin B').only('target_chembl_id')[0]\n",
    "\n",
    "# Filtramos os compostos com atividades medidas para esse alvo (pChEMBL Value)\n",
    "catb_activities = activity.filter(target_chembl_id=catb['target_chembl_id'], \n",
    "                                  pchembl_value__isnull=False)\n",
    "\n",
    "len(catb_activities)"
   ]
  },
  {
   "cell_type": "code",
   "execution_count": 17,
   "metadata": {},
   "outputs": [
    {
     "data": {
      "text/plain": [
       "{'action_type': None,\n",
       " 'activity_comment': None,\n",
       " 'activity_id': 66416,\n",
       " 'activity_properties': [],\n",
       " 'assay_chembl_id': 'CHEMBL661080',\n",
       " 'assay_description': 'Inhibitory activity against Cathepsin B',\n",
       " 'assay_type': 'B',\n",
       " 'assay_variant_accession': None,\n",
       " 'assay_variant_mutation': None,\n",
       " 'bao_endpoint': 'BAO_0000190',\n",
       " 'bao_format': 'BAO_0000357',\n",
       " 'bao_label': 'single protein format',\n",
       " 'canonical_smiles': 'CC(C)C[C@H](C=O)NC(=O)[C@@H](NS(=O)(=O)c1ccc(F)cc1)C(C)C',\n",
       " 'data_validity_comment': None,\n",
       " 'data_validity_description': None,\n",
       " 'document_chembl_id': 'CHEMBL1145779',\n",
       " 'document_journal': 'J Med Chem',\n",
       " 'document_year': 2003,\n",
       " 'ligand_efficiency': {'bei': '19.08',\n",
       "  'le': '0.39',\n",
       "  'lle': '5.25',\n",
       "  'sei': '7.70'},\n",
       " 'molecule_chembl_id': 'CHEMBL168471',\n",
       " 'molecule_pref_name': None,\n",
       " 'parent_molecule_chembl_id': 'CHEMBL168471',\n",
       " 'pchembl_value': '7.11',\n",
       " 'potential_duplicate': 0,\n",
       " 'qudt_units': 'http://www.openphacts.org/units/Nanomolar',\n",
       " 'record_id': 335476,\n",
       " 'relation': '=',\n",
       " 'src_id': 1,\n",
       " 'standard_flag': 1,\n",
       " 'standard_relation': '=',\n",
       " 'standard_text_value': None,\n",
       " 'standard_type': 'IC50',\n",
       " 'standard_units': 'nM',\n",
       " 'standard_upper_value': None,\n",
       " 'standard_value': '78.0',\n",
       " 'target_chembl_id': 'CHEMBL4072',\n",
       " 'target_organism': 'Homo sapiens',\n",
       " 'target_pref_name': 'Cathepsin B',\n",
       " 'target_tax_id': '9606',\n",
       " 'text_value': None,\n",
       " 'toid': None,\n",
       " 'type': 'IC50',\n",
       " 'units': 'nM',\n",
       " 'uo_units': 'UO_0000065',\n",
       " 'upper_value': None,\n",
       " 'value': '78.0'}"
      ]
     },
     "execution_count": 17,
     "metadata": {},
     "output_type": "execute_result"
    }
   ],
   "source": [
    "catb_activities[0]"
   ]
  },
  {
   "cell_type": "code",
   "execution_count": 18,
   "metadata": {},
   "outputs": [
    {
     "data": {
      "text/html": [
       "<div>\n",
       "<style scoped>\n",
       "    .dataframe tbody tr th:only-of-type {\n",
       "        vertical-align: middle;\n",
       "    }\n",
       "\n",
       "    .dataframe tbody tr th {\n",
       "        vertical-align: top;\n",
       "    }\n",
       "\n",
       "    .dataframe thead th {\n",
       "        text-align: right;\n",
       "    }\n",
       "</style>\n",
       "<table border=\"1\" class=\"dataframe\">\n",
       "  <thead>\n",
       "    <tr style=\"text-align: right;\">\n",
       "      <th></th>\n",
       "      <th>molecule_chembl_id</th>\n",
       "      <th>canonical_smiles</th>\n",
       "      <th>pchembl_value</th>\n",
       "    </tr>\n",
       "  </thead>\n",
       "  <tbody>\n",
       "    <tr>\n",
       "      <th>0</th>\n",
       "      <td>CHEMBL168471</td>\n",
       "      <td>CC(C)C[C@H](C=O)NC(=O)[C@@H](NS(=O)(=O)c1ccc(F...</td>\n",
       "      <td>7.11</td>\n",
       "    </tr>\n",
       "    <tr>\n",
       "      <th>1</th>\n",
       "      <td>CHEMBL3142837</td>\n",
       "      <td>O=C(NC(=O)[C@H](Cc1cc(I)c(O)c(I)c1)NC(=O)[C@H]...</td>\n",
       "      <td>6.47</td>\n",
       "    </tr>\n",
       "    <tr>\n",
       "      <th>2</th>\n",
       "      <td>CHEMBL114388</td>\n",
       "      <td>CC(C)C[C@H](NC(=O)[C@H](CC(C)C)NC(=O)[C@H](CC(...</td>\n",
       "      <td>8.21</td>\n",
       "    </tr>\n",
       "    <tr>\n",
       "      <th>3</th>\n",
       "      <td>CHEMBL419772</td>\n",
       "      <td>CC(C)[C@H](NC(=O)OCc1ccccc1)C(=O)N[C@@H]1C(=O)...</td>\n",
       "      <td>4.52</td>\n",
       "    </tr>\n",
       "    <tr>\n",
       "      <th>4</th>\n",
       "      <td>CHEMBL113761</td>\n",
       "      <td>O=C(N[C@@H](Cc1ccccc1)C(=O)N[C@@H]1C(=O)N2CCO[...</td>\n",
       "      <td>5.75</td>\n",
       "    </tr>\n",
       "  </tbody>\n",
       "</table>\n",
       "</div>"
      ],
      "text/plain": [
       "  molecule_chembl_id                                   canonical_smiles  \\\n",
       "0       CHEMBL168471  CC(C)C[C@H](C=O)NC(=O)[C@@H](NS(=O)(=O)c1ccc(F...   \n",
       "1      CHEMBL3142837  O=C(NC(=O)[C@H](Cc1cc(I)c(O)c(I)c1)NC(=O)[C@H]...   \n",
       "2       CHEMBL114388  CC(C)C[C@H](NC(=O)[C@H](CC(C)C)NC(=O)[C@H](CC(...   \n",
       "3       CHEMBL419772  CC(C)[C@H](NC(=O)OCc1ccccc1)C(=O)N[C@@H]1C(=O)...   \n",
       "4       CHEMBL113761  O=C(N[C@@H](Cc1ccccc1)C(=O)N[C@@H]1C(=O)N2CCO[...   \n",
       "\n",
       "  pchembl_value  \n",
       "0          7.11  \n",
       "1          6.47  \n",
       "2          8.21  \n",
       "3          4.52  \n",
       "4          5.75  "
      ]
     },
     "execution_count": 18,
     "metadata": {},
     "output_type": "execute_result"
    }
   ],
   "source": [
    "# Dataframe com códigos ChEMBL, SMILES e pChEMBL Values\n",
    "df = pd.DataFrame(catb_activities)\n",
    "df = df[['molecule_chembl_id', 'canonical_smiles', 'pchembl_value']].copy()\n",
    "df.head()"
   ]
  },
  {
   "cell_type": "markdown",
   "metadata": {},
   "source": [
    "# Acessando o banco de dados ChEMBL pelo chembl-downloader\n",
    "\n",
    "As versões do ChEMBL são atualizadas periodicamente, com a inclusão de dados e correção de erros. Porém, em alguns casos podemos estar interessados em utilizar dados referentes a uma versão antiga do ChEMBL, por exemplo, para reproduzir os resultados de um artigo. \n",
    "\n",
    "Durante a User Group Meeting do RDKit (12th RDKit UGM, 2023), fiquei sabendo da existência do módulo `chembl-downloader`, que possibilita baixar *datasets* do ChEMBL definindo não somente os filtros desejados, mas também a versão do ChEMBL que desejamos usar. \n",
    "\n",
    "O *ChEMBL webresource client*, apresentado anteriormente neste Notebook, pode ser lento para baixar bancos de dados grandes. Por isso, eu geralmente opto por baixá-los diretamente do site do ChEMBL. Infelizmente, o `chembl-downloader` parece sofrer do mesmo problema: para cada versão do ChEMBL que desejamos usar, ele precisa baixar o *database* do ChEMBL no formato SQL (o da versão 23, por exemplo, tem 2.55 GB). Porém, uma vez baixada a versão, você pode rapidamente acessar os dados desejados.\n",
    "\n",
    "Baseei esse Notebook nos tutoriais disponibilizados pelo autor do módulo em https://github.com/cthoyt/chembl-downloader/tree/main/notebooks\n",
    "\n",
    "Para usar esse módulo, é necessário instalá-lo:\n",
    "\n",
    "`pip install chembl-downloader`\n",
    "\n",
    "E importá-lo, usando:"
   ]
  },
  {
   "cell_type": "code",
   "execution_count": null,
   "metadata": {},
   "outputs": [],
   "source": [
    "import chembl_downloader"
   ]
  },
  {
   "cell_type": "markdown",
   "metadata": {},
   "source": [
    "Importar todos os inibidores de um alvo para um DataFrame é simples:"
   ]
  },
  {
   "cell_type": "code",
   "execution_count": null,
   "metadata": {},
   "outputs": [],
   "source": [
    "from chembl_downloader.contrib import get_target_smi_df"
   ]
  },
  {
   "cell_type": "code",
   "execution_count": null,
   "metadata": {
    "tags": []
   },
   "outputs": [],
   "source": [
    "# DataFrame com todos os compostos referentes ao alvo 5-lipoxygenase activating protein (CHEMBL4550).\n",
    "df = get_target_smi_df(\"CHEMBL4550\", \n",
    "                       version=\"23\", \n",
    "                       aggregate=None).sort_values(\"molecule_chembl_id\")\n",
    "\n",
    "df.head()"
   ]
  },
  {
   "cell_type": "markdown",
   "metadata": {},
   "source": [
    "Note o uso de aggregate=None para não agregar as duplicatas. Caso não seja declarado, elas serão agrupadas com a média aritmética.\n",
    "\n",
    "Para usar a última versão:"
   ]
  },
  {
   "cell_type": "code",
   "execution_count": null,
   "metadata": {},
   "outputs": [],
   "source": [
    "latest_version = chembl_downloader.latest()\n",
    "print(latest_version)"
   ]
  },
  {
   "cell_type": "code",
   "execution_count": null,
   "metadata": {},
   "outputs": [],
   "source": [
    "df = get_target_smi_df(\"CHEMBL4550\", \n",
    "                       version=latest_version, \n",
    "                       aggregate=None).sort_values(\"molecule_chembl_id\")\n",
    "\n",
    "df.head()"
   ]
  },
  {
   "cell_type": "markdown",
   "metadata": {},
   "source": [
    "O código a seguir demonstra o uso de outras palavras-chave para selecionar os compostos com valores de IC<sub>50</sub> para o alvo definido em `target_id`:"
   ]
  },
  {
   "cell_type": "code",
   "execution_count": null,
   "metadata": {},
   "outputs": [],
   "source": [
    "df = get_target_smi_df(\n",
    "    target_id=\"CHEMBL4550\",\n",
    "    version=latest_version,\n",
    "    aggregate=None,\n",
    "    target_type=\"SINGLE PROTEIN\",\n",
    "    standard_relation=\"=\",\n",
    "    standard_type=\"IC50\",\n",
    "    tax_id=\"9606\",  # Homo sapiens\n",
    ")\n",
    "\n",
    "df.head()"
   ]
  },
  {
   "cell_type": "markdown",
   "metadata": {},
   "source": [
    "Também existem funcionalidades mais avançadas que envolvem o uso da linguagem SQL, mas que não vou abordar aqui."
   ]
  },
  {
   "cell_type": "code",
   "execution_count": null,
   "metadata": {},
   "outputs": [],
   "source": []
  }
 ],
 "metadata": {
  "kernelspec": {
   "display_name": "Python 3 (ipykernel)",
   "language": "python",
   "name": "python3"
  },
  "language_info": {
   "codemirror_mode": {
    "name": "ipython",
    "version": 3
   },
   "file_extension": ".py",
   "mimetype": "text/x-python",
   "name": "python",
   "nbconvert_exporter": "python",
   "pygments_lexer": "ipython3",
   "version": "3.10.4"
  }
 },
 "nbformat": 4,
 "nbformat_minor": 4
}
