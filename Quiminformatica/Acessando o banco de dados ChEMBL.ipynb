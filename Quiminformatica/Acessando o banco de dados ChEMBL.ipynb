{
 "cells": [
  {
   "cell_type": "markdown",
   "metadata": {},
   "source": [
    "# Acessando o banco de dados ChEMBL pelo *ChEMBL webresource client*\n",
    "\n",
    "Para usar esse módulo, é necessário instalar o cliente utilizando:\n",
    "\n",
    "`pip install chembl_webresource_client`\n",
    "\n",
    "Tendo instalado o cliente, é necessário importá-lo, usando:"
   ]
  },
  {
   "cell_type": "code",
   "execution_count": 6,
   "metadata": {},
   "outputs": [],
   "source": [
    "from chembl_webresource_client.new_client import new_client"
   ]
  },
  {
   "cell_type": "code",
   "execution_count": 20,
   "metadata": {},
   "outputs": [
    {
     "data": {
      "text/plain": [
       "'0.10.8'"
      ]
     },
     "execution_count": 20,
     "metadata": {},
     "output_type": "execute_result"
    }
   ],
   "source": [
    "import chembl_webresource_client\n",
    "chembl_webresource_client.__version__"
   ]
  },
  {
   "cell_type": "markdown",
   "metadata": {},
   "source": [
    "O [repositório no GitHub](https://github.com/chembl/chembl_webresource_client) sugere algumas formas de uso, como:\n",
    "\n",
    "## Procurar uma estrutura (molecule) pelo nome"
   ]
  },
  {
   "cell_type": "code",
   "execution_count": 7,
   "metadata": {},
   "outputs": [
    {
     "data": {
      "text/plain": [
       "chembl_webresource_client.query_set.QuerySet"
      ]
     },
     "execution_count": 7,
     "metadata": {},
     "output_type": "execute_result"
    }
   ],
   "source": [
    "molecule = new_client.molecule\n",
    "res = molecule.search('viagra')\n",
    "type(res)"
   ]
  },
  {
   "cell_type": "markdown",
   "metadata": {},
   "source": [
    "Veja que o resultado é um objeto do tipo QuerySet, contendo um extenso dicionário:"
   ]
  },
  {
   "cell_type": "code",
   "execution_count": 8,
   "metadata": {},
   "outputs": [
    {
     "data": {
      "text/plain": [
       "[{'atc_classifications': [], 'availability_type': -1, 'biotherapeutic': None, 'black_box_warning': 0, 'chebi_par_id': None, 'chemical_probe': 0, 'chirality': -1, 'cross_references': [], 'dosed_ingredient': False, 'first_approval': None, 'first_in_class': -1, 'helm_notation': None, 'indication_class': None, 'inorganic_flag': -1, 'max_phase': None, 'molecule_chembl_id': 'CHEMBL4792718', 'molecule_hierarchy': {'active_chembl_id': 'CHEMBL4792718', 'molecule_chembl_id': 'CHEMBL4792718', 'parent_chembl_id': 'CHEMBL4792718'}, 'molecule_properties': {'alogp': None, 'aromatic_rings': None, 'cx_logd': None, 'cx_logp': None, 'cx_most_apka': None, 'cx_most_bpka': None, 'full_molformula': 'C31H44N6O8S', 'full_mwt': '660.79', 'hba': None, 'hba_lipinski': None, 'hbd': None, 'hbd_lipinski': None, 'heavy_atoms': None, 'molecular_species': None, 'mw_freebase': '660.79', 'mw_monoisotopic': '660.2941', 'np_likeness_score': None, 'num_lipinski_ro5_violations': None, 'num_ro5_violations': None, 'psa': None, 'qed_weighted': None, 'ro3_pass': None, 'rtb': None}, 'molecule_structures': {'canonical_smiles': 'CC(=O)CC(O)(CC(C)=O)C(C)=O.CCCc1nn(C)c2c(=O)nc(-c3cc(S(=O)(=O)N4CCN(C)CC4)ccc3OCC)[nH]c12', 'molfile': '\\n     RDKit          2D\\n\\n 46 48  0  0  0  0  0  0  0  0999 V2000\\n   20.8659   -4.5243    0.0000 C   0  0  0  0  0  0  0  0  0  0  0  0\\n   21.5777   -4.1115    0.0000 C   0  0  0  0  0  0  0  0  0  0  0  0\\n   20.1541   -4.1115    0.0000 C   0  0  0  0  0  0  0  0  0  0  0  0\\n   19.4422   -4.5243    0.0000 C   0  0  0  0  0  0  0  0  0  0  0  0\\n   22.2896   -4.5243    0.0000 C   0  0  0  0  0  0  0  0  0  0  0  0\\n   19.4437   -5.3414    0.0000 O   0  0  0  0  0  0  0  0  0  0  0  0\\n   18.7338   -4.1170    0.0000 C   0  0  0  0  0  0  0  0  0  0  0  0\\n   21.5777   -3.2943    0.0000 O   0  0  0  0  0  0  0  0  0  0  0  0\\n   20.8659   -5.3414    0.0000 C   0  0  0  0  0  0  0  0  0  0  0  0\\n   21.5736   -5.7500    0.0000 C   0  0  0  0  0  0  0  0  0  0  0  0\\n   21.5736   -6.5672    0.0000 O   0  0  0  0  0  0  0  0  0  0  0  0\\n   22.2813   -5.3414    0.0000 C   0  0  0  0  0  0  0  0  0  0  0  0\\n   20.1560   -4.9287    0.0000 O   0  0  0  0  0  0  0  0  0  0  0  0\\n   15.5143   -4.5688    0.0000 C   0  0  0  0  0  0  0  0  0  0  0  0\\n   15.5143   -3.7517    0.0000 C   0  0  0  0  0  0  0  0  0  0  0  0\\n   11.2632   -4.5812    0.0000 S   0  0  0  0  0  0  0  0  0  0  0  0\\n   14.0986   -4.5688    0.0000 C   0  0  0  0  0  0  0  0  0  0  0  0\\n   14.0986   -3.7517    0.0000 N   0  0  0  0  0  0  0  0  0  0  0  0\\n   14.7961   -3.3431    0.0000 C   0  0  0  0  0  0  0  0  0  0  0  0\\n   16.2943   -3.5040    0.0000 N   0  0  0  0  0  0  0  0  0  0  0  0\\n   14.8085   -4.9898    0.0000 N   0  0  0  0  0  0  0  0  0  0  0  0\\n   16.7648   -4.1602    0.0000 N   0  0  0  0  0  0  0  0  0  0  0  0\\n   16.2943   -4.8247    0.0000 C   0  0  0  0  0  0  0  0  0  0  0  0\\n   13.3929   -4.9898    0.0000 C   0  0  0  0  0  0  0  0  0  0  0  0\\n   10.5575   -4.9898    0.0000 N   0  0  0  0  0  0  0  0  0  0  0  0\\n   11.9690   -4.9898    0.0000 C   0  0  0  0  0  0  0  0  0  0  0  0\\n   12.6788   -4.5812    0.0000 C   0  0  0  0  0  0  0  0  0  0  0  0\\n   10.8546   -3.8713    0.0000 O   0  0  0  0  0  0  0  0  0  0  0  0\\n   11.6718   -3.8713    0.0000 O   0  0  0  0  0  0  0  0  0  0  0  0\\n    9.1377   -5.8070    0.0000 N   0  0  0  0  0  0  0  0  0  0  0  0\\n   10.5575   -5.8070    0.0000 C   0  0  0  0  0  0  0  0  0  0  0  0\\n    9.8517   -4.5688    0.0000 C   0  0  0  0  0  0  0  0  0  0  0  0\\n   13.3970   -5.8070    0.0000 C   0  0  0  0  0  0  0  0  0  0  0  0\\n   14.7920   -2.5259    0.0000 O   0  0  0  0  0  0  0  0  0  0  0  0\\n   11.9690   -5.8070    0.0000 C   0  0  0  0  0  0  0  0  0  0  0  0\\n   12.6788   -6.2239    0.0000 C   0  0  0  0  0  0  0  0  0  0  0  0\\n    9.1377   -4.9898    0.0000 C   0  0  0  0  0  0  0  0  0  0  0  0\\n    9.8517   -6.2156    0.0000 C   0  0  0  0  0  0  0  0  0  0  0  0\\n   16.5502   -2.7240    0.0000 C   0  0  0  0  0  0  0  0  0  0  0  0\\n   16.7029   -5.5305    0.0000 C   0  0  0  0  0  0  0  0  0  0  0  0\\n   14.1027   -6.2239    0.0000 O   0  0  0  0  0  0  0  0  0  0  0  0\\n    8.4195   -6.2156    0.0000 C   0  0  0  0  0  0  0  0  0  0  0  0\\n   14.1027   -7.0452    0.0000 C   0  0  0  0  0  0  0  0  0  0  0  0\\n   17.5201   -5.5305    0.0000 C   0  0  0  0  0  0  0  0  0  0  0  0\\n   14.8085   -7.4496    0.0000 C   0  0  0  0  0  0  0  0  0  0  0  0\\n   17.9287   -6.2404    0.0000 C   0  0  0  0  0  0  0  0  0  0  0  0\\n  1  2  1  0\\n  1  3  1  0\\n  3  4  1  0\\n  2  5  1  0\\n  4  6  2  0\\n  4  7  1  0\\n  2  8  2  0\\n  1  9  1  0\\n  9 10  1  0\\n 10 11  2  0\\n 10 12  1  0\\n  1 13  1  0\\n 15 14  2  0\\n 16 26  1  0\\n 17 21  1  0\\n 18 17  2  0\\n 19 15  1  0\\n 20 15  1  0\\n 21 14  1  0\\n 22 23  2  0\\n 23 14  1  0\\n 24 17  1  0\\n 25 16  1  0\\n 26 27  1  0\\n 27 24  2  0\\n 28 16  2  0\\n 29 16  2  0\\n 30 37  1  0\\n 31 25  1  0\\n 32 25  1  0\\n 33 24  1  0\\n 34 19  2  0\\n 35 36  1  0\\n 36 33  2  0\\n 37 32  1  0\\n 38 31  1  0\\n 39 20  1  0\\n 40 23  1  0\\n 41 33  1  0\\n 42 30  1  0\\n 43 41  1  0\\n 44 40  1  0\\n 45 43  1  0\\n 46 44  1  0\\n 20 22  1  0\\n 18 19  1  0\\n 35 26  2  0\\n 38 30  1  0\\nM  END\\n> <chembl_id>\\nCHEMBL4792718\\n\\n> <chembl_pref_name>\\nNone', 'standard_inchi': 'InChI=1S/C22H30N6O4S.C9H14O4/c1-5-7-17-19-20(27(4)25-17)22(29)24-21(23-19)16-14-15(8-9-18(16)32-6-2)33(30,31)28-12-10-26(3)11-13-28;1-6(10)4-9(13,8(3)12)5-7(2)11/h8-9,14H,5-7,10-13H2,1-4H3,(H,23,24,29);13H,4-5H2,1-3H3', 'standard_inchi_key': 'AYKHJQMTTMMKSE-UHFFFAOYSA-N'}, 'molecule_synonyms': [], 'molecule_type': 'Unknown', 'natural_product': 0, 'oral': False, 'parenteral': False, 'polymer_flag': 0, 'pref_name': None, 'prodrug': -1, 'score': 24.0, 'structure_type': 'MOL', 'therapeutic_flag': False, 'topical': False, 'usan_stem': None, 'usan_stem_definition': None, 'usan_substem': None, 'usan_year': None, 'withdrawn_flag': False}, {'atc_classifications': ['G04BE03'], 'availability_type': 1, 'biotherapeutic': None, 'black_box_warning': 0, 'chebi_par_id': 9139, 'chemical_probe': 0, 'chirality': 2, 'cross_references': [{'xref_id': 'sildenafil%20citrate', 'xref_name': 'sildenafil citrate', 'xref_src': 'DailyMed'}, {'xref_id': '26748898', 'xref_name': 'SID: 26748898', 'xref_src': 'PubChem'}, {'xref_id': '50085897', 'xref_name': 'SID: 50085897', 'xref_src': 'PubChem'}], 'dosed_ingredient': True, 'first_approval': 1998, 'first_in_class': 0, 'helm_notation': None, 'indication_class': 'Impotence Therapy', 'inorganic_flag': 0, 'max_phase': '4.0', 'molecule_chembl_id': 'CHEMBL192', 'molecule_hierarchy': {'active_chembl_id': 'CHEMBL192', 'molecule_chembl_id': 'CHEMBL192', 'parent_chembl_id': 'CHEMBL192'}, 'molecule_properties': {'alogp': '1.61', 'aromatic_rings': 3, 'cx_logd': '1.16', 'cx_logp': '1.23', 'cx_most_apka': '7.63', 'cx_most_bpka': '5.98', 'full_molformula': 'C22H30N6O4S', 'full_mwt': '474.59', 'hba': 8, 'hba_lipinski': 10, 'hbd': 1, 'hbd_lipinski': 1, 'heavy_atoms': 33, 'molecular_species': 'NEUTRAL', 'mw_freebase': '474.59', 'mw_monoisotopic': '474.2049', 'np_likeness_score': '-1.51', 'num_lipinski_ro5_violations': 0, 'num_ro5_violations': 0, 'psa': '113.42', 'qed_weighted': '0.55', 'ro3_pass': 'N', 'rtb': 7}, 'molecule_structures': {'canonical_smiles': 'CCCc1nn(C)c2c(=O)[nH]c(-c3cc(S(=O)(=O)N4CCN(C)CC4)ccc3OCC)nc12', 'molfile': '\\n     RDKit          2D\\n\\n 33 36  0  0  0  0  0  0  0  0999 V2000\\n    2.1000   -0.0042    0.0000 C   0  0  0  0  0  0  0  0  0  0  0  0\\n    2.1000    0.7000    0.0000 C   0  0  0  0  0  0  0  0  0  0  0  0\\n   -1.5375   -0.0042    0.0000 S   0  0  0  0  0  0  0  0  0  0  0  0\\n    1.4917   -0.3667    0.0000 N   0  0  0  0  0  0  0  0  0  0  0  0\\n    0.8792   -0.0042    0.0000 C   0  0  0  0  0  0  0  0  0  0  0  0\\n    2.8042    0.9083    0.0000 N   0  0  0  0  0  0  0  0  0  0  0  0\\n    1.4917    1.0625    0.0000 C   0  0  0  0  0  0  0  0  0  0  0  0\\n    0.8792    0.6833    0.0000 N   0  0  0  0  0  0  0  0  0  0  0  0\\n    3.2042    0.3458    0.0000 N   0  0  0  0  0  0  0  0  0  0  0  0\\n    2.8042   -0.2417    0.0000 C   0  0  0  0  0  0  0  0  0  0  0  0\\n    0.2875   -0.3750    0.0000 C   0  0  0  0  0  0  0  0  0  0  0  0\\n   -2.1583   -0.3750    0.0000 N   0  0  0  0  0  0  0  0  0  0  0  0\\n   -0.9333   -0.3750    0.0000 C   0  0  0  0  0  0  0  0  0  0  0  0\\n   -0.3208   -0.0333    0.0000 C   0  0  0  0  0  0  0  0  0  0  0  0\\n   -1.1875    0.6083    0.0000 O   0  0  0  0  0  0  0  0  0  0  0  0\\n   -1.8958    0.6083    0.0000 O   0  0  0  0  0  0  0  0  0  0  0  0\\n   -3.3958   -1.0917    0.0000 N   0  0  0  0  0  0  0  0  0  0  0  0\\n   -2.7833   -0.0042    0.0000 C   0  0  0  0  0  0  0  0  0  0  0  0\\n   -2.1583   -1.0917    0.0000 C   0  0  0  0  0  0  0  0  0  0  0  0\\n    0.2875   -1.1125    0.0000 C   0  0  0  0  0  0  0  0  0  0  0  0\\n    1.4917    1.7708    0.0000 O   0  0  0  0  0  0  0  0  0  0  0  0\\n   -0.9333   -1.1125    0.0000 C   0  0  0  0  0  0  0  0  0  0  0  0\\n   -0.3208   -1.4542    0.0000 C   0  0  0  0  0  0  0  0  0  0  0  0\\n   -3.3958   -0.3750    0.0000 C   0  0  0  0  0  0  0  0  0  0  0  0\\n   -2.7833   -1.4417    0.0000 C   0  0  0  0  0  0  0  0  0  0  0  0\\n    3.0750    1.5750    0.0000 C   0  0  0  0  0  0  0  0  0  0  0  0\\n    2.8042   -0.9500    0.0000 C   0  0  0  0  0  0  0  0  0  0  0  0\\n    0.8792   -1.4542    0.0000 O   0  0  0  0  0  0  0  0  0  0  0  0\\n   -3.9958   -1.4292    0.0000 C   0  0  0  0  0  0  0  0  0  0  0  0\\n    1.4958   -1.1000    0.0000 C   0  0  0  0  0  0  0  0  0  0  0  0\\n    3.4167   -1.3125    0.0000 C   0  0  0  0  0  0  0  0  0  0  0  0\\n    2.1125   -1.4500    0.0000 C   0  0  0  0  0  0  0  0  0  0  0  0\\n    4.0375   -0.9542    0.0000 C   0  0  0  0  0  0  0  0  0  0  0  0\\n  2  1  2  0\\n  3 13  1  0\\n  4  1  1  0\\n  5  4  2  0\\n  6  2  1  0\\n  7  2  1  0\\n  8  5  1  0\\n  9 10  2  0\\n 10  1  1  0\\n 11  5  1  0\\n 12  3  1  0\\n 13 14  2  0\\n 14 11  1  0\\n 15  3  2  0\\n 16  3  2  0\\n 17 25  1  0\\n 18 12  1  0\\n 19 12  1  0\\n 20 11  2  0\\n 21  7  2  0\\n 22 23  2  0\\n 23 20  1  0\\n 24 18  1  0\\n 25 19  1  0\\n 26  6  1  0\\n 27 10  1  0\\n 28 20  1  0\\n 29 17  1  0\\n 30 28  1  0\\n 31 27  1  0\\n 32 30  1  0\\n 33 31  1  0\\n  9  6  1  0\\n  8  7  1  0\\n 22 13  1  0\\n 17 24  1  0\\nM  END\\n> <chembl_id>\\nCHEMBL192\\n\\n> <chembl_pref_name>\\nSILDENAFIL', 'standard_inchi': 'InChI=1S/C22H30N6O4S/c1-5-7-17-19-20(27(4)25-17)22(29)24-21(23-19)16-14-15(8-9-18(16)32-6-2)33(30,31)28-12-10-26(3)11-13-28/h8-9,14H,5-7,10-13H2,1-4H3,(H,23,24,29)', 'standard_inchi_key': 'BNRNXUUZRGQAQC-UHFFFAOYSA-N'}, 'molecule_synonyms': [{'molecule_synonym': 'Aphrodil', 'syn_type': 'OTHER', 'synonyms': 'APHRODIL'}, {'molecule_synonym': 'HIP0908', 'syn_type': 'RESEARCH_CODE', 'synonyms': 'HIP0908'}, {'molecule_synonym': 'HIP-0908', 'syn_type': 'RESEARCH_CODE', 'synonyms': 'HIP-0908'}, {'molecule_synonym': 'Nipatra', 'syn_type': 'TRADE_NAME', 'synonyms': 'NIPATRA'}, {'molecule_synonym': 'Patrex', 'syn_type': 'OTHER', 'synonyms': 'PATREX'}, {'molecule_synonym': 'Revatio', 'syn_type': 'TRADE_NAME', 'synonyms': 'REVATIO'}, {'molecule_synonym': 'Sildenafil', 'syn_type': 'FDA', 'synonyms': 'Sildenafil'}, {'molecule_synonym': 'Sildenafil', 'syn_type': 'ATC', 'synonyms': 'SILDENAFIL'}, {'molecule_synonym': 'Sildenafil', 'syn_type': 'BAN', 'synonyms': 'SILDENAFIL'}, {'molecule_synonym': 'Sildenafil', 'syn_type': 'BNF', 'synonyms': 'SILDENAFIL'}, {'molecule_synonym': 'Sildenafil', 'syn_type': 'INN', 'synonyms': 'SILDENAFIL'}, {'molecule_synonym': 'Sildenafil', 'syn_type': 'MERCK_INDEX', 'synonyms': 'SILDENAFIL'}, {'molecule_synonym': 'Sildenafil', 'syn_type': 'OTHER', 'synonyms': 'SILDENAFIL'}, {'molecule_synonym': 'Sildenafil actavis', 'syn_type': 'OTHER', 'synonyms': 'SILDENAFIL ACTAVIS'}, {'molecule_synonym': 'Sildenafil ratiopharm', 'syn_type': 'OTHER', 'synonyms': 'SILDENAFIL RATIOPHARM'}, {'molecule_synonym': 'Sildenafil teva', 'syn_type': 'OTHER', 'synonyms': 'SILDENAFIL TEVA'}, {'molecule_synonym': 'UK-92480', 'syn_type': 'RESEARCH_CODE', 'synonyms': 'UK-92480'}, {'molecule_synonym': 'Viagra', 'syn_type': 'TRADE_NAME', 'synonyms': 'VIAGRA'}, {'molecule_synonym': 'Vizarsin', 'syn_type': 'TRADE_NAME', 'synonyms': 'VIZARSIN'}], 'molecule_type': 'Small molecule', 'natural_product': 1, 'oral': True, 'parenteral': True, 'polymer_flag': 0, 'pref_name': 'SILDENAFIL', 'prodrug': 0, 'score': 7.0, 'structure_type': 'MOL', 'therapeutic_flag': True, 'topical': False, 'usan_stem': '-afil', 'usan_stem_definition': 'phosphodiesterase type 5 inhibitors (PDE5) inhibitors: (PDE5) inhibitors containing a sulfonamide moiety', 'usan_substem': '-afil (denafil)', 'usan_year': 1997, 'withdrawn_flag': False}, {'atc_classifications': [], 'availability_type': 1, 'biotherapeutic': None, 'black_box_warning': 0, 'chebi_par_id': 58987, 'chemical_probe': 0, 'chirality': 2, 'cross_references': [{'xref_id': 'sildenafil%20citrate', 'xref_name': 'sildenafil citrate', 'xref_src': 'DailyMed'}, {'xref_id': '144205270', 'xref_name': 'SID: 144205270', 'xref_src': 'PubChem'}, {'xref_id': '170465285', 'xref_name': 'SID: 170465285', 'xref_src': 'PubChem'}, {'xref_id': 'Sildenafil', 'xref_name': None, 'xref_src': 'Wikipedia'}], 'dosed_ingredient': True, 'first_approval': 1998, 'first_in_class': 0, 'helm_notation': None, 'indication_class': 'Impotence Therapy', 'inorganic_flag': 0, 'max_phase': '4.0', 'molecule_chembl_id': 'CHEMBL1737', 'molecule_hierarchy': {'active_chembl_id': 'CHEMBL192', 'molecule_chembl_id': 'CHEMBL1737', 'parent_chembl_id': 'CHEMBL192'}, 'molecule_properties': {'alogp': '1.61', 'aromatic_rings': 3, 'cx_logd': '1.16', 'cx_logp': '1.23', 'cx_most_apka': '7.63', 'cx_most_bpka': '5.98', 'full_molformula': 'C28H38N6O11S', 'full_mwt': '666.71', 'hba': 8, 'hba_lipinski': 10, 'hbd': 1, 'hbd_lipinski': 1, 'heavy_atoms': 33, 'molecular_species': 'NEUTRAL', 'mw_freebase': '474.59', 'mw_monoisotopic': '474.2049', 'np_likeness_score': '-1.51', 'num_lipinski_ro5_violations': 0, 'num_ro5_violations': 0, 'psa': '113.42', 'qed_weighted': '0.55', 'ro3_pass': 'N', 'rtb': 7}, 'molecule_structures': {'canonical_smiles': 'CCCc1nn(C)c2c(=O)[nH]c(-c3cc(S(=O)(=O)N4CCN(C)CC4)ccc3OCC)nc12.O=C(O)CC(O)(CC(=O)O)C(=O)O', 'molfile': '\\n     RDKit          2D\\n\\n 46 48  0  0  0  0  0  0  0  0999 V2000\\n    6.2667   -0.4375    0.0000 C   0  0  0  0  0  0  0  0  0  0  0  0\\n    6.8792   -0.7917    0.0000 C   0  0  0  0  0  0  0  0  0  0  0  0\\n    5.6542   -0.7917    0.0000 C   0  0  0  0  0  0  0  0  0  0  0  0\\n    5.9042    0.1750    0.0000 C   0  0  0  0  0  0  0  0  0  0  0  0\\n    7.4917   -0.4375    0.0000 C   0  0  0  0  0  0  0  0  0  0  0  0\\n    5.6542   -1.5000    0.0000 C   0  0  0  0  0  0  0  0  0  0  0  0\\n    5.2000    0.1708    0.0000 O   0  0  0  0  0  0  0  0  0  0  0  0\\n    7.4917    0.2708    0.0000 O   0  0  0  0  0  0  0  0  0  0  0  0\\n    6.2667   -1.8542    0.0000 O   0  0  0  0  0  0  0  0  0  0  0  0\\n    6.6125    0.1750    0.0000 O   0  0  0  0  0  0  0  0  0  0  0  0\\n    6.2542    0.7958    0.0000 O   0  0  0  0  0  0  0  0  0  0  0  0\\n    5.0417   -1.8542    0.0000 O   0  0  0  0  0  0  0  0  0  0  0  0\\n    8.1042   -0.7917    0.0000 O   0  0  0  0  0  0  0  0  0  0  0  0\\n    2.1000   -0.0042    0.0000 C   0  0  0  0  0  0  0  0  0  0  0  0\\n    2.1000    0.7000    0.0000 C   0  0  0  0  0  0  0  0  0  0  0  0\\n   -1.5375   -0.0042    0.0000 S   0  0  0  0  0  0  0  0  0  0  0  0\\n    1.4917   -0.3667    0.0000 N   0  0  0  0  0  0  0  0  0  0  0  0\\n    0.8792   -0.0042    0.0000 C   0  0  0  0  0  0  0  0  0  0  0  0\\n    2.8042    0.9083    0.0000 N   0  0  0  0  0  0  0  0  0  0  0  0\\n    1.4917    1.0625    0.0000 C   0  0  0  0  0  0  0  0  0  0  0  0\\n    0.8792    0.6833    0.0000 N   0  0  0  0  0  0  0  0  0  0  0  0\\n    3.2042    0.3458    0.0000 N   0  0  0  0  0  0  0  0  0  0  0  0\\n    2.8042   -0.2417    0.0000 C   0  0  0  0  0  0  0  0  0  0  0  0\\n    0.2875   -0.3750    0.0000 C   0  0  0  0  0  0  0  0  0  0  0  0\\n   -2.1583   -0.3750    0.0000 N   0  0  0  0  0  0  0  0  0  0  0  0\\n   -0.9333   -0.3750    0.0000 C   0  0  0  0  0  0  0  0  0  0  0  0\\n   -0.3208   -0.0333    0.0000 C   0  0  0  0  0  0  0  0  0  0  0  0\\n   -1.1875    0.6083    0.0000 O   0  0  0  0  0  0  0  0  0  0  0  0\\n   -1.8958    0.6083    0.0000 O   0  0  0  0  0  0  0  0  0  0  0  0\\n   -3.3958   -1.0917    0.0000 N   0  0  0  0  0  0  0  0  0  0  0  0\\n   -2.7833   -0.0042    0.0000 C   0  0  0  0  0  0  0  0  0  0  0  0\\n   -2.1583   -1.0917    0.0000 C   0  0  0  0  0  0  0  0  0  0  0  0\\n    0.2875   -1.1125    0.0000 C   0  0  0  0  0  0  0  0  0  0  0  0\\n    1.4917    1.7708    0.0000 O   0  0  0  0  0  0  0  0  0  0  0  0\\n   -0.9333   -1.1125    0.0000 C   0  0  0  0  0  0  0  0  0  0  0  0\\n   -0.3208   -1.4542    0.0000 C   0  0  0  0  0  0  0  0  0  0  0  0\\n   -3.3958   -0.3750    0.0000 C   0  0  0  0  0  0  0  0  0  0  0  0\\n   -2.7833   -1.4417    0.0000 C   0  0  0  0  0  0  0  0  0  0  0  0\\n    3.0750    1.5750    0.0000 C   0  0  0  0  0  0  0  0  0  0  0  0\\n    2.8042   -0.9500    0.0000 C   0  0  0  0  0  0  0  0  0  0  0  0\\n    0.8792   -1.4542    0.0000 O   0  0  0  0  0  0  0  0  0  0  0  0\\n   -3.9958   -1.4292    0.0000 C   0  0  0  0  0  0  0  0  0  0  0  0\\n    1.4958   -1.1000    0.0000 C   0  0  0  0  0  0  0  0  0  0  0  0\\n    3.4167   -1.3125    0.0000 C   0  0  0  0  0  0  0  0  0  0  0  0\\n    2.1125   -1.4500    0.0000 C   0  0  0  0  0  0  0  0  0  0  0  0\\n    4.0375   -0.9542    0.0000 C   0  0  0  0  0  0  0  0  0  0  0  0\\n  2  1  1  0\\n  3  1  1  0\\n  4  1  1  0\\n  5  2  1  0\\n  6  3  1  0\\n  7  4  2  0\\n  8  5  2  0\\n  9  6  2  0\\n 10  1  1  0\\n 11  4  1  0\\n 12  6  1  0\\n 13  5  1  0\\n 15 14  2  0\\n 16 26  1  0\\n 17 14  1  0\\n 18 17  2  0\\n 19 15  1  0\\n 20 15  1  0\\n 21 18  1  0\\n 22 23  2  0\\n 23 14  1  0\\n 24 18  1  0\\n 25 16  1  0\\n 26 27  2  0\\n 27 24  1  0\\n 28 16  2  0\\n 29 16  2  0\\n 30 38  1  0\\n 31 25  1  0\\n 32 25  1  0\\n 33 24  2  0\\n 34 20  2  0\\n 35 36  2  0\\n 36 33  1  0\\n 37 31  1  0\\n 38 32  1  0\\n 39 19  1  0\\n 40 23  1  0\\n 41 33  1  0\\n 42 30  1  0\\n 43 41  1  0\\n 44 40  1  0\\n 45 43  1  0\\n 46 44  1  0\\n 22 19  1  0\\n 21 20  1  0\\n 35 26  1  0\\n 30 37  1  0\\nM  END\\n> <chembl_id>\\nCHEMBL1737\\n\\n> <chembl_pref_name>\\nSILDENAFIL CITRATE', 'standard_inchi': 'InChI=1S/C22H30N6O4S.C6H8O7/c1-5-7-17-19-20(27(4)25-17)22(29)24-21(23-19)16-14-15(8-9-18(16)32-6-2)33(30,31)28-12-10-26(3)11-13-28;7-3(8)1-6(13,5(11)12)2-4(9)10/h8-9,14H,5-7,10-13H2,1-4H3,(H,23,24,29);13H,1-2H2,(H,7,8)(H,9,10)(H,11,12)', 'standard_inchi_key': 'DEIYFTQMQPDXOT-UHFFFAOYSA-N'}, 'molecule_synonyms': [{'molecule_synonym': 'NSC-744009', 'syn_type': 'RESEARCH_CODE', 'synonyms': 'NSC-744009'}, {'molecule_synonym': 'NSC-758669', 'syn_type': 'RESEARCH_CODE', 'synonyms': 'NSC-758669'}, {'molecule_synonym': 'Revatio', 'syn_type': 'TRADE_NAME', 'synonyms': 'REVATIO'}, {'molecule_synonym': 'Sildenafil (as citrate)', 'syn_type': 'OTHER', 'synonyms': 'SILDENAFIL (AS CITRATE)'}, {'molecule_synonym': 'Sildenafil citrate', 'syn_type': 'FDA', 'synonyms': 'SILDENAFIL CITRATE'}, {'molecule_synonym': 'Sildenafil citrate', 'syn_type': 'JAN', 'synonyms': 'SILDENAFIL CITRATE'}, {'molecule_synonym': 'Sildenafil citrate', 'syn_type': 'MERCK_INDEX', 'synonyms': 'SILDENAFIL CITRATE'}, {'molecule_synonym': 'Sildenafil citrate', 'syn_type': 'OTHER', 'synonyms': 'SILDENAFIL CITRATE'}, {'molecule_synonym': 'Sildenafil citrate', 'syn_type': 'TRADE_NAME', 'synonyms': 'SILDENAFIL CITRATE'}, {'molecule_synonym': 'Sildenafil citrate', 'syn_type': 'USAN', 'synonyms': 'SILDENAFIL CITRATE'}, {'molecule_synonym': 'Sildenafil citrate', 'syn_type': 'USP', 'synonyms': 'SILDENAFIL CITRATE'}, {'molecule_synonym': 'UK-92,480-10', 'syn_type': 'RESEARCH_CODE', 'synonyms': 'UK-92,480-10'}, {'molecule_synonym': 'UK-92480-10', 'syn_type': 'RESEARCH_CODE', 'synonyms': 'UK-92480-10'}, {'molecule_synonym': 'Viagra', 'syn_type': 'TRADE_NAME', 'synonyms': 'Viagra'}], 'molecule_type': 'Small molecule', 'natural_product': 0, 'oral': True, 'parenteral': True, 'polymer_flag': 0, 'pref_name': 'SILDENAFIL CITRATE', 'prodrug': 0, 'score': 6.0, 'structure_type': 'MOL', 'therapeutic_flag': True, 'topical': False, 'usan_stem': '-afil', 'usan_stem_definition': 'phosphodiesterase type 5 inhibitors (PDE5) inhibitors: (PDE5) inhibitors containing a sulfonamide moiety', 'usan_substem': '-afil (denafil)', 'usan_year': 1997, 'withdrawn_flag': False}]"
      ]
     },
     "execution_count": 8,
     "metadata": {},
     "output_type": "execute_result"
    }
   ],
   "source": [
    "res"
   ]
  },
  {
   "cell_type": "code",
   "execution_count": 9,
   "metadata": {},
   "outputs": [
    {
     "data": {
      "text/plain": [
       "dict_keys(['atc_classifications', 'availability_type', 'biotherapeutic', 'black_box_warning', 'chebi_par_id', 'chemical_probe', 'chirality', 'cross_references', 'dosed_ingredient', 'first_approval', 'first_in_class', 'helm_notation', 'indication_class', 'inorganic_flag', 'max_phase', 'molecule_chembl_id', 'molecule_hierarchy', 'molecule_properties', 'molecule_structures', 'molecule_synonyms', 'molecule_type', 'natural_product', 'oral', 'parenteral', 'polymer_flag', 'pref_name', 'prodrug', 'score', 'structure_type', 'therapeutic_flag', 'topical', 'usan_stem', 'usan_stem_definition', 'usan_substem', 'usan_year', 'withdrawn_flag'])"
      ]
     },
     "execution_count": 9,
     "metadata": {},
     "output_type": "execute_result"
    }
   ],
   "source": [
    "# Chaves do dicionário\n",
    "res[0].keys()"
   ]
  },
  {
   "cell_type": "code",
   "execution_count": 10,
   "metadata": {},
   "outputs": [
    {
     "name": "stdout",
     "output_type": "stream",
     "text": [
      "Tipo de molécula: Unknown\n",
      "Número identificador no ChEMBL: CHEMBL4792718\n",
      "É um medicamento tomado por via oral? False\n",
      "SMILES: CC(=O)CC(O)(CC(C)=O)C(C)=O.CCCc1nn(C)c2c(=O)nc(-c3cc(S(=O)(=O)N4CCN(C)CC4)ccc3OCC)[nH]c12\n"
     ]
    }
   ],
   "source": [
    "print(\"Tipo de molécula:\", res[0]['molecule_type'])\n",
    "print(\"Número identificador no ChEMBL:\", res[0]['molecule_chembl_id'])\n",
    "print(\"É um medicamento tomado por via oral?\", res[0]['oral'])\n",
    "print(\"SMILES:\", res[0]['molecule_structures']['canonical_smiles'])  # molecule_structures é um dict dentro de um dict"
   ]
  },
  {
   "cell_type": "markdown",
   "metadata": {},
   "source": [
    "## Procurar um alvo (*target*) pelo nome do gene"
   ]
  },
  {
   "cell_type": "code",
   "execution_count": 11,
   "metadata": {},
   "outputs": [],
   "source": [
    "target = new_client.target\n",
    "gene_name = 'BRD4'\n",
    "res = target.search(gene_name)"
   ]
  },
  {
   "cell_type": "code",
   "execution_count": 12,
   "metadata": {},
   "outputs": [
    {
     "data": {
      "text/plain": [
       "dict_keys(['cross_references', 'organism', 'pref_name', 'score', 'species_group_flag', 'target_chembl_id', 'target_components', 'target_type', 'tax_id'])"
      ]
     },
     "execution_count": 12,
     "metadata": {},
     "output_type": "execute_result"
    }
   ],
   "source": [
    "res[0].keys()"
   ]
  },
  {
   "cell_type": "markdown",
   "metadata": {},
   "source": [
    "## Encontre compostos similares à aspirina (similaridade > 70%)"
   ]
  },
  {
   "cell_type": "code",
   "execution_count": 13,
   "metadata": {},
   "outputs": [],
   "source": [
    "molecule = new_client.molecule\n",
    "similarity = new_client.similarity\n",
    "aspirin_chembl_id = molecule.search('aspirin')[0]['molecule_chembl_id']\n",
    "res = similarity.filter(chembl_id=aspirin_chembl_id, similarity=70)"
   ]
  },
  {
   "cell_type": "code",
   "execution_count": 14,
   "metadata": {},
   "outputs": [
    {
     "name": "stdout",
     "output_type": "stream",
     "text": [
      "CC(=O)Oc1ccccc1C(=O)O.NCCCC[C@H](N)C(=O)O\n",
      "CC(=O)Oc1ccccc1C(=O)O.NCCCCC(N)C(=O)O\n",
      "CC(=O)Oc1ccccc1C(=O)O.CC(=O)Oc1ccccc1C(=O)O.NC(N)=O\n",
      "CC(=O)Oc1ccccc1C(=O)[O-].CC(=O)Oc1ccccc1C(=O)[O-].NC(N)=O.[Ca+2]\n",
      "CC(=O)Oc1ccccc1C(=O)Oc1ccccc1C(=O)O\n",
      "O=C(O)Oc1ccccc1C(=O)O\n",
      "CC(=O)Oc1cccc(C(=O)O)c1OC(C)=O\n"
     ]
    }
   ],
   "source": [
    "for item in res:\n",
    "    print(item['molecule_structures']['canonical_smiles'])"
   ]
  },
  {
   "cell_type": "markdown",
   "metadata": {
    "tags": []
   },
   "source": [
    "## Gerar um dataframe com todos os inibidores de um alvo\n",
    "\n",
    "Escrevi uma função que recebe como entrada o código ChEMBL do alvo desejado. Para descobrir o código de um alvo, acesse o [site do ChEMBL](https://www.ebi.ac.uk/chembl/) e procure pelo alvo na barra *Search in ChEMBL*. A função retorna um DataFrame contendo as estruturas (SMILES) e atividades (pChEMBL) dos compostos"
   ]
  },
  {
   "cell_type": "code",
   "execution_count": 15,
   "metadata": {},
   "outputs": [],
   "source": [
    "import pandas as pd"
   ]
  },
  {
   "cell_type": "code",
   "execution_count": 16,
   "metadata": {},
   "outputs": [],
   "source": [
    "activities = new_client.activity"
   ]
  },
  {
   "cell_type": "code",
   "execution_count": 17,
   "metadata": {},
   "outputs": [],
   "source": [
    "def get_inhibitors(target):\n",
    "    \"\"\"\n",
    "    Returns a dataframe with SMILES and pChEMBL values of inhibitors for a given target\n",
    "    Example: target = Cathepsin B = \"CHEMBL4072\"\n",
    "    \"\"\"\n",
    "    inhibitors = activities.filter(target_chembl_id=target, pchembl_value__isnull=False)\n",
    "    data = [[item[\"canonical_smiles\"], item[\"pchembl_value\"]] for item in inhibitors]\n",
    "    df = pd.DataFrame(data, columns=[\"SMILES\", \"pChEMBL\"])\n",
    "    return df"
   ]
  },
  {
   "cell_type": "code",
   "execution_count": 18,
   "metadata": {},
   "outputs": [
    {
     "data": {
      "text/html": [
       "<div>\n",
       "<style scoped>\n",
       "    .dataframe tbody tr th:only-of-type {\n",
       "        vertical-align: middle;\n",
       "    }\n",
       "\n",
       "    .dataframe tbody tr th {\n",
       "        vertical-align: top;\n",
       "    }\n",
       "\n",
       "    .dataframe thead th {\n",
       "        text-align: right;\n",
       "    }\n",
       "</style>\n",
       "<table border=\"1\" class=\"dataframe\">\n",
       "  <thead>\n",
       "    <tr style=\"text-align: right;\">\n",
       "      <th></th>\n",
       "      <th>SMILES</th>\n",
       "      <th>pChEMBL</th>\n",
       "    </tr>\n",
       "  </thead>\n",
       "  <tbody>\n",
       "    <tr>\n",
       "      <th>0</th>\n",
       "      <td>CC(C)C[C@H](C=O)NC(=O)[C@@H](NS(=O)(=O)c1ccc(F...</td>\n",
       "      <td>7.11</td>\n",
       "    </tr>\n",
       "    <tr>\n",
       "      <th>1</th>\n",
       "      <td>O=C(NC(=O)[C@H](Cc1cc(I)c(O)c(I)c1)NC(=O)[C@H]...</td>\n",
       "      <td>6.47</td>\n",
       "    </tr>\n",
       "    <tr>\n",
       "      <th>2</th>\n",
       "      <td>CC(C)C[C@H](NC(=O)[C@H](CC(C)C)NC(=O)[C@H](CC(...</td>\n",
       "      <td>8.21</td>\n",
       "    </tr>\n",
       "    <tr>\n",
       "      <th>3</th>\n",
       "      <td>CC(C)[C@H](NC(=O)OCc1ccccc1)C(=O)N[C@@H]1C(=O)...</td>\n",
       "      <td>4.52</td>\n",
       "    </tr>\n",
       "    <tr>\n",
       "      <th>4</th>\n",
       "      <td>O=C(N[C@@H](Cc1ccccc1)C(=O)N[C@@H]1C(=O)N2CCO[...</td>\n",
       "      <td>5.75</td>\n",
       "    </tr>\n",
       "    <tr>\n",
       "      <th>...</th>\n",
       "      <td>...</td>\n",
       "      <td>...</td>\n",
       "    </tr>\n",
       "    <tr>\n",
       "      <th>1446</th>\n",
       "      <td>CC[C@H](C)[C@@H](C(=O)O[C@@H](CC(C)C)C(=O)N[C@...</td>\n",
       "      <td>6.93</td>\n",
       "    </tr>\n",
       "    <tr>\n",
       "      <th>1447</th>\n",
       "      <td>COC1=CC(=O)N(C(=O)/C=C/[C@H](C)NC(=O)[C@H](CC(...</td>\n",
       "      <td>6.07</td>\n",
       "    </tr>\n",
       "    <tr>\n",
       "      <th>1448</th>\n",
       "      <td>COC1=CC(=O)N(C(=O)/C=C/[C@H](C)NC(=O)[C@H](CCc...</td>\n",
       "      <td>6.46</td>\n",
       "    </tr>\n",
       "    <tr>\n",
       "      <th>1449</th>\n",
       "      <td>COC1=CC(=O)N(C(=O)/C=C/[C@H](C)NC(=O)[C@H](CC(...</td>\n",
       "      <td>6.07</td>\n",
       "    </tr>\n",
       "    <tr>\n",
       "      <th>1450</th>\n",
       "      <td>COC1=CC(=O)N(C(=O)/C=C/[C@H](CCc2ccccc2)NC(=O)...</td>\n",
       "      <td>6.62</td>\n",
       "    </tr>\n",
       "  </tbody>\n",
       "</table>\n",
       "<p>1449 rows × 2 columns</p>\n",
       "</div>"
      ],
      "text/plain": [
       "                                                 SMILES pChEMBL\n",
       "0     CC(C)C[C@H](C=O)NC(=O)[C@@H](NS(=O)(=O)c1ccc(F...    7.11\n",
       "1     O=C(NC(=O)[C@H](Cc1cc(I)c(O)c(I)c1)NC(=O)[C@H]...    6.47\n",
       "2     CC(C)C[C@H](NC(=O)[C@H](CC(C)C)NC(=O)[C@H](CC(...    8.21\n",
       "3     CC(C)[C@H](NC(=O)OCc1ccccc1)C(=O)N[C@@H]1C(=O)...    4.52\n",
       "4     O=C(N[C@@H](Cc1ccccc1)C(=O)N[C@@H]1C(=O)N2CCO[...    5.75\n",
       "...                                                 ...     ...\n",
       "1446  CC[C@H](C)[C@@H](C(=O)O[C@@H](CC(C)C)C(=O)N[C@...    6.93\n",
       "1447  COC1=CC(=O)N(C(=O)/C=C/[C@H](C)NC(=O)[C@H](CC(...    6.07\n",
       "1448  COC1=CC(=O)N(C(=O)/C=C/[C@H](C)NC(=O)[C@H](CCc...    6.46\n",
       "1449  COC1=CC(=O)N(C(=O)/C=C/[C@H](C)NC(=O)[C@H](CC(...    6.07\n",
       "1450  COC1=CC(=O)N(C(=O)/C=C/[C@H](CCc2ccccc2)NC(=O)...    6.62\n",
       "\n",
       "[1449 rows x 2 columns]"
      ]
     },
     "execution_count": 18,
     "metadata": {},
     "output_type": "execute_result"
    }
   ],
   "source": [
    "# Encontrando inibidores da enzima Catepsina B\n",
    "df = get_inhibitors(\"CHEMBL4072\")  # código ChEMBL da Catepsina B\n",
    "df.dropna(inplace=True)\n",
    "df"
   ]
  },
  {
   "cell_type": "markdown",
   "metadata": {},
   "source": [
    "O download desse *dataset* demorou cerca de 4 minutos no meu computador. Seria mais rápido baixar pelo *site* do ChEMBL"
   ]
  },
  {
   "cell_type": "markdown",
   "metadata": {},
   "source": [
    "Vamos ver abaixo uma forma diferente de baixar dados do ChEMBL que permite definir a versão que desejamos usar. As versões do ChEMBL são atualizadas periodicamente, com a inclusão de dados e correção de erros. [Aparentemente](https://github.com/chembl/chembl_webresource_client/issues/55) ainda não há como definir a versão usando o *ChEMBL webresource client*, mas há uma previsão de atualização para a versão 34."
   ]
  },
  {
   "cell_type": "markdown",
   "metadata": {},
   "source": [
    "# Acessando o banco de dados ChEMBL pelo chembl-downloader\n",
    "\n",
    "Durante a User Group Meeting do RDKit (12th RDKit UGM, 2023), fiquei sabendo da existência do módulo `chembl-downloader`, que possibilita baixar *datasets* do ChEMBL definindo não somente os filtros desejados, mas também a versão do ChEMBL que desejamos usar. Com isso, podemos usar tanto a versão mais recente quanto uma versão antiga para fins de reprodução de um artigo, por exemplo.\n",
    "\n",
    "O *ChEMBL webresource client*, que apresentei anteriormente neste Notebook, é bem lento para baixar bancos de dados grandes. Por isso, eu geralmente opto por baixá-los diretamente do site do ChEMBL. Infelizmente, o `chembl-downloader` parece sofrer do mesmo problema: para cada versão do ChEMBL que desejamos usar, ele precisa baixar o *database* do ChEMBL no formato SQL (o da versão 23, por exemplo, tem 2.55 GB). Porém, uma vez baixada a versão, você pode rapidamente acessar os dados desejados.\n",
    "\n",
    "Baseei esse Notebook nos tutoriais disponibilizados pelo autor do módulo em https://github.com/cthoyt/chembl-downloader/tree/main/notebooks\n"
   ]
  },
  {
   "cell_type": "code",
   "execution_count": null,
   "metadata": {},
   "outputs": [],
   "source": [
    "!pip install chembl-downloader"
   ]
  },
  {
   "cell_type": "code",
   "execution_count": null,
   "metadata": {},
   "outputs": [],
   "source": [
    "import chembl_downloader"
   ]
  },
  {
   "cell_type": "markdown",
   "metadata": {},
   "source": [
    "Importar todos os inibidores de um alvo para um DataFrame é simples:"
   ]
  },
  {
   "cell_type": "code",
   "execution_count": null,
   "metadata": {},
   "outputs": [],
   "source": [
    "from chembl_downloader.contrib import get_target_smi_df"
   ]
  },
  {
   "cell_type": "code",
   "execution_count": null,
   "metadata": {},
   "outputs": [],
   "source": [
    "# DataFrame com todos os compostos referentes ao alvo 5-lipoxygenase activating protein (CHEMBL4550).\n",
    "df = get_target_smi_df(\"CHEMBL4550\", version=\"23\", aggregate=None).sort_values(\"molecule_chembl_id\")\n",
    "\n",
    "df.head()"
   ]
  },
  {
   "cell_type": "markdown",
   "metadata": {},
   "source": [
    "Note o uso de aggregate=None para não agregar as duplicatas. Caso não seja declarado, elas serão agrupadas com a média aritmética.\n",
    "\n",
    "Para usar a última versão:"
   ]
  },
  {
   "cell_type": "code",
   "execution_count": null,
   "metadata": {},
   "outputs": [],
   "source": [
    "latest_version = chembl_downloader.latest()\n",
    "print(latest_version)"
   ]
  },
  {
   "cell_type": "code",
   "execution_count": null,
   "metadata": {},
   "outputs": [],
   "source": [
    "df = get_target_smi_df(\"CHEMBL4550\", version=latest_version, aggregate=None).sort_values(\"molecule_chembl_id\")\n",
    "\n",
    "df.head()"
   ]
  },
  {
   "cell_type": "markdown",
   "metadata": {},
   "source": [
    "O código a seguir demonstra o uso de outras *keywords* para selecionar os compostos com valores de IC<sub>50</sub> para o alvo definido em `target_chembl_id`:"
   ]
  },
  {
   "cell_type": "code",
   "execution_count": null,
   "metadata": {},
   "outputs": [],
   "source": [
    "df = get_target_smi_df(\n",
    "    target_chembl_id=\"CHEMBL4550\",\n",
    "    version=latest_version,\n",
    "    aggregate=None,\n",
    "    target_type=\"SINGLE PROTEIN\",\n",
    "    standard_relation=\"=\",\n",
    "    standard_type=\"IC50\",\n",
    "    tax_id=\"9606\",  # Homo sapiens\n",
    ")\n",
    "\n",
    "df.head()"
   ]
  },
  {
   "cell_type": "markdown",
   "metadata": {},
   "source": [
    "Também existem funcionalidades mais avançadas que envolvem o uso de funcionalidades da linguagem SQL e não vou abordar aqui."
   ]
  },
  {
   "cell_type": "code",
   "execution_count": null,
   "metadata": {},
   "outputs": [],
   "source": []
  }
 ],
 "metadata": {
  "kernelspec": {
   "display_name": "Python 3 (ipykernel)",
   "language": "python",
   "name": "python3"
  },
  "language_info": {
   "codemirror_mode": {
    "name": "ipython",
    "version": 3
   },
   "file_extension": ".py",
   "mimetype": "text/x-python",
   "name": "python",
   "nbconvert_exporter": "python",
   "pygments_lexer": "ipython3",
   "version": "3.10.4"
  }
 },
 "nbformat": 4,
 "nbformat_minor": 4
}
