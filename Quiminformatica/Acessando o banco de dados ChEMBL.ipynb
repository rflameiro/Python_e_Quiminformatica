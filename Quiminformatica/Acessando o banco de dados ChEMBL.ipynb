{
 "cells": [
  {
   "cell_type": "markdown",
   "metadata": {},
   "source": [
    "## Acessando o banco de dados ChEMBL pelo ChEMBL webresource client\n",
    "\n",
    "Para usar essa ferramenta, é necessário instalar o cliente utilizando:\n",
    "\n",
    "`pip install chembl_webresource_client`\n",
    "\n",
    "Tendo instalado o cliente, é necessário importá-lo, usando:"
   ]
  },
  {
   "cell_type": "code",
   "execution_count": 1,
   "metadata": {},
   "outputs": [],
   "source": [
    "from chembl_webresource_client.new_client import new_client"
   ]
  },
  {
   "cell_type": "markdown",
   "metadata": {},
   "source": [
    "O [repositório no GitHub](https://github.com/chembl/chembl_webresource_client) sugere algumas formas de uso, como:\n",
    "\n",
    "### Procurar uma estrutura (molecule) pelo nome"
   ]
  },
  {
   "cell_type": "code",
   "execution_count": 2,
   "metadata": {},
   "outputs": [
    {
     "data": {
      "text/plain": [
       "chembl_webresource_client.query_set.QuerySet"
      ]
     },
     "execution_count": 2,
     "metadata": {},
     "output_type": "execute_result"
    }
   ],
   "source": [
    "molecule = new_client.molecule\n",
    "res = molecule.search('viagra')\n",
    "type(res)"
   ]
  },
  {
   "cell_type": "markdown",
   "metadata": {},
   "source": [
    "Veja que o resultado é um objeto do tipo QuerySet, contendo um extenso dicionário:"
   ]
  },
  {
   "cell_type": "code",
   "execution_count": 3,
   "metadata": {},
   "outputs": [
    {
     "data": {
      "text/plain": [
       "[{'atc_classifications': ['G04BE03'], 'availability_type': 1, 'biotherapeutic': None, 'black_box_warning': 0, 'chebi_par_id': 9139, 'chirality': 2, 'cross_references': [{'xref_id': 'sildenafil%20citrate', 'xref_name': 'sildenafil citrate', 'xref_src': 'DailyMed'}, {'xref_id': '26748898', 'xref_name': 'SID: 26748898', 'xref_src': 'PubChem'}, {'xref_id': '50085897', 'xref_name': 'SID: 50085897', 'xref_src': 'PubChem'}], 'dosed_ingredient': True, 'first_approval': 1998, 'first_in_class': 0, 'helm_notation': None, 'indication_class': 'Impotence Therapy', 'inorganic_flag': 0, 'max_phase': 4, 'molecule_chembl_id': 'CHEMBL192', 'molecule_hierarchy': {'molecule_chembl_id': 'CHEMBL192', 'parent_chembl_id': 'CHEMBL192'}, 'molecule_properties': {'alogp': '1.61', 'aromatic_rings': 3, 'cx_logd': '1.16', 'cx_logp': '1.23', 'cx_most_apka': '7.63', 'cx_most_bpka': '5.98', 'full_molformula': 'C22H30N6O4S', 'full_mwt': '474.59', 'hba': 8, 'hba_lipinski': 10, 'hbd': 1, 'hbd_lipinski': 1, 'heavy_atoms': 33, 'molecular_species': 'NEUTRAL', 'mw_freebase': '474.59', 'mw_monoisotopic': '474.2049', 'num_lipinski_ro5_violations': 0, 'num_ro5_violations': 0, 'psa': '113.42', 'qed_weighted': '0.55', 'ro3_pass': 'N', 'rtb': 7}, 'molecule_structures': {'canonical_smiles': 'CCCc1nn(C)c2c(=O)[nH]c(-c3cc(S(=O)(=O)N4CCN(C)CC4)ccc3OCC)nc12', 'molfile': '\\n     RDKit          2D\\n\\n 33 36  0  0  0  0  0  0  0  0999 V2000\\n    2.1000   -0.0042    0.0000 C   0  0  0  0  0  0  0  0  0  0  0  0\\n    2.1000    0.7000    0.0000 C   0  0  0  0  0  0  0  0  0  0  0  0\\n   -1.5375   -0.0042    0.0000 S   0  0  0  0  0  0  0  0  0  0  0  0\\n    1.4917   -0.3667    0.0000 N   0  0  0  0  0  0  0  0  0  0  0  0\\n    0.8792   -0.0042    0.0000 C   0  0  0  0  0  0  0  0  0  0  0  0\\n    2.8042    0.9083    0.0000 N   0  0  0  0  0  0  0  0  0  0  0  0\\n    1.4917    1.0625    0.0000 C   0  0  0  0  0  0  0  0  0  0  0  0\\n    0.8792    0.6833    0.0000 N   0  0  0  0  0  0  0  0  0  0  0  0\\n    3.2042    0.3458    0.0000 N   0  0  0  0  0  0  0  0  0  0  0  0\\n    2.8042   -0.2417    0.0000 C   0  0  0  0  0  0  0  0  0  0  0  0\\n    0.2875   -0.3750    0.0000 C   0  0  0  0  0  0  0  0  0  0  0  0\\n   -2.1583   -0.3750    0.0000 N   0  0  0  0  0  0  0  0  0  0  0  0\\n   -0.9333   -0.3750    0.0000 C   0  0  0  0  0  0  0  0  0  0  0  0\\n   -0.3208   -0.0333    0.0000 C   0  0  0  0  0  0  0  0  0  0  0  0\\n   -1.1875    0.6083    0.0000 O   0  0  0  0  0  0  0  0  0  0  0  0\\n   -1.8958    0.6083    0.0000 O   0  0  0  0  0  0  0  0  0  0  0  0\\n   -3.3958   -1.0917    0.0000 N   0  0  0  0  0  0  0  0  0  0  0  0\\n   -2.7833   -0.0042    0.0000 C   0  0  0  0  0  0  0  0  0  0  0  0\\n   -2.1583   -1.0917    0.0000 C   0  0  0  0  0  0  0  0  0  0  0  0\\n    0.2875   -1.1125    0.0000 C   0  0  0  0  0  0  0  0  0  0  0  0\\n    1.4917    1.7708    0.0000 O   0  0  0  0  0  0  0  0  0  0  0  0\\n   -0.9333   -1.1125    0.0000 C   0  0  0  0  0  0  0  0  0  0  0  0\\n   -0.3208   -1.4542    0.0000 C   0  0  0  0  0  0  0  0  0  0  0  0\\n   -3.3958   -0.3750    0.0000 C   0  0  0  0  0  0  0  0  0  0  0  0\\n   -2.7833   -1.4417    0.0000 C   0  0  0  0  0  0  0  0  0  0  0  0\\n    3.0750    1.5750    0.0000 C   0  0  0  0  0  0  0  0  0  0  0  0\\n    2.8042   -0.9500    0.0000 C   0  0  0  0  0  0  0  0  0  0  0  0\\n    0.8792   -1.4542    0.0000 O   0  0  0  0  0  0  0  0  0  0  0  0\\n   -3.9958   -1.4292    0.0000 C   0  0  0  0  0  0  0  0  0  0  0  0\\n    1.4958   -1.1000    0.0000 C   0  0  0  0  0  0  0  0  0  0  0  0\\n    3.4167   -1.3125    0.0000 C   0  0  0  0  0  0  0  0  0  0  0  0\\n    2.1125   -1.4500    0.0000 C   0  0  0  0  0  0  0  0  0  0  0  0\\n    4.0375   -0.9542    0.0000 C   0  0  0  0  0  0  0  0  0  0  0  0\\n  2  1  2  0\\n  3 13  1  0\\n  4  1  1  0\\n  5  4  2  0\\n  6  2  1  0\\n  7  2  1  0\\n  8  5  1  0\\n  9 10  2  0\\n 10  1  1  0\\n 11  5  1  0\\n 12  3  1  0\\n 13 14  2  0\\n 14 11  1  0\\n 15  3  2  0\\n 16  3  2  0\\n 17 25  1  0\\n 18 12  1  0\\n 19 12  1  0\\n 20 11  2  0\\n 21  7  2  0\\n 22 23  2  0\\n 23 20  1  0\\n 24 18  1  0\\n 25 19  1  0\\n 26  6  1  0\\n 27 10  1  0\\n 28 20  1  0\\n 29 17  1  0\\n 30 28  1  0\\n 31 27  1  0\\n 32 30  1  0\\n 33 31  1  0\\n  9  6  1  0\\n  8  7  1  0\\n 22 13  1  0\\n 17 24  1  0\\nM  END\\n\\n> <chembl_id>\\nCHEMBL192\\n\\n> <chembl_pref_name>\\nSILDENAFIL\\n\\n', 'standard_inchi': 'InChI=1S/C22H30N6O4S/c1-5-7-17-19-20(27(4)25-17)22(29)24-21(23-19)16-14-15(8-9-18(16)32-6-2)33(30,31)28-12-10-26(3)11-13-28/h8-9,14H,5-7,10-13H2,1-4H3,(H,23,24,29)', 'standard_inchi_key': 'BNRNXUUZRGQAQC-UHFFFAOYSA-N'}, 'molecule_synonyms': [{'molecule_synonym': 'HIP0908', 'syn_type': 'RESEARCH_CODE', 'synonyms': 'HIP0908'}, {'molecule_synonym': 'HIP-0908', 'syn_type': 'RESEARCH_CODE', 'synonyms': 'HIP-0908'}, {'molecule_synonym': 'Nipatra', 'syn_type': 'TRADE_NAME', 'synonyms': 'NIPATRA'}, {'molecule_synonym': 'Revatio', 'syn_type': 'TRADE_NAME', 'synonyms': 'REVATIO'}, {'molecule_synonym': 'Sildenafil', 'syn_type': 'FDA', 'synonyms': 'Sildenafil'}, {'molecule_synonym': 'Sildenafil', 'syn_type': 'ATC', 'synonyms': 'SILDENAFIL'}, {'molecule_synonym': 'Sildenafil', 'syn_type': 'BAN', 'synonyms': 'SILDENAFIL'}, {'molecule_synonym': 'Sildenafil', 'syn_type': 'BNF', 'synonyms': 'SILDENAFIL'}, {'molecule_synonym': 'Sildenafil', 'syn_type': 'INN', 'synonyms': 'SILDENAFIL'}, {'molecule_synonym': 'Sildenafil', 'syn_type': 'MERCK_INDEX', 'synonyms': 'SILDENAFIL'}, {'molecule_synonym': 'Sildenafil', 'syn_type': 'OTHER', 'synonyms': 'SILDENAFIL'}, {'molecule_synonym': 'UK-92480', 'syn_type': 'RESEARCH_CODE', 'synonyms': 'UK-92480'}, {'molecule_synonym': 'Viagra', 'syn_type': 'TRADE_NAME', 'synonyms': 'VIAGRA'}, {'molecule_synonym': 'Vizarsin', 'syn_type': 'TRADE_NAME', 'synonyms': 'VIZARSIN'}], 'molecule_type': 'Small molecule', 'natural_product': 0, 'oral': True, 'parenteral': True, 'polymer_flag': False, 'pref_name': 'SILDENAFIL', 'prodrug': 0, 'score': 8.0, 'structure_type': 'MOL', 'therapeutic_flag': True, 'topical': False, 'usan_stem': '-afil', 'usan_stem_definition': 'PDE5 inhibitors', 'usan_substem': '-afil', 'usan_year': 1997, 'withdrawn_class': None, 'withdrawn_country': None, 'withdrawn_flag': False, 'withdrawn_reason': None, 'withdrawn_year': None}, {'atc_classifications': [], 'availability_type': 1, 'biotherapeutic': None, 'black_box_warning': 0, 'chebi_par_id': 58987, 'chirality': 2, 'cross_references': [{'xref_id': 'sildenafil%20citrate', 'xref_name': 'sildenafil citrate', 'xref_src': 'DailyMed'}, {'xref_id': '144205270', 'xref_name': 'SID: 144205270', 'xref_src': 'PubChem'}, {'xref_id': '170465285', 'xref_name': 'SID: 170465285', 'xref_src': 'PubChem'}, {'xref_id': 'Sildenafil', 'xref_name': None, 'xref_src': 'Wikipedia'}], 'dosed_ingredient': True, 'first_approval': 1998, 'first_in_class': 0, 'helm_notation': None, 'indication_class': 'Impotence Therapy', 'inorganic_flag': 0, 'max_phase': 4, 'molecule_chembl_id': 'CHEMBL1737', 'molecule_hierarchy': {'molecule_chembl_id': 'CHEMBL1737', 'parent_chembl_id': 'CHEMBL192'}, 'molecule_properties': {'alogp': '1.61', 'aromatic_rings': 3, 'cx_logd': '1.16', 'cx_logp': '1.23', 'cx_most_apka': '7.63', 'cx_most_bpka': '5.98', 'full_molformula': 'C28H38N6O11S', 'full_mwt': '666.71', 'hba': 8, 'hba_lipinski': 10, 'hbd': 1, 'hbd_lipinski': 1, 'heavy_atoms': 33, 'molecular_species': 'NEUTRAL', 'mw_freebase': '474.59', 'mw_monoisotopic': '474.2049', 'num_lipinski_ro5_violations': 0, 'num_ro5_violations': 0, 'psa': '113.42', 'qed_weighted': '0.55', 'ro3_pass': 'N', 'rtb': 7}, 'molecule_structures': {'canonical_smiles': 'CCCc1nn(C)c2c(=O)[nH]c(-c3cc(S(=O)(=O)N4CCN(C)CC4)ccc3OCC)nc12.O=C(O)CC(O)(CC(=O)O)C(=O)O', 'molfile': '\\n     RDKit          2D\\n\\n 46 48  0  0  0  0  0  0  0  0999 V2000\\n    9.2182    1.4870    0.0000 C   0  0  0  0  0  0  0  0  0  0  0  0\\n   11.8182    1.4870    0.0000 C   0  0  0  0  0  0  0  0  0  0  0  0\\n    7.9182    2.2370    0.0000 C   0  0  0  0  0  0  0  0  0  0  0  0\\n   13.1182    2.2370    0.0000 C   0  0  0  0  0  0  0  0  0  0  0  0\\n   10.5182    3.7377    0.0000 C   0  0  0  0  0  0  0  0  0  0  0  0\\n   10.5182    2.2370    0.0000 C   0  0  0  0  0  0  0  0  0  0  0  0\\n    6.8788    1.6373    0.0000 O   0  0  0  0  0  0  0  0  0  0  0  0\\n    7.9182    3.4370    0.0000 O   0  0  0  0  0  0  0  0  0  0  0  0\\n   14.1576    1.6373    0.0000 O   0  0  0  0  0  0  0  0  0  0  0  0\\n   13.1182    3.4370    0.0000 O   0  0  0  0  0  0  0  0  0  0  0  0\\n   11.5571    4.3384    0.0000 O   0  0  0  0  0  0  0  0  0  0  0  0\\n    9.4788    4.3374    0.0000 O   0  0  0  0  0  0  0  0  0  0  0  0\\n   10.5182    1.0370    0.0000 O   0  0  0  0  0  0  0  0  0  0  0  0\\n    4.0244    4.0756    0.0000 C   0  0  0  0  0  0  0  0  0  0  0  0\\n   -6.2133   -2.7101    0.0000 C   0  0  0  0  0  0  0  0  0  0  0  0\\n   -9.8661    8.0854    0.0000 C   0  0  0  0  0  0  0  0  0  0  0  0\\n    2.0907   -2.3426    0.0000 C   0  0  0  0  0  0  0  0  0  0  0  0\\n    3.6500    2.9355    0.0000 C   0  0  0  0  0  0  0  0  0  0  0  0\\n   -6.2134   -1.5101    0.0000 C   0  0  0  0  0  0  0  0  0  0  0  0\\n    2.1812    2.6271    0.0000 C   0  0  0  0  0  0  0  0  0  0  0  0\\n   -6.2185    2.9892    0.0000 C   0  0  0  0  0  0  0  0  0  0  0  0\\n   -6.2151    1.4892    0.0000 C   0  0  0  0  0  0  0  0  0  0  0  0\\n   -8.8235    5.9871    0.0000 C   0  0  0  0  0  0  0  0  0  0  0  0\\n   -7.5281    8.2391    0.0000 C   0  0  0  0  0  0  0  0  0  0  0  0\\n   -7.5233    5.2391    0.0000 C   0  0  0  0  0  0  0  0  0  0  0  0\\n   -6.2278    7.4912    0.0000 C   0  0  0  0  0  0  0  0  0  0  0  0\\n   -3.6204    2.9950    0.0000 C   0  0  0  0  0  0  0  0  0  0  0  0\\n   -4.9211    3.7421    0.0000 C   0  0  0  0  0  0  0  0  0  0  0  0\\n   -3.6168    1.4950    0.0000 C   0  0  0  0  0  0  0  0  0  0  0  0\\n    1.7138    1.2033    0.0000 C   0  0  0  0  0  0  0  0  0  0  0  0\\n   -4.9144    0.7421    0.0000 C   0  0  0  0  0  0  0  0  0  0  0  0\\n    0.2917    0.7475    0.0000 C   0  0  0  0  0  0  0  0  0  0  0  0\\n    0.2917   -0.7475    0.0000 C   0  0  0  0  0  0  0  0  0  0  0  0\\n   -2.3155    0.7475    0.0000 C   0  0  0  0  0  0  0  0  0  0  0  0\\n   -1.0028   -1.5132    0.0000 C   0  0  0  0  0  0  0  0  0  0  0  0\\n   -1.0028    1.5132    0.0000 N   0  0  0  0  0  0  0  0  0  0  0  0\\n   -2.3155   -0.7475    0.0000 N   0  0  0  0  0  0  0  0  0  0  0  0\\n    2.5889    0.0182    0.0000 N   0  0  0  0  0  0  0  0  0  0  0  0\\n   -8.8259    7.4871    0.0000 N   0  0  0  0  0  0  0  0  0  0  0  0\\n    1.7138   -1.2033    0.0000 N   0  0  0  0  0  0  0  0  0  0  0  0\\n   -6.2254    5.9912    0.0000 N   0  0  0  0  0  0  0  0  0  0  0  0\\n   -0.9991   -2.7132    0.0000 O   0  0  0  0  0  0  0  0  0  0  0  0\\n   -3.8864    5.8449    0.0000 O   0  0  0  0  0  0  0  0  0  0  0  0\\n   -3.8840    4.6451    0.0000 O   0  0  0  0  0  0  0  0  0  0  0  0\\n   -4.9142   -0.7587    0.0000 O   0  0  0  0  0  0  0  0  0  0  0  0\\n   -4.9245    5.2429    0.0000 S   0  0  0  0  0  0  0  0  0  0  0  0\\n  1  3  1  0\\n  1  6  1  0\\n  2  4  1  0\\n  2  6  1  0\\n  3  7  2  0\\n  3  8  1  0\\n  4  9  2  0\\n  4 10  1  0\\n  5  6  1  0\\n  5 11  2  0\\n  5 12  1  0\\n  6 13  1  0\\n 14 18  1  0\\n 15 19  1  0\\n 16 39  1  0\\n 17 40  1  0\\n 18 20  1  0\\n 19 45  1  0\\n 20 30  1  0\\n 21 22  2  0\\n 21 28  1  0\\n 22 31  1  0\\n 23 25  1  0\\n 23 39  1  0\\n 24 26  1  0\\n 24 39  1  0\\n 25 41  1  0\\n 26 41  1  0\\n 27 28  2  0\\n 27 29  1  0\\n 28 46  1  0\\n 29 31  2  0\\n 29 34  1  0\\n 30 32  1  0\\n 30 38  2  0\\n 31 45  1  0\\n 32 33  2  0\\n 32 36  1  0\\n 33 35  1  0\\n 33 40  1  0\\n 34 36  2  0\\n 34 37  1  0\\n 35 37  1  0\\n 35 42  2  0\\n 38 40  1  0\\n 41 46  1  0\\n 43 46  2  0\\n 44 46  2  0\\nM  END\\n\\n> <chembl_id>\\nCHEMBL1737\\n\\n> <chembl_pref_name>\\nSILDENAFIL CITRATE\\n\\n', 'standard_inchi': 'InChI=1S/C22H30N6O4S.C6H8O7/c1-5-7-17-19-20(27(4)25-17)22(29)24-21(23-19)16-14-15(8-9-18(16)32-6-2)33(30,31)28-12-10-26(3)11-13-28;7-3(8)1-6(13,5(11)12)2-4(9)10/h8-9,14H,5-7,10-13H2,1-4H3,(H,23,24,29);13H,1-2H2,(H,7,8)(H,9,10)(H,11,12)', 'standard_inchi_key': 'DEIYFTQMQPDXOT-UHFFFAOYSA-N'}, 'molecule_synonyms': [{'molecule_synonym': 'Revatio', 'syn_type': 'TRADE_NAME', 'synonyms': 'REVATIO'}, {'molecule_synonym': 'Sildenafil citrate', 'syn_type': 'FDA', 'synonyms': 'SILDENAFIL CITRATE'}, {'molecule_synonym': 'Sildenafil citrate', 'syn_type': 'JAN', 'synonyms': 'SILDENAFIL CITRATE'}, {'molecule_synonym': 'Sildenafil citrate', 'syn_type': 'MERCK_INDEX', 'synonyms': 'SILDENAFIL CITRATE'}, {'molecule_synonym': 'Sildenafil citrate', 'syn_type': 'OTHER', 'synonyms': 'SILDENAFIL CITRATE'}, {'molecule_synonym': 'Sildenafil citrate', 'syn_type': 'TRADE_NAME', 'synonyms': 'SILDENAFIL CITRATE'}, {'molecule_synonym': 'Sildenafil citrate', 'syn_type': 'USAN', 'synonyms': 'SILDENAFIL CITRATE'}, {'molecule_synonym': 'Sildenafil citrate', 'syn_type': 'USP', 'synonyms': 'SILDENAFIL CITRATE'}, {'molecule_synonym': 'UK-92,480-10', 'syn_type': 'RESEARCH_CODE', 'synonyms': 'UK-92,480-10'}, {'molecule_synonym': 'UK-92480-10', 'syn_type': 'RESEARCH_CODE', 'synonyms': 'UK-92480-10'}, {'molecule_synonym': 'Viagra', 'syn_type': 'TRADE_NAME', 'synonyms': 'Viagra'}], 'molecule_type': 'Small molecule', 'natural_product': 0, 'oral': True, 'parenteral': True, 'polymer_flag': False, 'pref_name': 'SILDENAFIL CITRATE', 'prodrug': 0, 'score': 7.0, 'structure_type': 'MOL', 'therapeutic_flag': True, 'topical': False, 'usan_stem': '-afil', 'usan_stem_definition': 'PDE5 inhibitors', 'usan_substem': '-afil', 'usan_year': 1997, 'withdrawn_class': None, 'withdrawn_country': None, 'withdrawn_flag': False, 'withdrawn_reason': None, 'withdrawn_year': None}]"
      ]
     },
     "execution_count": 3,
     "metadata": {},
     "output_type": "execute_result"
    }
   ],
   "source": [
    "res"
   ]
  },
  {
   "cell_type": "code",
   "execution_count": 4,
   "metadata": {},
   "outputs": [
    {
     "data": {
      "text/plain": [
       "dict_keys(['atc_classifications', 'availability_type', 'biotherapeutic', 'black_box_warning', 'chebi_par_id', 'chirality', 'cross_references', 'dosed_ingredient', 'first_approval', 'first_in_class', 'helm_notation', 'indication_class', 'inorganic_flag', 'max_phase', 'molecule_chembl_id', 'molecule_hierarchy', 'molecule_properties', 'molecule_structures', 'molecule_synonyms', 'molecule_type', 'natural_product', 'oral', 'parenteral', 'polymer_flag', 'pref_name', 'prodrug', 'score', 'structure_type', 'therapeutic_flag', 'topical', 'usan_stem', 'usan_stem_definition', 'usan_substem', 'usan_year', 'withdrawn_class', 'withdrawn_country', 'withdrawn_flag', 'withdrawn_reason', 'withdrawn_year'])"
      ]
     },
     "execution_count": 4,
     "metadata": {},
     "output_type": "execute_result"
    }
   ],
   "source": [
    "# Chaves do dicionário\n",
    "res[0].keys()"
   ]
  },
  {
   "cell_type": "code",
   "execution_count": 5,
   "metadata": {},
   "outputs": [
    {
     "name": "stdout",
     "output_type": "stream",
     "text": [
      "Tipo de molécula: Small molecule\n",
      "Número identificador no ChEMBL: CHEMBL192\n",
      "É um medicamento tomado por via oral? True\n",
      "SMILES: CCCc1nn(C)c2c(=O)[nH]c(-c3cc(S(=O)(=O)N4CCN(C)CC4)ccc3OCC)nc12\n"
     ]
    }
   ],
   "source": [
    "print(\"Tipo de molécula:\", res[0]['molecule_type'])\n",
    "print(\"Número identificador no ChEMBL:\", res[0]['molecule_chembl_id'])\n",
    "print(\"É um medicamento tomado por via oral?\", res[0]['oral'])\n",
    "print(\"SMILES:\", res[0]['molecule_structures']['canonical_smiles'])  # molecule_structures é um dict dentro de um dict"
   ]
  },
  {
   "cell_type": "markdown",
   "metadata": {},
   "source": [
    "### Procurar um alvo (target) pelo nome do gene"
   ]
  },
  {
   "cell_type": "code",
   "execution_count": 6,
   "metadata": {},
   "outputs": [],
   "source": [
    "target = new_client.target\n",
    "gene_name = 'BRD4'\n",
    "res = target.search(gene_name)"
   ]
  },
  {
   "cell_type": "code",
   "execution_count": 7,
   "metadata": {},
   "outputs": [
    {
     "data": {
      "text/plain": [
       "dict_keys(['cross_references', 'organism', 'pref_name', 'score', 'species_group_flag', 'target_chembl_id', 'target_components', 'target_type', 'tax_id'])"
      ]
     },
     "execution_count": 7,
     "metadata": {},
     "output_type": "execute_result"
    }
   ],
   "source": [
    "res[0].keys()"
   ]
  },
  {
   "cell_type": "markdown",
   "metadata": {},
   "source": [
    "### Encontre compostos similares à aspirina (similaridade > 70%)"
   ]
  },
  {
   "cell_type": "code",
   "execution_count": 8,
   "metadata": {},
   "outputs": [],
   "source": [
    "molecule = new_client.molecule\n",
    "similarity = new_client.similarity\n",
    "aspirin_chembl_id = molecule.search('aspirin')[0]['molecule_chembl_id']\n",
    "res = similarity.filter(chembl_id=aspirin_chembl_id, similarity=70)"
   ]
  },
  {
   "cell_type": "code",
   "execution_count": 9,
   "metadata": {},
   "outputs": [
    {
     "name": "stdout",
     "output_type": "stream",
     "text": [
      "CC(=O)Oc1ccccc1C(=O)O.NCCCC[C@H](N)C(=O)O\n",
      "CC(=O)Oc1ccccc1C(=O)O.NCCCCC(N)C(=O)O\n",
      "CC(=O)Oc1ccccc1C(=O)[O-].CC(=O)Oc1ccccc1C(=O)[O-].NC(N)=O.[Ca+2]\n",
      "CC(=O)Oc1ccccc1C(=O)O.CC(=O)Oc1ccccc1C(=O)O.NC(N)=O\n",
      "CC(=O)Oc1ccccc1C(=O)Oc1ccccc1C(=O)O\n",
      "O=C(O)Oc1ccccc1C(=O)O\n",
      "CC(=O)Oc1cccc(C(=O)O)c1OC(C)=O\n"
     ]
    }
   ],
   "source": [
    "for item in res:\n",
    "    print(item['molecule_structures']['canonical_smiles'])"
   ]
  },
  {
   "cell_type": "markdown",
   "metadata": {},
   "source": [
    "### Gerar um dataframe com todos os inibidores de um alvo\n",
    "\n",
    "Escrevi uma função que recebe como entrada o código ChEMBL do alvo desejado. Para descobrir o código de um alvo, acesse o [site do ChEMBL](https://www.ebi.ac.uk/chembl/) e procure pelo alvo na barra *Search in ChEMBL*. A função retorna um dataframe contendo as estruturas (SMILES) e atividades (pChEMBL) dos compostos"
   ]
  },
  {
   "cell_type": "code",
   "execution_count": 10,
   "metadata": {},
   "outputs": [],
   "source": [
    "import pandas as pd"
   ]
  },
  {
   "cell_type": "code",
   "execution_count": 11,
   "metadata": {},
   "outputs": [],
   "source": [
    "activities = new_client.activity"
   ]
  },
  {
   "cell_type": "code",
   "execution_count": 12,
   "metadata": {},
   "outputs": [],
   "source": [
    "def get_inhibitors(target):\n",
    "    \"\"\"\n",
    "    Returns a dataframe with SMILES and pChEMBL values of inhibitors for a given target\n",
    "    Example: target = Cathepsin B = \"CHEMBL4072\"\n",
    "    \"\"\"\n",
    "    inhibitors = activities.filter(target_chembl_id=target, pchembl_value__isnull=False)\n",
    "    data = [[item[\"canonical_smiles\"], item[\"pchembl_value\"]] for item in inhibitors]\n",
    "    df = pd.DataFrame(data, columns=[\"SMILES\", \"pChEMBL\"])\n",
    "    return df"
   ]
  },
  {
   "cell_type": "code",
   "execution_count": 13,
   "metadata": {},
   "outputs": [
    {
     "data": {
      "text/html": [
       "<div>\n",
       "<style scoped>\n",
       "    .dataframe tbody tr th:only-of-type {\n",
       "        vertical-align: middle;\n",
       "    }\n",
       "\n",
       "    .dataframe tbody tr th {\n",
       "        vertical-align: top;\n",
       "    }\n",
       "\n",
       "    .dataframe thead th {\n",
       "        text-align: right;\n",
       "    }\n",
       "</style>\n",
       "<table border=\"1\" class=\"dataframe\">\n",
       "  <thead>\n",
       "    <tr style=\"text-align: right;\">\n",
       "      <th></th>\n",
       "      <th>SMILES</th>\n",
       "      <th>pChEMBL</th>\n",
       "    </tr>\n",
       "  </thead>\n",
       "  <tbody>\n",
       "    <tr>\n",
       "      <th>0</th>\n",
       "      <td>CC(C)C[C@H](C=O)NC(=O)[C@@H](NS(=O)(=O)c1ccc(F...</td>\n",
       "      <td>7.11</td>\n",
       "    </tr>\n",
       "    <tr>\n",
       "      <th>1</th>\n",
       "      <td>O=C(NC(=O)[C@H](Cc1cc(I)c(O)c(I)c1)NC(=O)[C@H]...</td>\n",
       "      <td>6.47</td>\n",
       "    </tr>\n",
       "    <tr>\n",
       "      <th>2</th>\n",
       "      <td>CC(C)C[C@H](NC(=O)OCc1ccccc1)C(=O)N[C@@H](CC(C...</td>\n",
       "      <td>8.21</td>\n",
       "    </tr>\n",
       "    <tr>\n",
       "      <th>3</th>\n",
       "      <td>CC(C)[C@H](NC(=O)OCc1ccccc1)C(=O)N[C@@H]1C(=O)...</td>\n",
       "      <td>4.52</td>\n",
       "    </tr>\n",
       "    <tr>\n",
       "      <th>4</th>\n",
       "      <td>O=C(N[C@@H](Cc1ccccc1)C(=O)N[C@@H]1C(=O)N2CCO[...</td>\n",
       "      <td>5.75</td>\n",
       "    </tr>\n",
       "    <tr>\n",
       "      <th>...</th>\n",
       "      <td>...</td>\n",
       "      <td>...</td>\n",
       "    </tr>\n",
       "    <tr>\n",
       "      <th>1358</th>\n",
       "      <td>C=CC(=O)Nc1cc(Oc2nc(Nc3ccc(N4CCN(C)CC4)cc3OC)c...</td>\n",
       "      <td>5.52</td>\n",
       "    </tr>\n",
       "    <tr>\n",
       "      <th>1359</th>\n",
       "      <td>C[C@H](NC(=O)[C@H](Cc1ccccc1)NC(=O)OCc1ccccc1)...</td>\n",
       "      <td>6.52</td>\n",
       "    </tr>\n",
       "    <tr>\n",
       "      <th>1360</th>\n",
       "      <td>O=C(CF)CNC(=O)[C@H](Cc1ccccc1)NC(=O)c1ccccc1</td>\n",
       "      <td>6.16</td>\n",
       "    </tr>\n",
       "    <tr>\n",
       "      <th>1361</th>\n",
       "      <td>O=C(CF)CNC(=O)[C@H](Cc1ccccc1)NC(=O)c1cccc2ccc...</td>\n",
       "      <td>6.70</td>\n",
       "    </tr>\n",
       "    <tr>\n",
       "      <th>1362</th>\n",
       "      <td>CCCCC#Cc1cc(C(=O)OCC)nc2ccc(OC)cc12</td>\n",
       "      <td>5.16</td>\n",
       "    </tr>\n",
       "  </tbody>\n",
       "</table>\n",
       "<p>1361 rows × 2 columns</p>\n",
       "</div>"
      ],
      "text/plain": [
       "                                                 SMILES pChEMBL\n",
       "0     CC(C)C[C@H](C=O)NC(=O)[C@@H](NS(=O)(=O)c1ccc(F...    7.11\n",
       "1     O=C(NC(=O)[C@H](Cc1cc(I)c(O)c(I)c1)NC(=O)[C@H]...    6.47\n",
       "2     CC(C)C[C@H](NC(=O)OCc1ccccc1)C(=O)N[C@@H](CC(C...    8.21\n",
       "3     CC(C)[C@H](NC(=O)OCc1ccccc1)C(=O)N[C@@H]1C(=O)...    4.52\n",
       "4     O=C(N[C@@H](Cc1ccccc1)C(=O)N[C@@H]1C(=O)N2CCO[...    5.75\n",
       "...                                                 ...     ...\n",
       "1358  C=CC(=O)Nc1cc(Oc2nc(Nc3ccc(N4CCN(C)CC4)cc3OC)c...    5.52\n",
       "1359  C[C@H](NC(=O)[C@H](Cc1ccccc1)NC(=O)OCc1ccccc1)...    6.52\n",
       "1360       O=C(CF)CNC(=O)[C@H](Cc1ccccc1)NC(=O)c1ccccc1    6.16\n",
       "1361  O=C(CF)CNC(=O)[C@H](Cc1ccccc1)NC(=O)c1cccc2ccc...    6.70\n",
       "1362                CCCCC#Cc1cc(C(=O)OCC)nc2ccc(OC)cc12    5.16\n",
       "\n",
       "[1361 rows x 2 columns]"
      ]
     },
     "execution_count": 13,
     "metadata": {},
     "output_type": "execute_result"
    }
   ],
   "source": [
    "# Encontrando inibidores da enzima Catepsina B\n",
    "df = get_inhibitors(\"CHEMBL4072\")  # código ChEMBL da Catepsina B\n",
    "df.dropna(inplace=True)\n",
    "df"
   ]
  }
 ],
 "metadata": {
  "kernelspec": {
   "display_name": "Python 3",
   "language": "python",
   "name": "python3"
  },
  "language_info": {
   "codemirror_mode": {
    "name": "ipython",
    "version": 3
   },
   "file_extension": ".py",
   "mimetype": "text/x-python",
   "name": "python",
   "nbconvert_exporter": "python",
   "pygments_lexer": "ipython3",
   "version": "3.7.7"
  }
 },
 "nbformat": 4,
 "nbformat_minor": 4
}
