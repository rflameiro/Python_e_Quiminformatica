{
 "cells": [
  {
   "cell_type": "markdown",
   "metadata": {},
   "source": [
    "# Introdução ao RDKit\n",
    "\n",
    "Neste Notebook, mostraremos algumas funcionalidades do RDKit, um pacote gratuito para quiminformática.\n",
    "\n",
    "Para uma visão geral de diversas funcionalidades, acesse os *links* [Getting Started with the RDKit in Python](https://www.rdkit.org/docs/GettingStartedInPython.html) e [RDKit Cookbook](https://www.rdkit.org/docs/Cookbook.html) (ambos em inglês), dos quais adaptei o código mostrado aqui.\n",
    "\n",
    "Para usar o RDKit, precisamos baixá-lo, e a forma mais simples é utilizando o Anaconda:"
   ]
  },
  {
   "cell_type": "markdown",
   "metadata": {},
   "source": [
    "Criamos um ambiente chamado `my-rdkit-env`</br>\n",
    "`$ conda create -c conda-forge -n my-rdkit-env rdkit`</br>\n",
    "\n",
    "E ativamos o ambiente</br>\n",
    "`$ conda activate my-rdkit-env`\n",
    "\n",
    "Para mais detalhes, acesse: https://www.rdkit.org/docs/Install.html\n",
    "\n",
    "Para verificar se está com o RDKit instalado, dê o comando `conda list` e verifique se `rdkit` está entre os programas instalados. Se estiver, basta abrir o Jupyter Lab (pode ser necessário instalar, usando `conda install -c conda-forge jupyterlab`), criar um novo Notebook e importar o RDKit:"
   ]
  },
  {
   "cell_type": "code",
   "execution_count": 1,
   "metadata": {},
   "outputs": [
    {
     "name": "stdout",
     "output_type": "stream",
     "text": [
      "2022.03.3\n"
     ]
    }
   ],
   "source": [
    "import rdkit\n",
    "# Para verificar a versão instalada\n",
    "print(rdkit.__version__)"
   ]
  },
  {
   "cell_type": "markdown",
   "metadata": {},
   "source": [
    "Também é possível importar somente as funcionalidades desejadas em vez de importar o módulo todo. Veremos exemplos a seguir."
   ]
  },
  {
   "cell_type": "markdown",
   "metadata": {},
   "source": [
    "## Trabalhando com estruturas químicas\n",
    "\n",
    "Com o RDKit, estruturas químicas podem ser importadas em diversos formatos, como SMILES, sdf, mol2 e pdb.\n",
    "\n",
    "Todas essas formas podem ser convertidas em um objeto do tipo `rdkit.Chem.rdchem.Mol`, ou simplesmente **RDKit Mol**, que é a forma utilizada pelo RDKit para representação de estruturas moleculares.\n",
    "\n",
    "Vamos importar o módulo `Chem` para trabalhar com algumas estruturas:"
   ]
  },
  {
   "cell_type": "code",
   "execution_count": 2,
   "metadata": {},
   "outputs": [],
   "source": [
    "from rdkit import Chem"
   ]
  },
  {
   "cell_type": "code",
   "execution_count": 3,
   "metadata": {},
   "outputs": [
    {
     "data": {
      "text/plain": [
       "rdkit.Chem.rdchem.Mol"
      ]
     },
     "execution_count": 3,
     "metadata": {},
     "output_type": "execute_result"
    }
   ],
   "source": [
    "# Importando uma molécula a partir da representação SMILES\n",
    "mol = Chem.MolFromSmiles(\"CC1=C(C=C(C=C1)NC(=O)C2=CC=C(C=C2)CN3CCN(CC3)C)NC4=NC=CC(=N4)C5=CN=CC=C5\")\n",
    "\n",
    "# Tipo do objeto\n",
    "type(mol)"
   ]
  },
  {
   "cell_type": "code",
   "execution_count": 4,
   "metadata": {},
   "outputs": [
    {
     "data": {
      "image/png": "[encoded data removed]",
      "text/plain": [
       "<rdkit.Chem.rdchem.Mol at 0x2703ec1a860>"
      ]
     },
     "execution_count": 4,
     "metadata": {},
     "output_type": "execute_result"
    }
   ],
   "source": [
    "# No Jupyter Notebook, se o output de uma célula for um RDKit Mol, a estrutura é desenhada:\n",
    "mol"
   ]
  },
  {
   "cell_type": "markdown",
   "metadata": {},
   "source": [
    "Podemos converter um RDKit Mol a formatos de texto, como MDL molblock e PDB. É possível gerar arquivos de texto usando a *keyword* `file` da função `print()`."
   ]
  },
  {
   "cell_type": "code",
   "execution_count": 5,
   "metadata": {},
   "outputs": [],
   "source": [
    "mol = Chem.MolFromSmiles(\"CCO\")"
   ]
  },
  {
   "cell_type": "code",
   "execution_count": 6,
   "metadata": {},
   "outputs": [
    {
     "name": "stdout",
     "output_type": "stream",
     "text": [
      "\n",
      "     RDKit          2D\n",
      "\n",
      "  3  2  0  0  0  0  0  0  0  0999 V2000\n",
      "    0.0000    0.0000    0.0000 C   0  0  0  0  0  0  0  0  0  0  0  0\n",
      "    1.2990    0.7500    0.0000 C   0  0  0  0  0  0  0  0  0  0  0  0\n",
      "    2.5981   -0.0000    0.0000 O   0  0  0  0  0  0  0  0  0  0  0  0\n",
      "  1  2  1  0\n",
      "  2  3  1  0\n",
      "M  END\n",
      "\n"
     ]
    }
   ],
   "source": [
    "print(Chem.MolToMolBlock(mol))"
   ]
  },
  {
   "cell_type": "code",
   "execution_count": 7,
   "metadata": {},
   "outputs": [
    {
     "name": "stdout",
     "output_type": "stream",
     "text": [
      "HETATM    1  C1  UNL     1       0.000   0.000   0.000  1.00  0.00           C  \n",
      "HETATM    2  C2  UNL     1       0.000   0.000   0.000  1.00  0.00           C  \n",
      "HETATM    3  O1  UNL     1       0.000   0.000   0.000  1.00  0.00           O  \n",
      "CONECT    1    2\n",
      "CONECT    2    3\n",
      "END\n",
      "\n"
     ]
    }
   ],
   "source": [
    "print(Chem.MolToPDBBlock(mol))"
   ]
  },
  {
   "cell_type": "code",
   "execution_count": 8,
   "metadata": {},
   "outputs": [],
   "source": [
    "# Escrevendo um arquivo de texto no formato molblock\n",
    "print(Chem.MolToMolBlock(mol), file=open(\"ethanol.mol\", \"a+\"))"
   ]
  },
  {
   "cell_type": "markdown",
   "metadata": {},
   "source": [
    "## Descritores\n",
    "\n",
    "Podemos calcular diversas propriedades de uma molécula, também chamadas de descritores moleculares (Veja o Notebook [Descritores moleculares]):"
   ]
  },
  {
   "cell_type": "code",
   "execution_count": 9,
   "metadata": {},
   "outputs": [],
   "source": [
    "from rdkit.Chem import Descriptors"
   ]
  },
  {
   "cell_type": "code",
   "execution_count": 10,
   "metadata": {},
   "outputs": [
    {
     "name": "stdout",
     "output_type": "stream",
     "text": [
      "Massa molecular relativa: 46.069\n",
      "Número de átomos pesados: 3\n",
      "logP calculado: -0.0014000000000000123\n"
     ]
    }
   ],
   "source": [
    "print(f\"Massa molecular relativa: {Descriptors.MolWt(mol)}\")\n",
    "print(f\"Número de átomos pesados: {Descriptors.HeavyAtomCount(mol)}\")\n",
    "print(f\"logP calculado: {Descriptors.MolLogP(mol)}\")"
   ]
  },
  {
   "cell_type": "markdown",
   "metadata": {},
   "source": [
    "O RDKit disponibiliza o cálculo de mais de 200 descritores físico-químicos e estruturais, disponíveis aqui: [Lista de descritores disponíveis](https://www.rdkit.org/docs/GettingStartedInPython.html#list-of-available-descriptors)."
   ]
  },
  {
   "cell_type": "markdown",
   "metadata": {},
   "source": [
    "## Propriedades e funcionalidades dos objetos RDKit Mol\n",
    "\n",
    "O objeto RDKit Mol possui diversas funcionalidades, que podem ser acessadas usando `help()`. Não é necessário conhecer todas, mas algumas podem ser úteis, como resgatar os índices dos átomos e das ligações, e verificar se a molécula contém certa subestrutura (que podemos usar, por exemplo, para verificar se a molécula contém algum grupo reativo ou potencialmente tóxico)."
   ]
  },
  {
   "cell_type": "code",
   "execution_count": 11,
   "metadata": {},
   "outputs": [
    {
     "name": "stdout",
     "output_type": "stream",
     "text": [
      "6\n",
      "6\n",
      "8\n",
      "6\n"
     ]
    }
   ],
   "source": [
    "# Iterando por todos os átomos da molécula e mostrando seu número atômico\n",
    "m = Chem.MolFromSmiles('CCOC')\n",
    "for atom in m.GetAtoms():\n",
    "    print(atom.GetAtomicNum())"
   ]
  },
  {
   "cell_type": "code",
   "execution_count": 14,
   "metadata": {},
   "outputs": [
    {
     "data": {
      "text/plain": [
       "<rdkit.Chem.rdchem.Atom at 0x2703f26cee0>"
      ]
     },
     "execution_count": 14,
     "metadata": {},
     "output_type": "execute_result"
    }
   ],
   "source": [
    "# Átomo com índice = 0\n",
    "atom = m.GetAtomWithIdx(0)\n",
    "atom"
   ]
  },
  {
   "cell_type": "markdown",
   "metadata": {},
   "source": [
    "Você pode executar a célula abaixo para ver as diversas propriedades e funções disponíveis para essa classe `rdkit.Chem.rdchem.Atom`:"
   ]
  },
  {
   "cell_type": "code",
   "execution_count": null,
   "metadata": {
    "tags": []
   },
   "outputs": [],
   "source": [
    "help(atom)"
   ]
  },
  {
   "cell_type": "code",
   "execution_count": 16,
   "metadata": {},
   "outputs": [
    {
     "data": {
      "image/png": "[encoded data removed]",
      "text/plain": [
       "<rdkit.Chem.rdchem.Mol at 0x2703d6f7d60>"
      ]
     },
     "execution_count": 16,
     "metadata": {},
     "output_type": "execute_result"
    }
   ],
   "source": [
    "# Adicionando átomos de hidrogênio explícitos\n",
    "m2 = Chem.AddHs(m)\n",
    "m2"
   ]
  },
  {
   "cell_type": "code",
   "execution_count": 17,
   "metadata": {},
   "outputs": [
    {
     "data": {
      "text/plain": [
       "12"
      ]
     },
     "execution_count": 17,
     "metadata": {},
     "output_type": "execute_result"
    }
   ],
   "source": [
    "# Número de átomos\n",
    "m2.GetNumAtoms()"
   ]
  },
  {
   "cell_type": "code",
   "execution_count": 18,
   "metadata": {},
   "outputs": [
    {
     "data": {
      "image/png": "[encoded data removed]",
      "text/plain": [
       "<rdkit.Chem.rdchem.Mol at 0x2703f16eda0>"
      ]
     },
     "execution_count": 18,
     "metadata": {},
     "output_type": "execute_result"
    }
   ],
   "source": [
    "# Removendo átomos de hidrogênio explícitos\n",
    "m3 = Chem.RemoveHs(m2)\n",
    "m3"
   ]
  },
  {
   "cell_type": "code",
   "execution_count": 19,
   "metadata": {},
   "outputs": [
    {
     "data": {
      "text/plain": [
       "4"
      ]
     },
     "execution_count": 19,
     "metadata": {},
     "output_type": "execute_result"
    }
   ],
   "source": [
    "# Número de átomos\n",
    "m3.GetNumAtoms()"
   ]
  },
  {
   "cell_type": "code",
   "execution_count": 20,
   "metadata": {},
   "outputs": [
    {
     "name": "stdout",
     "output_type": "stream",
     "text": [
      "False\n",
      "True\n"
     ]
    }
   ],
   "source": [
    "# Verificar se átomos pertencem a um anel\n",
    "m = Chem.MolFromSmiles('OC1C2C1CC2')\n",
    "\n",
    "print(m.GetAtomWithIdx(0).IsInRing())\n",
    "print(m.GetAtomWithIdx(1).IsInRing())"
   ]
  },
  {
   "cell_type": "code",
   "execution_count": 21,
   "metadata": {},
   "outputs": [
    {
     "data": {
      "text/plain": [
       "rdkit.Chem.rdchem.BondType.AROMATIC"
      ]
     },
     "execution_count": 21,
     "metadata": {},
     "output_type": "execute_result"
    }
   ],
   "source": [
    "# As ligações também têm identificadores\n",
    "m = Chem.MolFromSmiles('c1ccccc1')\n",
    "\n",
    "# Tipo da ligação com índice 0:\n",
    "m.GetBondWithIdx(0).GetBondType()"
   ]
  },
  {
   "cell_type": "code",
   "execution_count": 22,
   "metadata": {},
   "outputs": [
    {
     "name": "stdout",
     "output_type": "stream",
     "text": [
      "DOUBLE\n",
      "SINGLE\n"
     ]
    }
   ],
   "source": [
    "# Note que o tipo da ligação muda quando fazemos a Kekulização\n",
    "Chem.Kekulize(m)\n",
    "print(m.GetBondWithIdx(0).GetBondType())\n",
    "print(m.GetBondWithIdx(1).GetBondType())"
   ]
  },
  {
   "cell_type": "code",
   "execution_count": 25,
   "metadata": {},
   "outputs": [
    {
     "data": {
      "text/plain": [
       "True"
      ]
     },
     "execution_count": 25,
     "metadata": {},
     "output_type": "execute_result"
    }
   ],
   "source": [
    "# Verificar a presença de uma subestrutura\n",
    "smi = 'c1cc(F)ccc1Cl'\n",
    "mol = Chem.MolFromSmiles(smi)\n",
    "patt = Chem.MolFromSmarts('ClccccF')  # subestrutura\n",
    "\n",
    "mol.HasSubstructMatch(patt)"
   ]
  },
  {
   "cell_type": "code",
   "execution_count": 26,
   "metadata": {},
   "outputs": [
    {
     "data": {
      "text/plain": [
       "(7, 6, 5, 4, 2, 3)"
      ]
     },
     "execution_count": 26,
     "metadata": {},
     "output_type": "execute_result"
    }
   ],
   "source": [
    "# Índices dos átomos de mol que correspondem à subestrutura patt\n",
    "mol.GetSubstructMatch(patt)"
   ]
  },
  {
   "cell_type": "markdown",
   "metadata": {},
   "source": [
    "## Desenhando estruturas"
   ]
  },
  {
   "cell_type": "code",
   "execution_count": 29,
   "metadata": {},
   "outputs": [],
   "source": [
    "# Gerando estruturas alinhadas por uma subestrutura em comum\n",
    "\n",
    "from rdkit.Chem import AllChem, Draw\n",
    "\n",
    "template = Chem.MolFromSmiles('c1nccc2n1ccc2')\n",
    "AllChem.Compute2DCoords(template)\n",
    "\n",
    "ms = [Chem.MolFromSmiles(smi) for smi in ('OCCc1ccn2cnccc12','C1CC1Oc1cc2ccncn2c1','CNC(=O)c1nccc2cccn12')]\n",
    "for m in ms:\n",
    "    _ = AllChem.GenerateDepictionMatching2DStructure(m, template)"
   ]
  },
  {
   "cell_type": "code",
   "execution_count": 32,
   "metadata": {},
   "outputs": [
    {
     "data": {
      "image/png": "[encoded data removed]",
      "text/plain": [
       "<IPython.core.display.Image object>"
      ]
     },
     "execution_count": 32,
     "metadata": {},
     "output_type": "execute_result"
    }
   ],
   "source": [
    "# legends - permite acrescentar legendas\n",
    "Draw.MolsToGridImage(ms)"
   ]
  },
  {
   "cell_type": "code",
   "execution_count": 48,
   "metadata": {},
   "outputs": [],
   "source": [
    "# Destacando uma subestrutura\n",
    "\n",
    "from rdkit.Chem.Draw import rdMolDraw2D\n",
    "from IPython.display import SVG\n",
    "\n",
    "smi = 'c1cc(F)ccc1Cl'\n",
    "mol = Chem.MolFromSmiles(smi)\n",
    "patt = Chem.MolFromSmarts('ClccccF')\n",
    "\n",
    "# Vamos condensar o código em uma função para podermos reutilizá-lo\n",
    "def desenhar_com_subestrutura(mol, patt):\n",
    "    hit_ats = list(mol.GetSubstructMatch(patt))\n",
    "    hit_bonds = []\n",
    "\n",
    "    for bond in patt.GetBonds():\n",
    "        aid1 = hit_ats[bond.GetBeginAtomIdx()]\n",
    "        aid2 = hit_ats[bond.GetEndAtomIdx()]\n",
    "        hit_bonds.append(mol.GetBondBetweenAtoms(aid1,aid2).GetIdx())\n",
    "\n",
    "    d = rdMolDraw2D.MolDraw2DSVG(300, 250) # ou MolDraw2DCairo para obter PNGs\n",
    "    rdMolDraw2D.PrepareAndDrawMolecule(d, mol, highlightAtoms=hit_ats,\n",
    "                                       highlightBonds=hit_bonds)\n",
    "    d.FinishDrawing()\n",
    "    # Converter a imagem SVG a string\n",
    "    svg = d.GetDrawingText()\n",
    "    # Mostrar a imagem no Jupyter notebook\n",
    "    display(SVG(svg))"
   ]
  },
  {
   "cell_type": "code",
   "execution_count": 49,
   "metadata": {},
   "outputs": [
    {
     "data": {
      "image/svg+xml": [
       "<svg xmlns=\"http://www.w3.org/2000/svg\" xmlns:rdkit=\"http://www.rdkit.org/xml\" xmlns:xlink=\"http://www.w3.org/1999/xlink\" version=\"1.1\" baseProfile=\"full\" xml:space=\"preserve\" width=\"300px\" height=\"250px\" viewBox=\"0 0 300 250\">\n",
       "<!-- END OF HEADER -->\n",
       "<rect style=\"opacity:1.0;fill:#FFFFFF;stroke:none\" width=\"300.0\" height=\"250.0\" x=\"0.0\" y=\"0.0\"> </rect>\n",
       "<path class=\"bond-2 atom-2 atom-3\" d=\"M 87.6,131.2 L 26.0,131.2\" style=\"fill:none;fill-rule:evenodd;stroke:#FF7F7F;stroke-width:13.1px;stroke-linecap:butt;stroke-linejoin:miter;stroke-opacity:1\"/>\n",
       "<path class=\"bond-3 atom-2 atom-4\" d=\"M 87.6,131.2 L 118.4,77.8\" style=\"fill:none;fill-rule:evenodd;stroke:#FF7F7F;stroke-width:13.1px;stroke-linecap:butt;stroke-linejoin:miter;stroke-opacity:1\"/>\n",
       "<path class=\"bond-4 atom-4 atom-5\" d=\"M 118.4,77.8 L 180.0,77.8\" style=\"fill:none;fill-rule:evenodd;stroke:#FF7F7F;stroke-width:13.1px;stroke-linecap:butt;stroke-linejoin:miter;stroke-opacity:1\"/>\n",
       "<path class=\"bond-5 atom-5 atom-6\" d=\"M 180.0,77.8 L 210.8,131.2\" style=\"fill:none;fill-rule:evenodd;stroke:#FF7F7F;stroke-width:13.1px;stroke-linecap:butt;stroke-linejoin:miter;stroke-opacity:1\"/>\n",
       "<path class=\"bond-6 atom-6 atom-7\" d=\"M 210.8,131.2 L 272.4,131.2\" style=\"fill:none;fill-rule:evenodd;stroke:#FF7F7F;stroke-width:13.1px;stroke-linecap:butt;stroke-linejoin:miter;stroke-opacity:1\"/>\n",
       "<ellipse cx=\"87.6\" cy=\"131.2\" rx=\"12.3\" ry=\"12.3\" class=\"atom-2\" style=\"fill:#FF7F7F;fill-rule:evenodd;stroke:#FF7F7F;stroke-width:1.0px;stroke-linecap:butt;stroke-linejoin:miter;stroke-opacity:1\"/>\n",
       "<ellipse cx=\"26.0\" cy=\"131.2\" rx=\"12.3\" ry=\"12.3\" class=\"atom-3\" style=\"fill:#FF7F7F;fill-rule:evenodd;stroke:#FF7F7F;stroke-width:1.0px;stroke-linecap:butt;stroke-linejoin:miter;stroke-opacity:1\"/>\n",
       "<ellipse cx=\"118.4\" cy=\"77.8\" rx=\"12.3\" ry=\"12.3\" class=\"atom-4\" style=\"fill:#FF7F7F;fill-rule:evenodd;stroke:#FF7F7F;stroke-width:1.0px;stroke-linecap:butt;stroke-linejoin:miter;stroke-opacity:1\"/>\n",
       "<ellipse cx=\"180.0\" cy=\"77.8\" rx=\"12.3\" ry=\"12.3\" class=\"atom-5\" style=\"fill:#FF7F7F;fill-rule:evenodd;stroke:#FF7F7F;stroke-width:1.0px;stroke-linecap:butt;stroke-linejoin:miter;stroke-opacity:1\"/>\n",
       "<ellipse cx=\"210.8\" cy=\"131.2\" rx=\"12.3\" ry=\"12.3\" class=\"atom-6\" style=\"fill:#FF7F7F;fill-rule:evenodd;stroke:#FF7F7F;stroke-width:1.0px;stroke-linecap:butt;stroke-linejoin:miter;stroke-opacity:1\"/>\n",
       "<ellipse cx=\"274.0\" cy=\"131.3\" rx=\"12.3\" ry=\"13.4\" class=\"atom-7\" style=\"fill:#FF7F7F;fill-rule:evenodd;stroke:#FF7F7F;stroke-width:1.0px;stroke-linecap:butt;stroke-linejoin:miter;stroke-opacity:1\"/>\n",
       "<path class=\"bond-0 atom-0 atom-1\" d=\"M 180.0,184.5 L 118.4,184.5\" style=\"fill:none;fill-rule:evenodd;stroke:#000000;stroke-width:2.0px;stroke-linecap:butt;stroke-linejoin:miter;stroke-opacity:1\"/>\n",
       "<path class=\"bond-0 atom-0 atom-1\" d=\"M 170.8,172.2 L 127.6,172.2\" style=\"fill:none;fill-rule:evenodd;stroke:#000000;stroke-width:2.0px;stroke-linecap:butt;stroke-linejoin:miter;stroke-opacity:1\"/>\n",
       "<path class=\"bond-1 atom-1 atom-2\" d=\"M 118.4,184.5 L 87.6,131.2\" style=\"fill:none;fill-rule:evenodd;stroke:#000000;stroke-width:2.0px;stroke-linecap:butt;stroke-linejoin:miter;stroke-opacity:1\"/>\n",
       "<path class=\"bond-2 atom-2 atom-3\" d=\"M 87.6,131.2 L 60.4,131.2\" style=\"fill:none;fill-rule:evenodd;stroke:#000000;stroke-width:2.0px;stroke-linecap:butt;stroke-linejoin:miter;stroke-opacity:1\"/>\n",
       "<path class=\"bond-2 atom-2 atom-3\" d=\"M 60.4,131.2 L 33.2,131.2\" style=\"fill:none;fill-rule:evenodd;stroke:#33CCCC;stroke-width:2.0px;stroke-linecap:butt;stroke-linejoin:miter;stroke-opacity:1\"/>\n",
       "<path class=\"bond-3 atom-2 atom-4\" d=\"M 87.6,131.2 L 118.4,77.8\" style=\"fill:none;fill-rule:evenodd;stroke:#000000;stroke-width:2.0px;stroke-linecap:butt;stroke-linejoin:miter;stroke-opacity:1\"/>\n",
       "<path class=\"bond-3 atom-2 atom-4\" d=\"M 102.9,129.3 L 124.4,92.0\" style=\"fill:none;fill-rule:evenodd;stroke:#000000;stroke-width:2.0px;stroke-linecap:butt;stroke-linejoin:miter;stroke-opacity:1\"/>\n",
       "<path class=\"bond-4 atom-4 atom-5\" d=\"M 118.4,77.8 L 180.0,77.8\" style=\"fill:none;fill-rule:evenodd;stroke:#000000;stroke-width:2.0px;stroke-linecap:butt;stroke-linejoin:miter;stroke-opacity:1\"/>\n",
       "<path class=\"bond-5 atom-5 atom-6\" d=\"M 180.0,77.8 L 210.8,131.2\" style=\"fill:none;fill-rule:evenodd;stroke:#000000;stroke-width:2.0px;stroke-linecap:butt;stroke-linejoin:miter;stroke-opacity:1\"/>\n",
       "<path class=\"bond-5 atom-5 atom-6\" d=\"M 173.9,92.0 L 195.5,129.3\" style=\"fill:none;fill-rule:evenodd;stroke:#000000;stroke-width:2.0px;stroke-linecap:butt;stroke-linejoin:miter;stroke-opacity:1\"/>\n",
       "<path class=\"bond-6 atom-6 atom-7\" d=\"M 210.8,131.2 L 237.2,131.2\" style=\"fill:none;fill-rule:evenodd;stroke:#000000;stroke-width:2.0px;stroke-linecap:butt;stroke-linejoin:miter;stroke-opacity:1\"/>\n",
       "<path class=\"bond-6 atom-6 atom-7\" d=\"M 237.2,131.2 L 263.7,131.2\" style=\"fill:none;fill-rule:evenodd;stroke:#00CC00;stroke-width:2.0px;stroke-linecap:butt;stroke-linejoin:miter;stroke-opacity:1\"/>\n",
       "<path class=\"bond-7 atom-6 atom-0\" d=\"M 210.8,131.2 L 180.0,184.5\" style=\"fill:none;fill-rule:evenodd;stroke:#000000;stroke-width:2.0px;stroke-linecap:butt;stroke-linejoin:miter;stroke-opacity:1\"/>\n",
       "<path class=\"atom-3\" d=\"M 20.8 122.4 L 31.1 122.4 L 31.1 124.4 L 23.1 124.4 L 23.1 129.7 L 30.3 129.7 L 30.3 131.8 L 23.1 131.8 L 23.1 139.9 L 20.8 139.9 L 20.8 122.4 \" fill=\"#33CCCC\"/>\n",
       "<path class=\"atom-7\" d=\"M 265.7 131.8 Q 265.7 127.4, 267.7 125.2 Q 269.8 122.9, 273.6 122.9 Q 277.2 122.9, 279.1 125.4 L 277.5 126.7 Q 276.1 124.9, 273.6 124.9 Q 271.0 124.9, 269.6 126.7 Q 268.2 128.4, 268.2 131.8 Q 268.2 135.2, 269.6 137.0 Q 271.1 138.8, 273.9 138.8 Q 275.8 138.8, 278.1 137.6 L 278.7 139.5 Q 277.8 140.0, 276.5 140.4 Q 275.1 140.7, 273.5 140.7 Q 269.8 140.7, 267.7 138.4 Q 265.7 136.1, 265.7 131.8 \" fill=\"#00CC00\"/>\n",
       "<path class=\"atom-7\" d=\"M 280.1 121.8 L 282.4 121.8 L 282.4 140.5 L 280.1 140.5 L 280.1 121.8 \" fill=\"#00CC00\"/>\n",
       "</svg>"
      ],
      "text/plain": [
       "<IPython.core.display.SVG object>"
      ]
     },
     "metadata": {},
     "output_type": "display_data"
    }
   ],
   "source": [
    "desenhar_com_subestrutura(mol, patt)"
   ]
  },
  {
   "cell_type": "markdown",
   "metadata": {},
   "source": [
    "*Murcko scaffolds* representam o \"núcleo\" de uma estrutura química e correspondem a todas as partes da estrutura que contêm anéis, removendo todas as cadeias laterais acíclicas."
   ]
  },
  {
   "cell_type": "code",
   "execution_count": 53,
   "metadata": {},
   "outputs": [
    {
     "data": {
      "image/png": "[encoded data removed]",
      "text/plain": [
       "<rdkit.Chem.rdchem.Mol at 0x27040088ca0>"
      ]
     },
     "execution_count": 53,
     "metadata": {},
     "output_type": "execute_result"
    }
   ],
   "source": [
    "# Estrutura da qual desejamos obter o Murcko Scaffold\n",
    "from rdkit.Chem.Scaffolds import MurckoScaffold\n",
    "\n",
    "m1 = Chem.MolFromSmiles('c1nc(Cl)cc2n1c(CC)cc2')\n",
    "m1"
   ]
  },
  {
   "cell_type": "code",
   "execution_count": 54,
   "metadata": {},
   "outputs": [
    {
     "data": {
      "image/png": "[encoded data removed]",
      "text/plain": [
       "<rdkit.Chem.rdchem.Mol at 0x270400ab040>"
      ]
     },
     "execution_count": 54,
     "metadata": {},
     "output_type": "execute_result"
    }
   ],
   "source": [
    "# Murcko scaffold\n",
    "core = MurckoScaffold.GetScaffoldForMol(m1)\n",
    "core"
   ]
  },
  {
   "cell_type": "code",
   "execution_count": 56,
   "metadata": {},
   "outputs": [
    {
     "data": {
      "image/svg+xml": [
       "<svg xmlns=\"http://www.w3.org/2000/svg\" xmlns:rdkit=\"http://www.rdkit.org/xml\" xmlns:xlink=\"http://www.w3.org/1999/xlink\" version=\"1.1\" baseProfile=\"full\" xml:space=\"preserve\" width=\"300px\" height=\"250px\" viewBox=\"0 0 300 250\">\n",
       "<!-- END OF HEADER -->\n",
       "<rect style=\"opacity:1.0;fill:#FFFFFF;stroke:none\" width=\"300.0\" height=\"250.0\" x=\"0.0\" y=\"0.0\"> </rect>\n",
       "<path class=\"bond-0 atom-0 atom-1\" d=\"M 138.7,181.3 L 92.6,179.2\" style=\"fill:none;fill-rule:evenodd;stroke:#FF7F7F;stroke-width:9.8px;stroke-linecap:butt;stroke-linejoin:miter;stroke-opacity:1\"/>\n",
       "<path class=\"bond-11 atom-0 atom-6\" d=\"M 138.7,181.3 L 163.5,142.5\" style=\"fill:none;fill-rule:evenodd;stroke:#FF7F7F;stroke-width:9.8px;stroke-linecap:butt;stroke-linejoin:miter;stroke-opacity:1\"/>\n",
       "<path class=\"bond-1 atom-1 atom-2\" d=\"M 92.6,179.2 L 71.4,138.3\" style=\"fill:none;fill-rule:evenodd;stroke:#FF7F7F;stroke-width:9.8px;stroke-linecap:butt;stroke-linejoin:miter;stroke-opacity:1\"/>\n",
       "<path class=\"bond-3 atom-2 atom-4\" d=\"M 71.4,138.3 L 96.2,99.4\" style=\"fill:none;fill-rule:evenodd;stroke:#FF7F7F;stroke-width:9.8px;stroke-linecap:butt;stroke-linejoin:miter;stroke-opacity:1\"/>\n",
       "<path class=\"bond-4 atom-4 atom-5\" d=\"M 96.2,99.4 L 142.3,101.5\" style=\"fill:none;fill-rule:evenodd;stroke:#FF7F7F;stroke-width:9.8px;stroke-linecap:butt;stroke-linejoin:miter;stroke-opacity:1\"/>\n",
       "<path class=\"bond-5 atom-5 atom-6\" d=\"M 142.3,101.5 L 163.5,142.5\" style=\"fill:none;fill-rule:evenodd;stroke:#FF7F7F;stroke-width:9.8px;stroke-linecap:butt;stroke-linejoin:miter;stroke-opacity:1\"/>\n",
       "<path class=\"bond-12 atom-5 atom-11\" d=\"M 142.3,101.5 L 174.7,68.7\" style=\"fill:none;fill-rule:evenodd;stroke:#FF7F7F;stroke-width:9.8px;stroke-linecap:butt;stroke-linejoin:miter;stroke-opacity:1\"/>\n",
       "<path class=\"bond-6 atom-6 atom-7\" d=\"M 163.5,142.5 L 209.1,135.0\" style=\"fill:none;fill-rule:evenodd;stroke:#FF7F7F;stroke-width:9.8px;stroke-linecap:butt;stroke-linejoin:miter;stroke-opacity:1\"/>\n",
       "<path class=\"bond-9 atom-7 atom-10\" d=\"M 209.1,135.0 L 216.0,89.3\" style=\"fill:none;fill-rule:evenodd;stroke:#FF7F7F;stroke-width:9.8px;stroke-linecap:butt;stroke-linejoin:miter;stroke-opacity:1\"/>\n",
       "<path class=\"bond-10 atom-10 atom-11\" d=\"M 216.0,89.3 L 174.7,68.7\" style=\"fill:none;fill-rule:evenodd;stroke:#FF7F7F;stroke-width:9.8px;stroke-linecap:butt;stroke-linejoin:miter;stroke-opacity:1\"/>\n",
       "<ellipse cx=\"138.7\" cy=\"181.3\" rx=\"9.2\" ry=\"9.2\" class=\"atom-0\" style=\"fill:#FF7F7F;fill-rule:evenodd;stroke:#FF7F7F;stroke-width:1.0px;stroke-linecap:butt;stroke-linejoin:miter;stroke-opacity:1\"/>\n",
       "<ellipse cx=\"92.6\" cy=\"179.2\" rx=\"9.2\" ry=\"9.2\" class=\"atom-1\" style=\"fill:#FF7F7F;fill-rule:evenodd;stroke:#FF7F7F;stroke-width:1.0px;stroke-linecap:butt;stroke-linejoin:miter;stroke-opacity:1\"/>\n",
       "<ellipse cx=\"71.4\" cy=\"138.3\" rx=\"9.2\" ry=\"9.2\" class=\"atom-2\" style=\"fill:#FF7F7F;fill-rule:evenodd;stroke:#FF7F7F;stroke-width:1.0px;stroke-linecap:butt;stroke-linejoin:miter;stroke-opacity:1\"/>\n",
       "<ellipse cx=\"96.2\" cy=\"99.4\" rx=\"9.2\" ry=\"9.2\" class=\"atom-4\" style=\"fill:#FF7F7F;fill-rule:evenodd;stroke:#FF7F7F;stroke-width:1.0px;stroke-linecap:butt;stroke-linejoin:miter;stroke-opacity:1\"/>\n",
       "<ellipse cx=\"142.3\" cy=\"101.5\" rx=\"9.2\" ry=\"9.2\" class=\"atom-5\" style=\"fill:#FF7F7F;fill-rule:evenodd;stroke:#FF7F7F;stroke-width:1.0px;stroke-linecap:butt;stroke-linejoin:miter;stroke-opacity:1\"/>\n",
       "<ellipse cx=\"163.5\" cy=\"142.5\" rx=\"9.2\" ry=\"9.2\" class=\"atom-6\" style=\"fill:#FF7F7F;fill-rule:evenodd;stroke:#FF7F7F;stroke-width:1.0px;stroke-linecap:butt;stroke-linejoin:miter;stroke-opacity:1\"/>\n",
       "<ellipse cx=\"209.1\" cy=\"135.0\" rx=\"9.2\" ry=\"9.2\" class=\"atom-7\" style=\"fill:#FF7F7F;fill-rule:evenodd;stroke:#FF7F7F;stroke-width:1.0px;stroke-linecap:butt;stroke-linejoin:miter;stroke-opacity:1\"/>\n",
       "<ellipse cx=\"216.0\" cy=\"89.3\" rx=\"9.2\" ry=\"9.2\" class=\"atom-10\" style=\"fill:#FF7F7F;fill-rule:evenodd;stroke:#FF7F7F;stroke-width:1.0px;stroke-linecap:butt;stroke-linejoin:miter;stroke-opacity:1\"/>\n",
       "<ellipse cx=\"174.7\" cy=\"68.7\" rx=\"9.2\" ry=\"9.2\" class=\"atom-11\" style=\"fill:#FF7F7F;fill-rule:evenodd;stroke:#FF7F7F;stroke-width:1.0px;stroke-linecap:butt;stroke-linejoin:miter;stroke-opacity:1\"/>\n",
       "<path class=\"bond-0 atom-0 atom-1\" d=\"M 138.7,181.3 L 118.9,180.4\" style=\"fill:none;fill-rule:evenodd;stroke:#000000;stroke-width:2.0px;stroke-linecap:butt;stroke-linejoin:miter;stroke-opacity:1\"/>\n",
       "<path class=\"bond-0 atom-0 atom-1\" d=\"M 118.9,180.4 L 99.1,179.5\" style=\"fill:none;fill-rule:evenodd;stroke:#0000FF;stroke-width:2.0px;stroke-linecap:butt;stroke-linejoin:miter;stroke-opacity:1\"/>\n",
       "<path class=\"bond-0 atom-0 atom-1\" d=\"M 133.2,171.8 L 119.3,171.2\" style=\"fill:none;fill-rule:evenodd;stroke:#000000;stroke-width:2.0px;stroke-linecap:butt;stroke-linejoin:miter;stroke-opacity:1\"/>\n",
       "<path class=\"bond-0 atom-0 atom-1\" d=\"M 119.3,171.2 L 105.4,170.6\" style=\"fill:none;fill-rule:evenodd;stroke:#0000FF;stroke-width:2.0px;stroke-linecap:butt;stroke-linejoin:miter;stroke-opacity:1\"/>\n",
       "<path class=\"bond-1 atom-1 atom-2\" d=\"M 88.4,171.2 L 79.9,154.7\" style=\"fill:none;fill-rule:evenodd;stroke:#0000FF;stroke-width:2.0px;stroke-linecap:butt;stroke-linejoin:miter;stroke-opacity:1\"/>\n",
       "<path class=\"bond-1 atom-1 atom-2\" d=\"M 79.9,154.7 L 71.4,138.3\" style=\"fill:none;fill-rule:evenodd;stroke:#000000;stroke-width:2.0px;stroke-linecap:butt;stroke-linejoin:miter;stroke-opacity:1\"/>\n",
       "<path class=\"bond-2 atom-2 atom-3\" d=\"M 71.4,138.3 L 49.5,137.3\" style=\"fill:none;fill-rule:evenodd;stroke:#000000;stroke-width:2.0px;stroke-linecap:butt;stroke-linejoin:miter;stroke-opacity:1\"/>\n",
       "<path class=\"bond-2 atom-2 atom-3\" d=\"M 49.5,137.3 L 27.7,136.3\" style=\"fill:none;fill-rule:evenodd;stroke:#00CC00;stroke-width:2.0px;stroke-linecap:butt;stroke-linejoin:miter;stroke-opacity:1\"/>\n",
       "<path class=\"bond-3 atom-2 atom-4\" d=\"M 71.4,138.3 L 96.2,99.4\" style=\"fill:none;fill-rule:evenodd;stroke:#000000;stroke-width:2.0px;stroke-linecap:butt;stroke-linejoin:miter;stroke-opacity:1\"/>\n",
       "<path class=\"bond-3 atom-2 atom-4\" d=\"M 82.9,137.4 L 100.3,110.2\" style=\"fill:none;fill-rule:evenodd;stroke:#000000;stroke-width:2.0px;stroke-linecap:butt;stroke-linejoin:miter;stroke-opacity:1\"/>\n",
       "<path class=\"bond-4 atom-4 atom-5\" d=\"M 96.2,99.4 L 142.3,101.5\" style=\"fill:none;fill-rule:evenodd;stroke:#000000;stroke-width:2.0px;stroke-linecap:butt;stroke-linejoin:miter;stroke-opacity:1\"/>\n",
       "<path class=\"bond-5 atom-5 atom-6\" d=\"M 142.3,101.5 L 150.8,118.0\" style=\"fill:none;fill-rule:evenodd;stroke:#000000;stroke-width:2.0px;stroke-linecap:butt;stroke-linejoin:miter;stroke-opacity:1\"/>\n",
       "<path class=\"bond-5 atom-5 atom-6\" d=\"M 150.8,118.0 L 159.4,134.4\" style=\"fill:none;fill-rule:evenodd;stroke:#0000FF;stroke-width:2.0px;stroke-linecap:butt;stroke-linejoin:miter;stroke-opacity:1\"/>\n",
       "<path class=\"bond-6 atom-6 atom-7\" d=\"M 170.0,141.4 L 189.5,138.2\" style=\"fill:none;fill-rule:evenodd;stroke:#0000FF;stroke-width:2.0px;stroke-linecap:butt;stroke-linejoin:miter;stroke-opacity:1\"/>\n",
       "<path class=\"bond-6 atom-6 atom-7\" d=\"M 189.5,138.2 L 209.1,135.0\" style=\"fill:none;fill-rule:evenodd;stroke:#000000;stroke-width:2.0px;stroke-linecap:butt;stroke-linejoin:miter;stroke-opacity:1\"/>\n",
       "<path class=\"bond-7 atom-7 atom-8\" d=\"M 209.1,135.0 L 241.9,167.4\" style=\"fill:none;fill-rule:evenodd;stroke:#000000;stroke-width:2.0px;stroke-linecap:butt;stroke-linejoin:miter;stroke-opacity:1\"/>\n",
       "<path class=\"bond-8 atom-8 atom-9\" d=\"M 241.9,167.4 L 286.4,155.1\" style=\"fill:none;fill-rule:evenodd;stroke:#000000;stroke-width:2.0px;stroke-linecap:butt;stroke-linejoin:miter;stroke-opacity:1\"/>\n",
       "<path class=\"bond-9 atom-7 atom-10\" d=\"M 209.1,135.0 L 216.0,89.3\" style=\"fill:none;fill-rule:evenodd;stroke:#000000;stroke-width:2.0px;stroke-linecap:butt;stroke-linejoin:miter;stroke-opacity:1\"/>\n",
       "<path class=\"bond-9 atom-7 atom-10\" d=\"M 201.0,126.7 L 205.8,94.8\" style=\"fill:none;fill-rule:evenodd;stroke:#000000;stroke-width:2.0px;stroke-linecap:butt;stroke-linejoin:miter;stroke-opacity:1\"/>\n",
       "<path class=\"bond-10 atom-10 atom-11\" d=\"M 216.0,89.3 L 174.7,68.7\" style=\"fill:none;fill-rule:evenodd;stroke:#000000;stroke-width:2.0px;stroke-linecap:butt;stroke-linejoin:miter;stroke-opacity:1\"/>\n",
       "<path class=\"bond-11 atom-6 atom-0\" d=\"M 158.4,150.5 L 148.5,165.9\" style=\"fill:none;fill-rule:evenodd;stroke:#0000FF;stroke-width:2.0px;stroke-linecap:butt;stroke-linejoin:miter;stroke-opacity:1\"/>\n",
       "<path class=\"bond-11 atom-6 atom-0\" d=\"M 148.5,165.9 L 138.7,181.3\" style=\"fill:none;fill-rule:evenodd;stroke:#000000;stroke-width:2.0px;stroke-linecap:butt;stroke-linejoin:miter;stroke-opacity:1\"/>\n",
       "<path class=\"bond-12 atom-11 atom-5\" d=\"M 174.7,68.7 L 142.3,101.5\" style=\"fill:none;fill-rule:evenodd;stroke:#000000;stroke-width:2.0px;stroke-linecap:butt;stroke-linejoin:miter;stroke-opacity:1\"/>\n",
       "<path class=\"bond-12 atom-11 atom-5\" d=\"M 176.4,80.1 L 153.8,103.1\" style=\"fill:none;fill-rule:evenodd;stroke:#000000;stroke-width:2.0px;stroke-linecap:butt;stroke-linejoin:miter;stroke-opacity:1\"/>\n",
       "<path class=\"atom-1\" d=\"M 89.7 172.7 L 94.0 179.6 Q 94.4 180.3, 95.1 181.5 Q 95.8 182.8, 95.8 182.8 L 95.8 172.7 L 97.5 172.7 L 97.5 185.7 L 95.8 185.7 L 91.2 178.2 Q 90.6 177.3, 90.1 176.3 Q 89.5 175.3, 89.3 175.0 L 89.3 185.7 L 87.6 185.7 L 87.6 172.7 L 89.7 172.7 \" fill=\"#0000FF\"/>\n",
       "<path class=\"atom-3\" d=\"M 13.6 136.6 Q 13.6 133.3, 15.1 131.6 Q 16.7 129.9, 19.6 129.9 Q 22.3 129.9, 23.7 131.8 L 22.5 132.8 Q 21.4 131.4, 19.6 131.4 Q 17.6 131.4, 16.6 132.8 Q 15.5 134.1, 15.5 136.6 Q 15.5 139.2, 16.6 140.5 Q 17.7 141.8, 19.8 141.8 Q 21.2 141.8, 22.9 141.0 L 23.4 142.4 Q 22.7 142.8, 21.7 143.1 Q 20.7 143.3, 19.5 143.3 Q 16.7 143.3, 15.1 141.6 Q 13.6 139.8, 13.6 136.6 \" fill=\"#00CC00\"/>\n",
       "<path class=\"atom-3\" d=\"M 24.4 129.1 L 26.1 129.1 L 26.1 143.1 L 24.4 143.1 L 24.4 129.1 \" fill=\"#00CC00\"/>\n",
       "<path class=\"atom-6\" d=\"M 160.7 135.9 L 164.9 142.9 Q 165.4 143.5, 166.0 144.8 Q 166.7 146.0, 166.8 146.1 L 166.8 135.9 L 168.5 135.9 L 168.5 149.0 L 166.7 149.0 L 162.1 141.4 Q 161.6 140.6, 161.0 139.5 Q 160.4 138.5, 160.3 138.2 L 160.3 149.0 L 158.6 149.0 L 158.6 135.9 L 160.7 135.9 \" fill=\"#0000FF\"/>\n",
       "</svg>"
      ],
      "text/plain": [
       "<IPython.core.display.SVG object>"
      ]
     },
     "metadata": {},
     "output_type": "display_data"
    }
   ],
   "source": [
    "desenhar_com_subestrutura(m1, core)"
   ]
  },
  {
   "cell_type": "markdown",
   "metadata": {},
   "source": [
    "## *Fingerprints* e Similaridade\n",
    "\n",
    "*Fingerprints* moleculares são vetores numéricos que representam estruturas moleculares. \n",
    "\n",
    "Na maioria das aplicações, os vetores são binários, ou seja, de 0s e 1s, e cada número é chamado de *bit*. Quando um *bit* tem valor 1 dizemos que está ativo, ou seja, a molécula apresenta a subestrutura correspondente àquele *bit*, e quando o valor é 0, a molécula não possui nenhuma subestrutura referente àquele *bit*.\n",
    "\n",
    "Quando calculamos *fingerprints* da mesma maneira para diversas moléculas, eles terão o mesmo tamanho, e moléculas similares deverão apresentar mais números \"1\" nas mesmas posições, que (geralmente) correspondem às mesmas subestruturas em comum. Veja o exemplo hipotético a seguir, com 3 estruturas e seus *fingerprints* de 8 *bits*:\n",
    "\n",
    "|       |  1  |  2  |  3  |  4  |  5  |  6  |  7  |  8  |\n",
    "|-------|-----|-----|-----|-----|-----|-----|-----|-----|\n",
    "| **mol_A** |  0  |  1  |  0  |  0  |  0  |  1  |  0  |  1  |\n",
    "| **mol_B** |  0  |  0  |  1  |  1  |  0  |  0  |  0  |  1  |\n",
    "| **mol_C** |  0  |  1  |  0  |  0  |  1  |  1  |  0  |  1  |\n",
    "\n",
    "\n",
    "A molécula `A` deve ser mais parecida com `C` do que com `B`, porque `A` e `C` possuem três *bits* ativados em comum: 2, 6 e 8, enquanto `A` e `B` possuem somente o *bit* 8 ativado em comum.\n",
    "\n",
    "Devido à forma como são gerados, é possível que um *bit* corresponda a duas subestruturas diferentes (*bit collision*). Felizmente, isso é relativamente raro se não estiver trabalhando com muitas moléculas e se os *fingerprints* forem grandes o suficiente (normalmente, o tamanho mínimo usado é 1024).\n",
    "\n",
    "No código abaixo, vamos gerar o `RDKFingerprint` de 2048 *bits* para três estruturas, e calcular suas similaridades usando a função `FingerprintSimilarity`. Para mais informações, veja o Notebook [Fingerprints moleculares no RDKit]() e [Fingerprints moleculares e similaridade]()."
   ]
  },
  {
   "cell_type": "code",
   "execution_count": 57,
   "metadata": {},
   "outputs": [
    {
     "name": "stdout",
     "output_type": "stream",
     "text": [
      "0.6\n",
      "0.4\n",
      "0.25\n"
     ]
    }
   ],
   "source": [
    "from rdkit import DataStructs\n",
    "\n",
    "# Lista de estruturas no formato RDKit Mol\n",
    "ms = [Chem.MolFromSmiles('CCOC'), Chem.MolFromSmiles('CCO'), Chem.MolFromSmiles('COC')]\n",
    "\n",
    "# Gerar lista de fingerprints RDKit\n",
    "fps = [Chem.RDKFingerprint(x) for x in ms]\n",
    "\n",
    "# Calcular similaridades pelo índice de Tanimoto\n",
    "print(DataStructs.FingerprintSimilarity(fps[0], fps[1]))\n",
    "print(DataStructs.FingerprintSimilarity(fps[0], fps[2]))\n",
    "print(DataStructs.FingerprintSimilarity(fps[1], fps[2]))"
   ]
  },
  {
   "cell_type": "markdown",
   "metadata": {},
   "source": [
    "É possível fazer muito mais usando o RDKit. Recomendo olhar os outros Notebooks, pois cada um trata de forma mais aprofundada um tema de interesse na quiminformática.\n",
    "\n",
    "Não deixe também de acessar os *links* [Getting Started with the RDKit in Python](https://www.rdkit.org/docs/GettingStartedInPython.html) e [RDKit Cookbook](https://www.rdkit.org/docs/Cookbook.html) (ambos em inglês)."
   ]
  },
  {
   "cell_type": "code",
   "execution_count": null,
   "metadata": {},
   "outputs": [],
   "source": []
  }
 ],
 "metadata": {
  "kernelspec": {
   "display_name": "Python 3 (ipykernel)",
   "language": "python",
   "name": "python3"
  },
  "language_info": {
   "codemirror_mode": {
    "name": "ipython",
    "version": 3
   },
   "file_extension": ".py",
   "mimetype": "text/x-python",
   "name": "python",
   "nbconvert_exporter": "python",
   "pygments_lexer": "ipython3",
   "version": "3.10.4"
  }
 },
 "nbformat": 4,
 "nbformat_minor": 4
}
