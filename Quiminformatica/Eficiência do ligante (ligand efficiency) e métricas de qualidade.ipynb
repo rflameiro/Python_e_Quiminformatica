{
 "cells": [
  {
   "cell_type": "markdown",
   "id": "354902c7-4eaf-4033-ac06-abff364e08b3",
   "metadata": {
    "tags": []
   },
   "source": [
    "# Eficiência do ligante (*Ligand efficiency*)\n",
    "\n",
    "A busca por derivados com maior potência é parte fundamental no processo de desenvolvimento de um composto líder (*lead optimization*). Em geral, aumentar a potência significa adicionar grupos funcionais que interajam favoravelmente com o alvo macromolecular. Porém, esse processo de aumentar o **tamanho molecular**, se feito inadvertidamente, pode ocasionar problemas. \n",
    "\n",
    "Compostos maiores tendem a ser mais lipofílicos, portanto, ainda que possuam maior potência inibitória que seus análogos, também podem apresentar uma série de problemas, como promiscuidade (atividade em alvos indesejados), maior instabilidade metabólica e menor solubilidade.\n",
    "\n",
    "O conceito de eficiência do ligante, do inglês [*ligand efficiency* (**$LE$**)](https://doi.org/10.1016/S1359-6446(04)03069-7), foi proposto em 2004 como uma **métrica de qualidade** de um composto químico (*compound quality metric*). Assim se calcula a eficiência do ligante:\n",
    "\n",
    "$$ LE = {-{\\Delta G_{binding}} \\over \\#HeavyAtoms} $$\n",
    "\n",
    "Ou seja, divide-se o negativo da energia de interação entre o ligante e o alvo pelo número de \"átomos pesados\" da molécula, que representam todos os átomos que não são hidrogênio. Dessa forma, a $LE$ tem unidades de $kcal.mol^{-1}$ por átomo pesado. \n",
    "\n",
    "Como os valores de atividade são normalmente apresentados como o logaritmo negativo de constantes de inibição ou associação, a $LE$ também pode ser definida como:\n",
    "\n",
    "$$ LE = {1.37 \\times {pIC_{50}, pK_{i}, pK_{D}} \\over \\#HeavyAtoms} $$\n",
    "\n",
    "Que é equivalente a:\n",
    "\n",
    "$$ LE = {{pIC_{50}, pK_{i}, pK_{D}} \\over \\#HeavyAtoms \\times 0.74} $$\n",
    "\n",
    "Em alguns trabalhos, omite-se a constante, e a eficiência do ligante é reportada apenas como a razão entre a potência e o número de átomos pesados.\n",
    "\n",
    "Os autores definiram a $LE$ como uma forma de \"normalizar\" a potência de um ligante por seu tamanho molecular, ou seja, ao dividir a potência pelo número de átomos pesados estaríamos calculando o valor de energia livre de ligação para cada átomo pesado do ligante. \n",
    "\n",
    "Dessa forma, com o valor de $LE$ seria possível determinar se o aumento de potência decorrente da adição de grupos funcionais é apenas consequência de um aumento do tamanho molecular, ou se, de fato, ocorre devido à otimização de interações com o alvo.\n",
    "\n",
    "Vejamos como calcular a $LE$ usando o RDKit:"
   ]
  },
  {
   "cell_type": "code",
   "execution_count": 1,
   "id": "a7acdaea-6e9a-4ede-b4b0-3b5253edf343",
   "metadata": {},
   "outputs": [],
   "source": [
    "from rdkit import Chem\n",
    "from rdkit.Chem import Descriptors, Lipinski\n",
    "from rdkit.ML.Descriptors import MoleculeDescriptors"
   ]
  },
  {
   "cell_type": "code",
   "execution_count": 2,
   "id": "5199fcae-a6be-4274-88dd-38e2259d1eab",
   "metadata": {},
   "outputs": [],
   "source": [
    "def ligand_efficiency(smi, p_activity):\n",
    "    \"\"\"\n",
    "    Input: Estrutura molecular (SMILES) e atividade no formato pX (pKi, pIC50...)\n",
    "    A atividade deve corresponder a uma energia de interação medida em kcal.mol-1\n",
    "    \"\"\"\n",
    "    n_heavy_atoms = Lipinski.HeavyAtomCount(Chem.MolFromSmiles(smi))\n",
    "    return 1.37*p_activity/n_heavy_atoms "
   ]
  },
  {
   "cell_type": "markdown",
   "id": "29b4fb10-ff78-4e4a-af65-d22b03c29ae7",
   "metadata": {},
   "source": [
    "Uma métrica derivada da LE, denominada [*Size-Independent Ligand Efficiency* (**$SILE$**)](https://doi.org/10.1021/ci900094m), foi proposta para lidar com o fato de que o valor de $LE$ não se ajusta bem aos dados quando os compostos apresentam mais de 15 átomos pesados:\n",
    "\n",
    "$$ SILE = {{pIC_{50}, pK_{i}, pK_{D}} \\over \\#HeavyAtoms^{0.3}} $$"
   ]
  },
  {
   "cell_type": "code",
   "execution_count": 3,
   "id": "edc58dad-3a3c-416d-888b-fc28b61f93c9",
   "metadata": {},
   "outputs": [],
   "source": [
    "def sile(smi, p_activity):\n",
    "    \"\"\"\n",
    "    Input: Estrutura molecular (SMILES) e atividade no formato pX (pKi, pIC50...)\n",
    "    \"\"\"\n",
    "    n_heavy_atoms = Lipinski.HeavyAtomCount(Chem.MolFromSmiles(smi))\n",
    "    return p_activity/(n_heavy_atoms**0.3)"
   ]
  },
  {
   "cell_type": "markdown",
   "id": "5c80539e-1136-4578-b5e6-198e22fcaa80",
   "metadata": {},
   "source": [
    "[*Group Efficency* (**$GE$**)](https://doi.org/10.1002/cmdc.200800132) é a extensão do conceito de LE para grupos funcionais, sendo calculado da seguinte forma:\n",
    "\n",
    "$$ GE = {1.37 \\times \\Delta({pIC_{50}, pK_{i}, pK_{D}}) \\over {\\Delta\\#HeavyAtoms}} $$\n",
    "\n",
    "A ideia é quantificar o quanto a adição de um grupo funcional realmente contribui para a potência do análogo. \n",
    "\n",
    "Por exemplo, suponha que ao substituirmos um átomo de hidrogênio por um grupo fenila em uma molécula sua potência aumenta em 10 vezes ($ΔpX = 1.0$). Já quando a substituição  do hidrogênio é feita por uma bifenila, a potência aumenta em 80 vezes ($ΔpX = 1.9$). Qual dos dois grupos promove o maior aumento \"real\" de atividade? \n",
    "\n",
    "Pela fórmula fornecida, o GE da fenila será de $log(10)/6 = 0.167$, maior que o da bifenila, que é de $log(80)/12 = 0,156$. Portanto, a maior potência obtida pela adição da bifenila ocorre não apenas por uma otimização das interações intermoleculares com o alvo, mas também pelo aumento do tamanho molecular.\n",
    "\n",
    "Note que o uso de $GE$ como métrica assume que os compostos sendo comparados apresentam o **mesmo modo de ligação ao alvo biológico**, o que nem sempre é o caso, mesmo para uma série de análogos. \n",
    "\n",
    "Assim como a $LE$, essa métrica não é capaz de comparar grupos com o mesmo número de átomos pesados, mas estruturas diferentes, por exemplo, uma troca de C por N. Além disso, os valores de GE dependem tanto da natureza dos grupos funcionais sendo comparados quanto da [posição](http://practicalfragments.blogspot.com/2015/11/group-efficiency.html) na estrutura molecular em que a substituição é feita. Por exemplo, assim como a adição de uma metila pode não ter praticamente nenhum efeito na atividade, também pode levar a um aumento significativo, como no caso das \"metilas mágicas\" ([*magic methyl*](https://doi.org/10.1021/cr200060g))."
   ]
  },
  {
   "cell_type": "code",
   "execution_count": 4,
   "id": "6e1b5edd-8a91-420c-b1fb-21b48307841f",
   "metadata": {},
   "outputs": [],
   "source": [
    "def ge(smi1, smi2, p_activity1, p_activity2):\n",
    "    \"\"\"\n",
    "    Input: Estruturas moleculares (SMILES) de dois grupos e atividades no formato pX (pKi, pIC50...)\n",
    "    Consideramos que a transformação seja do grupo 1 para o grupo 2\n",
    "    \"\"\"\n",
    "    n_heavy_atoms1 = Lipinski.HeavyAtomCount(Chem.MolFromSmiles(smi1))\n",
    "    n_heavy_atoms2 = Lipinski.HeavyAtomCount(Chem.MolFromSmiles(smi2))\n",
    "    return 1.37*(p_activity2 - p_activity1)/(n_heavy_atoms2 - n_heavy_atoms1)"
   ]
  },
  {
   "cell_type": "markdown",
   "id": "4b03ea48-9b01-4838-a8cb-95f3e1b1175f",
   "metadata": {},
   "source": [
    "Outras métricas com propostas similares ao conceito inicial de $LE$ são *binding efficiency index* (**$BEI$**) e *surface binding efficiency index* (**$SEI$**):\n",
    "\n",
    "$$ BEI = {{pIC_{50}, pK_{i}, pK_{D}} \\over MW (kDa)} $$\n",
    "\n",
    "$$ SEI = {{pIC_{50}, pK_{i}, pK_{D}} \\over PSA/100 Å^2} $$"
   ]
  },
  {
   "cell_type": "code",
   "execution_count": 5,
   "id": "fe4a6bfb-1ecb-4eb7-b273-c78cac2a9490",
   "metadata": {},
   "outputs": [],
   "source": [
    "def bei(smi, p_activity):\n",
    "    \"\"\"\n",
    "    Input: Estrutura molecular (SMILES) e atividade no formato pX (pKi, pIC50...)\n",
    "    \"\"\"\n",
    "    mw = Descriptors.MolWt(Chem.MolFromSmiles(smi))\n",
    "    return p_activity*1000/mw\n",
    "\n",
    "def sei(smi, p_activity):\n",
    "    \"\"\"\n",
    "    Input: Estrutura molecular (SMILES) e atividade no formato pX (pKi, pIC50...)\n",
    "    \"\"\"\n",
    "    tpsa = Descriptors.TPSA(Chem.MolFromSmiles(smi))\n",
    "    return p_activity*100/tpsa"
   ]
  },
  {
   "cell_type": "markdown",
   "id": "198e20ca-0cb1-49eb-8b53-104616c36238",
   "metadata": {},
   "source": [
    "# Lipofilia\n",
    "\n",
    "Uma deficiência das métricas derivadas da $LE$ é o fato de a lipofilia não ser considerada diretamente nos cálculos. Isso faz com que grupos com o mesmo número de átomos pesados, mas com polaridades opostas, recebam o mesmo \"peso\". Tendo em mente que uma lipofilia excessiva traz problemas, formas de corrigir os valores de atividade considerando a lipofilia do composto foram apresentadas. \n",
    "\n",
    "A mais comum é denominada *Lipophilic Efficiency* (**$LipE$** ou **$LLE$**) que, em vez de normalizar os dados, usa o valor de $logP$ calculado como *offset* para a atividade:\n",
    "\n",
    "$$LipE (LLE) = pIC_{50} - clogP$$"
   ]
  },
  {
   "cell_type": "code",
   "execution_count": 6,
   "id": "8d755efa-6749-4d2f-b3b7-7025e1dcf5f3",
   "metadata": {},
   "outputs": [],
   "source": [
    "def lipe(smi, p_activity):\n",
    "    \"\"\"\n",
    "    Input: Estrutura molecular (SMILES) e atividade no formato pX (pKi, pIC50...)\n",
    "    \"\"\"\n",
    "    clogP = Descriptors.MolLogP(Chem.MolFromSmiles(smi))\n",
    "    return p_activity - clogP"
   ]
  },
  {
   "cell_type": "markdown",
   "id": "2ef6b922-b94b-4704-8a38-2679f482ed38",
   "metadata": {},
   "source": [
    "A fórmula anterior somente é válida quando o composto, tanto na forma livre quanto ligado ao alvo, se encontra no estado **neutro**. Quando o composto na forma livre é carregado (e neutro na forma ligada), podemos usar: \n",
    "\n",
    "$$LipE (LLE) = pIC_{50} - clogD$$\n",
    "\n",
    "Interprete essa fórmula com cautela pois, à primeira vista, pode parecer que aumentar o grau de ionização de um composto (e consequentemente diminuir seu valor de $logD$) será sempre beneficial. Contudo, compostos mais ionizados podem apresentar problemas de permeabilidade, por exemplo. Da mesma forma, incorporar a um ligante um grupo polar que fica exposto ao solvente pode aumentar o valor de $LipE$ mesmo que a potência permana inalterada, ainda que nenhuma nova interação proteína-ligante tenha sido introduzida.\n",
    "\n",
    "Não há como calcular $logD$ diretamente com o RDKit, portanto, a versão em Python da fórmula não será apresentada.\n",
    "\n",
    "Diferente da $LE$, a $LipE$ [tem sido considerada](https://doi.org/10.1016/j.bmcl.2013.08.030) uma métrica mais robusta, além de ser mais consistente ao compararmos diferentes séries de análogos. \n",
    "\n",
    "Podemos interpretar o valor de $LipE$ lembrando que dois fatores estão envolvidos na energia livre de ligação de um composto químico e seu alvo molecular: um fator **entálpico**, derivado de interações favoráveis entre grupos funcionais da molécula e o alvo, e um fator **entrópico**, devido à liberação de moléculas de água de sítios hidrofóbicos (além de um fator conformacional, devido à perda de graus de liberdade). \n",
    "\n",
    "Aumentar o $logP$ de uma molécula sem gerar interações favoráveis pode aumentar a potência por contribuir para a entropia de ligação, porém, sabemos que compostos *best-in-class* tendem a apresentar a entalpia de ligação como fator dominante para a potência. Dessa forma, uma medida da contribuição para a entalpia de ligação seria uma boa métrica de qualidade para compostos químicos.\n",
    "\n",
    "Em [um estudo](https://doi.org/10.1021/ci100125a) feito com 59 trabalhos da literatura, foi encontrado que, em 85% dos casos, os valores de $LipE$ correlacionam positivamente com o valor de entalpia de ligação entre o ligante e o alvo, ou seja, o valor de $LipE$ reflete, na maioria dos casos, o quanto da atividade é resultante das interações favoráveis. Em outras palavras, para um par molecular, ${\\Delta}LipE$ é proporcional a ${\\Delta}{\\Delta}H$ de ligação. Note, porém, que em 14% dos exemplos estudados, a correlação foi negativa. Assim, apesar da métrica $LipE$ estar entre as que possuem maior robustez e amparo teórico, ela não se aplica a todas as combinações ligante-alvo estudadas.\n"
   ]
  },
  {
   "cell_type": "markdown",
   "id": "bdfa136d-cdd4-409f-94f4-eba599b3911d",
   "metadata": {},
   "source": [
    "**$LLE_{AT}$** é uma métrica que combina $LE$ e $LipE$ muito usada no desenvolvimento de fármacos baseado em fragmentos (FBDD). O fator 0,11 é somado para que o valor final fique aproximadamente na mesma escala dos valores usuais de $LE$:\n",
    "\n",
    "$$ LLE_{AT} = {{{LLE} \\over {\\#HeavyAtoms \\times 0.74}} + 0.11} $$"
   ]
  },
  {
   "cell_type": "code",
   "execution_count": 7,
   "id": "bd8ae811-36e3-441c-8458-e5955224342a",
   "metadata": {},
   "outputs": [],
   "source": [
    "def lle_at(smi, p_activity):\n",
    "    \"\"\"\n",
    "    Input: Estrutura molecular (SMILES) e atividade no formato pX (pKi, pIC50...)\n",
    "    \"\"\"\n",
    "    n_heavy_atoms = Lipinski.HeavyAtomCount(Chem.MolFromSmiles(smi))\n",
    "    return 0.11 + lle(smi, p_activity)/(n_heavy_atoms*0.74)"
   ]
  },
  {
   "cell_type": "markdown",
   "id": "00cf41fb-f49e-4813-9dcc-5c3065a4d1b9",
   "metadata": {},
   "source": [
    "*Lipophilicity-Corrected Ligand Efficiency* (**$LELP$**) é a razão entre $logP$ e $LE$. Valores maiores que 8 são considerados desejáveis para compostos otimizados:\n",
    "\n",
    "$$ LELP = {{clogP} \\over {LE}} $$"
   ]
  },
  {
   "cell_type": "code",
   "execution_count": 8,
   "id": "50a9f176-7f4b-4027-acaf-2bb5dde347dc",
   "metadata": {},
   "outputs": [],
   "source": [
    "def lelp(smi, p_activity):\n",
    "    \"\"\"\n",
    "    Input: Estrutura molecular (SMILES) e atividade no formato pX (pKi, pIC50...)\n",
    "    \"\"\"\n",
    "    clogP = Descriptors.MolLogP(Chem.MolFromSmiles(smi))\n",
    "    return clogP/ligand_efficiency(smi, p_activity)"
   ]
  },
  {
   "cell_type": "markdown",
   "id": "d507976b-8f31-4ec7-b7b3-b1def0b2af6f",
   "metadata": {},
   "source": [
    "# Críticas\n",
    "\n",
    "As fórmulas apresentadas são extremamente convenientes e amplamente utilizadas em trabalhos de química medicinal. Por outro lado, suas limitações também têm sido demonstradas em diversos trabalhos. \n",
    "\n",
    "A eficiência do ligante, por exemplo, não tem validade física, pois seu valor muda quando mudamos a concentração de referência para o cálculo de IC<sub>50</sub>. Isso significa que o uso desse valor traz problemas quando comparamos séries de compostos com tamanhos moleculares (número de átomos pesados) significativamente diferentes entre si.\n",
    "\n",
    "Da mesma forma, métricas como a $LipE$ apresentam fórmulas arbitrárias que não necessariamente fornecem as melhores correlações com a entalpia de ligação."
   ]
  },
  {
   "cell_type": "markdown",
   "id": "2351bbb8-54b2-42b4-bb64-698e492b6f72",
   "metadata": {},
   "source": [
    "# Método gráfico para séries de análogos\n",
    "\n",
    "Uma alternativa ao uso dessas métricas gerais consiste em fazer um **gráfico de atividade x $logP$** (ou atividade x MW) para a sua série de compostos e verificar quais compostos \"vencem a tendência\" (*beat the trend*). Esse método foca nas **correlações locais** em vez de buscar encontrar correlações globais para diferentes séries de compostos.\n",
    "\n",
    "O procedimento é o seguinte: verificamos a correlação entre a atividade e o tamanho molecular na série e, constatando-se a tendência, devemos identificar quais compostos são *outliers*, ficando acima da linha de correlação (ou seja, quais compostos apresentam **atividade maior que a esperada** quando consideramos apenas o tamanho molecular). \n",
    "\n",
    "Também foi sugerido (ainda que isso não tenha sido verificado experimentalmente) que, para um mesmo alvo, séries com inclinações maiores nesse gráfico seriam mais interessantes, pois representariam séries em que um mesmo aumento no tamanho molecular leva a um maior aumento na atividade.\n",
    "\n",
    "Vejamos um exemplo com compostos extraídos do artigo [Synthesis and structure-activity relationship study of potent trypanocidal thio semicarbazone inhibitors of the trypanosomal cysteine protease cruzain](https://www.ebi.ac.uk/chembl/document_report_card/CHEMBL1135476/), disponíveis no ChEMBL. Foram selecionados apenas os compostos que apresentam valores de IC<sub>50</sub>."
   ]
  },
  {
   "cell_type": "code",
   "execution_count": 9,
   "id": "785cbbb3-213c-479e-bd01-312913a5d71f",
   "metadata": {
    "tags": []
   },
   "outputs": [],
   "source": [
    "import matplotlib.pyplot as plt\n",
    "import numpy as np\n",
    "import pandas as pd\n",
    "from rdkit.Chem import Draw\n",
    "from sklearn.linear_model import LinearRegression"
   ]
  },
  {
   "cell_type": "code",
   "execution_count": 12,
   "id": "2b43465c-99a5-46f2-8dea-233cbce87e21",
   "metadata": {},
   "outputs": [
    {
     "name": "stdout",
     "output_type": "stream",
     "text": [
      "C:\\Users\\rafae\\pycharm_projects\\Python_e_Quiminform tica\\qinfo\n"
     ]
    }
   ],
   "source": [
    "!cd"
   ]
  },
  {
   "cell_type": "code",
   "execution_count": 10,
   "id": "a00c41c9-d7d7-4176-b85d-ac0261e32349",
   "metadata": {},
   "outputs": [
    {
     "ename": "FileNotFoundError",
     "evalue": "[Errno 2] No such file or directory: '../qsar_example.csv'",
     "output_type": "error",
     "traceback": [
      "\u001b[1;31m---------------------------------------------------------------------------\u001b[0m",
      "\u001b[1;31mFileNotFoundError\u001b[0m                         Traceback (most recent call last)",
      "Input \u001b[1;32mIn [10]\u001b[0m, in \u001b[0;36m<cell line: 1>\u001b[1;34m()\u001b[0m\n\u001b[1;32m----> 1\u001b[0m df \u001b[38;5;241m=\u001b[39m \u001b[43mpd\u001b[49m\u001b[38;5;241;43m.\u001b[39;49m\u001b[43mread_csv\u001b[49m\u001b[43m(\u001b[49m\u001b[38;5;124;43m\"\u001b[39;49m\u001b[38;5;124;43m../qsar_example.csv\u001b[39;49m\u001b[38;5;124;43m\"\u001b[39;49m\u001b[43m,\u001b[49m\u001b[43m \u001b[49m\u001b[43msep\u001b[49m\u001b[38;5;241;43m=\u001b[39;49m\u001b[38;5;124;43m\"\u001b[39;49m\u001b[38;5;124;43m;\u001b[39;49m\u001b[38;5;124;43m\"\u001b[39;49m\u001b[43m)\u001b[49m\n",
      "File \u001b[1;32m~\\miniconda3\\envs\\my-rdkit-env\\lib\\site-packages\\pandas\\util\\_decorators.py:311\u001b[0m, in \u001b[0;36mdeprecate_nonkeyword_arguments.<locals>.decorate.<locals>.wrapper\u001b[1;34m(*args, **kwargs)\u001b[0m\n\u001b[0;32m    305\u001b[0m \u001b[38;5;28;01mif\u001b[39;00m \u001b[38;5;28mlen\u001b[39m(args) \u001b[38;5;241m>\u001b[39m num_allow_args:\n\u001b[0;32m    306\u001b[0m     warnings\u001b[38;5;241m.\u001b[39mwarn(\n\u001b[0;32m    307\u001b[0m         msg\u001b[38;5;241m.\u001b[39mformat(arguments\u001b[38;5;241m=\u001b[39marguments),\n\u001b[0;32m    308\u001b[0m         \u001b[38;5;167;01mFutureWarning\u001b[39;00m,\n\u001b[0;32m    309\u001b[0m         stacklevel\u001b[38;5;241m=\u001b[39mstacklevel,\n\u001b[0;32m    310\u001b[0m     )\n\u001b[1;32m--> 311\u001b[0m \u001b[38;5;28;01mreturn\u001b[39;00m func(\u001b[38;5;241m*\u001b[39margs, \u001b[38;5;241m*\u001b[39m\u001b[38;5;241m*\u001b[39mkwargs)\n",
      "File \u001b[1;32m~\\miniconda3\\envs\\my-rdkit-env\\lib\\site-packages\\pandas\\io\\parsers\\readers.py:680\u001b[0m, in \u001b[0;36mread_csv\u001b[1;34m(filepath_or_buffer, sep, delimiter, header, names, index_col, usecols, squeeze, prefix, mangle_dupe_cols, dtype, engine, converters, true_values, false_values, skipinitialspace, skiprows, skipfooter, nrows, na_values, keep_default_na, na_filter, verbose, skip_blank_lines, parse_dates, infer_datetime_format, keep_date_col, date_parser, dayfirst, cache_dates, iterator, chunksize, compression, thousands, decimal, lineterminator, quotechar, quoting, doublequote, escapechar, comment, encoding, encoding_errors, dialect, error_bad_lines, warn_bad_lines, on_bad_lines, delim_whitespace, low_memory, memory_map, float_precision, storage_options)\u001b[0m\n\u001b[0;32m    665\u001b[0m kwds_defaults \u001b[38;5;241m=\u001b[39m _refine_defaults_read(\n\u001b[0;32m    666\u001b[0m     dialect,\n\u001b[0;32m    667\u001b[0m     delimiter,\n\u001b[1;32m   (...)\u001b[0m\n\u001b[0;32m    676\u001b[0m     defaults\u001b[38;5;241m=\u001b[39m{\u001b[38;5;124m\"\u001b[39m\u001b[38;5;124mdelimiter\u001b[39m\u001b[38;5;124m\"\u001b[39m: \u001b[38;5;124m\"\u001b[39m\u001b[38;5;124m,\u001b[39m\u001b[38;5;124m\"\u001b[39m},\n\u001b[0;32m    677\u001b[0m )\n\u001b[0;32m    678\u001b[0m kwds\u001b[38;5;241m.\u001b[39mupdate(kwds_defaults)\n\u001b[1;32m--> 680\u001b[0m \u001b[38;5;28;01mreturn\u001b[39;00m \u001b[43m_read\u001b[49m\u001b[43m(\u001b[49m\u001b[43mfilepath_or_buffer\u001b[49m\u001b[43m,\u001b[49m\u001b[43m \u001b[49m\u001b[43mkwds\u001b[49m\u001b[43m)\u001b[49m\n",
      "File \u001b[1;32m~\\miniconda3\\envs\\my-rdkit-env\\lib\\site-packages\\pandas\\io\\parsers\\readers.py:575\u001b[0m, in \u001b[0;36m_read\u001b[1;34m(filepath_or_buffer, kwds)\u001b[0m\n\u001b[0;32m    572\u001b[0m _validate_names(kwds\u001b[38;5;241m.\u001b[39mget(\u001b[38;5;124m\"\u001b[39m\u001b[38;5;124mnames\u001b[39m\u001b[38;5;124m\"\u001b[39m, \u001b[38;5;28;01mNone\u001b[39;00m))\n\u001b[0;32m    574\u001b[0m \u001b[38;5;66;03m# Create the parser.\u001b[39;00m\n\u001b[1;32m--> 575\u001b[0m parser \u001b[38;5;241m=\u001b[39m TextFileReader(filepath_or_buffer, \u001b[38;5;241m*\u001b[39m\u001b[38;5;241m*\u001b[39mkwds)\n\u001b[0;32m    577\u001b[0m \u001b[38;5;28;01mif\u001b[39;00m chunksize \u001b[38;5;129;01mor\u001b[39;00m iterator:\n\u001b[0;32m    578\u001b[0m     \u001b[38;5;28;01mreturn\u001b[39;00m parser\n",
      "File \u001b[1;32m~\\miniconda3\\envs\\my-rdkit-env\\lib\\site-packages\\pandas\\io\\parsers\\readers.py:933\u001b[0m, in \u001b[0;36mTextFileReader.__init__\u001b[1;34m(self, f, engine, **kwds)\u001b[0m\n\u001b[0;32m    930\u001b[0m     \u001b[38;5;28mself\u001b[39m\u001b[38;5;241m.\u001b[39moptions[\u001b[38;5;124m\"\u001b[39m\u001b[38;5;124mhas_index_names\u001b[39m\u001b[38;5;124m\"\u001b[39m] \u001b[38;5;241m=\u001b[39m kwds[\u001b[38;5;124m\"\u001b[39m\u001b[38;5;124mhas_index_names\u001b[39m\u001b[38;5;124m\"\u001b[39m]\n\u001b[0;32m    932\u001b[0m \u001b[38;5;28mself\u001b[39m\u001b[38;5;241m.\u001b[39mhandles: IOHandles \u001b[38;5;241m|\u001b[39m \u001b[38;5;28;01mNone\u001b[39;00m \u001b[38;5;241m=\u001b[39m \u001b[38;5;28;01mNone\u001b[39;00m\n\u001b[1;32m--> 933\u001b[0m \u001b[38;5;28mself\u001b[39m\u001b[38;5;241m.\u001b[39m_engine \u001b[38;5;241m=\u001b[39m \u001b[38;5;28;43mself\u001b[39;49m\u001b[38;5;241;43m.\u001b[39;49m\u001b[43m_make_engine\u001b[49m\u001b[43m(\u001b[49m\u001b[43mf\u001b[49m\u001b[43m,\u001b[49m\u001b[43m \u001b[49m\u001b[38;5;28;43mself\u001b[39;49m\u001b[38;5;241;43m.\u001b[39;49m\u001b[43mengine\u001b[49m\u001b[43m)\u001b[49m\n",
      "File \u001b[1;32m~\\miniconda3\\envs\\my-rdkit-env\\lib\\site-packages\\pandas\\io\\parsers\\readers.py:1217\u001b[0m, in \u001b[0;36mTextFileReader._make_engine\u001b[1;34m(self, f, engine)\u001b[0m\n\u001b[0;32m   1213\u001b[0m     mode \u001b[38;5;241m=\u001b[39m \u001b[38;5;124m\"\u001b[39m\u001b[38;5;124mrb\u001b[39m\u001b[38;5;124m\"\u001b[39m\n\u001b[0;32m   1214\u001b[0m \u001b[38;5;66;03m# error: No overload variant of \"get_handle\" matches argument types\u001b[39;00m\n\u001b[0;32m   1215\u001b[0m \u001b[38;5;66;03m# \"Union[str, PathLike[str], ReadCsvBuffer[bytes], ReadCsvBuffer[str]]\"\u001b[39;00m\n\u001b[0;32m   1216\u001b[0m \u001b[38;5;66;03m# , \"str\", \"bool\", \"Any\", \"Any\", \"Any\", \"Any\", \"Any\"\u001b[39;00m\n\u001b[1;32m-> 1217\u001b[0m \u001b[38;5;28mself\u001b[39m\u001b[38;5;241m.\u001b[39mhandles \u001b[38;5;241m=\u001b[39m \u001b[43mget_handle\u001b[49m\u001b[43m(\u001b[49m\u001b[43m  \u001b[49m\u001b[38;5;66;43;03m# type: ignore[call-overload]\u001b[39;49;00m\n\u001b[0;32m   1218\u001b[0m \u001b[43m    \u001b[49m\u001b[43mf\u001b[49m\u001b[43m,\u001b[49m\n\u001b[0;32m   1219\u001b[0m \u001b[43m    \u001b[49m\u001b[43mmode\u001b[49m\u001b[43m,\u001b[49m\n\u001b[0;32m   1220\u001b[0m \u001b[43m    \u001b[49m\u001b[43mencoding\u001b[49m\u001b[38;5;241;43m=\u001b[39;49m\u001b[38;5;28;43mself\u001b[39;49m\u001b[38;5;241;43m.\u001b[39;49m\u001b[43moptions\u001b[49m\u001b[38;5;241;43m.\u001b[39;49m\u001b[43mget\u001b[49m\u001b[43m(\u001b[49m\u001b[38;5;124;43m\"\u001b[39;49m\u001b[38;5;124;43mencoding\u001b[39;49m\u001b[38;5;124;43m\"\u001b[39;49m\u001b[43m,\u001b[49m\u001b[43m \u001b[49m\u001b[38;5;28;43;01mNone\u001b[39;49;00m\u001b[43m)\u001b[49m\u001b[43m,\u001b[49m\n\u001b[0;32m   1221\u001b[0m \u001b[43m    \u001b[49m\u001b[43mcompression\u001b[49m\u001b[38;5;241;43m=\u001b[39;49m\u001b[38;5;28;43mself\u001b[39;49m\u001b[38;5;241;43m.\u001b[39;49m\u001b[43moptions\u001b[49m\u001b[38;5;241;43m.\u001b[39;49m\u001b[43mget\u001b[49m\u001b[43m(\u001b[49m\u001b[38;5;124;43m\"\u001b[39;49m\u001b[38;5;124;43mcompression\u001b[39;49m\u001b[38;5;124;43m\"\u001b[39;49m\u001b[43m,\u001b[49m\u001b[43m \u001b[49m\u001b[38;5;28;43;01mNone\u001b[39;49;00m\u001b[43m)\u001b[49m\u001b[43m,\u001b[49m\n\u001b[0;32m   1222\u001b[0m \u001b[43m    \u001b[49m\u001b[43mmemory_map\u001b[49m\u001b[38;5;241;43m=\u001b[39;49m\u001b[38;5;28;43mself\u001b[39;49m\u001b[38;5;241;43m.\u001b[39;49m\u001b[43moptions\u001b[49m\u001b[38;5;241;43m.\u001b[39;49m\u001b[43mget\u001b[49m\u001b[43m(\u001b[49m\u001b[38;5;124;43m\"\u001b[39;49m\u001b[38;5;124;43mmemory_map\u001b[39;49m\u001b[38;5;124;43m\"\u001b[39;49m\u001b[43m,\u001b[49m\u001b[43m \u001b[49m\u001b[38;5;28;43;01mFalse\u001b[39;49;00m\u001b[43m)\u001b[49m\u001b[43m,\u001b[49m\n\u001b[0;32m   1223\u001b[0m \u001b[43m    \u001b[49m\u001b[43mis_text\u001b[49m\u001b[38;5;241;43m=\u001b[39;49m\u001b[43mis_text\u001b[49m\u001b[43m,\u001b[49m\n\u001b[0;32m   1224\u001b[0m \u001b[43m    \u001b[49m\u001b[43merrors\u001b[49m\u001b[38;5;241;43m=\u001b[39;49m\u001b[38;5;28;43mself\u001b[39;49m\u001b[38;5;241;43m.\u001b[39;49m\u001b[43moptions\u001b[49m\u001b[38;5;241;43m.\u001b[39;49m\u001b[43mget\u001b[49m\u001b[43m(\u001b[49m\u001b[38;5;124;43m\"\u001b[39;49m\u001b[38;5;124;43mencoding_errors\u001b[39;49m\u001b[38;5;124;43m\"\u001b[39;49m\u001b[43m,\u001b[49m\u001b[43m \u001b[49m\u001b[38;5;124;43m\"\u001b[39;49m\u001b[38;5;124;43mstrict\u001b[39;49m\u001b[38;5;124;43m\"\u001b[39;49m\u001b[43m)\u001b[49m\u001b[43m,\u001b[49m\n\u001b[0;32m   1225\u001b[0m \u001b[43m    \u001b[49m\u001b[43mstorage_options\u001b[49m\u001b[38;5;241;43m=\u001b[39;49m\u001b[38;5;28;43mself\u001b[39;49m\u001b[38;5;241;43m.\u001b[39;49m\u001b[43moptions\u001b[49m\u001b[38;5;241;43m.\u001b[39;49m\u001b[43mget\u001b[49m\u001b[43m(\u001b[49m\u001b[38;5;124;43m\"\u001b[39;49m\u001b[38;5;124;43mstorage_options\u001b[39;49m\u001b[38;5;124;43m\"\u001b[39;49m\u001b[43m,\u001b[49m\u001b[43m \u001b[49m\u001b[38;5;28;43;01mNone\u001b[39;49;00m\u001b[43m)\u001b[49m\u001b[43m,\u001b[49m\n\u001b[0;32m   1226\u001b[0m \u001b[43m\u001b[49m\u001b[43m)\u001b[49m\n\u001b[0;32m   1227\u001b[0m \u001b[38;5;28;01massert\u001b[39;00m \u001b[38;5;28mself\u001b[39m\u001b[38;5;241m.\u001b[39mhandles \u001b[38;5;129;01mis\u001b[39;00m \u001b[38;5;129;01mnot\u001b[39;00m \u001b[38;5;28;01mNone\u001b[39;00m\n\u001b[0;32m   1228\u001b[0m f \u001b[38;5;241m=\u001b[39m \u001b[38;5;28mself\u001b[39m\u001b[38;5;241m.\u001b[39mhandles\u001b[38;5;241m.\u001b[39mhandle\n",
      "File \u001b[1;32m~\\miniconda3\\envs\\my-rdkit-env\\lib\\site-packages\\pandas\\io\\common.py:789\u001b[0m, in \u001b[0;36mget_handle\u001b[1;34m(path_or_buf, mode, encoding, compression, memory_map, is_text, errors, storage_options)\u001b[0m\n\u001b[0;32m    784\u001b[0m \u001b[38;5;28;01melif\u001b[39;00m \u001b[38;5;28misinstance\u001b[39m(handle, \u001b[38;5;28mstr\u001b[39m):\n\u001b[0;32m    785\u001b[0m     \u001b[38;5;66;03m# Check whether the filename is to be opened in binary mode.\u001b[39;00m\n\u001b[0;32m    786\u001b[0m     \u001b[38;5;66;03m# Binary mode does not support 'encoding' and 'newline'.\u001b[39;00m\n\u001b[0;32m    787\u001b[0m     \u001b[38;5;28;01mif\u001b[39;00m ioargs\u001b[38;5;241m.\u001b[39mencoding \u001b[38;5;129;01mand\u001b[39;00m \u001b[38;5;124m\"\u001b[39m\u001b[38;5;124mb\u001b[39m\u001b[38;5;124m\"\u001b[39m \u001b[38;5;129;01mnot\u001b[39;00m \u001b[38;5;129;01min\u001b[39;00m ioargs\u001b[38;5;241m.\u001b[39mmode:\n\u001b[0;32m    788\u001b[0m         \u001b[38;5;66;03m# Encoding\u001b[39;00m\n\u001b[1;32m--> 789\u001b[0m         handle \u001b[38;5;241m=\u001b[39m \u001b[38;5;28;43mopen\u001b[39;49m\u001b[43m(\u001b[49m\n\u001b[0;32m    790\u001b[0m \u001b[43m            \u001b[49m\u001b[43mhandle\u001b[49m\u001b[43m,\u001b[49m\n\u001b[0;32m    791\u001b[0m \u001b[43m            \u001b[49m\u001b[43mioargs\u001b[49m\u001b[38;5;241;43m.\u001b[39;49m\u001b[43mmode\u001b[49m\u001b[43m,\u001b[49m\n\u001b[0;32m    792\u001b[0m \u001b[43m            \u001b[49m\u001b[43mencoding\u001b[49m\u001b[38;5;241;43m=\u001b[39;49m\u001b[43mioargs\u001b[49m\u001b[38;5;241;43m.\u001b[39;49m\u001b[43mencoding\u001b[49m\u001b[43m,\u001b[49m\n\u001b[0;32m    793\u001b[0m \u001b[43m            \u001b[49m\u001b[43merrors\u001b[49m\u001b[38;5;241;43m=\u001b[39;49m\u001b[43merrors\u001b[49m\u001b[43m,\u001b[49m\n\u001b[0;32m    794\u001b[0m \u001b[43m            \u001b[49m\u001b[43mnewline\u001b[49m\u001b[38;5;241;43m=\u001b[39;49m\u001b[38;5;124;43m\"\u001b[39;49m\u001b[38;5;124;43m\"\u001b[39;49m\u001b[43m,\u001b[49m\n\u001b[0;32m    795\u001b[0m \u001b[43m        \u001b[49m\u001b[43m)\u001b[49m\n\u001b[0;32m    796\u001b[0m     \u001b[38;5;28;01melse\u001b[39;00m:\n\u001b[0;32m    797\u001b[0m         \u001b[38;5;66;03m# Binary mode\u001b[39;00m\n\u001b[0;32m    798\u001b[0m         handle \u001b[38;5;241m=\u001b[39m \u001b[38;5;28mopen\u001b[39m(handle, ioargs\u001b[38;5;241m.\u001b[39mmode)\n",
      "\u001b[1;31mFileNotFoundError\u001b[0m: [Errno 2] No such file or directory: '../qsar_example.csv'"
     ]
    }
   ],
   "source": [
    "df = pd.read_csv(\"../qsar_example.csv\", sep=\";\")"
   ]
  },
  {
   "cell_type": "code",
   "execution_count": null,
   "id": "2b4448c6-cc0b-48ef-b6c8-a75290807b5f",
   "metadata": {},
   "outputs": [],
   "source": [
    "# Selecionar os valores de pChEMBL Value, que são calculados a partir dos valores de IC50\n",
    "df = df[df[\"pChEMBL Value\"].notna()].copy()\n",
    "df.shape"
   ]
  },
  {
   "cell_type": "code",
   "execution_count": null,
   "id": "75024c78-5a99-41e4-8638-63cbbd6d9baa",
   "metadata": {},
   "outputs": [],
   "source": [
    "df[\"rdkit_mol\"] = df[\"Smiles\"].apply(Chem.MolFromSmiles)"
   ]
  },
  {
   "cell_type": "code",
   "execution_count": null,
   "id": "da11aa0b-9621-4d75-974c-7e48baed51a6",
   "metadata": {},
   "outputs": [],
   "source": [
    "Draw.MolsToGridImage(df[\"rdkit_mol\"], molsPerRow=5, subImgSize=(300, 150))"
   ]
  },
  {
   "cell_type": "markdown",
   "id": "8a08d7ed-a0e9-4ef9-b2e9-5f5daf06ba7b",
   "metadata": {},
   "source": [
    "Todos os compostos da série contêm o grupo tiossemicarbazona.\n",
    "\n",
    "Vamos calcular os valores de logP e identificar a tendência:"
   ]
  },
  {
   "cell_type": "code",
   "execution_count": null,
   "id": "ecf001d4-1961-4e4a-9936-cf7b9e0a94e2",
   "metadata": {},
   "outputs": [],
   "source": [
    "df[\"clogP\"] = df[\"rdkit_mol\"].apply(Descriptors.MolLogP)"
   ]
  },
  {
   "cell_type": "code",
   "execution_count": null,
   "id": "6a613ca4-627c-493b-bb58-4747732d6c9d",
   "metadata": {},
   "outputs": [],
   "source": [
    "# Gráfico de dispersão\n",
    "plt.scatter(df[\"clogP\"], df[\"pChEMBL Value\"])\n",
    "plt.xlabel(\"clogP\", fontsize=14)\n",
    "plt.ylabel(\"pActivity\", fontsize=14)\n",
    "plt.show()"
   ]
  },
  {
   "cell_type": "markdown",
   "id": "83e404a5-3d6f-4e40-bd4f-ed75b34ef8ef",
   "metadata": {},
   "source": [
    "Veja que no lado direito da figura há quatro compostos que são *outliers*, porém, eles estão **abaixo** da linha de tendência dos outros compostos, o que significa que sua atividade está abaixo da esperada quando consideramos seus tamanhos. \n",
    "\n",
    "De fato, veja como todos eles apresentam $logP$ maior que 4.0, mas a mesma atividade de outros compostos com valores de $logP$ menores que 3.0.\n",
    "\n",
    "Vamos identificar esses compostos \"pouco eficientes\":"
   ]
  },
  {
   "cell_type": "code",
   "execution_count": null,
   "id": "fbcaceb3-5672-4c5a-ad8e-35a8f78cda19",
   "metadata": {},
   "outputs": [],
   "source": [
    "Draw.MolsToGridImage(df[df[\"clogP\"] > 4.3][\"rdkit_mol\"], molsPerRow=4, subImgSize=(300, 150))"
   ]
  },
  {
   "cell_type": "markdown",
   "id": "112ec11e-11eb-400f-b41f-af3daf99c4e1",
   "metadata": {},
   "source": [
    "Vamos ver novamente a linha de tendência após remover esses compostos:"
   ]
  },
  {
   "cell_type": "code",
   "execution_count": null,
   "id": "4fb272e9-5987-47a3-b4ba-16c3fdc411cf",
   "metadata": {},
   "outputs": [],
   "source": [
    "df = df[df[\"clogP\"] < 4.3]"
   ]
  },
  {
   "cell_type": "code",
   "execution_count": null,
   "id": "8bd09fea-acca-476d-bc9d-365ea213bc04",
   "metadata": {},
   "outputs": [],
   "source": [
    "x = df[\"clogP\"]\n",
    "y = df[\"pChEMBL Value\"]\n",
    "\n",
    "# Ajustar uma regressão linear aos dados\n",
    "model = LinearRegression()\n",
    "model.fit(x.values.reshape(-1, 1), y.values.reshape(-1, 1))\n",
    "\n",
    "# Gráfico de dispersão com linha de regressão\n",
    "plt.plot(x, model.predict(x.values.reshape(-1, 1)), c='red')\n",
    "plt.plot(x, model.predict(x.values.reshape(-1, 1)) + 0.5, c='red', alpha=0.5)\n",
    "plt.plot(x, model.predict(x.values.reshape(-1, 1)) + 0.7, c='red', alpha=0.25)\n",
    "plt.plot(x, model.predict(x.values.reshape(-1, 1)) + 0.8, c='red', alpha=0.1)\n",
    "plt.scatter(x, y)\n",
    "plt.xlabel(\"clogP\", fontsize=14)\n",
    "plt.ylabel(\"pActivity\", fontsize=14)\n",
    "plt.show()"
   ]
  },
  {
   "cell_type": "markdown",
   "id": "8ace64ef-0623-4db0-86b7-371c7dfc404f",
   "metadata": {},
   "source": [
    "Além da linha de tendência (em vermelho) também desenhei linhas paralelas acima para facilitar a identificação dos compostos \"mais eficientes\", ou seja, compostos da série que apresentam atividade mais alta do que outros análogos com valor similar de $logP$. \n",
    "\n",
    "Essas linhas não são nada mais do que linhas correspondentes a diferentes valores de $LLE/LipE$. Veja, por exemplo, [este gráfico da Wikipedia](https://en.wikipedia.org/wiki/Lipophilic_efficiency#/media/File:LiPE_Plot.png).\n",
    "\n",
    "Podemos destacar, por exemplo, os compostos acima da linha +0,5. Vejamos quais são:"
   ]
  },
  {
   "cell_type": "code",
   "execution_count": null,
   "id": "dc19a1c2-c4be-4265-8a63-4995114da98b",
   "metadata": {},
   "outputs": [],
   "source": [
    "df_pred = model.predict(x.values.reshape(-1, 1))\n",
    "df[\"predição\"] = df_pred.reshape(-1)\n",
    "df[\"diferença\"] = df[\"pChEMBL Value\"] - df[\"predição\"]"
   ]
  },
  {
   "cell_type": "code",
   "execution_count": null,
   "id": "eaa0f857-9112-41d4-803a-45339555ac04",
   "metadata": {},
   "outputs": [],
   "source": [
    "df[df[\"pChEMBL Value\"] > df_pred.reshape(-1) + 0.5][[\"clogP\", \"pChEMBL Value\", \"predição\", \"diferença\"]]"
   ]
  },
  {
   "cell_type": "markdown",
   "id": "e2171961-572f-4f56-a291-5db71515fb6b",
   "metadata": {},
   "source": [
    "Particularmente, o composto de índice **17** chama a atenção, por ser muito \"eficiente\", ou seja, está mais longe da linha de tendência (maior diferença entre o valor predito e o valor medido de atividade). \n",
    "\n",
    "Isso nos sugere que talvez seja uma boa ideia selecionar o composto 17 como líder (*lead compound*), uma vez que teremos mais liberdade para adicionar grupos funcionais e melhorar sua atividade, sem nos preocuparmos com o aumento do $logP$.\n",
    "\n",
    "Contraste com o composto mais à direita do gráfico, que é também um dos mais potentes da série:"
   ]
  },
  {
   "cell_type": "code",
   "execution_count": null,
   "id": "a6c09345-1056-466d-8748-a53acdc227b3",
   "metadata": {},
   "outputs": [],
   "source": [
    "# Selecionando compostos com maior atividade - são dois\n",
    "df[df[\"pChEMBL Value\"] == df[\"pChEMBL Value\"].max()][[\"clogP\", \"pChEMBL Value\"]]"
   ]
  },
  {
   "cell_type": "markdown",
   "id": "8a14faf6-90b3-4860-8351-1f27aec7837a",
   "metadata": {},
   "source": [
    "O composto a que nos referimos é o de índice **26** ($clogP$ = 4.08). \n",
    "\n",
    "Note que se usássemos esse composto como ponto de partida para otimização, seria mais difícil acrescentar grupos funcionais sem criar análogos excessivamente lipofílicos."
   ]
  },
  {
   "cell_type": "code",
   "execution_count": null,
   "id": "4044eeb0-f6f8-4ef1-8a7a-08c9c3fb998b",
   "metadata": {},
   "outputs": [],
   "source": [
    "Draw.MolsToGridImage(df.iloc[[17,26]][\"rdkit_mol\"], molsPerRow=4, subImgSize=(300, 150), legends=['17','26'])"
   ]
  },
  {
   "cell_type": "markdown",
   "id": "97786dd7-c747-4411-858e-d2d5124534c7",
   "metadata": {},
   "source": [
    "Para fechar, vamos calcular algumas métricas de qualidade para os dois compostos, e verificar como elas classificam os compostos discutidos:"
   ]
  },
  {
   "cell_type": "code",
   "execution_count": null,
   "id": "e883f566-965b-4b22-8b76-024039953362",
   "metadata": {},
   "outputs": [],
   "source": [
    "df_metrics = pd.DataFrame(columns=['17','26'])\n",
    "df_metrics['17'] = [ligand_efficiency(df.iloc[17][\"Smiles\"], df.iloc[17][\"pChEMBL Value\"]),\n",
    "                    sile(df.iloc[17][\"Smiles\"], df.iloc[17][\"pChEMBL Value\"]),\n",
    "                    bei(df.iloc[17][\"Smiles\"], df.iloc[17][\"pChEMBL Value\"]),\n",
    "                    sei(df.iloc[17][\"Smiles\"], df.iloc[17][\"pChEMBL Value\"]),\n",
    "                    lipe(df.iloc[17][\"Smiles\"], df.iloc[17][\"pChEMBL Value\"]),\n",
    "                    lle_at(df.iloc[17][\"Smiles\"], df.iloc[17][\"pChEMBL Value\"]),\n",
    "                    lelp(df.iloc[17][\"Smiles\"], df.iloc[17][\"pChEMBL Value\"])]\n",
    "df_metrics['26'] = [ligand_efficiency(df.iloc[26][\"Smiles\"], df.iloc[26][\"pChEMBL Value\"]),\n",
    "                    sile(df.iloc[26][\"Smiles\"], df.iloc[26][\"pChEMBL Value\"]),\n",
    "                    bei(df.iloc[26][\"Smiles\"], df.iloc[26][\"pChEMBL Value\"]),\n",
    "                    sei(df.iloc[26][\"Smiles\"], df.iloc[26][\"pChEMBL Value\"]),\n",
    "                    lipe(df.iloc[26][\"Smiles\"], df.iloc[26][\"pChEMBL Value\"]),\n",
    "                    lle_at(df.iloc[26][\"Smiles\"], df.iloc[26][\"pChEMBL Value\"]),\n",
    "                    lelp(df.iloc[26][\"Smiles\"], df.iloc[26][\"pChEMBL Value\"])]\n",
    "df_metrics.index = [\"LE\", \"SILE\", \"BEI\", \"SEI\", \"LLE\", \"LLE_AT\", \"LELP\"]\n",
    "df_metrics"
   ]
  },
  {
   "cell_type": "markdown",
   "id": "b325358a-b8c3-46ad-9298-340b3ad48bf9",
   "metadata": {},
   "source": [
    "Nesse exemplo, as métricas apontam corretamente para o composto que identificamos como mais eficiente.\n",
    "\n",
    "Veja, porém, que o cálculo da eficiência do ligante não identifica o composto 17 como um dos mais promissores, pois leva em consideração somente o número de átomos, e não a lipofilia:"
   ]
  },
  {
   "cell_type": "code",
   "execution_count": null,
   "id": "7c8a293e-9c8e-490a-9a35-e3e43f848e5f",
   "metadata": {},
   "outputs": [],
   "source": [
    "df['LE'] = df.apply(lambda x: ligand_efficiency(x[\"Smiles\"], x[\"pChEMBL Value\"]), axis=1)\n",
    "df.sort_values(by=\"LE\", ascending=False).head(10)[[\"LE\", \"clogP\", \"pChEMBL Value\", \"predição\", \"diferença\"]]"
   ]
  },
  {
   "cell_type": "markdown",
   "id": "9110ba10-673e-4b66-912b-68169c3d1fb0",
   "metadata": {},
   "source": [
    "# Outras fontes consultadas\n",
    "\n",
    "[Artigo de revisão, em inglês](https://pubs.acs.org/doi/pdf/10.1021/acs.chemrestox.6b00043), que discute diversas métricas de qualidade e cita os trabalhos em que foram propostas.\n",
    "\n",
    "Também consultei um post no blog [Molecular Design](http://fbdd-lit.blogspot.com/2016/06/yet-more-on-ligand-efficiency-metrics.html), cujo autor publicou um artigo criticando o uso indiscriminado das métricas de qualidade: [Ligand efficiency metrics considered harmful](https://link.springer.com/article/10.1007/s10822-014-9757-8)\n",
    "\n",
    "Veja também o *Notebook* [Regra dos Cinco e filtros em química medicinal](https://github.com/rflameiro/Python_e_Quiminformatica/blob/main/Quiminformatica/Regra%20dos%20Cinco%20e%20filtros%20em%20qu%C3%ADmica%20medicinal.ipynb)"
   ]
  },
  {
   "cell_type": "code",
   "execution_count": null,
   "id": "64233e38-7514-48b3-8710-0c524e80b36f",
   "metadata": {},
   "outputs": [],
   "source": []
  }
 ],
 "metadata": {
  "kernelspec": {
   "display_name": "Python 3 (ipykernel)",
   "language": "python",
   "name": "python3"
  },
  "language_info": {
   "codemirror_mode": {
    "name": "ipython",
    "version": 3
   },
   "file_extension": ".py",
   "mimetype": "text/x-python",
   "name": "python",
   "nbconvert_exporter": "python",
   "pygments_lexer": "ipython3",
   "version": "3.10.4"
  }
 },
 "nbformat": 4,
 "nbformat_minor": 5
}
