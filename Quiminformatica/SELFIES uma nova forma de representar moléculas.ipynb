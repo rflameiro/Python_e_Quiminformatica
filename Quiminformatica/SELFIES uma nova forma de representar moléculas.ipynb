{
  "nbformat": 4,
  "nbformat_minor": 0,
  "metadata": {
    "colab": {
      "provenance": []
    },
    "kernelspec": {
      "name": "python3",
      "display_name": "Python 3"
    },
    "language_info": {
      "name": "python"
    }
  },
  "cells": [
    {
      "cell_type": "markdown",
      "source": [
        "# SELFIES\n",
        "\n",
        "SELFIES, sigla para *Self-Referencing Embedded Strings* são uma forma de representação molecular em forma de texto, assim como os SMILES.\n",
        "\n",
        "Esta nova forma de representação molecular, publicada como *preprint* pela primeira vez em 2019 é especialmente interessante para tarefas de geração de estruturas moleculares por modelos de *machine learning*, uma vez que se trata de uma linguagem **robusta**, ou seja, grafos moleculares gerados na forma de SELFIES são sempre sintaticamente e semanticamente válidos, diferentemente dos SMILES. Porém, os SELFIES não se limitam a essa tarefa, podendo também ser usados para a criação de modelos de predição de propriedades, muitas vezes sendo superiores a modelos treinados diretamente a partir de SMILES.\n",
        "\n",
        "Em 2021, os autores do trabalho original organizaram um *workshop* para discutir futuros avanços para a representação SELFIES. Da colaboração dos participantes do *workshop* resultou um artigo de revisão (do qual sou coautor!), publicado na revista Patterns, que pode ser encontrado aqui: https://www.sciencedirect.com/science/article/pii/S2666389922002069\n",
        "\n",
        "Vamos ver abaixo como usar o pacote `selfies` para integrar essa nova forma de representação molecular em seus trabalhos.\n",
        "\n",
        "**Mais referências (em inglês)**\n",
        "- [Artigo original](https://iopscience.iop.org/article/10.1088/2632-2153/aba947)\n",
        "- [Página do GitHub](https://github.com/aspuru-guzik-group/selfies)\n",
        "- [Documentação do pacote `selfies`](https://selfiesv2.readthedocs.io/en/latest/)"
      ],
      "metadata": {
        "id": "bLaTOeeG7Ha4"
      }
    },
    {
      "cell_type": "markdown",
      "source": [
        "## Instalação\n",
        "\n",
        "Como estou usando um Notebook no Google Colab, começamos instalando o módulo `selfies` usando `pip`:"
      ],
      "metadata": {
        "id": "TVYdt90NAAEQ"
      }
    },
    {
      "cell_type": "code",
      "metadata": {
        "colab": {
          "base_uri": "https://localhost:8080/"
        },
        "id": "fHpRMAIysTaO",
        "outputId": "5de5d1c1-c5d7-41fe-8a50-525b4b1689de"
      },
      "source": [
        "!pip install selfies"
      ],
      "execution_count": 1,
      "outputs": [
        {
          "output_type": "stream",
          "name": "stdout",
          "text": [
            "Looking in indexes: https://pypi.org/simple, https://us-python.pkg.dev/colab-wheels/public/simple/\n",
            "Collecting selfies\n",
            "  Downloading selfies-2.1.1-py3-none-any.whl (35 kB)\n",
            "Installing collected packages: selfies\n",
            "Successfully installed selfies-2.1.1\n"
          ]
        }
      ]
    },
    {
      "cell_type": "code",
      "source": [
        "# Verificando a versão\n",
        "!pip show selfies"
      ],
      "metadata": {
        "colab": {
          "base_uri": "https://localhost:8080/"
        },
        "id": "-lLocluKSayZ",
        "outputId": "afbce000-9abb-4564-c352-bb67bd3abdd6"
      },
      "execution_count": 2,
      "outputs": [
        {
          "output_type": "stream",
          "name": "stdout",
          "text": [
            "Name: selfies\n",
            "Version: 2.1.1\n",
            "Summary: SELFIES (SELF-referencIng Embedded Strings) is a general-purpose, sequence-based, robust representation of semantically constrained graphs.\n",
            "Home-page: https://github.com/aspuru-guzik-group/selfies\n",
            "Author: Mario Krenn, Alston Lo, and many other contributors\n",
            "Author-email: mario.krenn@utoronto.ca, alan@aspuru.com\n",
            "License: UNKNOWN\n",
            "Location: /usr/local/lib/python3.10/dist-packages\n",
            "Requires: \n",
            "Required-by: \n"
          ]
        }
      ]
    },
    {
      "cell_type": "code",
      "metadata": {
        "id": "U79RzHc8sXrl"
      },
      "source": [
        "import selfies as sf"
      ],
      "execution_count": 3,
      "outputs": []
    },
    {
      "cell_type": "markdown",
      "source": [
        "## Alguns exemplos de uso"
      ],
      "metadata": {
        "id": "R3Ud7tAhSfqV"
      }
    },
    {
      "cell_type": "code",
      "metadata": {
        "id": "Osfi3EE6sfqf"
      },
      "source": [
        "# SMILES correspondente ao benzeno \n",
        "benzene = 'c1ccccc1'"
      ],
      "execution_count": 4,
      "outputs": []
    },
    {
      "cell_type": "code",
      "metadata": {
        "id": "LsDlUa3Isjwm"
      },
      "source": [
        "encoded_selfies = sf.encoder(benzene)"
      ],
      "execution_count": 5,
      "outputs": []
    },
    {
      "cell_type": "code",
      "metadata": {
        "id": "YlowIt_Yssdf",
        "colab": {
          "base_uri": "https://localhost:8080/",
          "height": 37
        },
        "outputId": "e3fa92ef-1448-41be-da8a-48cef2f4928c"
      },
      "source": [
        "encoded_selfies"
      ],
      "execution_count": 6,
      "outputs": [
        {
          "output_type": "execute_result",
          "data": {
            "text/plain": [
              "'[C][=C][C][=C][C][=C][Ring1][=Branch1]'"
            ],
            "application/vnd.google.colaboratory.intrinsic+json": {
              "type": "string"
            }
          },
          "metadata": {},
          "execution_count": 6
        }
      ]
    },
    {
      "cell_type": "code",
      "metadata": {
        "id": "YDAcg8KHsoLY"
      },
      "source": [
        "decoded_smiles = sf.decoder(encoded_selfies)"
      ],
      "execution_count": 7,
      "outputs": []
    },
    {
      "cell_type": "code",
      "metadata": {
        "id": "4Dvv9hyvst_R",
        "colab": {
          "base_uri": "https://localhost:8080/",
          "height": 37
        },
        "outputId": "ffbee611-9b07-4a43-e065-5d299bd30820"
      },
      "source": [
        "decoded_smiles"
      ],
      "execution_count": 8,
      "outputs": [
        {
          "output_type": "execute_result",
          "data": {
            "text/plain": [
              "'C1=CC=CC=C1'"
            ],
            "application/vnd.google.colaboratory.intrinsic+json": {
              "type": "string"
            }
          },
          "metadata": {},
          "execution_count": 8
        }
      ]
    },
    {
      "cell_type": "markdown",
      "source": [
        "Note que o SMILES obtido é diferente do fornecido originalmente, porém ambos representam a mesma estrutura."
      ],
      "metadata": {
        "id": "06L1leM7R0k9"
      }
    },
    {
      "cell_type": "code",
      "source": [
        "# a molécula de benzeno é composta por oito símbolos, como uma palavra escrita com oito letras\n",
        "sf.len_selfies(encoded_selfies)"
      ],
      "metadata": {
        "colab": {
          "base_uri": "https://localhost:8080/"
        },
        "id": "6OE5tvoIGOYl",
        "outputId": "23c15116-600e-4c07-ba73-902af99ee0c1"
      },
      "execution_count": 9,
      "outputs": [
        {
          "output_type": "execute_result",
          "data": {
            "text/plain": [
              "8"
            ]
          },
          "metadata": {},
          "execution_count": 9
        }
      ]
    },
    {
      "cell_type": "code",
      "source": [
        "# Vamos ver quais são essas \"letras\"\n",
        "list(sf.split_selfies(encoded_selfies))"
      ],
      "metadata": {
        "colab": {
          "base_uri": "https://localhost:8080/"
        },
        "id": "Mvr7x5AlGWN1",
        "outputId": "07fd68cc-a275-42c9-c3ca-88a843878894"
      },
      "execution_count": 10,
      "outputs": [
        {
          "output_type": "execute_result",
          "data": {
            "text/plain": [
              "['[C]', '[=C]', '[C]', '[=C]', '[C]', '[=C]', '[Ring1]', '[=Branch1]']"
            ]
          },
          "metadata": {},
          "execution_count": 10
        }
      ]
    },
    {
      "cell_type": "code",
      "source": [
        "# Para converter uma lista de SMILES para SELFIES\n",
        "smiles_dataset = [\"COC\", \"FCF\", \"O=O\", \"O=Cc1ccccc1\"]\n",
        "selfies_dataset = list(map(sf.encoder, smiles_dataset))\n",
        "\n",
        "selfies_dataset"
      ],
      "metadata": {
        "colab": {
          "base_uri": "https://localhost:8080/"
        },
        "id": "9TbzjIADQ-nP",
        "outputId": "9ce5720c-d81e-4bb4-c68e-a2f77f39c5d4"
      },
      "execution_count": 11,
      "outputs": [
        {
          "output_type": "execute_result",
          "data": {
            "text/plain": [
              "['[C][O][C]',\n",
              " '[F][C][F]',\n",
              " '[O][=O]',\n",
              " '[O][=C][C][=C][C][=C][C][=C][Ring1][=Branch1]']"
            ]
          },
          "metadata": {},
          "execution_count": 11
        }
      ]
    },
    {
      "cell_type": "markdown",
      "source": [
        "Nota: até o momento (2023) os SELFIES não possuem grande suporte a moléculas como complexos metálicos, limitando-se a compostos orgânicos simples. É possível que atualizações sejam feitas nos próximos anos."
      ],
      "metadata": {
        "id": "l42mf8CtRfce"
      }
    },
    {
      "cell_type": "markdown",
      "source": [
        "Para exemplos mais elaborados de uso da linguagem SELFIES, veja este [blog post](https://aspuru.substack.com/p/molecular-graph-representations-and), em inglês."
      ],
      "metadata": {
        "id": "VeSSQysLS8OF"
      }
    }
  ]
}