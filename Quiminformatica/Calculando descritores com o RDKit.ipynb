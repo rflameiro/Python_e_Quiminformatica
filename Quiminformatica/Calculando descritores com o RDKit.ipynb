{
 "cells": [
  {
   "cell_type": "markdown",
   "metadata": {
    "tags": []
   },
   "source": [
    "# Representação de estruturas químicas\n",
    "\n",
    "Para criar modelos de QSAR/QSPR e de aprendizado de máquina, precisamos converter as estruturas químicas a um formato que possa ser interpretado pelos algoritmos utilizados. \n",
    "\n",
    "Ainda que existam algoritmos capazes de interpretar estruturas moleculares representadas na forma de texto (*Recurrent Neural Networks*, *Transformers*) ou grafos (*Message Passing Neural Networks*, *Graph Neural Networks*), a conversão de estruturas químicas a um formato numérico segue sendo o método mais usado para a criação de modelos preditivos."
   ]
  },
  {
   "cell_type": "markdown",
   "metadata": {},
   "source": [
    "## Descritores moleculares\n",
    "\n",
    "Os descritores moleculares representam de forma numérica alguma característica das estruturas químicas. \n",
    "\n",
    "De acordo com Todeschini e Consonni no livro [Molecular Descriptors for Chemoinformatics](https://onlinelibrary.wiley.com/doi/book/10.1002/9783527628766) (en tradução livre):\n",
    "\n",
    "    \"O descritor molecular é o resultado final de um procedimento lógico e matemático que transforma informações químicas codificadas em uma representação simbólica de uma molécula em um número útil ou no resultado de algum experimento padronizado.\"\n",
    "\n",
    "Além disso, segundo os autores, um descritor molecular deve cumprir os seguintes requisitos:\n",
    "\n",
    "1. Invariância com relação à rotulagem e numeração de átomos\n",
    "2. Invariância com relação à rotação e translação\n",
    "3. Uma definição computável algoritmicamente inequívoca\n",
    "4. Valores em um intervalo numérico adequado para o conjunto de moléculas estudadas\n",
    "\n",
    "\n",
    "Caso tenha alguma familiaridade com quiminformática, pode conhecer os *fingerprints* moleculares, que são descritores moleculares baseados na identificação de subestruturas. Porém, devido a suas particularidades e amplo uso na quiminformática, dedicaremos outros Notebooks para essa classe de descritores. Neste Notebook, vamos usar o termo **\"Descritores\"** para nos referirmos aos descritores além dos *fingerprints*."
   ]
  },
  {
   "cell_type": "markdown",
   "metadata": {},
   "source": [
    "## Importando os módulos necessários"
   ]
  },
  {
   "cell_type": "code",
   "execution_count": 1,
   "metadata": {},
   "outputs": [
    {
     "name": "stdout",
     "output_type": "stream",
     "text": [
      "numpy version: 1.22.3\n",
      "numpy version: 1.4.2\n",
      "rdkit version: 2022.03.3\n"
     ]
    }
   ],
   "source": [
    "import numpy as np\n",
    "print(\"numpy version:\", np.__version__)\n",
    "import pandas as pd\n",
    "print(\"numpy version:\", pd.__version__)\n",
    "import rdkit\n",
    "print(\"rdkit version:\", rdkit.__version__)"
   ]
  },
  {
   "cell_type": "code",
   "execution_count": 2,
   "metadata": {},
   "outputs": [],
   "source": [
    "from rdkit import Chem\n",
    "from rdkit.Chem import AllChem, Descriptors, GraphDescriptors\n",
    "from rdkit.ML.Descriptors import MoleculeDescriptors"
   ]
  },
  {
   "cell_type": "markdown",
   "metadata": {},
   "source": [
    "Vamos começar com um exemplo simples, calculando alguns descritores para a molécula de etanol."
   ]
  },
  {
   "cell_type": "code",
   "execution_count": 3,
   "metadata": {},
   "outputs": [],
   "source": [
    "smi = \"CCO\"\n",
    "mol = Chem.MolFromSmiles(smi)"
   ]
  },
  {
   "cell_type": "markdown",
   "metadata": {},
   "source": [
    "Alguns descritores são valores **escalares** que representam uma molécula como um todo, como a sua massa molecular relativa. "
   ]
  },
  {
   "cell_type": "code",
   "execution_count": 4,
   "metadata": {},
   "outputs": [
    {
     "name": "stdout",
     "output_type": "stream",
     "text": [
      "Massa molecular relativa: 46.069\n"
     ]
    }
   ],
   "source": [
    "MolWt = Descriptors.MolWt(mol)\n",
    "print(\"Massa molecular relativa:\", MolWt)"
   ]
  },
  {
   "cell_type": "markdown",
   "metadata": {},
   "source": [
    "Também podemos usar **contagens** (*counts*) de propriedades, como número de átomos pesados ou de aceptores/doadores de hidrogênio. "
   ]
  },
  {
   "cell_type": "code",
   "execution_count": 5,
   "metadata": {},
   "outputs": [
    {
     "name": "stdout",
     "output_type": "stream",
     "text": [
      "Contagem de átomos pesados: 3\n"
     ]
    }
   ],
   "source": [
    "HeavyAtomCount = Descriptors.HeavyAtomCount(mol)\n",
    "print(\"Contagem de átomos pesados:\", HeavyAtomCount)"
   ]
  },
  {
   "cell_type": "code",
   "execution_count": 6,
   "metadata": {},
   "outputs": [
    {
     "name": "stdout",
     "output_type": "stream",
     "text": [
      "Numero de aceptores de ligação de hidrogênio: 1\n"
     ]
    }
   ],
   "source": [
    "NumHAcceptors = Descriptors.NumHAcceptors(mol)\n",
    "print(\"Numero de aceptores de ligação de hidrogênio:\", NumHAcceptors)"
   ]
  },
  {
   "cell_type": "code",
   "execution_count": 7,
   "metadata": {},
   "outputs": [
    {
     "name": "stdout",
     "output_type": "stream",
     "text": [
      "Numero de doadores de ligação de hidrogênio: 1\n"
     ]
    }
   ],
   "source": [
    "NumHDonors = Descriptors.NumHDonors(mol)\n",
    "print(\"Numero de doadores de ligação de hidrogênio:\", NumHDonors)"
   ]
  },
  {
   "cell_type": "markdown",
   "metadata": {},
   "source": [
    "Muitos descritores representam alguma **propriedade físico-química calculada**, como o coeficiente de partição água/octanol calculado (MolLogP) e a refratividade molar (MolMR). "
   ]
  },
  {
   "cell_type": "code",
   "execution_count": 8,
   "metadata": {},
   "outputs": [
    {
     "name": "stdout",
     "output_type": "stream",
     "text": [
      "logP calculado: -0.0014000000000000123\n"
     ]
    }
   ],
   "source": [
    "MolLogP = Descriptors.MolLogP(mol)\n",
    "print(\"logP calculado:\", MolLogP)"
   ]
  },
  {
   "cell_type": "code",
   "execution_count": 9,
   "metadata": {},
   "outputs": [
    {
     "name": "stdout",
     "output_type": "stream",
     "text": [
      "Refratividade molar calculada: 12.759800000000002\n"
     ]
    }
   ],
   "source": [
    "MolMR = Descriptors.MolMR(mol)\n",
    "print(\"Refratividade molar calculada:\", MolMR)"
   ]
  },
  {
   "cell_type": "markdown",
   "metadata": {},
   "source": [
    "Alguns descritores são independentes da estrutura molecular (como a massa molecular relativa). Outros, dependem da **conectividade** da molécula, ou seja, sua estrutura 2D. Alguns exemplos são MolLogP, índices topológicos (BertzCT, Hall-Kier Chi, Kappa) e eletrotopológicos (EStateIndex)."
   ]
  },
  {
   "cell_type": "code",
   "execution_count": 10,
   "metadata": {},
   "outputs": [
    {
     "name": "stdout",
     "output_type": "stream",
     "text": [
      "Dois isômeros estruturais\n",
      "Apresentam a mesma massa molecular relativa\n",
      "137.020\n",
      "137.020\n",
      "Mas diferentes valores de MolLogP\n",
      "2.181\n",
      "2.037\n",
      "E diferentes valores de BertzCT, um índice topológico relacionado à complexidade molecular\n",
      "11.119\n",
      "17.610\n"
     ]
    }
   ],
   "source": [
    "mol1 = Chem.MolFromSmiles(\"BrCCCC\")\n",
    "mol2 = Chem.MolFromSmiles(\"BrCC(C)C\")\n",
    "\n",
    "print(\"Dois isômeros estruturais\")\n",
    "\n",
    "print(\"Apresentam a mesma massa molecular relativa\")\n",
    "print(f\"{Descriptors.MolWt(mol1):.3f}\")\n",
    "print(f\"{Descriptors.MolWt(mol2):.3f}\")\n",
    "\n",
    "print(\"Mas diferentes valores de MolLogP\")\n",
    "print(f\"{Descriptors.MolLogP(mol1):.3f}\")\n",
    "print(f\"{Descriptors.MolLogP(mol2):.3f}\")\n",
    "\n",
    "print(\"E diferentes valores de BertzCT, um índice topológico relacionado à complexidade molecular\")\n",
    "print(f\"{GraphDescriptors.BertzCT(mol1):.3f}\")\n",
    "print(f\"{GraphDescriptors.BertzCT(mol2):.3f}\")\n"
   ]
  },
  {
   "cell_type": "markdown",
   "metadata": {},
   "source": [
    "Alguns descritores são calculados a partir de uma **estrutura 3D**, por exemplo, os descritores WHIM. Para isso, precisamos primeiramente gerar uma estrutura 3D. No RDKit, podemos usar a função `AllChem.EmbedMolecule()`"
   ]
  },
  {
   "cell_type": "code",
   "execution_count": 11,
   "metadata": {},
   "outputs": [],
   "source": [
    "from rdkit.Chem.rdMolDescriptors import CalcWHIM"
   ]
  },
  {
   "cell_type": "code",
   "execution_count": 12,
   "metadata": {},
   "outputs": [
    {
     "data": {
      "text/plain": [
       "0"
      ]
     },
     "execution_count": 12,
     "metadata": {},
     "output_type": "execute_result"
    }
   ],
   "source": [
    "mol = Chem.MolFromSmiles('OCCc1ccn2cnccc12')\n",
    "mol = Chem.AddHs(mol)  # é uma boa ideia adicionar os átomos de hidrogênio antes de calcular a estrutura 3D\n",
    "\n",
    "AllChem.EmbedMolecule(mol)"
   ]
  },
  {
   "cell_type": "code",
   "execution_count": 13,
   "metadata": {},
   "outputs": [
    {
     "name": "stdout",
     "output_type": "stream",
     "text": [
      "114\n"
     ]
    }
   ],
   "source": [
    "# Cálculo dos descritores WHIM - 114 descritores são calculados\n",
    "whim_descs = CalcWHIM(mol)\n",
    "print(len(whim_descs))"
   ]
  },
  {
   "cell_type": "markdown",
   "metadata": {},
   "source": [
    "Há também descritores que **combinam** dois ou mais descritores. \n",
    "\n",
    "No RDKit, por exemplo, temos SlogP_VSA, SMR_VSA, PEOE_VSA e EState_VSA que envolvem o cálculo da contribuição de cada átomo na molécula para uma propriedade molecular (LogP, MR, carga parcial ou E-state, respectivamente) junto com a contribuição de cada átomo para uma medida aproximada da área de superfície molecular (a parte VSA dos descritores). Em seguida, atribuem-se os átomos a compartimentos (*bins*) com base nas contribuições para a propriedade e, então, somam-se as contribuições para a VSA para cada átomo em um compartimento. Veja mais detalhes neste [link](https://greglandrum.github.io/rdkit-blog/posts/2023-04-17-what-are-the-vsa-descriptors.html)"
   ]
  },
  {
   "cell_type": "markdown",
   "metadata": {},
   "source": [
    "Note que, em geral, quanto mais abstratos os descritores, mais difícil será sua **interpretabilidade**, sendo, portanto, difícil utilizá-los como parâmetro para a proposição de novas estruturas químicas otimizadas. \n",
    "\n",
    "Concluímos reforçando que as possibilidades são muitas para calcular valores numéricos baseados em estruturas moleculares. Somente no RDKit são mais de 200 valores que podem ser gerados. Com o módulo [molfeat](https://molfeat.datamol.io/), por exemplo, podemos calcular mais de 1800 descritores 2D e 3D usando o pacote Mordred, além de diversos tipos de *fingerprints* e descritores baseados em redes neurais (por exemplo, ChemGPT, GIN e JTVAE)."
   ]
  },
  {
   "cell_type": "markdown",
   "metadata": {
    "tags": []
   },
   "source": [
    "## Calculando todos os descritores disponíveis no RDKit\n",
    "\n",
    "Vou concluir mostrando esta função que recebe como entrada uma lista de SMILES e retorna um `pandas.DataFrame()` contendo todos os descritores disponíveis no RDKit.\n",
    "\n",
    "O código está bem simples e não levei em conta fatores importantes, como a padronização das estruturas e a possibilidade de erros na conversão dos SMILES. Você pode modificar o código como achar necessário."
   ]
  },
  {
   "cell_type": "code",
   "execution_count": 14,
   "metadata": {},
   "outputs": [],
   "source": [
    "import pandas as pd\n",
    "from rdkit import Chem, DataStructs\n",
    "from rdkit.Chem import Descriptors, rdFingerprintGenerator\n",
    "from rdkit.ML.Descriptors import MoleculeDescriptors\n",
    "\n",
    "\n",
    "def descriptors_2D_from_smiles(smi_list):\n",
    "    ms = [Chem.MolFromSmiles(smi) for smi in smi_list]\n",
    "    # Descritores\n",
    "    # Anotando todos os nomes dos descritores em uma lista\n",
    "    names = [name[0] for name in Descriptors.descList]\n",
    "\n",
    "    # Calculando os descritores e adicionando à lista \"descs\"\n",
    "    calc = MoleculeDescriptors.MolecularDescriptorCalculator(names)\n",
    "    descs = [calc.CalcDescriptors(m) for m in ms]\n",
    "    # Obs: nas versões mais recentes (2024) do RDKit, \"descs\" pode ser calculado de uma forma mais simples:\n",
    "    # descs = [Descriptors.CalcMolDescriptors(mol) for mol in ms]\n",
    "    \n",
    "    # Convertendo o resultado a um pd.DataFrame com os nomes dos descritores nas colunas\n",
    "    descriptors_df = pd.DataFrame(descs, columns=names)\n",
    "    return descriptors_df"
   ]
  },
  {
   "cell_type": "markdown",
   "metadata": {},
   "source": [
    "Veja como aplicar a função para calcular os descritores para as estruturas no [conjunto de dados de Delaney (solubilidade)](https://www.kaggle.com/c/drug-solubility-challenge/data)."
   ]
  },
  {
   "cell_type": "code",
   "execution_count": 15,
   "metadata": {},
   "outputs": [
    {
     "data": {
      "text/html": [
       "<div>\n",
       "<style scoped>\n",
       "    .dataframe tbody tr th:only-of-type {\n",
       "        vertical-align: middle;\n",
       "    }\n",
       "\n",
       "    .dataframe tbody tr th {\n",
       "        vertical-align: top;\n",
       "    }\n",
       "\n",
       "    .dataframe thead th {\n",
       "        text-align: right;\n",
       "    }\n",
       "</style>\n",
       "<table border=\"1\" class=\"dataframe\">\n",
       "  <thead>\n",
       "    <tr style=\"text-align: right;\">\n",
       "      <th></th>\n",
       "      <th>Compound ID</th>\n",
       "      <th>ESOL predicted log solubility in mols per litre</th>\n",
       "      <th>Minimum Degree</th>\n",
       "      <th>Molecular Weight</th>\n",
       "      <th>Number of H-Bond Donors</th>\n",
       "      <th>Number of Rings</th>\n",
       "      <th>Number of Rotatable Bonds</th>\n",
       "      <th>Polar Surface Area</th>\n",
       "      <th>measured log solubility in mols per litre</th>\n",
       "      <th>smiles</th>\n",
       "    </tr>\n",
       "  </thead>\n",
       "  <tbody>\n",
       "    <tr>\n",
       "      <th>0</th>\n",
       "      <td>Amigdalin</td>\n",
       "      <td>-0.974</td>\n",
       "      <td>1</td>\n",
       "      <td>457.432</td>\n",
       "      <td>7</td>\n",
       "      <td>3</td>\n",
       "      <td>7</td>\n",
       "      <td>202.32</td>\n",
       "      <td>-0.77</td>\n",
       "      <td>OCC3OC(OCC2OC(OC(C#N)c1ccccc1)C(O)C(O)C2O)C(O)...</td>\n",
       "    </tr>\n",
       "    <tr>\n",
       "      <th>1</th>\n",
       "      <td>Fenfuram</td>\n",
       "      <td>-2.885</td>\n",
       "      <td>1</td>\n",
       "      <td>201.225</td>\n",
       "      <td>1</td>\n",
       "      <td>2</td>\n",
       "      <td>2</td>\n",
       "      <td>42.24</td>\n",
       "      <td>-3.30</td>\n",
       "      <td>Cc1occc1C(=O)Nc2ccccc2</td>\n",
       "    </tr>\n",
       "    <tr>\n",
       "      <th>2</th>\n",
       "      <td>citral</td>\n",
       "      <td>-2.579</td>\n",
       "      <td>1</td>\n",
       "      <td>152.237</td>\n",
       "      <td>0</td>\n",
       "      <td>0</td>\n",
       "      <td>4</td>\n",
       "      <td>17.07</td>\n",
       "      <td>-2.06</td>\n",
       "      <td>CC(C)=CCCC(C)=CC(=O)</td>\n",
       "    </tr>\n",
       "    <tr>\n",
       "      <th>3</th>\n",
       "      <td>Picene</td>\n",
       "      <td>-6.618</td>\n",
       "      <td>2</td>\n",
       "      <td>278.354</td>\n",
       "      <td>0</td>\n",
       "      <td>5</td>\n",
       "      <td>0</td>\n",
       "      <td>0.00</td>\n",
       "      <td>-7.87</td>\n",
       "      <td>c1ccc2c(c1)ccc3c2ccc4c5ccccc5ccc43</td>\n",
       "    </tr>\n",
       "    <tr>\n",
       "      <th>4</th>\n",
       "      <td>Thiophene</td>\n",
       "      <td>-2.232</td>\n",
       "      <td>2</td>\n",
       "      <td>84.143</td>\n",
       "      <td>0</td>\n",
       "      <td>1</td>\n",
       "      <td>0</td>\n",
       "      <td>0.00</td>\n",
       "      <td>-1.33</td>\n",
       "      <td>c1ccsc1</td>\n",
       "    </tr>\n",
       "    <tr>\n",
       "      <th>5</th>\n",
       "      <td>benzothiazole</td>\n",
       "      <td>-2.733</td>\n",
       "      <td>2</td>\n",
       "      <td>135.191</td>\n",
       "      <td>0</td>\n",
       "      <td>2</td>\n",
       "      <td>0</td>\n",
       "      <td>12.89</td>\n",
       "      <td>-1.50</td>\n",
       "      <td>c2ccc1scnc1c2</td>\n",
       "    </tr>\n",
       "    <tr>\n",
       "      <th>6</th>\n",
       "      <td>2,2,4,6,6'-PCB</td>\n",
       "      <td>-6.545</td>\n",
       "      <td>1</td>\n",
       "      <td>326.437</td>\n",
       "      <td>0</td>\n",
       "      <td>2</td>\n",
       "      <td>1</td>\n",
       "      <td>0.00</td>\n",
       "      <td>-7.32</td>\n",
       "      <td>Clc1cc(Cl)c(c(Cl)c1)c2c(Cl)cccc2Cl</td>\n",
       "    </tr>\n",
       "    <tr>\n",
       "      <th>7</th>\n",
       "      <td>Estradiol</td>\n",
       "      <td>-4.138</td>\n",
       "      <td>1</td>\n",
       "      <td>272.388</td>\n",
       "      <td>2</td>\n",
       "      <td>4</td>\n",
       "      <td>0</td>\n",
       "      <td>40.46</td>\n",
       "      <td>-5.03</td>\n",
       "      <td>CC12CCC3C(CCc4cc(O)ccc34)C2CCC1O</td>\n",
       "    </tr>\n",
       "    <tr>\n",
       "      <th>8</th>\n",
       "      <td>Dieldrin</td>\n",
       "      <td>-4.533</td>\n",
       "      <td>1</td>\n",
       "      <td>380.913</td>\n",
       "      <td>0</td>\n",
       "      <td>5</td>\n",
       "      <td>0</td>\n",
       "      <td>12.53</td>\n",
       "      <td>-6.29</td>\n",
       "      <td>ClC4=C(Cl)C5(Cl)C3C1CC(C2OC12)C3C4(Cl)C5(Cl)Cl</td>\n",
       "    </tr>\n",
       "    <tr>\n",
       "      <th>9</th>\n",
       "      <td>Rotenone</td>\n",
       "      <td>-5.246</td>\n",
       "      <td>1</td>\n",
       "      <td>394.423</td>\n",
       "      <td>0</td>\n",
       "      <td>5</td>\n",
       "      <td>3</td>\n",
       "      <td>63.22</td>\n",
       "      <td>-4.42</td>\n",
       "      <td>COc5cc4OCC3Oc2c1CC(Oc1ccc2C(=O)C3c4cc5OC)C(C)=C</td>\n",
       "    </tr>\n",
       "  </tbody>\n",
       "</table>\n",
       "</div>"
      ],
      "text/plain": [
       "      Compound ID  ESOL predicted log solubility in mols per litre  \\\n",
       "0       Amigdalin                                           -0.974   \n",
       "1        Fenfuram                                           -2.885   \n",
       "2          citral                                           -2.579   \n",
       "3          Picene                                           -6.618   \n",
       "4       Thiophene                                           -2.232   \n",
       "5   benzothiazole                                           -2.733   \n",
       "6  2,2,4,6,6'-PCB                                           -6.545   \n",
       "7       Estradiol                                           -4.138   \n",
       "8        Dieldrin                                           -4.533   \n",
       "9        Rotenone                                           -5.246   \n",
       "\n",
       "   Minimum Degree  Molecular Weight  Number of H-Bond Donors  Number of Rings  \\\n",
       "0               1           457.432                        7                3   \n",
       "1               1           201.225                        1                2   \n",
       "2               1           152.237                        0                0   \n",
       "3               2           278.354                        0                5   \n",
       "4               2            84.143                        0                1   \n",
       "5               2           135.191                        0                2   \n",
       "6               1           326.437                        0                2   \n",
       "7               1           272.388                        2                4   \n",
       "8               1           380.913                        0                5   \n",
       "9               1           394.423                        0                5   \n",
       "\n",
       "   Number of Rotatable Bonds  Polar Surface Area  \\\n",
       "0                          7              202.32   \n",
       "1                          2               42.24   \n",
       "2                          4               17.07   \n",
       "3                          0                0.00   \n",
       "4                          0                0.00   \n",
       "5                          0               12.89   \n",
       "6                          1                0.00   \n",
       "7                          0               40.46   \n",
       "8                          0               12.53   \n",
       "9                          3               63.22   \n",
       "\n",
       "   measured log solubility in mols per litre  \\\n",
       "0                                      -0.77   \n",
       "1                                      -3.30   \n",
       "2                                      -2.06   \n",
       "3                                      -7.87   \n",
       "4                                      -1.33   \n",
       "5                                      -1.50   \n",
       "6                                      -7.32   \n",
       "7                                      -5.03   \n",
       "8                                      -6.29   \n",
       "9                                      -4.42   \n",
       "\n",
       "                                              smiles  \n",
       "0  OCC3OC(OCC2OC(OC(C#N)c1ccccc1)C(O)C(O)C2O)C(O)...  \n",
       "1                             Cc1occc1C(=O)Nc2ccccc2  \n",
       "2                               CC(C)=CCCC(C)=CC(=O)  \n",
       "3                 c1ccc2c(c1)ccc3c2ccc4c5ccccc5ccc43  \n",
       "4                                            c1ccsc1  \n",
       "5                                     c2ccc1scnc1c2   \n",
       "6                 Clc1cc(Cl)c(c(Cl)c1)c2c(Cl)cccc2Cl  \n",
       "7                   CC12CCC3C(CCc4cc(O)ccc34)C2CCC1O  \n",
       "8     ClC4=C(Cl)C5(Cl)C3C1CC(C2OC12)C3C4(Cl)C5(Cl)Cl  \n",
       "9   COc5cc4OCC3Oc2c1CC(Oc1ccc2C(=O)C3c4cc5OC)C(C)=C   "
      ]
     },
     "execution_count": 15,
     "metadata": {},
     "output_type": "execute_result"
    }
   ],
   "source": [
    "# Importando o conjunto de dados de Delaney como um pandas.DataFrame\n",
    "df = pd.read_csv(\"../datasets/delaney-processed.csv\")\n",
    "# Mostrar as 10 primeiras linhas\n",
    "df.head(10)"
   ]
  },
  {
   "cell_type": "code",
   "execution_count": 16,
   "metadata": {},
   "outputs": [],
   "source": [
    "# Vamos manter somente a coluna contendo os SMILES e o valor da variável resposta\n",
    "# (*measured log solubility in mols per litre*)\n",
    "df = df[[\"smiles\", \"measured log solubility in mols per litre\"]]\n",
    "\n",
    "# Renomeando as colunas\n",
    "df.columns=[\"SMILES\", \"Solubilidade_medida\"]"
   ]
  },
  {
   "cell_type": "code",
   "execution_count": 17,
   "metadata": {},
   "outputs": [
    {
     "data": {
      "text/html": [
       "<div>\n",
       "<style scoped>\n",
       "    .dataframe tbody tr th:only-of-type {\n",
       "        vertical-align: middle;\n",
       "    }\n",
       "\n",
       "    .dataframe tbody tr th {\n",
       "        vertical-align: top;\n",
       "    }\n",
       "\n",
       "    .dataframe thead th {\n",
       "        text-align: right;\n",
       "    }\n",
       "</style>\n",
       "<table border=\"1\" class=\"dataframe\">\n",
       "  <thead>\n",
       "    <tr style=\"text-align: right;\">\n",
       "      <th></th>\n",
       "      <th>MaxEStateIndex</th>\n",
       "      <th>MinEStateIndex</th>\n",
       "      <th>MaxAbsEStateIndex</th>\n",
       "      <th>MinAbsEStateIndex</th>\n",
       "      <th>qed</th>\n",
       "      <th>MolWt</th>\n",
       "      <th>HeavyAtomMolWt</th>\n",
       "      <th>ExactMolWt</th>\n",
       "      <th>NumValenceElectrons</th>\n",
       "      <th>NumRadicalElectrons</th>\n",
       "      <th>...</th>\n",
       "      <th>fr_sulfide</th>\n",
       "      <th>fr_sulfonamd</th>\n",
       "      <th>fr_sulfone</th>\n",
       "      <th>fr_term_acetylene</th>\n",
       "      <th>fr_tetrazole</th>\n",
       "      <th>fr_thiazole</th>\n",
       "      <th>fr_thiocyan</th>\n",
       "      <th>fr_thiophene</th>\n",
       "      <th>fr_unbrch_alkane</th>\n",
       "      <th>fr_urea</th>\n",
       "    </tr>\n",
       "  </thead>\n",
       "  <tbody>\n",
       "    <tr>\n",
       "      <th>0</th>\n",
       "      <td>10.253329</td>\n",
       "      <td>-1.701605</td>\n",
       "      <td>10.253329</td>\n",
       "      <td>0.486602</td>\n",
       "      <td>0.217518</td>\n",
       "      <td>457.432</td>\n",
       "      <td>430.216</td>\n",
       "      <td>457.158411</td>\n",
       "      <td>178</td>\n",
       "      <td>0</td>\n",
       "      <td>...</td>\n",
       "      <td>0</td>\n",
       "      <td>0</td>\n",
       "      <td>0</td>\n",
       "      <td>0</td>\n",
       "      <td>0</td>\n",
       "      <td>0</td>\n",
       "      <td>0</td>\n",
       "      <td>0</td>\n",
       "      <td>0</td>\n",
       "      <td>0</td>\n",
       "    </tr>\n",
       "    <tr>\n",
       "      <th>1</th>\n",
       "      <td>11.724911</td>\n",
       "      <td>-0.145880</td>\n",
       "      <td>11.724911</td>\n",
       "      <td>0.145880</td>\n",
       "      <td>0.811283</td>\n",
       "      <td>201.225</td>\n",
       "      <td>190.137</td>\n",
       "      <td>201.078979</td>\n",
       "      <td>76</td>\n",
       "      <td>0</td>\n",
       "      <td>...</td>\n",
       "      <td>0</td>\n",
       "      <td>0</td>\n",
       "      <td>0</td>\n",
       "      <td>0</td>\n",
       "      <td>0</td>\n",
       "      <td>0</td>\n",
       "      <td>0</td>\n",
       "      <td>0</td>\n",
       "      <td>0</td>\n",
       "      <td>0</td>\n",
       "    </tr>\n",
       "    <tr>\n",
       "      <th>2</th>\n",
       "      <td>10.020498</td>\n",
       "      <td>0.845090</td>\n",
       "      <td>10.020498</td>\n",
       "      <td>0.845090</td>\n",
       "      <td>0.343706</td>\n",
       "      <td>152.237</td>\n",
       "      <td>136.109</td>\n",
       "      <td>152.120115</td>\n",
       "      <td>62</td>\n",
       "      <td>0</td>\n",
       "      <td>...</td>\n",
       "      <td>0</td>\n",
       "      <td>0</td>\n",
       "      <td>0</td>\n",
       "      <td>0</td>\n",
       "      <td>0</td>\n",
       "      <td>0</td>\n",
       "      <td>0</td>\n",
       "      <td>0</td>\n",
       "      <td>0</td>\n",
       "      <td>0</td>\n",
       "    </tr>\n",
       "    <tr>\n",
       "      <th>3</th>\n",
       "      <td>2.270278</td>\n",
       "      <td>1.301055</td>\n",
       "      <td>2.270278</td>\n",
       "      <td>1.301055</td>\n",
       "      <td>0.291526</td>\n",
       "      <td>278.354</td>\n",
       "      <td>264.242</td>\n",
       "      <td>278.109550</td>\n",
       "      <td>102</td>\n",
       "      <td>0</td>\n",
       "      <td>...</td>\n",
       "      <td>0</td>\n",
       "      <td>0</td>\n",
       "      <td>0</td>\n",
       "      <td>0</td>\n",
       "      <td>0</td>\n",
       "      <td>0</td>\n",
       "      <td>0</td>\n",
       "      <td>0</td>\n",
       "      <td>0</td>\n",
       "      <td>0</td>\n",
       "    </tr>\n",
       "    <tr>\n",
       "      <th>4</th>\n",
       "      <td>2.041667</td>\n",
       "      <td>1.712963</td>\n",
       "      <td>2.041667</td>\n",
       "      <td>1.712963</td>\n",
       "      <td>0.448927</td>\n",
       "      <td>84.143</td>\n",
       "      <td>80.111</td>\n",
       "      <td>84.003371</td>\n",
       "      <td>26</td>\n",
       "      <td>0</td>\n",
       "      <td>...</td>\n",
       "      <td>0</td>\n",
       "      <td>0</td>\n",
       "      <td>0</td>\n",
       "      <td>0</td>\n",
       "      <td>0</td>\n",
       "      <td>0</td>\n",
       "      <td>0</td>\n",
       "      <td>1</td>\n",
       "      <td>0</td>\n",
       "      <td>0</td>\n",
       "    </tr>\n",
       "  </tbody>\n",
       "</table>\n",
       "<p>5 rows × 208 columns</p>\n",
       "</div>"
      ],
      "text/plain": [
       "   MaxEStateIndex  MinEStateIndex  MaxAbsEStateIndex  MinAbsEStateIndex  \\\n",
       "0       10.253329       -1.701605          10.253329           0.486602   \n",
       "1       11.724911       -0.145880          11.724911           0.145880   \n",
       "2       10.020498        0.845090          10.020498           0.845090   \n",
       "3        2.270278        1.301055           2.270278           1.301055   \n",
       "4        2.041667        1.712963           2.041667           1.712963   \n",
       "\n",
       "        qed    MolWt  HeavyAtomMolWt  ExactMolWt  NumValenceElectrons  \\\n",
       "0  0.217518  457.432         430.216  457.158411                  178   \n",
       "1  0.811283  201.225         190.137  201.078979                   76   \n",
       "2  0.343706  152.237         136.109  152.120115                   62   \n",
       "3  0.291526  278.354         264.242  278.109550                  102   \n",
       "4  0.448927   84.143          80.111   84.003371                   26   \n",
       "\n",
       "   NumRadicalElectrons  ...  fr_sulfide  fr_sulfonamd  fr_sulfone  \\\n",
       "0                    0  ...           0             0           0   \n",
       "1                    0  ...           0             0           0   \n",
       "2                    0  ...           0             0           0   \n",
       "3                    0  ...           0             0           0   \n",
       "4                    0  ...           0             0           0   \n",
       "\n",
       "   fr_term_acetylene  fr_tetrazole  fr_thiazole  fr_thiocyan  fr_thiophene  \\\n",
       "0                  0             0            0            0             0   \n",
       "1                  0             0            0            0             0   \n",
       "2                  0             0            0            0             0   \n",
       "3                  0             0            0            0             0   \n",
       "4                  0             0            0            0             1   \n",
       "\n",
       "   fr_unbrch_alkane  fr_urea  \n",
       "0                 0        0  \n",
       "1                 0        0  \n",
       "2                 0        0  \n",
       "3                 0        0  \n",
       "4                 0        0  \n",
       "\n",
       "[5 rows x 208 columns]"
      ]
     },
     "execution_count": 17,
     "metadata": {},
     "output_type": "execute_result"
    }
   ],
   "source": [
    "# Agora basta calcular os descritores\n",
    "descriptors_df = descriptors_2D_from_smiles(df[\"SMILES\"])\n",
    "\n",
    "# Vamos ver as cinco primeiras linhas\n",
    "descriptors_df.head()"
   ]
  },
  {
   "cell_type": "code",
   "execution_count": 18,
   "metadata": {},
   "outputs": [
    {
     "data": {
      "text/plain": [
       "(1128, 208)"
      ]
     },
     "execution_count": 18,
     "metadata": {},
     "output_type": "execute_result"
    }
   ],
   "source": [
    "# Nesta versão do RDKit temos 208 descritores\n",
    "descriptors_df.shape"
   ]
  },
  {
   "cell_type": "code",
   "execution_count": 19,
   "metadata": {},
   "outputs": [
    {
     "data": {
      "text/plain": [
       "0"
      ]
     },
     "execution_count": 19,
     "metadata": {},
     "output_type": "execute_result"
    }
   ],
   "source": [
    "# Verificar se houve alguma falha no cálculo dos descritores\n",
    "descriptors_df.isna().sum().sum()"
   ]
  },
  {
   "cell_type": "code",
   "execution_count": 20,
   "metadata": {},
   "outputs": [],
   "source": [
    "# Podemos adicionar os valores de solubilidade ao DataFrame\n",
    "descriptors_df[\"Solubilidade_medida\"] = df[\"Solubilidade_medida\"]"
   ]
  },
  {
   "cell_type": "code",
   "execution_count": 21,
   "metadata": {},
   "outputs": [],
   "source": [
    "# Salvar o DataFrame como .csv\n",
    "descriptors_df.to_csv(\"../datasets/Delaney_descriptors.csv\", sep=\";\", index=False)"
   ]
  },
  {
   "cell_type": "code",
   "execution_count": null,
   "metadata": {},
   "outputs": [],
   "source": []
  }
 ],
 "metadata": {
  "kernelspec": {
   "display_name": "Python 3 (ipykernel)",
   "language": "python",
   "name": "python3"
  },
  "language_info": {
   "codemirror_mode": {
    "name": "ipython",
    "version": 3
   },
   "file_extension": ".py",
   "mimetype": "text/x-python",
   "name": "python",
   "nbconvert_exporter": "python",
   "pygments_lexer": "ipython3",
   "version": "3.10.4"
  }
 },
 "nbformat": 4,
 "nbformat_minor": 4
}
