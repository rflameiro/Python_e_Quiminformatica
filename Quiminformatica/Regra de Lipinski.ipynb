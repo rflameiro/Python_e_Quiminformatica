{
 "cells": [
  {
   "cell_type": "markdown",
   "metadata": {},
   "source": [
    "###  Regra de Lipinski\n",
    "\n",
    "Uma das principais áreas em que a quiminformática é amplamente utilizada é a química medicinal. Sendo o desafio da química medicinal o desenvolvimento (muitas vezes, chamado incorretamente de \"descoberta\") de fármacos, é natural que em diversos momentos os pesquisadores tenham se perguntado: o que faz de uma molécula um fármaco?\n",
    "\n",
    "De fato, essa questão não tem uma resposta clara, tendo em vista, por exemplo, a existência de diversas substâncias utilizadas como fármacos no passado e que hoje foram proibidas (exemplos: heroína, talidomida) ou mesmo substâncias que são permitidas em um país e proibidas em outro. Ainda assim, é necessário encontrar alguma maneira de selecionar compostos mais promissores, tendo em vista o (praticamente) infinito número de substâncias que podem ser sintetizadas e o alto custo do desenvolvimento de um fármaco.\n",
    "\n",
    "Assim, em 1997, Lipinski observou que fármacos administrado de forma oral costumam apresentar propriedades dentro de certos limites. São elas:\n",
    "- MW < 500\n",
    "- logP < 5\n",
    "- número de aceptores de ligação de hidrogênio < 10\n",
    "- número de doaores de ligação de hidrogênio < 5\n",
    "\n",
    "Lipinski chamou essa tendência de \"Regra dos Cinco\", ou seja, sugeriu que compostos bioativos que seguem a regra têm mais chance de eventualmente serem aprovados como fármacos do que compostos que quebram uma ou mais dessas regras.\n",
    "\n",
    "Portanto, se estiver desenvolvendo novos inibidores para uma enzima, é uma boa prática verificar se eles seguem a Regra dos Cinco de Lipinski. É fácil fazer isso com o RDKit:"
   ]
  },
  {
   "cell_type": "code",
   "execution_count": 1,
   "metadata": {},
   "outputs": [],
   "source": [
    "from rdkit import Chem\n",
    "from rdkit.Chem import Descriptors\n",
    "from rdkit.ML.Descriptors import MoleculeDescriptors"
   ]
  },
  {
   "cell_type": "code",
   "execution_count": 2,
   "metadata": {},
   "outputs": [],
   "source": [
    "# SMILES do composto a ser verificado\n",
    "smi = \"COc1ccc2c(c1)nc([nH]2)S(=O)Cc1ncc(c(c1C)OC)C\"  # exemplo: omeprazole\n",
    "\n",
    "\n",
    "# Função para calcular os valores da regra dos cinco\n",
    "def rule_of_five(smi):\n",
    "    print()\n",
    "    print(\"Regra dos Cinco de Lipinski\")\n",
    "    mol = Chem.MolFromSmiles(smi)\n",
    "    d = [\"MolLogP\", \"MolWt\", \"NumHAcceptors\", \"NumHDonors\"]\n",
    "    calc = MoleculeDescriptors.MolecularDescriptorCalculator(d)\n",
    "    values = calc.CalcDescriptors(mol)\n",
    "\n",
    "    violations = 0\n",
    "    if values[0] > 5:\n",
    "        violations += 1\n",
    "        print(\"    logP calculado > 5\")  # logaritmo do coeficiente de partição octanol/água\n",
    "    if values[1] > 500:\n",
    "        violations += 1\n",
    "        print(\"    Massa molecular relativa > 500\")\n",
    "    if values[2] > 10:\n",
    "        violations += 1\n",
    "        print(\"    Número de aceptores de ligação de hidrogênio > 10\")\n",
    "    if values[3] > 5:\n",
    "        violations += 1\n",
    "        print(\"    Número de doaores de ligação de hidrogênio > 5\")\n",
    "    if violations:\n",
    "        print(f\"    Total de violações: {violations}\")\n",
    "    else: \n",
    "        print(\"    Nenhuma violação\")\n",
    "    print()"
   ]
  },
  {
   "cell_type": "code",
   "execution_count": 3,
   "metadata": {},
   "outputs": [
    {
     "name": "stdout",
     "output_type": "stream",
     "text": [
      "\n",
      "Regra dos Cinco de Lipinski\n",
      "    Nenhuma violação\n",
      "\n"
     ]
    }
   ],
   "source": [
    "rule_of_five(smi)"
   ]
  },
  {
   "cell_type": "markdown",
   "metadata": {},
   "source": [
    "A Regra dos Cinco parece ter funcionado para o omeprazole, um fármaco utilizado para tratar úlceras. Porém, a Regra é absoluta para identificar fármacos (e não-fármacos)? \n",
    "\n",
    "É fácil verificar que não. Vejamos dois exemplos: taxol e atrasina."
   ]
  },
  {
   "cell_type": "code",
   "execution_count": 4,
   "metadata": {},
   "outputs": [
    {
     "name": "stdout",
     "output_type": "stream",
     "text": [
      "\n",
      "Regra dos Cinco de Lipinski\n",
      "    Massa molecular relativa > 500\n",
      "    Número de aceptores de ligação de hidrogênio > 10\n",
      "    Total de violações: 2\n",
      "\n"
     ]
    }
   ],
   "source": [
    "taxol = \"CC1=C2C(C(=O)C3(C(CC4C(C3C(C(C2(C)C)(CC1OC(=O)C(C(C5=CC=CC=C5)NC(=O)C6=CC=CC=C6)O)O)OC(=O)C7=CC=CC=C7)(CO4)OC(=O)C)O)C)OC(=O)C\"\n",
    "rule_of_five(taxol)"
   ]
  },
  {
   "cell_type": "code",
   "execution_count": 5,
   "metadata": {},
   "outputs": [
    {
     "name": "stdout",
     "output_type": "stream",
     "text": [
      "\n",
      "Regra dos Cinco de Lipinski\n",
      "    Nenhuma violação\n",
      "\n"
     ]
    }
   ],
   "source": [
    "atrasina = \"CCNc1nc(Cl)nc(NC(C)C)n1\"\n",
    "rule_of_five(atrasina)"
   ]
  },
  {
   "cell_type": "markdown",
   "metadata": {},
   "source": [
    "Vemos que o taxol, um fármaco aprovado para o tratamento de cânceres, não segue a Regra dos Cinco, enquanto a atrazina, um agroquímico que não é usado como fármaco, segue todas as regras.\n",
    "\n",
    "Assim, é válido destacar que a Regra de Lipinski não é definitiva, sendo constantemente alvo de críticas. Por exemplo, [um trabalho de 2015](https://www.ncbi.nlm.nih.gov/pmc/articles/PMC4342520/) indica que somente 50% dos fármacos orais seguem todas as regras. De qualquer maneira, a regra continua sendo válida como guia, não como lei absoluta (e deve ser quebrada somente quando houver uma boa razão).\n",
    "\n",
    "Verifique o notebook sobre Índice de desejabilidade (desirability index) para verificar uma forma alternativa de classificar compostos como fármaco-similares."
   ]
  },
  {
   "cell_type": "code",
   "execution_count": null,
   "metadata": {},
   "outputs": [],
   "source": []
  }
 ],
 "metadata": {
  "kernelspec": {
   "display_name": "Python 3",
   "language": "python",
   "name": "python3"
  },
  "language_info": {
   "codemirror_mode": {
    "name": "ipython",
    "version": 3
   },
   "file_extension": ".py",
   "mimetype": "text/x-python",
   "name": "python",
   "nbconvert_exporter": "python",
   "pygments_lexer": "ipython3",
   "version": "3.7.7"
  }
 },
 "nbformat": 4,
 "nbformat_minor": 4
}
