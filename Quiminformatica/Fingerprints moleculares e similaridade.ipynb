{
 "cells": [
  {
   "cell_type": "markdown",
   "id": "939aa0cf-bdde-40e3-8e8c-859751ada324",
   "metadata": {},
   "source": [
    "# *Fingerprints* moleculares e similaridade\n",
    "\n",
    "*Fingerprints* moleculares são formas de representação molecular. São vetores numéricos cujos valores indicam aspectos estruturais de uma molécula, como a presença de certos átomos, grupos funcionais e subestruturas. Para uma introdução ao cálculo de *fingerprints* no RDKit veja o Notebook [*Fingerprints* moleculares no RDKit](https://github.com/rflameiro/Python_e_Quiminformatica/blob/main/Quiminformatica/Fingerprints%20moleculares%20no%20RDKit.ipynb)\n",
    "\n",
    "Pela forma como os *fingerprints* são construídos, compostos similares tendem a apresentar muitas subestruturas em comum e, consequentemente, seus *fingerprints* tendem a ser similares. Ainda que o termo \"similar\" possa ser usado de forma vaga no dia a dia, na quiminformática, a **similaridade molecular** envolve medidas **quantitativas** da semelhança entre duas estruturas químicas.\n",
    "\n",
    "Existem várias formas de medir a similaridade entre *fingerprints* moleculares, cada uma com suas vantagens e desvantagens. Alguns exemplos de métricas mais usadas são descritas a seguir:\n",
    "\n",
    "1. **Índice de Tanimoto** (também chamado coeficiente de Tanimoto, coeficiente de similaridade de Jaccard, índice de Jaccard): uma das métricas mais usadas, sendo específica para *fingerprints* binários. Mede a razão entre a interseção e a união de dois conjuntos, variando de 0 (nenhuma similaridade, todos os *bits* diferentes) a 1 (máxima similaridade, todos os *bits* iguais). Podemos dizer que somente os verdadeiros positivos (*bits* iguais a 1 em ambos os *fingerprints*) impactam o índice de Tanimoto.\n",
    "   \n",
    "2. **Similaridade de Dice** (coeficiente de Dice-Sørensen): calcula-se como duas vezes o número de valores positivos em comum nos conjuntos dividido pela soma dos tamanhos dos conjuntos. É equivalente ao *F1-score* usado no aprendizado de máquina, dessa forma, também leva em conta os *bits* que diferem entre os *fingerprints* para determinar sua similaridade.\n",
    "\n",
    "3. **Similaridade Cosseno** (cosine similarity): relacionada ao ângulo entre os vetores correspondentes aos *fingerprints*. Dessa forma, não depende da magnitude e pode ser usada para *fingerprints* contínuos ou binários, sendo útil para a comparação de *fingerprints* de tipos diferentes. Seu valor varia de -1 (vetores opostos) a 1 (vetores na mesma direção).\n",
    "\n",
    "4. **Distância Euclidiana**: mede a distância linear entre dois vetores no espaço multidimensional, sendo mais adequada para *fingerprints* contínuos. É sensível à magnitude dos valores dos *fingerprints*. Além disso, seu uso deve ser evitado para *fingerprints* binários, pois tanto a presença quanto a ausência de subestruturas em comum contribui para diminuir a distância Euclidiana.\n",
    "\n",
    "5. **Índice de Tversky**: uma generalização dos índices de Tanimoto e Dice, inclui dois termos `a` e `b` que correspondem a \"pesos\" que permitem dar mais importância a subestruturas presentes em um dos *fingerprints*. Quando `a` = `b` = 1, temos o índice de Tanimoto, e quando `a` = `b` = 0.5, temos a similaridade de Dice. Em geral, usamos valores tais que `a` + `b` = 1. \n",
    "\n",
    "No RDKit, diversas métricas estão disponíveis através do módulo `DataStructs`: Tanimoto, Dice, Cosine, Sokal, Russel, Kulczynski, McConnaughey e Tversky. Em geral, o índice de Tanimoto é o mais utilizado.\n",
    "\n",
    "A medida da similaridade entre *fingerprints* moleculares encontra diversas aplicações:\n",
    "\n",
    "- Rápida identificação de estruturas químicas em bancos de dados e realização de triagens virtuais para busca de compostos similares a um composto de interesse\n",
    "- Desenvolvimento de modelos de aprendizado de máquina (compostos semelhantes tendem a apresentar propriedades semelhantes)\n",
    "- Agrupamento de estruturas químicas (*clustering*)\n",
    "\n",
    "Vamos mostrar neste Notebook como calcular a similaridade entre diferentes tipos de *fingerprints* moleculares usando o RDKit."
   ]
  },
  {
   "cell_type": "code",
   "execution_count": 1,
   "id": "9a3ab077-75b2-4f97-ac35-9ae90a7136cc",
   "metadata": {},
   "outputs": [],
   "source": [
    "import numpy as np\n",
    "import pandas as pd\n",
    "from rdkit import Chem, DataStructs\n",
    "from rdkit.Chem import rdFingerprintGenerator"
   ]
  },
  {
   "cell_type": "code",
   "execution_count": 2,
   "id": "d406e4c8-c724-4988-aa1c-0538abd06230",
   "metadata": {},
   "outputs": [],
   "source": [
    "# Vamos usar um pequeno banco de estruturas:\n",
    "# atorvastatina, sinvastatina, aspirina\n",
    "ms = [Chem.MolFromSmiles('CC(C)C1=C(C(=C(N1CC[C@H](C[C@H](CC(=O)O)O)O)C2=CC=C(C=C2)F)C3=CC=CC=C3)C(=O)NC4=CC=CC=C4'), \n",
    "      Chem.MolFromSmiles('CCC(C)(C)C(=O)O[C@H]1C[C@H](C=C2[C@H]1[C@H]([C@H](C=C2)C)CC[C@@H]3C[C@H](CC(=O)O3)O)C'), \n",
    "      Chem.MolFromSmiles('CC(=O)OC1=CC=CC=C1C(=O)O')]"
   ]
  },
  {
   "cell_type": "markdown",
   "id": "f0d6de43-30b6-4818-95db-e8b3caab4a5b",
   "metadata": {},
   "source": [
    "Vamos agora gerar os *fingerprints* usando um objeto `FingeprintGenerator`. Note que usamos o método `GetFingerprint()` para gerar o *fingerprint* no formato apropriado para uso na função de similaridade."
   ]
  },
  {
   "cell_type": "code",
   "execution_count": 3,
   "id": "355b516f-2ac9-45de-8ea2-d1fe8d99725c",
   "metadata": {},
   "outputs": [],
   "source": [
    "# Criando o objeto FingerprintGenerator. Vamos usar o fingerprint RDKit\n",
    "rdkgen = rdFingerprintGenerator.GetRDKitFPGenerator(fpSize=1024)"
   ]
  },
  {
   "cell_type": "code",
   "execution_count": 4,
   "id": "d9d5f6be-f335-430b-a329-c8ff2ad4676b",
   "metadata": {},
   "outputs": [],
   "source": [
    "# Gerar fingerprints\n",
    "fps = [rdkgen.GetFingerprint(x) for x in ms]"
   ]
  },
  {
   "cell_type": "code",
   "execution_count": 5,
   "id": "f7e3bf24-9fc8-449f-a26a-b4b9dd0a5cf0",
   "metadata": {},
   "outputs": [
    {
     "data": {
      "text/plain": [
       "rdkit.DataStructs.cDataStructs.ExplicitBitVect"
      ]
     },
     "execution_count": 5,
     "metadata": {},
     "output_type": "execute_result"
    }
   ],
   "source": [
    "# Veja o tipo do objeto fingerprint\n",
    "type(fps[0])"
   ]
  },
  {
   "cell_type": "markdown",
   "id": "1bbf05f4-55ab-4683-a2ba-2d499bf0e0af",
   "metadata": {},
   "source": [
    "## Funções \"Similarity\" do RDKit\n",
    "\n",
    "Escrevi a função abaixo para condensar todas as métricas de similaridade disponíveis no RDKit"
   ]
  },
  {
   "cell_type": "code",
   "execution_count": 6,
   "id": "4e64c00a-02b6-4edd-9bd3-9369c9ae6d2c",
   "metadata": {},
   "outputs": [],
   "source": [
    "from rdkit import DataStructs\n",
    "\n",
    "def calc_similarity(fp1, fp2, metric=\"Tanimoto\", a=0.5, b=0.5):\n",
    "    \"\"\"\n",
    "    Calcula a similaridade entre dois fingerprints moleculares usando diferentes métricas de similaridade \n",
    "    disponíveis no RDKit.\n",
    "\n",
    "    Parâmetros:\n",
    "    -----------\n",
    "    fp1 : objeto do tipo ExplicitBitVect ou SparseBitVect do RDKit\n",
    "        O primeiro fingerprint molecular para comparação.\n",
    "        \n",
    "    fp2 : objeto do tipo ExplicitBitVect ou SparseBitVect do RDKit\n",
    "        O segundo fingerprint molecular para ser comparado a fp1.\n",
    "        \n",
    "    metric : str, padrão \"Tanimoto\"\n",
    "        A métrica de similaridade a ser utilizada para a comparação. Opções disponíveis:\n",
    "        - \"AllBit\": Similaridade com base em todos os bits da impressão digital.\n",
    "        - \"Asymmetric\": Similaridade assimétrica.\n",
    "        - \"BraunBlanquet\": Índice de Braun-Blanquet.\n",
    "        - \"Cosine\": Similaridade cosseno.\n",
    "        - \"Dice\": Similaridade Dice.\n",
    "        - \"Kulczynski\": Índice de Kulczynski.\n",
    "        - \"McConnaughey\": Similaridade de McConnaughey.\n",
    "        - \"OnBit\": Similaridade com base nos bits \"ligados\" (iguais a 1).\n",
    "        - \"RogotGoldberg\": Similaridade de Rogot-Goldberg.\n",
    "        - \"Russel\": Similaridade Russel.\n",
    "        - \"Sokal\": Similaridade Sokal.\n",
    "        - \"Tanimoto\": Índice de Tanimoto (Jaccard), o mais usado para cálculo de similaridade de fingerprints.\n",
    "        - \"Tversky\": Índice de Tversky, permite uma ponderação assimétrica da similaridade.\n",
    "\n",
    "    a : float, padrão 0.5\n",
    "        O parâmetro alpha utilizado no cálculo da similaridade de Tversky. Ajusta a importância\n",
    "        das características únicas de fp1. Usado apenas se metric=\"Tversky\".\n",
    "\n",
    "    b : float, padrão 0.5\n",
    "        O parâmetro beta utilizado no cálculo da similaridade de Tversky. Ajusta a importância\n",
    "        das características únicas de fp2. Usado apenas se metric=\"Tversky\".\n",
    "    \n",
    "    Retorna:\n",
    "    --------\n",
    "    float\n",
    "        O valor de similaridade entre os dois fingerprints moleculares, baseado na métrica selecionada.\n",
    "    \"\"\"\n",
    "    \n",
    "    if metric == \"AllBit\":\n",
    "        return DataStructs.AllBitSimilarity(fp1, fp2)\n",
    "    elif metric == \"Asymmetric\":\n",
    "        return DataStructs.AsymmetricSimilarity(fp1, fp2)\n",
    "    elif metric == \"BraunBlanquet\":\n",
    "        return DataStructs.BraunBlanquetSimilarity(fp1, fp2)\n",
    "    elif metric == \"Cosine\":\n",
    "        return DataStructs.CosineSimilarity(fp1, fp2)\n",
    "    elif metric == \"Dice\":\n",
    "        return DataStructs.DiceSimilarity(fp1, fp2)\n",
    "    elif metric == \"Kulczynski\":\n",
    "        return DataStructs.KulczynskiSimilarity(fp1, fp2)\n",
    "    elif metric == \"McConnaughey\":\n",
    "        return DataStructs.McConnaugheySimilarity(fp1, fp2)\n",
    "    elif metric == \"OnBit\":\n",
    "        return DataStructs.OnBitSimilarity(fp1, fp2)\n",
    "    elif metric == \"RogotGoldberg\":\n",
    "        return DataStructs.RogotGoldbergSimilarity(fp1, fp2)\n",
    "    elif metric == \"Russel\":\n",
    "        return DataStructs.RusselSimilarity(fp1, fp2)\n",
    "    elif metric == \"Sokal\":\n",
    "        return DataStructs.SokalSimilarity(fp1, fp2)\n",
    "    elif metric == \"Tanimoto\":\n",
    "        return DataStructs.TanimotoSimilarity(fp1, fp2) \n",
    "    elif metric == \"Tversky\":\n",
    "        # O índice de Tversky requer o uso de \"pesos\" a e b\n",
    "        # Por exemplo, ao comparar dois *fingerprints* `fp1` e `fp2`, damos mais importância\n",
    "        # às subestruturas presentes em `fp1` usando TverskySimilarity(fp1, fp2, a=0.7, b=0.3)\n",
    "        return DataStructs.TverskySimilarity(fp1, fp2, a=a, b=b)\n",
    "    else:\n",
    "        raise ValueError(f\"Escolha uma métrica válida: [AllBit, Asymmetric, BraunBlanquet, Cosine, Dice, Kulczynski, McConnaughey, OnBit, RogotGoldberg, Russel, Sokal, Tanimoto, Tversky]\")\n"
   ]
  },
  {
   "cell_type": "code",
   "execution_count": 7,
   "id": "5f189230-afa1-4258-a2dc-9b607d217c9c",
   "metadata": {},
   "outputs": [],
   "source": [
    "similarity_metrics = [\"AllBit\", \"Asymmetric\", \"BraunBlanquet\", \"Cosine\", \"Dice\", \n",
    "                      \"Kulczynski\", \"McConnaughey\", \"OnBit\", \"RogotGoldberg\", \n",
    "                      \"Russel\", \"Sokal\", \"Tanimoto\", \"Tversky\"]"
   ]
  },
  {
   "cell_type": "code",
   "execution_count": 8,
   "id": "aa7cc853-7bd7-45cb-bfb5-5f018d01e12f",
   "metadata": {},
   "outputs": [
    {
     "name": "stdout",
     "output_type": "stream",
     "text": [
      "AllBit similarity: 0.513\n",
      "Asymmetric similarity: 0.931\n",
      "BraunBlanquet similarity: 0.510\n",
      "Cosine similarity: 0.689\n",
      "Dice similarity: 0.659\n",
      "Kulczynski similarity: 0.720\n",
      "McConnaughey similarity: 0.441\n",
      "OnBit similarity: 0.491\n",
      "RogotGoldberg similarity: 0.403\n",
      "Russel similarity: 0.471\n",
      "Sokal similarity: 0.326\n",
      "Tanimoto similarity: 0.491\n",
      "Tversky similarity: 0.659\n"
     ]
    }
   ],
   "source": [
    "for m in similarity_metrics:\n",
    "    print(f\"{m} similarity: {calc_similarity(fps[0], fps[1], metric=m):.3f}\")"
   ]
  },
  {
   "cell_type": "code",
   "execution_count": 9,
   "id": "a18b3a89-2bf1-4e2d-8db9-5d5f80817914",
   "metadata": {},
   "outputs": [
    {
     "name": "stdout",
     "output_type": "stream",
     "text": [
      "AllBit similarity: 0.348\n",
      "Asymmetric similarity: 0.934\n",
      "BraunBlanquet similarity: 0.315\n",
      "Cosine similarity: 0.543\n",
      "Dice similarity: 0.472\n",
      "Kulczynski similarity: 0.625\n",
      "McConnaughey similarity: 0.250\n",
      "OnBit similarity: 0.308\n",
      "RogotGoldberg similarity: 0.310\n",
      "Russel similarity: 0.291\n",
      "Sokal similarity: 0.182\n",
      "Tanimoto similarity: 0.308\n",
      "Tversky similarity: 0.472\n"
     ]
    }
   ],
   "source": [
    "for m in similarity_metrics:\n",
    "    print(f\"{m} similarity: {calc_similarity(fps[0], fps[2], metric=m):.3f}\")"
   ]
  },
  {
   "cell_type": "markdown",
   "id": "afcadd0b-d876-4d52-8386-9c44b16848d3",
   "metadata": {
    "tags": []
   },
   "source": [
    "## Matriz de similaridades/distâncias\n",
    "\n",
    "Podemos usar a função `calc_similarity()` para calcular as similaridades entre todos os pares de *fingerprints* em um conjunto de dados. Com isso, podemos criar uma **matriz de similaridades** ou uma **matriz de distâncias** (distância = 1 - similaridade).\n",
    "\n",
    "A matriz de distâncias é útil para aplicações como *clustering* ou determinação do domínio de aplicabilidade. Veja um exemplo no Notebook [Clustering (Agrupamento)](https://github.com/rflameiro/Python_e_Quiminformatica/blob/main/Quiminformatica/Clustering%20(Agrupamento).ipynb)."
   ]
  },
  {
   "cell_type": "code",
   "execution_count": 10,
   "id": "87ec992c-0f80-4150-a9a4-7bb216f893b8",
   "metadata": {},
   "outputs": [],
   "source": [
    "# Cálculo da matriz de distâncias \n",
    "\n",
    "# Iniciamos uma matriz n x n preenchida de zeros, n é o número total de estruturas\n",
    "n = len(fps)\n",
    "dist_mat = np.zeros((len(fps), len(fps)))\n",
    "\n",
    "# Como a matriz é simétrica, podemos calcular apenas metade dela:\n",
    "for i in range(n):\n",
    "    for j in range(i):\n",
    "        sim = DataStructs.TanimotoSimilarity(fps[i], fps[j])\n",
    "        # distância = 1 - similaridade\n",
    "        dist = 1 - sim\n",
    "        dist_mat[i][j] = dist\n",
    "        \n",
    "# E preenchemos o restante usando a matriz transposta\n",
    "# Note que a diagonal permanece preenchida por zeros\n",
    "# já que a distância entre um ponto e ele próprio é zero\n",
    "dist_mat = dist_mat + dist_mat.T"
   ]
  },
  {
   "cell_type": "code",
   "execution_count": 11,
   "id": "01055b63-35aa-4a7d-ab99-7b8a83f29495",
   "metadata": {},
   "outputs": [
    {
     "data": {
      "text/plain": [
       "array([[0.        , 0.50866463, 0.69151139],\n",
       "       [0.50866463, 0.        , 0.76730486],\n",
       "       [0.69151139, 0.76730486, 0.        ]])"
      ]
     },
     "execution_count": 11,
     "metadata": {},
     "output_type": "execute_result"
    }
   ],
   "source": [
    "dist_mat"
   ]
  },
  {
   "cell_type": "markdown",
   "id": "a8ab76ee-b107-490a-919c-817e9502c617",
   "metadata": {},
   "source": [
    "## Funções \"Bulk\" do RDKit\n",
    "\n",
    "As funções para cálculo de similaridade também estão disponíveis na versão \"Bulk\", que são formas otimizadas para calcular as similaridades entre um *fingerprint* e uma lista de *fingerprints*."
   ]
  },
  {
   "cell_type": "code",
   "execution_count": 12,
   "id": "870f94ca-10ac-4cba-80c9-7fc65c878a96",
   "metadata": {
    "tags": []
   },
   "outputs": [],
   "source": [
    "from rdkit import DataStructs\n",
    "\n",
    "def calc_bulk_similarity(fp1, fps, metric=\"Tanimoto\", a=0.5, b=0.5):\n",
    "    \"\"\"\n",
    "    Calcula a similaridade \"Bulk\" entre um fingerprint (fp1) e uma lista de fingerprints (fps).\n",
    "    \n",
    "    Parâmetros:\n",
    "        fp1: O fingerprint de referência.\n",
    "        fps: Lista de fingerprints para comparar com fp1.\n",
    "        metric: A métrica de similaridade a ser utilizada para a comparação (padrão = \"Tanimoto\").\n",
    "        a: alpha (usado apenas quando metric=\"Tversky\").\n",
    "        b: beta (usado apenas quando metric=\"Tversky\").\n",
    "    \n",
    "    Retorna:\n",
    "        Uma lista de similaridades de mesmo tamanho da lista de fingerprints.\n",
    "    \"\"\"\n",
    "    \n",
    "    if metric == \"AllBit\":\n",
    "        sim = DataStructs.BulkAllBitSimilarity(fp1, fps)\n",
    "    elif metric == \"Asymmetric\":\n",
    "        sim = DataStructs.BulkAsymmetricSimilarity(fp1, fps)\n",
    "    elif metric == \"BraunBlanquet\":\n",
    "        sim = DataStructs.BulkBraunBlanquetSimilarity(fp1, fps)\n",
    "    elif metric == \"Cosine\":\n",
    "        sim = DataStructs.BulkCosineSimilarity(fp1, fps)\n",
    "    elif metric == \"Dice\":\n",
    "        sim = DataStructs.BulkDiceSimilarity(fp1, fps)\n",
    "    elif metric == \"Kulczynski\":\n",
    "        sim = DataStructs.BulkKulczynskiSimilarity(fp1, fps)\n",
    "    elif metric == \"McConnaughey\":\n",
    "        sim = DataStructs.BulkMcConnaugheySimilarity(fp1, fps)\n",
    "    elif metric == \"OnBit\":\n",
    "        sim = DataStructs.BulkOnBitSimilarity(fp1, fps)\n",
    "    elif metric == \"RogotGoldberg\":\n",
    "        sim = DataStructs.BulkRogotGoldbergSimilarity(fp1, fps)\n",
    "    elif metric == \"Russel\":\n",
    "        sim = DataStructs.BulkRusselSimilarity(fp1, fps)\n",
    "    elif metric == \"Sokal\":\n",
    "        sim = DataStructs.BulkSokalSimilarity(fp1, fps)\n",
    "    elif metric == \"Tanimoto\":\n",
    "        sim = DataStructs.BulkTanimotoSimilarity(fp1, fps)\n",
    "    elif metric == \"Tversky\":\n",
    "        sim = DataStructs.BulkTverskySimilarity(fp1, fps, a=a, b=b)\n",
    "    else:\n",
    "        raise ValueError(f\"Escolha uma métrica válida: [AllBit, Asymmetric, BraunBlanquet, Cosine, Dice, Kulczynski, McConnaughey, OnBit, RogotGoldberg, Russel, Sokal, Tanimoto, Tversky]\")\n",
    "\n",
    "    return sim\n"
   ]
  },
  {
   "cell_type": "code",
   "execution_count": 13,
   "id": "07538bfe-2367-45d4-b45d-b386e8ef292e",
   "metadata": {},
   "outputs": [
    {
     "data": {
      "text/plain": [
       "[1.0, 0.688915972715367, 0.5427564813365878]"
      ]
     },
     "execution_count": 13,
     "metadata": {},
     "output_type": "execute_result"
    }
   ],
   "source": [
    "# Calcular a similaridade cosseno entre a atorvastatina e todos os compostos da lista\n",
    "calc_bulk_similarity(fps[0], fps, metric=\"Cosine\")"
   ]
  },
  {
   "cell_type": "markdown",
   "id": "83b42f02-41be-4bcf-8ad7-6f6b76859f4a",
   "metadata": {},
   "source": [
    "## Busca por similaridade em um banco de estruturas\n",
    "\n",
    "Um exemplo de aplicação da função `calc_bulk_similarity()`: vamos procurar antibióticos similares à penicilina (Penicillin G). Para isso, usaremos a lista de antibióticos que disponibilizei na pasta `datasets`. Defini similaridade como um índice de Tanimoto maior que 0.8."
   ]
  },
  {
   "cell_type": "code",
   "execution_count": 14,
   "id": "6a2befb2-6fb9-4a21-91d5-abfaeda18b96",
   "metadata": {},
   "outputs": [],
   "source": [
    "antibiotics = pd.read_csv(\"../datasets/antibiotics_SMILES.csv\")"
   ]
  },
  {
   "cell_type": "code",
   "execution_count": 15,
   "id": "e9d796d7-6467-42f5-8890-61f6bf3d0b48",
   "metadata": {},
   "outputs": [],
   "source": [
    "antibiotics_fps = [rdkgen.GetFingerprint(Chem.MolFromSmiles(smi)) for smi in antibiotics[\"SMILES\"]]"
   ]
  },
  {
   "cell_type": "code",
   "execution_count": 16,
   "id": "90411abb-f45d-4adc-8983-c3c7b4d16667",
   "metadata": {},
   "outputs": [
    {
     "name": "stdout",
     "output_type": "stream",
     "text": [
      "Cefadroxil: similaridade com a penicilina G = 0.801\n",
      "Cefalexin: similaridade com a penicilina G = 0.800\n",
      "Amoxicillin: similaridade com a penicilina G = 0.955\n",
      "Ampicillin: similaridade com a penicilina G = 0.968\n",
      "Azlocillin: similaridade com a penicilina G = 0.898\n",
      "Carbenicillin: similaridade com a penicilina G = 0.938\n",
      "Cloxacillin: similaridade com a penicilina G = 0.813\n",
      "Dicloxacillin: similaridade com a penicilina G = 0.812\n",
      "Flucloxacillin: similaridade com a penicilina G = 0.800\n",
      "Methicillin: similaridade com a penicilina G = 0.866\n",
      "Mezlocillin: similaridade com a penicilina G = 0.849\n",
      "Nafcillin: similaridade com a penicilina G = 0.852\n",
      "Oxacillin: similaridade com a penicilina G = 0.829\n",
      "Penicillin G: similaridade com a penicilina G = 1.000\n",
      "Penicillin V: similaridade com a penicilina G = 0.928\n",
      "Piperacillin: similaridade com a penicilina G = 0.892\n",
      "Temocillin: similaridade com a penicilina G = 0.824\n",
      "Ticarcillin: similaridade com a penicilina G = 0.895\n"
     ]
    }
   ],
   "source": [
    "# Definir query\n",
    "query_smiles = 'CC1([C@@H](N2[C@H](S1)[C@@H](C2=O)NC(=O)CC3=CC=CC=C3)C(=O)O)C'\n",
    "query_fp = rdkgen.GetFingerprint(Chem.MolFromSmiles(query_smiles))\n",
    "\n",
    "# Calcular similaridades pelo índice de Tanimoto\n",
    "scores = DataStructs.BulkTanimotoSimilarity(query_fp, antibiotics_fps)\n",
    "\n",
    "# Selecionar as entradas com similaridade acima de um valor de corte\n",
    "threshold = 0.8\n",
    "\n",
    "for i, score in enumerate(scores):\n",
    "    if score >= threshold:\n",
    "        print(f\"{antibiotics.iloc[i]['name']}: similaridade com a penicilina G = {score:.3f}\")"
   ]
  },
  {
   "cell_type": "markdown",
   "id": "d7296b75-2d3f-406f-a8c4-a7f97e71a7e5",
   "metadata": {},
   "source": [
    "# Algumas fontes consultadas\n",
    "\n",
    "[Thread: [Rdkit-discuss] BulkTanimotoSimilarity](https://sourceforge.net/p/rdkit/mailman/rdkit-discuss/thread/663770d4-b809-c599-e379-31f57380a1d0@gmail.com/)\n",
    "\n",
    "[Chem LibreTexts: 6.1: Molecular Descriptors](https://chem.libretexts.org/Courses/Intercollegiate_Courses/Cheminformatics/06%3A_Molecular_Similarity/6.01%3A_Molecular_Descriptors)"
   ]
  }
 ],
 "metadata": {
  "kernelspec": {
   "display_name": "Python 3 (ipykernel)",
   "language": "python",
   "name": "python3"
  },
  "language_info": {
   "codemirror_mode": {
    "name": "ipython",
    "version": 3
   },
   "file_extension": ".py",
   "mimetype": "text/x-python",
   "name": "python",
   "nbconvert_exporter": "python",
   "pygments_lexer": "ipython3",
   "version": "3.10.4"
  }
 },
 "nbformat": 4,
 "nbformat_minor": 5
}
