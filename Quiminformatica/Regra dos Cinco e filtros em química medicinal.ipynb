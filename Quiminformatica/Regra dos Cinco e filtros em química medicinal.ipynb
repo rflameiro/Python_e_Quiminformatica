{
 "cells": [
  {
   "cell_type": "markdown",
   "metadata": {},
   "source": [
    "#  Regra dos Cinco\n",
    "\n",
    "Uma das principais áreas em que a quiminformática é amplamente utilizada é a química medicinal. Sendo o desafio da química medicinal o desenvolvimento (muitas vezes, chamado incorretamente de \"descoberta\") de fármacos, é natural que em diversos momentos os pesquisadores tenham se perguntado: quais propriedades fazem com que uma molécula seja (ou não) um fármaco?\n",
    "\n",
    "De fato, essa questão não tem uma resposta clara, tendo em vista, por exemplo, a existência de diversas substâncias utilizadas como fármacos no passado e que hoje são proibidas ([exemplos](https://en.wikipedia.org/wiki/List_of_withdrawn_drugs)), ou mesmo substâncias cujo uso é permitido em um país e proibido em outro. \n",
    "\n",
    "Ainda assim, desde que o desenvolvimento de fármacos passou a usar de estratégias mais racionais, mostrou-se necessário encontrar alguma maneira de selecionar compostos mais promissores, tendo em vista o (praticamente) infinito número de substâncias que podem ser sintetizadas e o alto custo do desenvolvimento de um fármaco.\n",
    "\n",
    "Em 1997, Lipinski, Lombardo, Dominy e Feeney avaliaram uma série de fármacos aprovados, administrados por via oral, e observaram que a maior parte apresentava propriedades físico-químicas dentro de certos limites. São elas:\n",
    "\n",
    "- Massa molecular relativa (MW) ≤ 500\n",
    "- Logaritmo do coeficiente de partição octanol/água (logP) ≤ 5\n",
    "- Número de aceptores de ligação de hidrogênio ≤ 10\n",
    "- Número de doadores de ligação de hidrogênio ≤ 5\n",
    "\n",
    "O grupo chamou essa tendência de **Regra dos Cinco** (*Rule of Five*) pois os limites observados são todos múltiplos de cinco. Hoje, o termo \"Regra de Lipinski\" é também usado. Foi sugerido que compostos bioativos que seguem a Regra dos Cinco têm mais chance de eventualmente serem aprovados como fármacos do que compostos que quebram uma ou mais dessas regras. Isso é uma consequência da influência desses descritores em propriedades relevantes para fármacos, como absorção por via oral, permeabilidade e solubilidade. Por exemplo, compostos com logP > 5, sendo mais lipofílicos, podem apresentar problemas de solubilidade no plasma sanguíneo.\n",
    "\n",
    "Vejamos abaixo como verificar se um composto segue a Regra dos Cinco de Lipinski usando o RDKit:"
   ]
  },
  {
   "cell_type": "code",
   "execution_count": 1,
   "metadata": {},
   "outputs": [],
   "source": [
    "from rdkit import Chem\n",
    "from rdkit.Chem import Descriptors\n",
    "from rdkit.ML.Descriptors import MoleculeDescriptors"
   ]
  },
  {
   "cell_type": "code",
   "execution_count": 2,
   "metadata": {},
   "outputs": [],
   "source": [
    "# Função para calcular os valores da regra dos cinco\n",
    "def rule_of_five(smi):\n",
    "    print()\n",
    "    print(\"Regra dos Cinco de Lipinski\")\n",
    "    \n",
    "    mol = Chem.MolFromSmiles(smi)\n",
    "    d = [\"MolLogP\", \"MolWt\", \"NumHAcceptors\", \"NumHDonors\"]\n",
    "    calc = MoleculeDescriptors.MolecularDescriptorCalculator(d)\n",
    "    values = calc.CalcDescriptors(mol)\n",
    "\n",
    "    violations = 0\n",
    "    if values[0] > 5:\n",
    "        violations += 1\n",
    "        print(\"    logP calculado > 5\")\n",
    "    if values[1] > 500:\n",
    "        violations += 1\n",
    "        print(\"    Massa molecular relativa > 500\")\n",
    "    if values[2] > 10:\n",
    "        violations += 1\n",
    "        print(\"    Número de aceptores de ligação de hidrogênio > 10\")\n",
    "    if values[3] > 5:\n",
    "        violations += 1\n",
    "        print(\"    Número de doaores de ligação de hidrogênio > 5\")\n",
    "    if violations:\n",
    "        print(f\"    Total de violações: {violations}\")\n",
    "    else: \n",
    "        print(\"    Nenhuma violação\")\n",
    "    print()"
   ]
  },
  {
   "cell_type": "code",
   "execution_count": 3,
   "metadata": {},
   "outputs": [
    {
     "name": "stdout",
     "output_type": "stream",
     "text": [
      "\n",
      "Regra dos Cinco de Lipinski\n",
      "    Nenhuma violação\n",
      "\n"
     ]
    }
   ],
   "source": [
    "# SMILES do composto a ser verificado\n",
    "smi = \"COc1ccc2c(c1)nc([nH]2)S(=O)Cc1ncc(c(c1C)OC)C\"  # exemplo: omeprazol\n",
    "\n",
    "rule_of_five(smi)"
   ]
  },
  {
   "cell_type": "markdown",
   "metadata": {},
   "source": [
    "A Regra dos Cinco parece ter funcionado para o omeprazol, um fármaco utilizado para tratar úlceras. \n",
    "\n",
    "Porém, seria essa uma regra absoluta para identificar fármacos (e não-fármacos)? \n",
    "\n",
    "É fácil verificar que não. Vejamos abaixo dois exemplos: taxol e atrazina."
   ]
  },
  {
   "cell_type": "code",
   "execution_count": 4,
   "metadata": {},
   "outputs": [
    {
     "name": "stdout",
     "output_type": "stream",
     "text": [
      "\n",
      "Regra dos Cinco de Lipinski\n",
      "    Massa molecular relativa > 500\n",
      "    Número de aceptores de ligação de hidrogênio > 10\n",
      "    Total de violações: 2\n",
      "\n"
     ]
    }
   ],
   "source": [
    "taxol = \"CC1=C2C(C(=O)C3(C(CC4C(C3C(C(C2(C)C)(CC1OC(=O)C(C(C5=CC=CC=C5)NC(=O)C6=CC=CC=C6)O)O)OC(=O)C7=CC=CC=C7)(CO4)OC(=O)C)O)C)OC(=O)C\"\n",
    "rule_of_five(taxol)"
   ]
  },
  {
   "cell_type": "code",
   "execution_count": 5,
   "metadata": {},
   "outputs": [
    {
     "name": "stdout",
     "output_type": "stream",
     "text": [
      "\n",
      "Regra dos Cinco de Lipinski\n",
      "    Nenhuma violação\n",
      "\n"
     ]
    }
   ],
   "source": [
    "atrazina = \"CCNc1nc(Cl)nc(NC(C)C)n1\"\n",
    "rule_of_five(atrazina)"
   ]
  },
  {
   "cell_type": "markdown",
   "metadata": {},
   "source": [
    "Vemos que o taxol, um fármaco aprovado para o tratamento de cânceres, não segue a Regra dos Cinco, enquanto a atrazina, um agroquímico que não é usado como fármaco, não viola nenhuma regra.\n",
    "\n",
    "A Regra dos Cinco é, dessa forma, constante alvo de críticas pela comunidade científica. Por exemplo, [um trabalho de 2015](https://www.ncbi.nlm.nih.gov/pmc/articles/PMC4342520/) indica que somente 50% dos fármacos orais aprovados seguiram todas as regras. Fármacos altamente relevantes, como atorvastatina (Lipitor) e montelukast (Singulair) também quebram mais de uma das regras, e uma nova classe de compostos relativamente \"grandes\", denominados PROTACs, vem sendo cada vez mais exploradas. Esse espaço químico de compostos relevantes na química medicinal que quebram a Regra dos Cinco é chamado na literatura de “*beyond rule of five*” (bRo5).\n",
    "\n",
    "Em resumo, mesmo não sendo uma lei absoluta, a Regra ainda pode ser válida como guia, e deve ser quebrada somente quando houver uma boa razão."
   ]
  },
  {
   "cell_type": "markdown",
   "metadata": {},
   "source": [
    "# Outras regras e filtros\n",
    "\n",
    "Outras regras derivadas de observações de grandes números de dados surgiram com o tempo, muitas delas sendo usadas como \"filtros\" em processos de triagem virtual de compostos. Seu uso mais comum consiste em partir de um banco de dados com milhões de estruturas e selecionar apenas as que se adequam a um conjunto de propriedades, o que, espera-se, aumentará a chance de sucesso no *pipeline* de desenvolvimento de fármacos. Alguns exemplos de filtros são apresentados a seguir:\n",
    "\n",
    "**Filtro de Veber**: biodisponibilidade (absorção oral). [Fonte](https://doi.org/10.1021/jm020017n)\n",
    "- Área polar superficial topológica (TPSA) ≤ 140 Å²\n",
    "- Número de ligações rotacionáveis ≤ 10\n",
    "\n",
    "**Filtro de Egan**: biodisponibilidade (absorção oral). [Fonte](https://doi.org/10.1021/jm000292e)\n",
    "- logP ≤ 5.88 (o descritor AlogP98 foi usado)\n",
    "- TPSA ≤ 131.6 Å²\n",
    "\n",
    "**Filtro _beyond rule of five_**: biodisponibilidade (absorção oral). [Fonte](https://doi.org/10.1016/j.chembiol.2014.08.013)\n",
    "- MW ≤ 1000\n",
    "- −2 ≤ clogP ≤ 10\n",
    "- HBD ≤ 6\n",
    "- HBA ≤ 15\n",
    "- PSA ≤ 250 Å²\n",
    "- RotB ≤ 20\n",
    "\n",
    "**Filtro de Ghose**: fármaco-similariadade (*drug-likeness*) [Fonte](https://pubs.acs.org/doi/full/10.1021/cc9800071)\n",
    "- 160 < MW < 480\n",
    "- −0.4 < logP < 5.6\n",
    "- 20 < número de átomos < 70\n",
    "- 40 < refratividade molar (MolMR no RDKit) < 130\n",
    "\n",
    "**Índice de desejabilidade (*Desirability index*)**: fármaco-similariadade (*drug-likeness*). [Fonte](https://doi.org/10.1038%2Fnchem.1243)\n",
    "- QED: valor que leva em conta diversas propriedades físico-químicas e a presença de alertas (PAINS). Varia de zero (todas as propriedades são desfavoráveis) a um (todas as propriedades favoráveis)\n",
    "\n",
    "**Regra dos três**: para desenvolvimento de fármacos baseado em fragmentos. [Fonte] (https://www.sciencedirect.com/science/article/abs/pii/S1359644603028319)\n",
    "- MW ≤ 300\n",
    "- logP ≤ 3\n",
    "- HBD ≤ 3\n",
    "- HBA ≤ 3\n",
    "\n",
    "**Filtro de Van der Waterbeemd**: permeabilidade na barreira hematoencefálica. [Fonte](https://onlinelibrary.wiley.com/doi/abs/10.1002/9783527623860.ch5)\n",
    "- MW ≤ 450\n",
    "- TPSA ≤ 90 Å²\n",
    "\n",
    "**Filtro de Murcko**: permeabilidade na barreira hematoencefálica. [Fonte](https://doi.org/10.1021/jm990017w)\n",
    "- 200 ≤ MW ≤ 400\n",
    "- logP ≤ 5.2\n",
    "- HBA ≤ 4\n",
    "- HBD ≤ 3\n",
    "- Número de ligações rotacionáveis ≤ 7\n",
    "\n",
    "Caso deseje implementar algum desses filtros, basta adaptar a função `rule_of_five()` apresentada acima e incluir os descritores desejados. Veja abaixo uma lista contendo os descritores relevantes disponíveis no RDKit: "
   ]
  },
  {
   "cell_type": "code",
   "execution_count": 6,
   "metadata": {},
   "outputs": [],
   "source": [
    "d = [\"FractionCSP3\",\n",
    "     \"HeavyAtomCount\", \n",
    "     \"MolLogP\", \n",
    "     \"MolMR\", \n",
    "     \"MolWt\", \n",
    "     \"NumAromaticRings\", \n",
    "     \"NumHAcceptors\", \n",
    "     \"NumHDonors\", \n",
    "     \"NumRotatableBonds\", \n",
    "     \"TPSA\",\n",
    "     \"qed\"]"
   ]
  },
  {
   "cell_type": "markdown",
   "metadata": {},
   "source": [
    "Infelizmente, outras propriedades relevantes para biodisponibilidade, como logD e pK<sub>a</sub>, não podem ser calculadas pelo RDKit."
   ]
  },
  {
   "cell_type": "markdown",
   "metadata": {},
   "source": [
    "**Algumas fontes consultadas**\n",
    "\n",
    "- [Molecular Filters in Medicinal Chemistry](https://www.mdpi.com/2673-8392/3/2/35)\n",
    "- [Trends in Molecular Properties, Bioavailability, and Permeability across the Bayer Compound Collection](https://pubs.acs.org/doi/10.1021/acs.jmedchem.2c01577)\n",
    "- [Two Decades under the Influence of the Rule of Five and the Changing Properties of Approved Oral Drugs](https://pubs.acs.org/doi/10.1021/acs.jmedchem.8b00686)\n",
    "\n",
    "Veja também o *Notebook* [Eficiência do ligante e métricas de qualidade](https://github.com/rflameiro/Python_e_Quiminformatica/blob/main/Quiminformatica/Efici%C3%AAncia%20do%20ligante%20e%20m%C3%A9tricas%20de%20qualidade.ipynb)"
   ]
  },
  {
   "cell_type": "code",
   "execution_count": null,
   "metadata": {},
   "outputs": [],
   "source": []
  }
 ],
 "metadata": {
  "kernelspec": {
   "display_name": "Python 3 (ipykernel)",
   "language": "python",
   "name": "python3"
  },
  "language_info": {
   "codemirror_mode": {
    "name": "ipython",
    "version": 3
   },
   "file_extension": ".py",
   "mimetype": "text/x-python",
   "name": "python",
   "nbconvert_exporter": "python",
   "pygments_lexer": "ipython3",
   "version": "3.10.4"
  }
 },
 "nbformat": 4,
 "nbformat_minor": 4
}
