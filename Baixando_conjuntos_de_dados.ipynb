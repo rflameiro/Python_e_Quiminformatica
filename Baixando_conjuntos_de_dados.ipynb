{
  "nbformat": 4,
  "nbformat_minor": 0,
  "metadata": {
    "colab": {
      "provenance": []
    },
    "kernelspec": {
      "name": "python3",
      "display_name": "Python 3"
    },
    "language_info": {
      "name": "python"
    }
  },
  "cells": [
    {
      "cell_type": "markdown",
      "source": [
        "## Introdução\n",
        "\n",
        "É fácil baixar arquivos manualmente no seu computador, porém, em alguns casos, como quando usamos o Google Colab, pode ser mais interessante obtê-los diretamente dos *web servers* em que estão hospedados, como GitHub ou Kaggle. Dessa forma, uma cópia do arquivo é baixada apenas no ambiente do Colab, sendo excluída quando o Notebook é fechado. \n",
        "\n",
        "Vamos ver alguns exemplos de como baixar conjuntos de dados para nossas análises."
      ],
      "metadata": {
        "id": "dgW9lgxdGKF9"
      }
    },
    {
      "cell_type": "markdown",
      "metadata": {
        "id": "kNfTUo7Pl_hl"
      },
      "source": [
        "## Exemplo 1\n",
        "\n",
        "Esta página do GitHub (https://github.com/vinayak2019/chemistry_python_intermediate) contém um arquivo chamado `H_smiles.dat`, um dataset de estruturas no formato SMILES.\n",
        "\n",
        "Não é possível visualizar o arquivo clicando nele, pois o GitHub indica que é um arquivo muito grande. Clicando em `Raw`, o GitHub nos redireciona ao link https://raw.githubusercontent.com/vinayak2019/chemistry_python_intermediate/main/H_smiles.dat em que podemos ver o arquivo no formato de texto.\n",
        "\n",
        "É possível baixar o arquivo no formato \"raw\" localmente no Google Colab usando o `wget`, um programa que baixa conteúdo presente em *web servers*:"
      ]
    },
    {
      "cell_type": "code",
      "metadata": {
        "id": "fwcW6j_w2rAR"
      },
      "source": [
        "# Baixar o arquivo usando wget\n",
        "! wget https://raw.githubusercontent.com/vinayak2019/chemistry_python_intermediate/main/H_smiles.dat"
      ],
      "execution_count": null,
      "outputs": []
    },
    {
      "cell_type": "markdown",
      "source": [
        "Podemos usar as funcionalidades do Python para ler e deixar o arquivo em um formato mais adequado para uso:"
      ],
      "metadata": {
        "id": "GS5wekDGE8GR"
      }
    },
    {
      "cell_type": "code",
      "source": [
        "# Ler o arquivo\n",
        "with open(\"H_smiles.dat\", \"r\") as f:\n",
        "    smiles_file = f.read()\n",
        "\n",
        "# Gerar lista de SMILES\n",
        "smiles_list = smiles_file.strip().split(\"\\n\")\n",
        "\n",
        "print(\"O número de SMILES na lista é: \", len(smiles_list))\n",
        "print(\"Os primeiros 10 SMILES na lista são: \", smiles_list[:10])"
      ],
      "metadata": {
        "id": "q5NT8ux6E6h6"
      },
      "execution_count": null,
      "outputs": []
    },
    {
      "cell_type": "markdown",
      "source": [
        "## Exemplo 2\n",
        "\n",
        "Vamos baixar um conjunto de dados mais organizado, um arquivo `.csv` e transformá-lo em um DataFrame do Pandas.\n",
        "\n",
        "O link para o dataset é https://github.com/rflameiro/Python_e_Quiminformatica/blob/main/datasets/antibiotics_SMILES.csv, e mais uma vez, clicamos em `Raw` para podermos usar o `wget`: https://raw.githubusercontent.com/rflameiro/Python_e_Quiminformatica/main/datasets/antibiotics_SMILES.csv"
      ],
      "metadata": {
        "id": "GrDerQP7FXBm"
      }
    },
    {
      "cell_type": "code",
      "source": [
        "# Baixar o arquivo usando wget\n",
        "! wget https://raw.githubusercontent.com/rflameiro/Python_e_Quiminformatica/main/datasets/antibiotics_SMILES.csv"
      ],
      "metadata": {
        "id": "7z8zkF6BFu4Z"
      },
      "execution_count": null,
      "outputs": []
    },
    {
      "cell_type": "code",
      "source": [
        "# Ler o arquivo\n",
        "with open(\"antibiotics_SMILES.csv\", \"r\") as f:\n",
        "    csv_file = f.read()"
      ],
      "metadata": {
        "id": "qxr6BEqsF2Xn"
      },
      "execution_count": null,
      "outputs": []
    },
    {
      "cell_type": "code",
      "source": [
        "import pandas as pd\n",
        "\n",
        "df = pd.DataFrame(csv_file)\n",
        "\n",
        "df.head()"
      ],
      "metadata": {
        "id": "jJXJhn1vF7oY"
      },
      "execution_count": null,
      "outputs": []
    },
    {
      "cell_type": "markdown",
      "source": [
        "## Exemplo 3\n",
        "\n",
        "O Kaggle é um site focado em competições para análise de dados. Para baixar um arquivo do Kaggle é necessário criar uma conta e seguir o passo a passo descrito aqui: https://www.kaggle.com/general/74235, traduzido abaixo para o português.\n",
        "\n",
        "1. Vá até https://www.kaggle.com/settings, role até a seção API e clique em \"Expire Token\" para remover tokens anteriores\n",
        "\n",
        "2. Clique no botão ao lado: \"Create New Token\" - Ele fará o download de um arquivo \"kaggle.json\" em sua máquina\n",
        "\n",
        "3. Abra o Google Colab e execute os seguintes comandos:"
      ],
      "metadata": {
        "id": "dTRfEd4LIFEC"
      }
    },
    {
      "cell_type": "code",
      "source": [
        "from google.colab import files\n",
        "files.upload() \n",
        "# Você deve encontrar e selecionar o arquivo kaggle.json"
      ],
      "metadata": {
        "id": "2qKxDtSzIU8B"
      },
      "execution_count": null,
      "outputs": []
    },
    {
      "cell_type": "markdown",
      "source": [
        "4. Crie um diretório denominado `kaggle`, copie o arquivo kaggle.json para lá e altere as permissões do arquivo. **Atenção:** O primeiro comando abaixo vai apagar o diretório `kaggle` se ele já existir, e criar um novo diretório vazio. Se já tiver criado o diretório e ele possuir arquivos importantes, mantenha a primeira linha com o # para que não seja executada."
      ],
      "metadata": {
        "id": "cRrtgtm0QOYM"
      }
    },
    {
      "cell_type": "code",
      "source": [
        "# !rm -r ~/.kaggle\n",
        "!mkdir ~/.kaggle\n",
        "!mv ./kaggle.json ~/.kaggle/\n",
        "!chmod 600 ~/.kaggle/kaggle.json"
      ],
      "metadata": {
        "id": "qfP4L6gnQDqe"
      },
      "execution_count": null,
      "outputs": []
    },
    {
      "cell_type": "code",
      "source": [
        "# Verifique se tudo está ok\n",
        "! kaggle datasets list"
      ],
      "metadata": {
        "id": "dlxUHbyaQVjx"
      },
      "execution_count": null,
      "outputs": []
    },
    {
      "cell_type": "markdown",
      "source": [
        "5. Baixe os datasets. Alguns exemplos são mostrados abaixo"
      ],
      "metadata": {
        "id": "T9l6MiCERM6Z"
      }
    },
    {
      "cell_type": "code",
      "source": [
        "# Download dataset Playground Series S3 E8\n",
        "!kaggle competitions download -c playground-series-s3e8"
      ],
      "metadata": {
        "id": "Fplbclh9RCZq"
      },
      "execution_count": null,
      "outputs": []
    },
    {
      "cell_type": "code",
      "source": [
        "# Download e unzip o dataset sign-language-mnist na pasta '/usr/local'\n",
        "! kaggle datasets download -d datamunge/sign-language-mnist --path '/usr/local' --unzip"
      ],
      "metadata": {
        "id": "mrs6H0WGQ4ZQ"
      },
      "execution_count": null,
      "outputs": []
    },
    {
      "cell_type": "code",
      "source": [
        "# Caso um arquivo .zip seja baixado, encaminhe os resultados do unzip para outra pasta usando -p\n",
        "! unzip -q train.zip -d train_folder -p"
      ],
      "metadata": {
        "id": "wJOHPZlzTxT2"
      },
      "execution_count": null,
      "outputs": []
    },
    {
      "cell_type": "markdown",
      "source": [
        "Em alguns casos, pode ser necessário entrar na competição do Kaggle (aceitar os termos) antes de conseguir baixar os datasets."
      ],
      "metadata": {
        "id": "eSUb9EgPSADA"
      }
    }
  ]
}