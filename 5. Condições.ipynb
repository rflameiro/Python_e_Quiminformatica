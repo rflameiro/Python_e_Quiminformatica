{
 "cells": [
  {
   "cell_type": "markdown",
   "metadata": {},
   "source": [
    "### Booleans\n",
    "\n",
    "O Python possui um tipo de objeto chamado booleano que pode assumir dois valores: Verdadeiro (True) ou Falso (False).\n",
    "\n",
    "Podemos encontrar booleanos quando realizamos operações de comparação, por exemplo:"
   ]
  },
  {
   "cell_type": "code",
   "execution_count": null,
   "metadata": {},
   "outputs": [],
   "source": [
    "print(3 > 2)  # Significa: 3 é maior do que 2?"
   ]
  },
  {
   "cell_type": "code",
   "execution_count": null,
   "metadata": {},
   "outputs": [],
   "source": [
    "print(3 < 1)  # Significa: 3 é menor do que 1?"
   ]
  },
  {
   "cell_type": "code",
   "execution_count": null,
   "metadata": {},
   "outputs": [],
   "source": [
    "print(5 <= 4)  # Significa: 5 é menor ou igual a 4?"
   ]
  },
  {
   "cell_type": "code",
   "execution_count": null,
   "metadata": {},
   "outputs": [],
   "source": [
    "print(5 >= 4)  # Significa: 5 é maior ou igual a 4?"
   ]
  },
  {
   "cell_type": "markdown",
   "metadata": {},
   "source": [
    "**Igual ou diferente**\n",
    "\n",
    "Note que o símbolo `=` é usado em Python para atribuição de variáveis. Para comparar se dois objetos são iguais, usamos `==`, e se são diferentes, usamos `!=`"
   ]
  },
  {
   "cell_type": "code",
   "execution_count": null,
   "metadata": {},
   "outputs": [],
   "source": [
    "print(5 == 5)  # Significa: 5 é igual a 5? "
   ]
  },
  {
   "cell_type": "code",
   "execution_count": null,
   "metadata": {},
   "outputs": [],
   "source": [
    "print(3 != 1)  # Significa: 3 é diferente de 1?"
   ]
  },
  {
   "cell_type": "markdown",
   "metadata": {},
   "source": [
    "**Comparando tipos diferentes**\n",
    "\n",
    "Veja que o Python é capaz de comparar objetos de tipos diferentes. Em alguns casos, é feita uma conversão implícita, e o resultado é o que esperamos: "
   ]
  },
  {
   "cell_type": "code",
   "execution_count": null,
   "metadata": {},
   "outputs": [],
   "source": [
    "print(5.0 == 5)  # comparando float com int"
   ]
  },
  {
   "cell_type": "markdown",
   "metadata": {},
   "source": [
    "Em outros casos, a conversão não é feita, e a comparação é feita \"ao pé da letra\":"
   ]
  },
  {
   "cell_type": "code",
   "execution_count": null,
   "metadata": {},
   "outputs": [],
   "source": [
    "print('3' == 3)  # comparando str com int"
   ]
  },
  {
   "cell_type": "markdown",
   "metadata": {},
   "source": [
    "### Operações com booleanos\n",
    "\n",
    "É possível fazer a comparação de booleanos usando as palavras-chave `and`, `or` e `not`.\n",
    "\n",
    "`and` retorna True se ambos os valores forem True\n",
    "\n",
    "`or` retorna True se um dos valores forem True\n",
    "\n",
    "`not` inverte o booleano, de False para True ou de True para False\n",
    "\n",
    "Use parênteses para que suas comparações sejam interpretadas adequadamente pelo Python"
   ]
  },
  {
   "cell_type": "code",
   "execution_count": null,
   "metadata": {},
   "outputs": [],
   "source": [
    "(3 > 2) and (6 > 3)"
   ]
  },
  {
   "cell_type": "code",
   "execution_count": null,
   "metadata": {},
   "outputs": [],
   "source": [
    "(3 < 2) and (6 > 3)"
   ]
  },
  {
   "cell_type": "code",
   "execution_count": null,
   "metadata": {},
   "outputs": [],
   "source": [
    "(3 > 2) or (6 > 3)"
   ]
  },
  {
   "cell_type": "code",
   "execution_count": null,
   "metadata": {},
   "outputs": [],
   "source": [
    "(3 < 2) or (6 > 3)"
   ]
  },
  {
   "cell_type": "code",
   "execution_count": null,
   "metadata": {},
   "outputs": [],
   "source": [
    "(3 > 2) and not (6 > 3)  # Nesse caso, 6 > 3 é avaliado e invertido por not. Em seguida, ambos são comparados pelo and"
   ]
  },
  {
   "cell_type": "code",
   "execution_count": null,
   "metadata": {},
   "outputs": [],
   "source": [
    "(3 < 2) or not (6 > 3)"
   ]
  },
  {
   "cell_type": "markdown",
   "metadata": {},
   "source": [
    "### Condições \n",
    "\n",
    "Documentação [Comandos if](https://docs.python.org/pt-br/3/tutorial/controlflow.html#if-statements)\n",
    "\n",
    "Como o nome indica, podemos declarar condições para que algo aconteça. Para isso, usamos as palavras-chave `if` (se) e `else` (se não).\n",
    "\n",
    "Por exemplo, podemos escrever uma função para indicar se um número é positivo ou negativo:"
   ]
  },
  {
   "cell_type": "code",
   "execution_count": null,
   "metadata": {},
   "outputs": [],
   "source": [
    "def positivo(num):\n",
    "    if num > 0:\n",
    "        return \"Número positivo\"\n",
    "    else:\n",
    "        return \"Número negativo\""
   ]
  },
  {
   "cell_type": "code",
   "execution_count": null,
   "metadata": {},
   "outputs": [],
   "source": [
    "print(positivo(3))"
   ]
  },
  {
   "cell_type": "code",
   "execution_count": null,
   "metadata": {},
   "outputs": [],
   "source": [
    "print(positivo(-6))"
   ]
  },
  {
   "cell_type": "markdown",
   "metadata": {},
   "source": [
    "Nossa função não está correta, pois considera o número zero como negativo:"
   ]
  },
  {
   "cell_type": "code",
   "execution_count": null,
   "metadata": {},
   "outputs": [],
   "source": [
    "print(positivo(0))"
   ]
  },
  {
   "cell_type": "markdown",
   "metadata": {},
   "source": [
    "Vamos corrigir isso usando uma terceira palavra-chave: `elif`"
   ]
  },
  {
   "cell_type": "code",
   "execution_count": null,
   "metadata": {},
   "outputs": [],
   "source": [
    "def positivo(num):\n",
    "    if num > 0:\n",
    "        return \"Número positivo\"\n",
    "    elif num == 0:\n",
    "        return \"Zero não é positivo nem negativo\"\n",
    "    else:\n",
    "        return \"Número negativo\""
   ]
  },
  {
   "cell_type": "markdown",
   "metadata": {},
   "source": [
    "Basicamente, os condicionais funcionam da seguinte forma:\n",
    "- Cheque a condição if. Se for verdadeira, execute a ação. Se não for verdadeira, passe para o próximo item\n",
    "- Cheque a primeira condição elif. Se for verdadeira, execute a ação. Se não for verdadeira, passe para o próximo item\n",
    "- Assim sucessivamente; se nenhuma condição for verdadeira, execute a ação do else.\n",
    "\n",
    "Note que o uso de `elif`e `else` é opcional. Se usarmos somente o `if`, a condição será executada se verdadeira, ou simplesmente ignorada se for falsa:"
   ]
  },
  {
   "cell_type": "code",
   "execution_count": null,
   "metadata": {},
   "outputs": [],
   "source": [
    "if (3 > 5):\n",
    "    print(\"Esse comando não será executado\")"
   ]
  },
  {
   "cell_type": "code",
   "execution_count": null,
   "metadata": {},
   "outputs": [],
   "source": []
  }
 ],
 "metadata": {
  "kernelspec": {
   "display_name": "Python 3",
   "language": "python",
   "name": "python3"
  },
  "language_info": {
   "codemirror_mode": {
    "name": "ipython",
    "version": 3
   },
   "file_extension": ".py",
   "mimetype": "text/x-python",
   "name": "python",
   "nbconvert_exporter": "python",
   "pygments_lexer": "ipython3",
   "version": "3.7.7"
  }
 },
 "nbformat": 4,
 "nbformat_minor": 4
}
